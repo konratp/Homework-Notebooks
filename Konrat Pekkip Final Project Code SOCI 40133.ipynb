{
  "cells": [
    {
      "cell_type": "markdown",
      "metadata": {
        "id": "99mhYfaPqAey"
      },
      "source": [
        "# Load Packages and Data"
      ]
    },
    {
      "cell_type": "code",
      "execution_count": null,
      "metadata": {
        "id": "_8fPY65PopBc"
      },
      "outputs": [],
      "source": [
        "#Special module written for this class\n",
        "#This provides access to data and to helper functions from previous weeks\n",
        "!pip install git+https://github.com/UChicago-Computational-Content-Analysis/lucem_illud.git\n",
        "import lucem_illud #just in case, regularly update your lucem_illud with the following code: pip install git+https://github.com/UChicago-Computational-Content-Analysis/lucem_illud.git\n",
        "\n",
        "#All these packages need to be installed from pip\n",
        "import requests #for http requests\n",
        "import pandas #gives us DataFrames\n",
        "import matplotlib.pyplot as plt #For graphics\n",
        "import wordcloud #Makes word clouds\n",
        "import numpy as np #For divergences/distances\n",
        "import scipy #For divergences/distances\n",
        "import seaborn as sns #makes our plots look nicer\n",
        "import sklearn.manifold #For a manifold plot\n",
        "import json #For API responses\n",
        "import urllib.parse #For joining urls\n",
        "import nltk\n",
        "\n",
        "# comp-linguistics\n",
        "import spacy\n",
        "#load spacy German language model\n",
        "!python -m spacy download de\n",
        "\n",
        "#Displays the graphs\n",
        "import graphviz #You also need to install the command line graphviz\n",
        "\n",
        "#These are from the standard library\n",
        "import os.path\n",
        "import zipfile\n",
        "import subprocess\n",
        "import io\n",
        "import tempfile\n",
        "\n",
        "#This 'magic' command makes the plots work better\n",
        "#in the notebook, don't use it outside of a notebook\n",
        "%matplotlib inline\n",
        "\n",
        "nlp = spacy.load('de')\n",
        "\n",
        "from gensim.test.utils import datapath \n",
        "import re\n",
        "import string, re\n",
        "import cython\n",
        "from gensim import corpora, models, similarities #calc all similarities at once, from http://radimrehurek.com/gensim/tut3.html\n",
        "from sklearn.metrics.pairwise import cosine_similarity\n",
        "from gensim.models import KeyedVectors\n",
        "from random import seed, sample\n",
        "import pickle\n",
        "import math"
      ]
    },
    {
      "cell_type": "code",
      "source": [
        "!pip install ksvd\n",
        "from ksvd import ApproximateKSVD #pip or conda install ksvd #this is key!"
      ],
      "metadata": {
        "colab": {
          "base_uri": "https://localhost:8080/"
        },
        "id": "pJZlBKCjRl8H",
        "outputId": "f0807ed8-fcde-4019-c3e9-26ce921a3672"
      },
      "execution_count": 9,
      "outputs": [
        {
          "output_type": "stream",
          "name": "stdout",
          "text": [
            "Collecting ksvd\n",
            "  Downloading ksvd-0.0.3-py3-none-any.whl (3.0 kB)\n",
            "Requirement already satisfied: scikit-learn in /usr/local/lib/python3.7/dist-packages (from ksvd) (1.0.2)\n",
            "Requirement already satisfied: numpy in /usr/local/lib/python3.7/dist-packages (from ksvd) (1.21.5)\n",
            "Requirement already satisfied: joblib>=0.11 in /usr/local/lib/python3.7/dist-packages (from scikit-learn->ksvd) (1.1.0)\n",
            "Requirement already satisfied: scipy>=1.1.0 in /usr/local/lib/python3.7/dist-packages (from scikit-learn->ksvd) (1.4.1)\n",
            "Requirement already satisfied: threadpoolctl>=2.0.0 in /usr/local/lib/python3.7/dist-packages (from scikit-learn->ksvd) (3.1.0)\n",
            "Installing collected packages: ksvd\n",
            "Successfully installed ksvd-0.0.3\n"
          ]
        }
      ]
    },
    {
      "cell_type": "code",
      "execution_count": 4,
      "metadata": {
        "id": "iQOdzrz7SJy3"
      },
      "outputs": [],
      "source": [
        "#Special module written for this class\n",
        "#This provides access to data and to helper functions from previous weeks\n",
        "#Make sure you update it before starting this notebook\n",
        "import lucem_illud\n",
        "\n",
        "#All these packages need to be installed from pip\n",
        "#These are all for the cluster detection\n",
        "import sklearn\n",
        "import sklearn.feature_extraction.text\n",
        "import sklearn.pipeline\n",
        "import sklearn.preprocessing\n",
        "import sklearn.datasets\n",
        "import sklearn.cluster\n",
        "import sklearn.decomposition\n",
        "import sklearn.metrics\n",
        "from nltk.corpus import stopwords\n",
        "from sklearn.feature_extraction.text import CountVectorizer\n",
        "\n",
        "import scipy #For hierarchical clustering and some visuals\n",
        "#import scipy.cluster.hierarchy\n",
        "import gensim#For topic modeling\n",
        "import requests #For downloading our datasets\n",
        "import numpy as np #for arrays\n",
        "import pandas #gives us DataFrames\n",
        "import matplotlib.pyplot as plt #For graphics\n",
        "import matplotlib.cm #Still for graphics\n",
        "import seaborn as sns #Makes the graphics look nicer\n",
        "\n",
        "#This 'magic' command makes the plots work better\n",
        "#in the notebook, don't use it outside of a notebook.\n",
        "#Also you can ignore the warning, it\n",
        "%matplotlib inline\n",
        "\n",
        "import itertools\n",
        "import json\n",
        "\n",
        "#Special module written for this class\n",
        "#This provides access to data and to helper functions from previous weeks\n",
        "#Make sure you update it before starting this notebook\n",
        "\n",
        "import lucem_illud \n",
        "import sklearn #For generating some matrices\n",
        "import pandas as pd #For DataFrames\n",
        "import numpy as np #For arrays\n",
        "import matplotlib.pyplot as plt #For plotting\n",
        "import seaborn #Makes the plots look nice\n",
        "import scipy #Some stats\n",
        "import nltk #a little language code\n",
        "from IPython.display import Image #for pics\n",
        "import pickle #if you want to save layouts\n",
        "import os\n",
        "import io\n",
        "\n",
        "import networkx as nx\n",
        "\n",
        "%matplotlib inline"
      ]
    },
    {
      "cell_type": "code",
      "source": [
        "#Special module written for this class\n",
        "#This provides access to data and to helper functions from previous weeks\n",
        "#Make sure you update it before starting this notebook\n",
        "import lucem_illud #pip install -U git+https://github.com/UChicago-Computational-Content-Analysis/lucem_illud.git\n",
        "\n",
        "\n",
        "#All these packages need to be installed from pip\n",
        "#These are all for the cluster detection\n",
        "import sklearn\n",
        "import sklearn.feature_extraction.text\n",
        "import sklearn.pipeline\n",
        "import sklearn.preprocessing\n",
        "import sklearn.datasets\n",
        "import sklearn.cluster\n",
        "import sklearn.decomposition\n",
        "import sklearn.metrics\n",
        "\n",
        "import scipy #For hierarchical clustering and some visuals\n",
        "#import scipy.cluster.hierarchy\n",
        "import gensim#For topic modeling\n",
        "import requests #For downloading our datasets\n",
        "import numpy as np #for arrays\n",
        "import pandas #gives us DataFrames\n",
        "import matplotlib.pyplot as plt #For graphics\n",
        "import matplotlib.cm #Still for graphics\n",
        "import seaborn as sns #Makes the graphics look nicer\n",
        "\n",
        "#This 'magic' command makes the plots work better\n",
        "#in the notebook, don't use it outside of a notebook.\n",
        "#Also you can ignore the warning, it\n",
        "%matplotlib inline\n",
        "\n",
        "import itertools\n",
        "import json"
      ],
      "metadata": {
        "id": "HKilE1aO7ANL"
      },
      "execution_count": 5,
      "outputs": []
    },
    {
      "cell_type": "code",
      "source": [
        "#All these packages need to be installed from pip\n",
        "import gensim#For word2vec, etc\n",
        "import requests #For downloading our datasets\n",
        "import lucem_illud #pip install -U git+https://github.com/UChicago-Computational-Content-Analysis/lucem_illud.git\n",
        "\n",
        "import numpy as np #For arrays\n",
        "import pandas as pd #Gives us DataFrames\n",
        "import matplotlib.pyplot as plt #For graphics\n",
        "import seaborn #Makes the graphics look nicer\n",
        "import sklearn.metrics.pairwise #For cosine similarity\n",
        "import sklearn.manifold #For T-SNE\n",
        "import sklearn.decomposition #For PCA\n",
        "\n",
        "#This 'magic' command makes the plots work better\n",
        "#in the notebook, don't use it outside of a notebook.\n",
        "#Also you can ignore the warning\n",
        "%matplotlib inline\n",
        "\n",
        "import os #For looking through files\n",
        "import os.path #For managing file paths"
      ],
      "metadata": {
        "id": "NhlMk8ZgXbFW"
      },
      "execution_count": 6,
      "outputs": []
    },
    {
      "cell_type": "code",
      "execution_count": 7,
      "metadata": {
        "id": "AynImEQwSWxq",
        "colab": {
          "base_uri": "https://localhost:8080/"
        },
        "outputId": "3323c32e-25a5-46b2-e62d-42c5435f2f6a"
      },
      "outputs": [
        {
          "output_type": "stream",
          "name": "stdout",
          "text": [
            "Mounted at /content/drive\n"
          ]
        }
      ],
      "source": [
        "#mounting drive\n",
        "from google.colab import drive\n",
        "drive.mount(\"/content/drive\")"
      ]
    },
    {
      "cell_type": "code",
      "execution_count": 84,
      "metadata": {
        "id": "3avpllnnm3YV"
      },
      "outputs": [],
      "source": [
        "#load dataset\n",
        "#importing csv file and converting into dataframe\n",
        "#og_df = pandas.read_csv('/content/drive/MyDrive/Thesis/DATA/speeches.csv')\n",
        "#og_df['date'] = pandas.to_datetime(og_df['date'])\n",
        "#full_df = og_df[og_df['date'] > '1990-10-03'](index = False)\n",
        "#full_df['text'] = full_df['speechContent']\n",
        "#subset data frame to only include speeches that mention East Germany-specific key words\n",
        "#subset_df = full_df[og_df['speechContent'].str.contains('Ostdeutschland|DDR|D.D.R.|(Deutsche Demokratische Republik)|(Neue Bundesländer)|(Neue Länder)|Sozialismus|sozialistisch|Kommunismus|kommunistisch|SED|S.E.D.|Stasi|Staatssicherheit|MfS|(Schwester Agnes)|(Schwestern Agnes)|(Berliner Mauer)|FDJ|(Freie Deutsche Jugend)|(Arbeiter-und-Bauern-Staat)|Volkskammer',na=False)]\n",
        "#subset_df = subset_df.reset_index(drop=True)\n",
        "#uncomment the next line to save as a csv file\n",
        "#subset_df.to_csv('drive/MyDrive/SOCI40133/big_ddr_subset.csv', index = False)"
      ]
    },
    {
      "cell_type": "code",
      "source": [
        "#subset_df.to_csv('drive/MyDrive/SOCI40133/tokenized-normalized-df.csv', index = False) #saving to a csv file so i don't have to tokenize/normalize again\n",
        "#uncomment the next line to tokenized data from csv file\n",
        "#subset_df = pandas.read_csv('drive/MyDrive/SOCI40133/tokenized-normalized-df.csv')"
      ],
      "metadata": {
        "id": "BQ_Ga73HZxh7"
      },
      "execution_count": 85,
      "outputs": []
    },
    {
      "cell_type": "code",
      "source": [
        "#subset_df.to_csv('drive/MyDrive/SOCI40133/tokenized-normalized-df-sents.csv', index = False) #saving to a csv file so i don't have to tokenize/normalize again\n",
        "#uncomment the next line to tokenized data from csv file\n",
        "#subset_df = pandas.read_csv('drive/MyDrive/SOCI40133/tokenized-normalized-df-sents.csv')"
      ],
      "metadata": {
        "id": "qnay8ijian9v"
      },
      "execution_count": 86,
      "outputs": []
    },
    {
      "cell_type": "markdown",
      "metadata": {
        "id": "cUmncBZ1AdsN"
      },
      "source": [
        "I filter the full data frame to only include speeches given after the German reunification on October 3rd, 1990, and to only include speeches that mention one of the following terms related to East Germany: \n",
        "\n",
        "Ostdeutschland, DDR, D.D.R., Deutsche Demokratische Republik, Neue Bundesländer, Neue Länder, Sozialismus, sozialistisch, Kommunismus, kommunistisch, SED, S.E.D., Stasi, Staatssicherheit, MfS, Schwester Agnes, Schwestern Agnes, Berliner Mauer, FDJ, Freie Deutsche Jugend, Arbeiter-und-Bauern-Staat, Volkskammer"
      ]
    },
    {
      "cell_type": "markdown",
      "metadata": {
        "id": "DBthvaBgoCOJ"
      },
      "source": [
        "# Content from Week 2: Counting Words and Phrases (Computational Linguistics)"
      ]
    },
    {
      "cell_type": "markdown",
      "source": [
        "## Text Pre-Processing"
      ],
      "metadata": {
        "id": "AUiIHNdPZ9RS"
      }
    },
    {
      "cell_type": "markdown",
      "metadata": {
        "id": "eNMPIVQUn-Qe"
      },
      "source": [
        "### Data Cleaning"
      ]
    },
    {
      "cell_type": "code",
      "execution_count": null,
      "metadata": {
        "id": "klDOqfVmoN0k"
      },
      "outputs": [],
      "source": [
        "nlp = spacy.load('de')"
      ]
    },
    {
      "cell_type": "code",
      "execution_count": null,
      "metadata": {
        "id": "sT-e-_yypFBF"
      },
      "outputs": [],
      "source": [
        "def word_tokenize(word_list):\n",
        "    tokenized = []\n",
        "    # pass word list through language model.\n",
        "    doc = nlp(word_list)\n",
        "    for token in doc:\n",
        "        if not token.is_punct and len(token.text.strip()) > 0:\n",
        "            tokenized.append(token.text)\n",
        "    return tokenized"
      ]
    },
    {
      "cell_type": "code",
      "execution_count": null,
      "metadata": {
        "id": "fgCJFscCFw7i"
      },
      "outputs": [],
      "source": [
        "subset_df_series = subset_df['text']"
      ]
    },
    {
      "cell_type": "code",
      "execution_count": null,
      "metadata": {
        "id": "njk54UqHKEhz"
      },
      "outputs": [],
      "source": [
        "subset_df_test = subset_df_series.to_string()"
      ]
    },
    {
      "cell_type": "code",
      "execution_count": null,
      "metadata": {
        "id": "Jo5oBdwbq0dd"
      },
      "outputs": [],
      "source": [
        "ddr_tokens = word_tokenize(subset_df_test)"
      ]
    },
    {
      "cell_type": "code",
      "source": [
        "subset_df_test_1 = word_tokenize(subset_df['text'][468071])"
      ],
      "metadata": {
        "id": "Eie7QsI6m2oJ"
      },
      "execution_count": null,
      "outputs": []
    },
    {
      "cell_type": "markdown",
      "metadata": {
        "id": "eKTTSuxxpYV8"
      },
      "source": [
        "### Counting Words"
      ]
    },
    {
      "cell_type": "code",
      "execution_count": null,
      "metadata": {
        "id": "YZfnWjH5paWQ"
      },
      "outputs": [],
      "source": [
        "def wordCounter(wordLst):\n",
        "    wordCounts = {}\n",
        "    for word in wordLst:\n",
        "        #We usually need to normalize the case\n",
        "        wLower = word.lower()\n",
        "        if wLower in wordCounts:\n",
        "            wordCounts[wLower] += 1\n",
        "        else:\n",
        "            wordCounts[wLower] = 1\n",
        "    #convert to DataFrame\n",
        "    countsForFrame = {'word' : [], 'count' : []}\n",
        "    for w, c in wordCounts.items():\n",
        "        countsForFrame['word'].append(w)\n",
        "        countsForFrame['count'].append(c)\n",
        "    return pandas.DataFrame(countsForFrame)"
      ]
    },
    {
      "cell_type": "code",
      "execution_count": null,
      "metadata": {
        "id": "h6vxQE4hpfmu"
      },
      "outputs": [],
      "source": [
        "countedWords = wordCounter(ddr_tokens)"
      ]
    },
    {
      "cell_type": "code",
      "execution_count": null,
      "metadata": {
        "id": "1yfi93zK5vAe",
        "colab": {
          "base_uri": "https://localhost:8080/",
          "height": 423
        },
        "outputId": "7d75b4a0-8172-4d26-b5af-712e905c8592"
      },
      "outputs": [
        {
          "output_type": "execute_result",
          "data": {
            "text/plain": [
              "          word  count\n",
              "10         und   7424\n",
              "1         herr   7259\n",
              "7        meine   6883\n",
              "17       damen   6207\n",
              "2    präsident   5956\n",
              "..         ...    ...\n",
              "22     sitzung    108\n",
              "361        bei    106\n",
              "271        vor    105\n",
              "391      danke    105\n",
              "177      damit    104\n",
              "\n",
              "[100 rows x 2 columns]"
            ],
            "text/html": [
              "\n",
              "  <div id=\"df-83c6e286-1245-4d68-a33d-c4c86046a28a\">\n",
              "    <div class=\"colab-df-container\">\n",
              "      <div>\n",
              "<style scoped>\n",
              "    .dataframe tbody tr th:only-of-type {\n",
              "        vertical-align: middle;\n",
              "    }\n",
              "\n",
              "    .dataframe tbody tr th {\n",
              "        vertical-align: top;\n",
              "    }\n",
              "\n",
              "    .dataframe thead th {\n",
              "        text-align: right;\n",
              "    }\n",
              "</style>\n",
              "<table border=\"1\" class=\"dataframe\">\n",
              "  <thead>\n",
              "    <tr style=\"text-align: right;\">\n",
              "      <th></th>\n",
              "      <th>word</th>\n",
              "      <th>count</th>\n",
              "    </tr>\n",
              "  </thead>\n",
              "  <tbody>\n",
              "    <tr>\n",
              "      <th>10</th>\n",
              "      <td>und</td>\n",
              "      <td>7424</td>\n",
              "    </tr>\n",
              "    <tr>\n",
              "      <th>1</th>\n",
              "      <td>herr</td>\n",
              "      <td>7259</td>\n",
              "    </tr>\n",
              "    <tr>\n",
              "      <th>7</th>\n",
              "      <td>meine</td>\n",
              "      <td>6883</td>\n",
              "    </tr>\n",
              "    <tr>\n",
              "      <th>17</th>\n",
              "      <td>damen</td>\n",
              "      <td>6207</td>\n",
              "    </tr>\n",
              "    <tr>\n",
              "      <th>2</th>\n",
              "      <td>präsident</td>\n",
              "      <td>5956</td>\n",
              "    </tr>\n",
              "    <tr>\n",
              "      <th>...</th>\n",
              "      <td>...</td>\n",
              "      <td>...</td>\n",
              "    </tr>\n",
              "    <tr>\n",
              "      <th>22</th>\n",
              "      <td>sitzung</td>\n",
              "      <td>108</td>\n",
              "    </tr>\n",
              "    <tr>\n",
              "      <th>361</th>\n",
              "      <td>bei</td>\n",
              "      <td>106</td>\n",
              "    </tr>\n",
              "    <tr>\n",
              "      <th>271</th>\n",
              "      <td>vor</td>\n",
              "      <td>105</td>\n",
              "    </tr>\n",
              "    <tr>\n",
              "      <th>391</th>\n",
              "      <td>danke</td>\n",
              "      <td>105</td>\n",
              "    </tr>\n",
              "    <tr>\n",
              "      <th>177</th>\n",
              "      <td>damit</td>\n",
              "      <td>104</td>\n",
              "    </tr>\n",
              "  </tbody>\n",
              "</table>\n",
              "<p>100 rows × 2 columns</p>\n",
              "</div>\n",
              "      <button class=\"colab-df-convert\" onclick=\"convertToInteractive('df-83c6e286-1245-4d68-a33d-c4c86046a28a')\"\n",
              "              title=\"Convert this dataframe to an interactive table.\"\n",
              "              style=\"display:none;\">\n",
              "        \n",
              "  <svg xmlns=\"http://www.w3.org/2000/svg\" height=\"24px\"viewBox=\"0 0 24 24\"\n",
              "       width=\"24px\">\n",
              "    <path d=\"M0 0h24v24H0V0z\" fill=\"none\"/>\n",
              "    <path d=\"M18.56 5.44l.94 2.06.94-2.06 2.06-.94-2.06-.94-.94-2.06-.94 2.06-2.06.94zm-11 1L8.5 8.5l.94-2.06 2.06-.94-2.06-.94L8.5 2.5l-.94 2.06-2.06.94zm10 10l.94 2.06.94-2.06 2.06-.94-2.06-.94-.94-2.06-.94 2.06-2.06.94z\"/><path d=\"M17.41 7.96l-1.37-1.37c-.4-.4-.92-.59-1.43-.59-.52 0-1.04.2-1.43.59L10.3 9.45l-7.72 7.72c-.78.78-.78 2.05 0 2.83L4 21.41c.39.39.9.59 1.41.59.51 0 1.02-.2 1.41-.59l7.78-7.78 2.81-2.81c.8-.78.8-2.07 0-2.86zM5.41 20L4 18.59l7.72-7.72 1.47 1.35L5.41 20z\"/>\n",
              "  </svg>\n",
              "      </button>\n",
              "      \n",
              "  <style>\n",
              "    .colab-df-container {\n",
              "      display:flex;\n",
              "      flex-wrap:wrap;\n",
              "      gap: 12px;\n",
              "    }\n",
              "\n",
              "    .colab-df-convert {\n",
              "      background-color: #E8F0FE;\n",
              "      border: none;\n",
              "      border-radius: 50%;\n",
              "      cursor: pointer;\n",
              "      display: none;\n",
              "      fill: #1967D2;\n",
              "      height: 32px;\n",
              "      padding: 0 0 0 0;\n",
              "      width: 32px;\n",
              "    }\n",
              "\n",
              "    .colab-df-convert:hover {\n",
              "      background-color: #E2EBFA;\n",
              "      box-shadow: 0px 1px 2px rgba(60, 64, 67, 0.3), 0px 1px 3px 1px rgba(60, 64, 67, 0.15);\n",
              "      fill: #174EA6;\n",
              "    }\n",
              "\n",
              "    [theme=dark] .colab-df-convert {\n",
              "      background-color: #3B4455;\n",
              "      fill: #D2E3FC;\n",
              "    }\n",
              "\n",
              "    [theme=dark] .colab-df-convert:hover {\n",
              "      background-color: #434B5C;\n",
              "      box-shadow: 0px 1px 3px 1px rgba(0, 0, 0, 0.15);\n",
              "      filter: drop-shadow(0px 1px 2px rgba(0, 0, 0, 0.3));\n",
              "      fill: #FFFFFF;\n",
              "    }\n",
              "  </style>\n",
              "\n",
              "      <script>\n",
              "        const buttonEl =\n",
              "          document.querySelector('#df-83c6e286-1245-4d68-a33d-c4c86046a28a button.colab-df-convert');\n",
              "        buttonEl.style.display =\n",
              "          google.colab.kernel.accessAllowed ? 'block' : 'none';\n",
              "\n",
              "        async function convertToInteractive(key) {\n",
              "          const element = document.querySelector('#df-83c6e286-1245-4d68-a33d-c4c86046a28a');\n",
              "          const dataTable =\n",
              "            await google.colab.kernel.invokeFunction('convertToInteractive',\n",
              "                                                     [key], {});\n",
              "          if (!dataTable) return;\n",
              "\n",
              "          const docLinkHtml = 'Like what you see? Visit the ' +\n",
              "            '<a target=\"_blank\" href=https://colab.research.google.com/notebooks/data_table.ipynb>data table notebook</a>'\n",
              "            + ' to learn more about interactive tables.';\n",
              "          element.innerHTML = '';\n",
              "          dataTable['output_type'] = 'display_data';\n",
              "          await google.colab.output.renderOutput(dataTable, element);\n",
              "          const docLink = document.createElement('div');\n",
              "          docLink.innerHTML = docLinkHtml;\n",
              "          element.appendChild(docLink);\n",
              "        }\n",
              "      </script>\n",
              "    </div>\n",
              "  </div>\n",
              "  "
            ]
          },
          "metadata": {},
          "execution_count": 63
        }
      ],
      "source": [
        "#Doing this in place (changing the original DataFrame) as we don't need the unsorted DataFrame\n",
        "countedWords.sort_values('count', ascending=False, inplace=True)\n",
        "countedWords[:100]"
      ]
    },
    {
      "cell_type": "code",
      "execution_count": null,
      "metadata": {
        "colab": {
          "base_uri": "https://localhost:8080/",
          "height": 265
        },
        "id": "0wvkxr8gL2fD",
        "outputId": "a66ba087-ad96-4415-fa2f-945a2414a7bb"
      },
      "outputs": [
        {
          "output_type": "display_data",
          "data": {
            "text/plain": [
              "<Figure size 432x288 with 1 Axes>"
            ],
            "image/png": "[encoded data removed]"
          },
          "metadata": {
            "needs_background": "light"
          }
        }
      ],
      "source": [
        "#Creating a figure and axis lets us do things like change the scaling or add a title -- Zipf's Law\n",
        "fig = plt.figure()\n",
        "ax = fig.add_subplot(111)\n",
        "plt.plot(range(len(countedWords)), countedWords['count'])\n",
        "plt.show()"
      ]
    },
    {
      "cell_type": "code",
      "execution_count": null,
      "metadata": {
        "colab": {
          "base_uri": "https://localhost:8080/",
          "height": 272
        },
        "id": "AflJr_JfL5m5",
        "outputId": "06194cd1-b393-4fe3-e4db-47d85770983d"
      },
      "outputs": [
        {
          "output_type": "display_data",
          "data": {
            "text/plain": [
              "<Figure size 432x288 with 1 Axes>"
            ],
            "image/png": "[encoded data removed]"
          },
          "metadata": {
            "needs_background": "light"
          }
        }
      ],
      "source": [
        "#Zipf's law but setting the axes as logs -- results in linear-ish relationship\n",
        "fig = plt.figure()\n",
        "ax = fig.add_subplot(111)\n",
        "plt.plot(range(len(countedWords)), countedWords['count'])\n",
        "ax.set_yscale('log')\n",
        "ax.set_xscale('log')\n",
        "plt.show()"
      ]
    },
    {
      "cell_type": "markdown",
      "source": [
        "### Tokenization, Removing Stopwords, and Normalization of Data"
      ],
      "metadata": {
        "id": "_9EWdU6qFmSB"
      }
    },
    {
      "cell_type": "code",
      "execution_count": null,
      "metadata": {
        "id": "NibxTcND2kRw"
      },
      "outputs": [],
      "source": [
        "#create column for tokenized text\n",
        "#subset_df['tokens'] = subset_df['text'].apply(lambda x: word_tokenize(x))"
      ]
    },
    {
      "cell_type": "code",
      "source": [
        "#subset_df.to_csv('drive/MyDrive/SOCI40133/big_ddr_subset.csv', index = False) #saving to a csv file so i don't have to run tokenizer again"
      ],
      "metadata": {
        "id": "Vd1ZDF8CB4Uq"
      },
      "execution_count": null,
      "outputs": []
    },
    {
      "cell_type": "code",
      "source": [
        "#uncomment the next line to tokenized data from csv file\n",
        "#subset_df = pandas.read_csv('drive/MyDrive/SOCI40133/big_ddr_subset.csv')"
      ],
      "metadata": {
        "id": "ArVDjDWJIfod"
      },
      "execution_count": null,
      "outputs": []
    },
    {
      "cell_type": "code",
      "execution_count": null,
      "metadata": {
        "id": "0I_th21ar1mK"
      },
      "outputs": [],
      "source": [
        "subset_df['word_counts'] = subset_df['tokens'].apply(lambda x: len(x))"
      ]
    },
    {
      "cell_type": "code",
      "source": [
        "countsDict = {}\n",
        "for word in subset_df['tokens'].sum():\n",
        "    if word in countsDict:\n",
        "        countsDict[word] += 1\n",
        "    else:\n",
        "        countsDict[word] = 1\n",
        "word_counts = sorted(countsDict.items(), key = lambda x : x[1], reverse = True)"
      ],
      "metadata": {
        "id": "uS-izvmaDVK5"
      },
      "execution_count": null,
      "outputs": []
    },
    {
      "cell_type": "code",
      "source": [
        "word_counts[:100]"
      ],
      "metadata": {
        "id": "BUHklS3FM_0G"
      },
      "execution_count": null,
      "outputs": []
    },
    {
      "cell_type": "code",
      "source": [
        "#The stop list is then all words that occur before the first noun\n",
        "stop_words_freq = []\n",
        "for word, count in word_counts:\n",
        "    if word == 'Deutschland':\n",
        "        break\n",
        "    else:\n",
        "        stop_words_freq.append(word)\n",
        "stop_words_freq"
      ],
      "metadata": {
        "id": "zEZdgw0TNSSD"
      },
      "execution_count": null,
      "outputs": []
    },
    {
      "cell_type": "code",
      "source": [
        "def normalizeTokens(word_list, extra_stop=[]):\n",
        "    #We can use a generator here as we just need to iterate over it\n",
        "    normalized = []\n",
        "    if type(word_list) == list and len(word_list) == 1:\n",
        "        word_list = word_list[0]\n",
        "\n",
        "    if type(word_list) == list:\n",
        "        word_list = ' '.join([str(elem) for elem in word_list]) \n",
        "\n",
        "    doc = nlp(word_list.lower())\n",
        "    \n",
        "    # add the property of stop word to words considered as stop words\n",
        "    if len(extra_stop) > 0:\n",
        "        for stopword in extra_stop:\n",
        "            lexeme = nlp.vocab[stopword]\n",
        "            lexeme.is_stop = True\n",
        "\n",
        "    for w in doc:\n",
        "        # if it's not a stop word or punctuation mark, add it to our article\n",
        "        if w.text != '\\n' and not w.is_stop and not w.is_punct and not w.like_num and len(w.text.strip()) > 0:\n",
        "            # we add the lematized version of the word\n",
        "            normalized.append(str(w.lemma_))\n",
        "\n",
        "    return normalized"
      ],
      "metadata": {
        "id": "5--k4GKHNGm3"
      },
      "execution_count": null,
      "outputs": []
    },
    {
      "cell_type": "code",
      "source": [
        "subset_df['normalized_tokens'] = subset_df['tokens'].apply(lambda x: normalizeTokens(x))\n",
        "\n",
        "subset_df['normalized_tokens_count'] = subset_df['normalized_tokens'].apply(lambda x: len(x))\n",
        "\n",
        "subset_df"
      ],
      "metadata": {
        "id": "WiNLkOAyNdPX"
      },
      "execution_count": null,
      "outputs": []
    },
    {
      "cell_type": "code",
      "source": [
        "#subset_df.to_csv('drive/MyDrive/SOCI40133/tokenized-normalized-df.csv', index = False) #saving to a csv file so i don't have to tokenize/normalize again\n",
        "#uncomment the next line to tokenized data from csv file\n",
        "subset_df = pandas.read_csv('drive/MyDrive/SOCI40133/tokenized-normalized-df.csv')"
      ],
      "metadata": {
        "id": "5qiH4mNPN-i3"
      },
      "execution_count": null,
      "outputs": []
    },
    {
      "cell_type": "markdown",
      "metadata": {
        "id": "Qm222N2NRuv9"
      },
      "source": [
        "## Exploratory Text Analysis"
      ]
    },
    {
      "cell_type": "markdown",
      "source": [
        "### Part-of-Speech Tagging & Word Cloud"
      ],
      "metadata": {
        "id": "wBTh0nbtaHRf"
      }
    },
    {
      "cell_type": "code",
      "source": [
        "whcfdist = nltk.ConditionalFreqDist(((len(w), w) for w in subset_df['normalized_tokens'].sum()))\n",
        "\n",
        "#print the number of words\n",
        "print(whcfdist.N())"
      ],
      "metadata": {
        "id": "cuKcPoZ9ZMdr"
      },
      "execution_count": null,
      "outputs": []
    },
    {
      "cell_type": "code",
      "source": [
        "whcfdist[3].plot()"
      ],
      "metadata": {
        "id": "IxPVnOKaZTgp"
      },
      "execution_count": null,
      "outputs": []
    },
    {
      "cell_type": "code",
      "source": [
        "whcpdist = nltk.ConditionalProbDist(whcfdist, nltk.ELEProbDist)\n",
        "\n",
        "#print the most common 2 letter word\n",
        "print(whcpdist[2].max())\n",
        "\n",
        "#And its probability\n",
        "print(whcpdist[2].prob(whcpdist[2].max()))"
      ],
      "metadata": {
        "id": "6mucMOnKZYmx"
      },
      "execution_count": null,
      "outputs": []
    },
    {
      "cell_type": "code",
      "source": [
        "def spacy_pos(word_list):\n",
        "    tags = []\n",
        "    doc = nlp(word_list.lower())\n",
        "    for w in doc:\n",
        "        tags.append((w.text, w.tag_))\n",
        "    return tags"
      ],
      "metadata": {
        "id": "Xhh36tz-ZaZR"
      },
      "execution_count": null,
      "outputs": []
    },
    {
      "cell_type": "code",
      "source": [
        "subset_df['normalized_tokens_POS'] = [spacy_pos(t) for t in subset_df['text']]"
      ],
      "metadata": {
        "id": "ctBRU9EDZch2"
      },
      "execution_count": null,
      "outputs": []
    },
    {
      "cell_type": "code",
      "source": [
        "wc = wordcloud.WordCloud(background_color=\"white\", max_words=500, width= 1000, height = 1000, mode ='RGBA', scale=.5).generate(' '.join(subset_df['normalized_tokens'].sum()))\n",
        "plt.imshow(wc)\n",
        "plt.axis(\"off\")\n",
        "plt.savefig(\"gdr_speeches_wordcloud.pdf\", format = 'pdf')"
      ],
      "metadata": {
        "id": "SccWumDuZk7T"
      },
      "execution_count": null,
      "outputs": []
    },
    {
      "cell_type": "code",
      "source": [
        "#subset_df.to_csv('drive/MyDrive/SOCI40133/tokenized-normalized-df-with-pos.csv', index = False) #saving to a csv file so i don't have to tokenize/normalize again\n",
        "#uncomment the next line to tokenized data from csv file\n",
        "#subset_df = pandas.read_csv('drive/MyDrive/SOCI40133/tokenized-normalized-df-with-pos.csv')"
      ],
      "metadata": {
        "id": "YLaHvH8lhRXm"
      },
      "execution_count": null,
      "outputs": []
    },
    {
      "cell_type": "markdown",
      "source": [
        "### Collocations"
      ],
      "metadata": {
        "id": "QADrr2mxu-Q5"
      }
    },
    {
      "cell_type": "code",
      "source": [
        "whBigrams = nltk.collocations.BigramCollocationFinder.from_words(subset_df['normalized_tokens'].sum())\n",
        "print(\"There are {} bigrams in the finder\".format(whBigrams.N))"
      ],
      "metadata": {
        "colab": {
          "base_uri": "https://localhost:8080/"
        },
        "id": "H-g7E-iJvCHp",
        "outputId": "41c1ec6e-cb94-4ed6-a4f9-c2539d18c985"
      },
      "execution_count": null,
      "outputs": [
        {
          "output_type": "stream",
          "name": "stdout",
          "text": [
            "There are 72568141 bigrams in the finder\n"
          ]
        }
      ]
    },
    {
      "cell_type": "code",
      "source": [
        "def bigramScoring(count, wordsTuple, total):\n",
        "    return count\n",
        "\n",
        "print(whBigrams.nbest(bigramScoring, 10))"
      ],
      "metadata": {
        "id": "Swv8-Ze7x6Ly"
      },
      "execution_count": null,
      "outputs": []
    },
    {
      "cell_type": "code",
      "source": [
        "birgramScores = []\n",
        "\n",
        "def bigramPrinting(count, wordsTuple, total):\n",
        "    global birgramScores\n",
        "    birgramScores.append(\"The first word is:  {}, The second word is: {}\".format(*wordsTuple))\n",
        "    #Returns None so all the tuples are considered to have the same rank\n",
        "\n",
        "whBigrams.nbest(bigramPrinting, 10)\n",
        "print('\\n'.join(birgramScores[:10]))"
      ],
      "metadata": {
        "id": "FpxCm3Rsx6or"
      },
      "execution_count": null,
      "outputs": []
    },
    {
      "cell_type": "code",
      "source": [
        "bigram_measures = nltk.collocations.BigramAssocMeasures()\n",
        "whBigrams.score_ngrams(bigram_measures.likelihood_ratio)[:40]\n",
        "# other options include student_t, chi_sq, likelihood_ratio, pmi"
      ],
      "metadata": {
        "id": "HpWoWHEOyKI9"
      },
      "execution_count": null,
      "outputs": []
    },
    {
      "cell_type": "code",
      "source": [
        "import gensim\n",
        "bigram = gensim.models.Phrases(subset_df['normalized_tokens'])\n",
        "texts = [bigram[line] for line in subset_df['normalized_tokens']]\n"
      ],
      "metadata": {
        "colab": {
          "base_uri": "https://localhost:8080/"
        },
        "id": "ODSmpsrqyOeY",
        "outputId": "e343fd34-b019-4397-b7b6-29ad56275ca6"
      },
      "execution_count": null,
      "outputs": [
        {
          "output_type": "stream",
          "name": "stderr",
          "text": [
            "/usr/local/lib/python3.7/dist-packages/gensim/models/phrases.py:598: UserWarning: For a faster implementation, use the gensim.models.phrases.Phraser class\n",
            "  warnings.warn(\"For a faster implementation, use the gensim.models.phrases.Phraser class\")\n"
          ]
        }
      ]
    },
    {
      "cell_type": "markdown",
      "source": [
        "### Distributional Distances"
      ],
      "metadata": {
        "id": "I3GBUrfo4V-q"
      }
    },
    {
      "cell_type": "code",
      "source": [
        "#subset dataframes to only include specific parties' speeches\n",
        "#data frame for afd speeches\n",
        "afd_df = subset_df[subset_df['factionId'] == 0]\n",
        "#pds became die linke in 2005, merge the two together\n",
        "linke_df = subset_df[subset_df['factionId'] == 6]\n",
        "pds_df = subset_df[subset_df['factionId'] == 22] \n",
        "pds_linke_df = \tpd.concat([pds_df,linke_df])\n",
        "#merge together 'extreme' dfs\n",
        "fringe_df = pd.concat([pds_linke_df,afd_df])\n",
        "#create dataframe for other parties\n",
        "spd_df = subset_df[subset_df['factionId'] == 23]\n",
        "greens_df = subset_df[subset_df['factionId'] == 3]\n",
        "cdu_csu_df = subset_df[subset_df['factionId'] == 4]\n",
        "fdp_df = subset_df[subset_df['factionId'] == 13]\n",
        "mainstream_df = pd.concat([spd_df,greens_df,cdu_csu_df,fdp_df])"
      ],
      "metadata": {
        "id": "eTi14CSH0sox"
      },
      "execution_count": null,
      "outputs": []
    },
    {
      "cell_type": "markdown",
      "source": [
        "First, compare distances between Die Linke and AfD"
      ],
      "metadata": {
        "id": "pKWYUFMJ4gCu"
      }
    },
    {
      "cell_type": "code",
      "source": [
        "afdWords = set(afd_df['normalized_tokens'].sum())\n",
        "linkeWords = set(pds_linke_df['normalized_tokens'].sum())"
      ],
      "metadata": {
        "id": "pPhIWF5f4dj2"
      },
      "execution_count": null,
      "outputs": []
    },
    {
      "cell_type": "code",
      "source": [
        "overlapWords = afdWords & linkeWords\n",
        "\n",
        "overlapWordsDict = {word: index for index, word in enumerate(overlapWords)}"
      ],
      "metadata": {
        "id": "vm6VVqYf4qp_"
      },
      "execution_count": null,
      "outputs": []
    },
    {
      "cell_type": "code",
      "source": [
        "def makeProbsArray(dfColumn, overlapDict):\n",
        "    words = dfColumn.sum()\n",
        "    countList = [0] * len(overlapDict)\n",
        "    for word in words:\n",
        "        try:\n",
        "            countList[overlapDict[word]] += 1\n",
        "        except KeyError:\n",
        "            #The word is not common so we skip it\n",
        "            pass\n",
        "    countArray = np.array(countList)\n",
        "    return countArray / countArray.sum()\n",
        "\n",
        "whProbArray = makeProbsArray(afd_df['normalized_tokens'], overlapWordsDict)\n",
        "kenProbArray = makeProbsArray(pds_linke_df['normalized_tokens'], overlapWordsDict)\n",
        "kenProbArray.sum()"
      ],
      "metadata": {
        "colab": {
          "base_uri": "https://localhost:8080/"
        },
        "id": "zuGxyNIf4_Po",
        "outputId": "ac12e0fd-c45d-44ba-f938-c465e4be7b9c"
      },
      "execution_count": null,
      "outputs": [
        {
          "output_type": "execute_result",
          "data": {
            "text/plain": [
              "1.0"
            ]
          },
          "metadata": {},
          "execution_count": 50
        }
      ]
    },
    {
      "cell_type": "code",
      "source": [
        "#compute KL Divergence\n",
        "wh_kenDivergence = scipy.stats.entropy(whProbArray, kenProbArray)\n",
        "print (wh_kenDivergence)\n",
        "ken_whDivergence = scipy.stats.entropy(kenProbArray, whProbArray)\n",
        "print (ken_whDivergence)"
      ],
      "metadata": {
        "colab": {
          "base_uri": "https://localhost:8080/"
        },
        "id": "KgwsZoHO5dhV",
        "outputId": "4375b47f-2b54-4484-abb3-037e0c7ebef5"
      },
      "execution_count": null,
      "outputs": [
        {
          "output_type": "stream",
          "name": "stdout",
          "text": [
            "0.0011793141218747404\n",
            "0.0013307687991223676\n"
          ]
        }
      ]
    },
    {
      "cell_type": "code",
      "source": [
        "wh_kenDivergence_ew = scipy.special.kl_div(whProbArray, kenProbArray)\n",
        "kl_df = pandas.DataFrame(list(overlapWordsDict.keys()), columns = ['word'], index = list(overlapWordsDict.values()))\n",
        "kl_df = kl_df.sort_index()\n",
        "kl_df['elementwise divergence'] = wh_kenDivergence_ew\n",
        "kl_df[:10]"
      ],
      "metadata": {
        "id": "tYhl0swF5mWS"
      },
      "execution_count": null,
      "outputs": []
    },
    {
      "cell_type": "code",
      "source": [
        "kl_df.sort_values(by='elementwise divergence', ascending=False)[:10]"
      ],
      "metadata": {
        "id": "Rbwd4Yet5pw5"
      },
      "execution_count": null,
      "outputs": []
    },
    {
      "cell_type": "code",
      "source": [
        "#define functions for calculating distances\n",
        "def kl_divergence(X, Y):\n",
        "    P = X.copy()\n",
        "    Q = Y.copy()\n",
        "    P.columns = ['P']\n",
        "    Q.columns = ['Q']\n",
        "    df = Q.join(P).fillna(0)\n",
        "    p = df.iloc[:,1]\n",
        "    q = df.iloc[:,0]\n",
        "    D_kl = scipy.stats.entropy(p, q)\n",
        "    return D_kl\n",
        "\n",
        "def chi2_divergence(X,Y):\n",
        "    P = X.copy()\n",
        "    Q = Y.copy()\n",
        "    P.columns = ['P']\n",
        "    Q.columns = ['Q']\n",
        "    df = Q.join(P).fillna(0)\n",
        "    p = df.iloc[:,1]\n",
        "    q = df.iloc[:,0]\n",
        "    return scipy.stats.chisquare(p, q).statistic\n",
        "\n",
        "def Divergence(corpus1, corpus2, difference=\"KL\"):\n",
        "    \"\"\"Difference parameter can equal KL, Chi2, or Wass\"\"\"\n",
        "    freqP = nltk.FreqDist(corpus1)\n",
        "    P = pandas.DataFrame(list(freqP.values()), columns = ['frequency'], index = list(freqP.keys()))\n",
        "    freqQ = nltk.FreqDist(corpus2)\n",
        "    Q = pandas.DataFrame(list(freqQ.values()), columns = ['frequency'], index = list(freqQ.keys()))\n",
        "    if difference == \"KL\":\n",
        "        return kl_divergence(P, Q)\n",
        "    elif difference == \"Chi2\":\n",
        "        return chi2_divergence(P, Q)\n",
        "    elif difference == \"KS\":\n",
        "        try:\n",
        "            return scipy.stats.ks_2samp(P['frequency'], Q['frequency']).statistic\n",
        "        except:\n",
        "            return scipy.stats.ks_2samp(P['frequency'], Q['frequency'])\n",
        "    elif difference == \"Wasserstein\":\n",
        "        try:\n",
        "            return scipy.stats.wasserstein_distance(P['frequency'], Q['frequency'], u_weights=None, v_weights=None).statistic\n",
        "        except:\n",
        "            return scipy.stats.wasserstein_distance(P['frequency'], Q['frequency'], u_weights=None, v_weights=None)"
      ],
      "metadata": {
        "id": "OLybS4PH53JF"
      },
      "execution_count": null,
      "outputs": []
    },
    {
      "cell_type": "code",
      "source": [
        "measure = 'KS' #\"KL\", \"Chi2\", \"KS\", \"Wasserstein\"\n",
        "num_of_texts = 10 #The bigger this number the slower it will run, you can also try selecting your own plays\n",
        "fileids_sp = list(afd_df[:num_of_texts].index)\n",
        "corpora_sp = list(afd_df[:num_of_texts]['normalized_tokens'])\n",
        "L = []\n",
        "for p in corpora_sp:\n",
        "    l = []\n",
        "    for q in corpora_sp:\n",
        "        l.append(Divergence(p,q, difference=measure))\n",
        "    L.append(l)\n",
        "M = np.array(L)\n",
        "fig = plt.figure()\n",
        "div = pandas.DataFrame(M, columns = fileids_sp, index = fileids_sp)\n",
        "ax = sns.heatmap(div)\n",
        "plt.show()"
      ],
      "metadata": {
        "colab": {
          "base_uri": "https://localhost:8080/",
          "height": 287
        },
        "id": "r0DjA9Up6ZqW",
        "outputId": "557c87bb-37f4-49a4-8dbf-f5b9f86c866d"
      },
      "execution_count": null,
      "outputs": [
        {
          "output_type": "display_data",
          "data": {
            "text/plain": [
              "<Figure size 432x288 with 2 Axes>"
            ],
            "image/png": "[encoded data removed]"
          },
          "metadata": {
            "needs_background": "light"
          }
        }
      ]
    },
    {
      "cell_type": "code",
      "source": [
        "measure = 'KS' #\"KL\", \"Chi2\", \"KS\", \"Wasserstein\"\n",
        "num_of_texts = 10 #The bigger this number the slower it will run, you can also try selecting your own plays\n",
        "fileids_sp = list(pds_linke_df[:num_of_texts].index)\n",
        "corpora_sp = list(pds_linke_df[:num_of_texts]['normalized_tokens'])\n",
        "L = []\n",
        "for p in corpora_sp:\n",
        "    l = []\n",
        "    for q in corpora_sp:\n",
        "        l.append(Divergence(p,q, difference=measure))\n",
        "    L.append(l)\n",
        "M = np.array(L)\n",
        "fig = plt.figure()\n",
        "div = pandas.DataFrame(M, columns = fileids_sp, index = fileids_sp)\n",
        "ax = sns.heatmap(div)\n",
        "plt.show()"
      ],
      "metadata": {
        "colab": {
          "base_uri": "https://localhost:8080/",
          "height": 265
        },
        "id": "tcdBXgvN6hVL",
        "outputId": "7f3b47e1-aa6e-4b07-b324-11dd45362bde"
      },
      "execution_count": null,
      "outputs": [
        {
          "output_type": "display_data",
          "data": {
            "text/plain": [
              "<Figure size 432x288 with 2 Axes>"
            ],
            "image/png": "[encoded data removed]"
          },
          "metadata": {
            "needs_background": "light"
          }
        }
      ]
    },
    {
      "cell_type": "markdown",
      "source": [
        "# Content from Week 3: Discovering higher-level Patterns (Topic Modeling & Clustering)"
      ],
      "metadata": {
        "id": "3Ps6Qf566wGw"
      }
    },
    {
      "cell_type": "markdown",
      "source": [
        "### Preparing Data"
      ],
      "metadata": {
        "id": "Jv1WLqsr7DuT"
      }
    },
    {
      "cell_type": "code",
      "source": [
        "#convert documents into count vectors\n",
        "#First it needs to be initialized\n",
        "ngCountVectorizer = sklearn.feature_extraction.text.CountVectorizer()\n",
        "#Then trained\n",
        "ddrVects = ngCountVectorizer.fit_transform(subset_df['text'])\n",
        "print(ddrVects.shape)"
      ],
      "metadata": {
        "colab": {
          "base_uri": "https://localhost:8080/"
        },
        "id": "wK57go867bGp",
        "outputId": "495bf94a-a75d-4e82-f17f-42653932f0ed"
      },
      "execution_count": null,
      "outputs": [
        {
          "output_type": "stream",
          "name": "stdout",
          "text": [
            "(15683, 232062)\n"
          ]
        }
      ]
    },
    {
      "cell_type": "code",
      "source": [
        "#tf-idf analysis\n",
        "#initialize\n",
        "newsgroupsTFTransformer = sklearn.feature_extraction.text.TfidfTransformer().fit(ddrVects)\n",
        "#train\n",
        "ddrTF = newsgroupsTFTransformer.transform(ddrVects)\n",
        "print(ddrTF.shape)"
      ],
      "metadata": {
        "colab": {
          "base_uri": "https://localhost:8080/"
        },
        "id": "UbDvLqSc8Qk9",
        "outputId": "09f36628-ee5e-40c5-a616-5319c446f334"
      },
      "execution_count": null,
      "outputs": [
        {
          "output_type": "stream",
          "name": "stdout",
          "text": [
            "(15683, 232062)\n"
          ]
        }
      ]
    },
    {
      "cell_type": "code",
      "source": [
        "list(zip(ngCountVectorizer.vocabulary_.keys(), ddrTF.data))[:20]"
      ],
      "metadata": {
        "colab": {
          "base_uri": "https://localhost:8080/"
        },
        "id": "Xuk5wU838eRV",
        "outputId": "a6ab1b1d-5f0f-4430-9802-b61317d609a8"
      },
      "execution_count": null,
      "outputs": [
        {
          "output_type": "execute_result",
          "data": {
            "text/plain": [
              "[('herr', 0.024005435964389907),\n",
              " ('präsident', 0.036520769215981894),\n",
              " ('liebe', 0.047537991131949106),\n",
              " ('kollegen', 0.04310802954355955),\n",
              " ('kolleginnen', 0.02972509545703005),\n",
              " ('für', 0.03541017907908976),\n",
              " ('die', 0.026183647462966336),\n",
              " ('sozialdemokratische', 0.057095520366649825),\n",
              " ('bundestagsfraktion', 0.025918779229654326),\n",
              " ('erkläre', 0.011176033642039052),\n",
              " ('ich', 0.019702212217269522),\n",
              " ('daß', 0.06179035690679996),\n",
              " ('wir', 0.07026329647550983),\n",
              " ('dem', 0.12109816460275034),\n",
              " ('ergebnis', 0.13204459751072653),\n",
              " ('des', 0.18968647491281282),\n",
              " ('vermittlungsausschusses', 0.28450677080680303),\n",
              " ('zustimmen', 0.05671887996870276),\n",
              " ('dieses', 0.09670641010380386),\n",
              " ('ist', 0.06212021509441344)]"
            ]
          },
          "metadata": {},
          "execution_count": 90
        }
      ]
    },
    {
      "cell_type": "code",
      "source": [
        "#limit vector\n",
        "#initialize\n",
        "ngTFVectorizer = sklearn.feature_extraction.text.TfidfVectorizer(max_df=0.5, max_features=1000, min_df=3, stop_words='english', norm='l2') #german stop words not available, so i figured english ones are better than none\n",
        "#train\n",
        "ddrTFVects = ngTFVectorizer.fit_transform(subset_df['text'])"
      ],
      "metadata": {
        "id": "a9w5EDoA8ptb"
      },
      "execution_count": null,
      "outputs": []
    },
    {
      "cell_type": "markdown",
      "source": [
        "### Flat Clustering (k-means)"
      ],
      "metadata": {
        "id": "lumOxp1K-Cbv"
      }
    },
    {
      "cell_type": "code",
      "source": [
        "numClusters = len(set(subset_df['factionId']))\n",
        "numClusters"
      ],
      "metadata": {
        "colab": {
          "base_uri": "https://localhost:8080/"
        },
        "id": "zQx003TW-EUf",
        "outputId": "c7acb561-e17f-4dce-ff6c-46dd7cf46aa8"
      },
      "execution_count": null,
      "outputs": [
        {
          "output_type": "execute_result",
          "data": {
            "text/plain": [
              "10"
            ]
          },
          "metadata": {},
          "execution_count": 92
        }
      ]
    },
    {
      "cell_type": "code",
      "source": [
        "#initialize cluster finder\n",
        "#k-means++ is a better way of finding the starting points\n",
        "#We could also try providing our own\n",
        "km = sklearn.cluster.KMeans(n_clusters=numClusters, init='k-means++')"
      ],
      "metadata": {
        "id": "ykUK-RZx-TCh"
      },
      "execution_count": null,
      "outputs": []
    },
    {
      "cell_type": "code",
      "source": [
        "km.fit(ddrTFVects)"
      ],
      "metadata": {
        "colab": {
          "base_uri": "https://localhost:8080/"
        },
        "id": "1fFYPSUw-W8l",
        "outputId": "3726c9e6-fc2b-47b9-f5f7-21c3159baa95"
      },
      "execution_count": null,
      "outputs": [
        {
          "output_type": "execute_result",
          "data": {
            "text/plain": [
              "KMeans(n_clusters=10)"
            ]
          },
          "metadata": {},
          "execution_count": 94
        }
      ]
    },
    {
      "cell_type": "code",
      "source": [
        "print(\"The available metrics are: {}\".format([s for s in dir(sklearn.metrics) if s[0] != '_']))\n",
        "print(\"For our clusters:\")\n",
        "print(\"Homogeneity: {:0.3f}\".format(sklearn.metrics.homogeneity_score(subset_df['factionId'], km.labels_)))\n",
        "print(\"Completeness: {:0.3f}\".format(sklearn.metrics.completeness_score(subset_df['factionId'], km.labels_)))\n",
        "print(\"V-measure: {:0.3f}\".format(sklearn.metrics.v_measure_score(subset_df['factionId'], km.labels_)))\n",
        "print(\"Adjusted Rand Score: {:0.3f}\".format(sklearn.metrics.adjusted_rand_score(subset_df['factionId'], km.labels_)))"
      ],
      "metadata": {
        "colab": {
          "base_uri": "https://localhost:8080/"
        },
        "id": "HkGZUmFc-qOi",
        "outputId": "bbea23e9-e989-4714-eec9-0a671cc9c11f"
      },
      "execution_count": null,
      "outputs": [
        {
          "output_type": "stream",
          "name": "stdout",
          "text": [
            "The available metrics are: ['ConfusionMatrixDisplay', 'DetCurveDisplay', 'DistanceMetric', 'PrecisionRecallDisplay', 'RocCurveDisplay', 'SCORERS', 'accuracy_score', 'adjusted_mutual_info_score', 'adjusted_rand_score', 'auc', 'average_precision_score', 'balanced_accuracy_score', 'brier_score_loss', 'calinski_harabasz_score', 'check_scoring', 'classification_report', 'cluster', 'cohen_kappa_score', 'completeness_score', 'confusion_matrix', 'consensus_score', 'coverage_error', 'd2_tweedie_score', 'davies_bouldin_score', 'dcg_score', 'det_curve', 'euclidean_distances', 'explained_variance_score', 'f1_score', 'fbeta_score', 'fowlkes_mallows_score', 'get_scorer', 'hamming_loss', 'hinge_loss', 'homogeneity_completeness_v_measure', 'homogeneity_score', 'jaccard_score', 'label_ranking_average_precision_score', 'label_ranking_loss', 'log_loss', 'make_scorer', 'matthews_corrcoef', 'max_error', 'mean_absolute_error', 'mean_absolute_percentage_error', 'mean_gamma_deviance', 'mean_pinball_loss', 'mean_poisson_deviance', 'mean_squared_error', 'mean_squared_log_error', 'mean_tweedie_deviance', 'median_absolute_error', 'multilabel_confusion_matrix', 'mutual_info_score', 'nan_euclidean_distances', 'ndcg_score', 'normalized_mutual_info_score', 'pair_confusion_matrix', 'pairwise', 'pairwise_distances', 'pairwise_distances_argmin', 'pairwise_distances_argmin_min', 'pairwise_distances_chunked', 'pairwise_kernels', 'plot_confusion_matrix', 'plot_det_curve', 'plot_precision_recall_curve', 'plot_roc_curve', 'precision_recall_curve', 'precision_recall_fscore_support', 'precision_score', 'r2_score', 'rand_score', 'recall_score', 'roc_auc_score', 'roc_curve', 'silhouette_samples', 'silhouette_score', 'top_k_accuracy_score', 'v_measure_score', 'zero_one_loss']\n",
            "For our clusters:\n",
            "Homogeneity: 0.085\n",
            "Completeness: 0.079\n",
            "V-measure: 0.082\n",
            "Adjusted Rand Score: 0.023\n"
          ]
        }
      ]
    },
    {
      "cell_type": "code",
      "source": [
        "subset_df['kmeans_predictions'] = km.labels_\n",
        "subset_df"
      ],
      "metadata": {
        "id": "vpq0C_6R_Fhe"
      },
      "execution_count": null,
      "outputs": []
    },
    {
      "cell_type": "code",
      "source": [
        "#most commont terms per cluster\n",
        "terms = ngTFVectorizer.get_feature_names()\n",
        "print(\"Top terms per cluster:\")\n",
        "order_centroids = km.cluster_centers_.argsort()[:, ::-1]\n",
        "for i in range(numClusters):\n",
        "    print(\"Cluster %d:\" % i)\n",
        "    for ind in order_centroids[i, :10]:\n",
        "        print(' %s' % terms[ind])\n",
        "    print('\\n')"
      ],
      "metadata": {
        "colab": {
          "base_uri": "https://localhost:8080/"
        },
        "id": "7eXLnck8_PAJ",
        "outputId": "bf0b285c-e321-4d2f-ab16-3c60941c34f1"
      },
      "execution_count": null,
      "outputs": [
        {
          "output_type": "stream",
          "name": "stdout",
          "text": [
            "Top terms per cluster:\n",
            "Cluster 0:\n",
            " ehemaligen\n",
            " frage\n",
            " sed\n",
            " kollege\n",
            " bundesregierung\n",
            " stasi\n",
            " habe\n",
            " pds\n",
            " ostdeutschland\n",
            " worden\n",
            "\n",
            "\n",
            "Cluster 1:\n",
            " frauen\n",
            " frau\n",
            " kinder\n",
            " dass\n",
            " muß\n",
            " familie\n",
            " bundesländern\n",
            " neuen\n",
            " bundesregierung\n",
            " leben\n",
            "\n",
            "\n",
            "Cluster 2:\n",
            " dass\n",
            " muss\n",
            " menschen\n",
            " wollen\n",
            " deutschland\n",
            " prozent\n",
            " er\n",
            " geht\n",
            " weil\n",
            " ganz\n",
            "\n",
            "\n",
            "Cluster 3:\n",
            " drucksache\n",
            " beratung\n",
            " dr\n",
            " ausschuss\n",
            " fraktion\n",
            " abgeordneten\n",
            " aussprache\n",
            " beschlussempfehlung\n",
            " ausschuß\n",
            " beschlußempfehlung\n",
            "\n",
            "\n",
            "Cluster 4:\n",
            " muß\n",
            " er\n",
            " doch\n",
            " menschen\n",
            " dies\n",
            " habe\n",
            " bundesregierung\n",
            " worden\n",
            " weil\n",
            " deutschland\n",
            "\n",
            "\n",
            "Cluster 5:\n",
            " dm\n",
            " milliarden\n",
            " millionen\n",
            " muß\n",
            " neuen\n",
            " 000\n",
            " jahr\n",
            " haushalt\n",
            " er\n",
            " bundesregierung\n",
            "\n",
            "\n",
            "Cluster 6:\n",
            " euro\n",
            " dass\n",
            " prozent\n",
            " milliarden\n",
            " millionen\n",
            " muss\n",
            " jahr\n",
            " deutschland\n",
            " haushalt\n",
            " wollen\n",
            "\n",
            "\n",
            "Cluster 7:\n",
            " neuen\n",
            " bundesländern\n",
            " ländern\n",
            " bundesregierung\n",
            " muß\n",
            " länder\n",
            " alten\n",
            " unternehmen\n",
            " dm\n",
            " ost\n",
            "\n",
            "\n",
            "Cluster 8:\n",
            " europa\n",
            " europäischen\n",
            " europäische\n",
            " nato\n",
            " union\n",
            " staaten\n",
            " dass\n",
            " deutschland\n",
            " eu\n",
            " deutschen\n",
            "\n",
            "\n",
            "Cluster 9:\n",
            " dass\n",
            " muss\n",
            " antrag\n",
            " menschen\n",
            " deutschland\n",
            " wollen\n",
            " kollegen\n",
            " liebe\n",
            " er\n",
            " kolleginnen\n",
            "\n",
            "\n"
          ]
        }
      ]
    },
    {
      "cell_type": "code",
      "source": [
        "#cluster visualization\n",
        "PCA = sklearn.decomposition.PCA\n",
        "pca = PCA(n_components = 2).fit(ddrTFVects.toarray())\n",
        "reduced_data = pca.transform(ddrTFVects.toarray())"
      ],
      "metadata": {
        "id": "JqpAs63BAKNj"
      },
      "execution_count": null,
      "outputs": []
    },
    {
      "cell_type": "code",
      "source": [
        "#manipulate faction id to not include negative values\n",
        "subset_df['colorId'] = subset_df['factionId']\n",
        "subset_df['colorId+2'] = subset_df['colorId'] + 2\n",
        "pandas.unique(subset_df['colorId+2'])"
      ],
      "metadata": {
        "colab": {
          "base_uri": "https://localhost:8080/"
        },
        "id": "3PNnOZZtA-Jw",
        "outputId": "4a648970-5d36-4796-bfae-a3fe378ec8d4"
      },
      "execution_count": null,
      "outputs": [
        {
          "output_type": "execute_result",
          "data": {
            "text/plain": [
              "array([25, 15,  5,  1,  6, 24, 18, 20,  8,  2])"
            ]
          },
          "metadata": {},
          "execution_count": 99
        }
      ]
    },
    {
      "cell_type": "code",
      "source": [
        "colordict = {\n",
        "'24': 'red',\n",
        "'5': 'orange',\n",
        "'1': 'green',\n",
        "'6': 'blue',\n",
        "'25': 'black',\n",
        "'15': 'pink',\n",
        "'18': 'cyan'\n",
        "    }\n",
        "colors = [colordict[c] for c in subset_df['colorId+2']]\n",
        "print(\"The categories' colors are:\\n{}\".format(colordict.items()))"
      ],
      "metadata": {
        "colab": {
          "base_uri": "https://localhost:8080/",
          "height": 329
        },
        "id": "MUBRR3bbAc7W",
        "outputId": "cd93b83e-4b99-465e-9ecd-c48c6d9bc492"
      },
      "execution_count": null,
      "outputs": [
        {
          "output_type": "error",
          "ename": "KeyError",
          "evalue": "ignored",
          "traceback": [
            "\u001b[0;31m---------------------------------------------------------------------------\u001b[0m",
            "\u001b[0;31mKeyError\u001b[0m                                  Traceback (most recent call last)",
            "\u001b[0;32m<ipython-input-100-8e9363058561>\u001b[0m in \u001b[0;36m<module>\u001b[0;34m()\u001b[0m\n\u001b[1;32m      8\u001b[0m \u001b[0;34m'18'\u001b[0m\u001b[0;34m:\u001b[0m \u001b[0;34m'cyan'\u001b[0m\u001b[0;34m\u001b[0m\u001b[0;34m\u001b[0m\u001b[0m\n\u001b[1;32m      9\u001b[0m     }\n\u001b[0;32m---> 10\u001b[0;31m \u001b[0mcolors\u001b[0m \u001b[0;34m=\u001b[0m \u001b[0;34m[\u001b[0m\u001b[0mcolordict\u001b[0m\u001b[0;34m[\u001b[0m\u001b[0mc\u001b[0m\u001b[0;34m]\u001b[0m \u001b[0;32mfor\u001b[0m \u001b[0mc\u001b[0m \u001b[0;32min\u001b[0m \u001b[0msubset_df\u001b[0m\u001b[0;34m[\u001b[0m\u001b[0;34m'colorId+2'\u001b[0m\u001b[0;34m]\u001b[0m\u001b[0;34m]\u001b[0m\u001b[0;34m\u001b[0m\u001b[0;34m\u001b[0m\u001b[0m\n\u001b[0m\u001b[1;32m     11\u001b[0m \u001b[0mprint\u001b[0m\u001b[0;34m(\u001b[0m\u001b[0;34m\"The categories' colors are:\\n{}\"\u001b[0m\u001b[0;34m.\u001b[0m\u001b[0mformat\u001b[0m\u001b[0;34m(\u001b[0m\u001b[0mcolordict\u001b[0m\u001b[0;34m.\u001b[0m\u001b[0mitems\u001b[0m\u001b[0;34m(\u001b[0m\u001b[0;34m)\u001b[0m\u001b[0;34m)\u001b[0m\u001b[0;34m)\u001b[0m\u001b[0;34m\u001b[0m\u001b[0;34m\u001b[0m\u001b[0m\n",
            "\u001b[0;32m<ipython-input-100-8e9363058561>\u001b[0m in \u001b[0;36m<listcomp>\u001b[0;34m(.0)\u001b[0m\n\u001b[1;32m      8\u001b[0m \u001b[0;34m'18'\u001b[0m\u001b[0;34m:\u001b[0m \u001b[0;34m'cyan'\u001b[0m\u001b[0;34m\u001b[0m\u001b[0;34m\u001b[0m\u001b[0m\n\u001b[1;32m      9\u001b[0m     }\n\u001b[0;32m---> 10\u001b[0;31m \u001b[0mcolors\u001b[0m \u001b[0;34m=\u001b[0m \u001b[0;34m[\u001b[0m\u001b[0mcolordict\u001b[0m\u001b[0;34m[\u001b[0m\u001b[0mc\u001b[0m\u001b[0;34m]\u001b[0m \u001b[0;32mfor\u001b[0m \u001b[0mc\u001b[0m \u001b[0;32min\u001b[0m \u001b[0msubset_df\u001b[0m\u001b[0;34m[\u001b[0m\u001b[0;34m'colorId+2'\u001b[0m\u001b[0;34m]\u001b[0m\u001b[0;34m]\u001b[0m\u001b[0;34m\u001b[0m\u001b[0;34m\u001b[0m\u001b[0m\n\u001b[0m\u001b[1;32m     11\u001b[0m \u001b[0mprint\u001b[0m\u001b[0;34m(\u001b[0m\u001b[0;34m\"The categories' colors are:\\n{}\"\u001b[0m\u001b[0;34m.\u001b[0m\u001b[0mformat\u001b[0m\u001b[0;34m(\u001b[0m\u001b[0mcolordict\u001b[0m\u001b[0;34m.\u001b[0m\u001b[0mitems\u001b[0m\u001b[0;34m(\u001b[0m\u001b[0;34m)\u001b[0m\u001b[0;34m)\u001b[0m\u001b[0;34m)\u001b[0m\u001b[0;34m\u001b[0m\u001b[0;34m\u001b[0m\u001b[0m\n",
            "\u001b[0;31mKeyError\u001b[0m: 25"
          ]
        }
      ]
    },
    {
      "cell_type": "code",
      "source": [
        "fig = plt.figure(figsize = (10,6))\n",
        "ax = fig.add_subplot(111)\n",
        "ax.set_frame_on(False)\n",
        "ax.scatter(reduced_data[:, 0], reduced_data[:, 1], color = colors, alpha = 0.5, label = colors)\n",
        "plt.xticks(())\n",
        "plt.yticks(())\n",
        "plt.title('True Classes')\n",
        "plt.show()"
      ],
      "metadata": {
        "id": "RoPZlBK0B1F7"
      },
      "execution_count": null,
      "outputs": []
    },
    {
      "cell_type": "markdown",
      "source": [
        "abandoning this method as i can't get it to work"
      ],
      "metadata": {
        "id": "3jlKiAq1Cb3v"
      }
    },
    {
      "cell_type": "markdown",
      "source": [
        "### Hierarchical Clustering with Wald's Method"
      ],
      "metadata": {
        "id": "o2P8mKmPCd-X"
      }
    },
    {
      "cell_type": "code",
      "source": [
        "ddrTFVects[:100].todense()"
      ],
      "metadata": {
        "colab": {
          "base_uri": "https://localhost:8080/"
        },
        "id": "KvmYAeNuCpiU",
        "outputId": "bf685a22-1e21-4dbe-d192-ef429d286b9e"
      },
      "execution_count": null,
      "outputs": [
        {
          "output_type": "execute_result",
          "data": {
            "text/plain": [
              "matrix([[0.        , 0.        , 0.        , ..., 0.        , 0.        ,\n",
              "         0.06499708],\n",
              "        [0.0458192 , 0.        , 0.        , ..., 0.        , 0.        ,\n",
              "         0.        ],\n",
              "        [0.        , 0.        , 0.        , ..., 0.        , 0.        ,\n",
              "         0.        ],\n",
              "        ...,\n",
              "        [0.0458083 , 0.03719605, 0.        , ..., 0.        , 0.02850589,\n",
              "         0.        ],\n",
              "        [0.        , 0.01974983, 0.        , ..., 0.        , 0.        ,\n",
              "         0.05825456],\n",
              "        [0.02435974, 0.01977995, 0.03280804, ..., 0.        , 0.        ,\n",
              "         0.        ]])"
            ]
          },
          "metadata": {},
          "execution_count": 101
        }
      ]
    },
    {
      "cell_type": "code",
      "source": [
        "ddrCoocMat = ddrTFVects * ddrTFVects.T\n",
        "#set the diagonal to 0 since we don't care how similar texts are to themselves\n",
        "ddrCoocMat.setdiag(0)\n",
        "#Another way of relating the texts is with their cosine similarity\n",
        "#newsgroupsCosinMat1 = 1 - sklearn.metrics.pairwise.cosine_similarity(newsgroupsTFVects)\n",
        "#But generally word occurrence is more accurate"
      ],
      "metadata": {
        "colab": {
          "base_uri": "https://localhost:8080/"
        },
        "id": "OjtJ6xGJC0xj",
        "outputId": "b36f4925-af00-4f67-b084-8440f2f9bf3c"
      },
      "execution_count": null,
      "outputs": [
        {
          "output_type": "stream",
          "name": "stderr",
          "text": [
            "/usr/local/lib/python3.7/dist-packages/scipy/sparse/_index.py:126: SparseEfficiencyWarning: Changing the sparsity structure of a csr_matrix is expensive. lil_matrix is more efficient.\n",
            "  self._set_arrayXarray(i, j, x)\n"
          ]
        }
      ]
    },
    {
      "cell_type": "code",
      "source": [
        "selectIndices = []\n",
        "indexToCat = []\n",
        "for c in set(subset_df['factionId']):\n",
        "    selectIndices += list(subset_df[subset_df['factionId'] == c].index)[:50]\n",
        "    indexToCat += [c] * 50\n",
        "    #.groupby('category').sum()"
      ],
      "metadata": {
        "id": "YeRZjRzoC9nn"
      },
      "execution_count": null,
      "outputs": []
    },
    {
      "cell_type": "code",
      "source": [
        "subCoocMat = ddrCoocMat[selectIndices,:][:,selectIndices]"
      ],
      "metadata": {
        "id": "TOI-MBeJDKKM"
      },
      "execution_count": null,
      "outputs": []
    },
    {
      "cell_type": "code",
      "source": [
        "linkage_matrix = scipy.cluster.hierarchy.ward(subCoocMat.toarray())\n",
        "linkage_matrix[:10]"
      ],
      "metadata": {
        "colab": {
          "base_uri": "https://localhost:8080/"
        },
        "id": "TWAcr9RZDNid",
        "outputId": "e60e98bd-b585-4e59-a969-c7207f3b5fe2"
      },
      "execution_count": null,
      "outputs": [
        {
          "output_type": "stream",
          "name": "stderr",
          "text": [
            "/usr/local/lib/python3.7/dist-packages/scipy/cluster/hierarchy.py:830: ClusterWarning: scipy.cluster: The symmetric non-negative hollow observation matrix looks suspiciously like an uncondensed distance matrix\n",
            "  return linkage(y, method='ward', metric='euclidean')\n"
          ]
        },
        {
          "output_type": "execute_result",
          "data": {
            "text/plain": [
              "array([[199.        , 209.        ,   0.84529296,   2.        ],\n",
              "       [ 96.        , 242.        ,   0.84564463,   2.        ],\n",
              "       [116.        , 128.        ,   0.85065695,   2.        ],\n",
              "       [415.        , 416.        ,   0.8553664 ,   2.        ],\n",
              "       [423.        , 450.        ,   0.85576772,   2.        ],\n",
              "       [ 64.        , 148.        ,   0.86511099,   2.        ],\n",
              "       [ 38.        , 184.        ,   0.87008406,   2.        ],\n",
              "       [  6.        ,  47.        ,   0.87067979,   2.        ],\n",
              "       [ 57.        ,  66.        ,   0.87081409,   2.        ],\n",
              "       [ 17.        , 457.        ,   0.87702398,   3.        ]])"
            ]
          },
          "metadata": {},
          "execution_count": 105
        }
      ]
    },
    {
      "cell_type": "code",
      "source": [
        "dendDat = scipy.cluster.hierarchy.dendrogram(linkage_matrix, get_leaves=True)"
      ],
      "metadata": {
        "colab": {
          "base_uri": "https://localhost:8080/",
          "height": 265
        },
        "id": "MkLdaszeDQUd",
        "outputId": "2f6ad554-d228-42f4-bca2-9b97c3484fd6"
      },
      "execution_count": null,
      "outputs": [
        {
          "output_type": "display_data",
          "data": {
            "text/plain": [
              "<Figure size 432x288 with 1 Axes>"
            ],
            "image/png": "[encoded data removed]"
          },
          "metadata": {
            "needs_background": "light"
          }
        }
      ]
    },
    {
      "cell_type": "code",
      "source": [
        "#make it easier to read by cutting after a number of branches\n",
        "dendrogramDat = scipy.cluster.hierarchy.dendrogram(linkage_matrix, p=4, truncate_mode='level', get_leaves=True)"
      ],
      "metadata": {
        "colab": {
          "base_uri": "https://localhost:8080/",
          "height": 273
        },
        "id": "i_la_SLrDVLk",
        "outputId": "3f792016-c820-4460-b3d9-a95f157d4038"
      },
      "execution_count": null,
      "outputs": [
        {
          "output_type": "display_data",
          "data": {
            "text/plain": [
              "<Figure size 432x288 with 1 Axes>"
            ],
            "image/png": "[encoded data removed]"
          },
          "metadata": {
            "needs_background": "light"
          }
        }
      ]
    },
    {
      "cell_type": "markdown",
      "source": [
        "### Clustering using Gensim"
      ],
      "metadata": {
        "id": "SQZ919ZwDzUR"
      }
    },
    {
      "cell_type": "code",
      "source": [
        "#reducing tokens\n",
        "def dropMissing(wordLst, vocab):\n",
        "    return [w for w in wordLst if w in vocab]\n",
        "\n",
        "subset_df['reduced_tokens'] = subset_df['normalized_tokens'].apply(lambda x: dropMissing(x, ngTFVectorizer.vocabulary_.keys()))"
      ],
      "metadata": {
        "id": "Zt7f4qMWD2iZ"
      },
      "execution_count": null,
      "outputs": []
    },
    {
      "cell_type": "code",
      "source": [
        "dictionary = gensim.corpora.Dictionary(subset_df['reduced_tokens'])"
      ],
      "metadata": {
        "id": "mmPAYqzwFlpE"
      },
      "execution_count": null,
      "outputs": []
    },
    {
      "cell_type": "code",
      "source": [
        "corpus = [dictionary.doc2bow(text) for text in subset_df['reduced_tokens']]"
      ],
      "metadata": {
        "id": "Iv8SIPNtFqpq"
      },
      "execution_count": null,
      "outputs": []
    },
    {
      "cell_type": "code",
      "source": [
        "gensim.corpora.MmCorpus.serialize('senate.mm', corpus)\n",
        "senmm = gensim.corpora.MmCorpus('senate.mm')"
      ],
      "metadata": {
        "id": "uVuVrpQGFtxP"
      },
      "execution_count": null,
      "outputs": []
    },
    {
      "cell_type": "code",
      "source": [
        "senlda = gensim.models.ldamodel.LdaModel(corpus=senmm, id2word=dictionary, num_topics=10, alpha='auto', eta='auto')"
      ],
      "metadata": {
        "colab": {
          "base_uri": "https://localhost:8080/",
          "height": 347
        },
        "id": "3MVWGUwKF-xo",
        "outputId": "50f65d1e-e10a-40b4-d02a-d5b1552bdc09"
      },
      "execution_count": null,
      "outputs": [
        {
          "output_type": "error",
          "ename": "ValueError",
          "evalue": "ignored",
          "traceback": [
            "\u001b[0;31m---------------------------------------------------------------------------\u001b[0m",
            "\u001b[0;31mValueError\u001b[0m                                Traceback (most recent call last)",
            "\u001b[0;32m<ipython-input-112-d1c27b07f831>\u001b[0m in \u001b[0;36m<module>\u001b[0;34m()\u001b[0m\n\u001b[0;32m----> 1\u001b[0;31m \u001b[0msenlda\u001b[0m \u001b[0;34m=\u001b[0m \u001b[0mgensim\u001b[0m\u001b[0;34m.\u001b[0m\u001b[0mmodels\u001b[0m\u001b[0;34m.\u001b[0m\u001b[0mldamodel\u001b[0m\u001b[0;34m.\u001b[0m\u001b[0mLdaModel\u001b[0m\u001b[0;34m(\u001b[0m\u001b[0mcorpus\u001b[0m\u001b[0;34m=\u001b[0m\u001b[0msenmm\u001b[0m\u001b[0;34m,\u001b[0m \u001b[0mid2word\u001b[0m\u001b[0;34m=\u001b[0m\u001b[0mdictionary\u001b[0m\u001b[0;34m,\u001b[0m \u001b[0mnum_topics\u001b[0m\u001b[0;34m=\u001b[0m\u001b[0;36m10\u001b[0m\u001b[0;34m,\u001b[0m \u001b[0malpha\u001b[0m\u001b[0;34m=\u001b[0m\u001b[0;34m'auto'\u001b[0m\u001b[0;34m,\u001b[0m \u001b[0meta\u001b[0m\u001b[0;34m=\u001b[0m\u001b[0;34m'auto'\u001b[0m\u001b[0;34m)\u001b[0m\u001b[0;34m\u001b[0m\u001b[0;34m\u001b[0m\u001b[0m\n\u001b[0m",
            "\u001b[0;32m/usr/local/lib/python3.7/dist-packages/gensim/models/ldamodel.py\u001b[0m in \u001b[0;36m__init__\u001b[0;34m(self, corpus, num_topics, id2word, distributed, chunksize, passes, update_every, alpha, eta, decay, offset, eval_every, iterations, gamma_threshold, minimum_probability, random_state, ns_conf, minimum_phi_value, per_word_topics, callbacks, dtype)\u001b[0m\n\u001b[1;32m    435\u001b[0m \u001b[0;34m\u001b[0m\u001b[0m\n\u001b[1;32m    436\u001b[0m         \u001b[0;32mif\u001b[0m \u001b[0mself\u001b[0m\u001b[0;34m.\u001b[0m\u001b[0mnum_terms\u001b[0m \u001b[0;34m==\u001b[0m \u001b[0;36m0\u001b[0m\u001b[0;34m:\u001b[0m\u001b[0;34m\u001b[0m\u001b[0;34m\u001b[0m\u001b[0m\n\u001b[0;32m--> 437\u001b[0;31m             \u001b[0;32mraise\u001b[0m \u001b[0mValueError\u001b[0m\u001b[0;34m(\u001b[0m\u001b[0;34m\"cannot compute LDA over an empty collection (no terms)\"\u001b[0m\u001b[0;34m)\u001b[0m\u001b[0;34m\u001b[0m\u001b[0;34m\u001b[0m\u001b[0m\n\u001b[0m\u001b[1;32m    438\u001b[0m \u001b[0;34m\u001b[0m\u001b[0m\n\u001b[1;32m    439\u001b[0m         \u001b[0mself\u001b[0m\u001b[0;34m.\u001b[0m\u001b[0mdistributed\u001b[0m \u001b[0;34m=\u001b[0m \u001b[0mbool\u001b[0m\u001b[0;34m(\u001b[0m\u001b[0mdistributed\u001b[0m\u001b[0;34m)\u001b[0m\u001b[0;34m\u001b[0m\u001b[0;34m\u001b[0m\u001b[0m\n",
            "\u001b[0;31mValueError\u001b[0m: cannot compute LDA over an empty collection (no terms)"
          ]
        }
      ]
    },
    {
      "cell_type": "markdown",
      "source": [
        "once again I'm stuck...."
      ],
      "metadata": {
        "id": "-2NCOw9BGXOp"
      }
    },
    {
      "cell_type": "markdown",
      "source": [
        "# Content from Week 4: Exploring Semantic Spaces (Word Embeddings)"
      ],
      "metadata": {
        "id": "-NsQl9kSG39_"
      }
    },
    {
      "cell_type": "markdown",
      "source": [
        "### Word2Vec"
      ],
      "metadata": {
        "id": "sQALd_a_yohX"
      }
    },
    {
      "cell_type": "code",
      "source": [
        "#normalize tokens but store them as lists\n",
        "subset_df['tokenized_sents'] = subset_df['text'].apply(lambda x: [lucem_illud.word_tokenize(s) for s in lucem_illud.sent_tokenize(x)])\n",
        "subset_df['normalized_sents'] = subset_df['tokenized_sents'].apply(lambda x: [lucem_illud.normalizeTokens(s, lemma=False) for s in x])"
      ],
      "metadata": {
        "id": "9jLN11kjZAwv"
      },
      "execution_count": 18,
      "outputs": []
    },
    {
      "cell_type": "code",
      "source": [
        "#subset_df.to_csv('drive/MyDrive/SOCI40133/tokenized-normalized-df-sents.csv', index = False) #saving to a csv file so i don't have to tokenize/normalize again\n",
        "#uncomment the next line to tokenized data from csv file\n",
        "#subset_df = pandas.read_csv('drive/MyDrive/SOCI40133/tokenized-normalized-df-sents.csv')"
      ],
      "metadata": {
        "id": "Nz8G7ZLrbetD"
      },
      "execution_count": 10,
      "outputs": []
    },
    {
      "cell_type": "code",
      "source": [
        "#train word2vec\n",
        "ddrW2V = gensim.models.word2vec.Word2Vec(subset_df['normalized_sents'].sum(), sg=0)"
      ],
      "metadata": {
        "id": "7zy6KJCShpz6"
      },
      "execution_count": 19,
      "outputs": []
    },
    {
      "cell_type": "code",
      "source": [
        "ddrW2V['ddr'][:10] #look at 10 of the vectors"
      ],
      "metadata": {
        "colab": {
          "base_uri": "https://localhost:8080/"
        },
        "id": "30ma3Ld9t1v6",
        "outputId": "f6c29ff7-1f16-4824-ebb0-68867cb0732b"
      },
      "execution_count": 21,
      "outputs": [
        {
          "output_type": "execute_result",
          "data": {
            "text/plain": [
              "array([ 2.5152307, -1.4394987, -1.1129882, -1.1049076,  0.6010508,\n",
              "       -0.365184 , -1.8585875,  3.259423 ,  0.5388952,  1.9169648],\n",
              "      dtype=float32)"
            ]
          },
          "metadata": {},
          "execution_count": 21
        }
      ]
    },
    {
      "cell_type": "code",
      "source": [
        "ddrW2V_words = ddrW2V.wv.index2word"
      ],
      "metadata": {
        "id": "nOEKY5GyuDQM"
      },
      "execution_count": null,
      "outputs": []
    },
    {
      "cell_type": "markdown",
      "source": [
        "Now, find words that most closely resemble the input (cosine similarity)"
      ],
      "metadata": {
        "id": "8hmtgdeqvMTW"
      }
    },
    {
      "cell_type": "code",
      "source": [
        "ddrW2V.most_similar('ddr')"
      ],
      "metadata": {
        "colab": {
          "base_uri": "https://localhost:8080/"
        },
        "id": "C1GTvaBPuR7a",
        "outputId": "28e54e2a-6f39-4f89-ed47-08843df2f819"
      },
      "execution_count": 22,
      "outputs": [
        {
          "output_type": "execute_result",
          "data": {
            "text/plain": [
              "[('sed', 0.7447938919067383),\n",
              " ('ddr-', 0.7046347260475159),\n",
              " ('nva', 0.6972877979278564),\n",
              " ('brd', 0.6910114288330078),\n",
              " ('ostblockländern', 0.6781718134880066),\n",
              " ('ostblockländer', 0.6726036071777344),\n",
              " ('sowjetunion', 0.6653559803962708),\n",
              " ('großkombinate', 0.6438037157058716),\n",
              " ('lpgs', 0.6428718566894531),\n",
              " ('jugoslawien', 0.6272757053375244)]"
            ]
          },
          "metadata": {},
          "execution_count": 22
        }
      ]
    },
    {
      "cell_type": "code",
      "source": [
        "ddrW2V.most_similar('ostdeutschland')"
      ],
      "metadata": {
        "colab": {
          "base_uri": "https://localhost:8080/"
        },
        "id": "fM2PB1Nyubhv",
        "outputId": "73aa574c-e519-41aa-c6e6-5f29b3e26758"
      },
      "execution_count": 23,
      "outputs": [
        {
          "output_type": "execute_result",
          "data": {
            "text/plain": [
              "[('ostdeutschlands', 0.71210777759552),\n",
              " ('westdeutschland', 0.6730259656906128),\n",
              " ('ostdeutschen', 0.6526872515678406),\n",
              " ('osten', 0.6451383233070374),\n",
              " ('ostdeutsche', 0.63037109375),\n",
              " ('bauwirtschaft', 0.6125123500823975),\n",
              " ('vielerorts', 0.5635321140289307),\n",
              " ('dramatisch', 0.5635159015655518),\n",
              " ('abwanderung', 0.5529910326004028),\n",
              " ('gesamtdeutschland', 0.5477360486984253)]"
            ]
          },
          "metadata": {},
          "execution_count": 23
        }
      ]
    },
    {
      "cell_type": "code",
      "source": [
        "ddrW2V.most_similar('ostalgie')"
      ],
      "metadata": {
        "id": "kXoCfqnpu6A2",
        "colab": {
          "base_uri": "https://localhost:8080/"
        },
        "outputId": "0a942291-ce6e-4adc-d9a6-4000bf9caecc"
      },
      "execution_count": 24,
      "outputs": [
        {
          "output_type": "execute_result",
          "data": {
            "text/plain": [
              "[('messung', 0.8498417139053345),\n",
              " ('ausschüttung', 0.8493978977203369),\n",
              " ('politbüromitglieder', 0.8483293652534485),\n",
              " ('durchsuchungen', 0.8450419902801514),\n",
              " ('immunisierung', 0.8447160720825195),\n",
              " ('taxifahrern', 0.8445028066635132),\n",
              " ('montanmitbestimmung', 0.8424355983734131),\n",
              " ('ruheständler', 0.8421815633773804),\n",
              " ('preisabsprachen', 0.8417167663574219),\n",
              " ('verfütterung', 0.8402559757232666)]"
            ]
          },
          "metadata": {},
          "execution_count": 24
        }
      ]
    },
    {
      "cell_type": "code",
      "source": [
        "ddrW2V.most_similar('ossi')"
      ],
      "metadata": {
        "id": "PhrEt_OVu-SR",
        "colab": {
          "base_uri": "https://localhost:8080/"
        },
        "outputId": "1c6deb88-fcbf-42f7-c620-d63268a6f064"
      },
      "execution_count": 25,
      "outputs": [
        {
          "output_type": "execute_result",
          "data": {
            "text/plain": [
              "[('christdemokrat', 0.8393384218215942),\n",
              " ('jude', 0.8072412014007568),\n",
              " ('alarmzeichen', 0.8068194389343262),\n",
              " ('versprecher', 0.8025488257408142),\n",
              " ('kavaliersdelikt', 0.7979722023010254),\n",
              " ('sozialdemokrat', 0.7926348447799683),\n",
              " ('schlusspunkt', 0.786429226398468),\n",
              " ('eigentor', 0.7821582555770874),\n",
              " ('gesetzliches', 0.7818624973297119),\n",
              " ('linkes', 0.7817916870117188)]"
            ]
          },
          "metadata": {},
          "execution_count": 25
        }
      ]
    },
    {
      "cell_type": "code",
      "source": [
        "ddrW2V.most_similar('stasi')"
      ],
      "metadata": {
        "colab": {
          "base_uri": "https://localhost:8080/"
        },
        "id": "XPrp9yvhlePw",
        "outputId": "5365e231-fbdf-4524-c30d-9e5c4fcc2a88"
      },
      "execution_count": 27,
      "outputs": [
        {
          "output_type": "execute_result",
          "data": {
            "text/plain": [
              "[('mfs', 0.7676106095314026),\n",
              " ('staatssicherheit', 0.7534952163696289),\n",
              " ('ns', 0.6977084279060364),\n",
              " ('staatssicherheitsdienstes', 0.6820981502532959),\n",
              " ('nationalsozialistischer', 0.6406357884407043),\n",
              " ('unterlagen', 0.6351444125175476),\n",
              " ('sed', 0.6198356747627258),\n",
              " ('bnd', 0.6163461804389954),\n",
              " ('offiziere', 0.6149982810020447),\n",
              " ('erbgesundheitsgerichte', 0.6143701076507568)]"
            ]
          },
          "metadata": {},
          "execution_count": 27
        }
      ]
    },
    {
      "cell_type": "code",
      "source": [
        "ddrW2V.most_similar('ausländer')"
      ],
      "metadata": {
        "colab": {
          "base_uri": "https://localhost:8080/"
        },
        "id": "rgdw2ix_lgGy",
        "outputId": "b6acd6c5-693b-47a5-9e4e-6f9f7409e771"
      },
      "execution_count": 33,
      "outputs": [
        {
          "output_type": "execute_result",
          "data": {
            "text/plain": [
              "[('asylbewerber', 0.8325113654136658),\n",
              " ('flüchtlinge', 0.8222546577453613),\n",
              " ('türken', 0.7191354036331177),\n",
              " ('muslime', 0.7135838866233826),\n",
              " ('männer', 0.7063708305358887),\n",
              " ('jugendliche', 0.6943244934082031),\n",
              " ('ausländern', 0.6855872273445129),\n",
              " ('christen', 0.6757628917694092),\n",
              " ('kurden', 0.6743342876434326),\n",
              " ('zuwanderer', 0.6730271577835083)]"
            ]
          },
          "metadata": {},
          "execution_count": 33
        }
      ]
    },
    {
      "cell_type": "code",
      "source": [
        "ddrW2V.most_similar('kommunismus')"
      ],
      "metadata": {
        "colab": {
          "base_uri": "https://localhost:8080/"
        },
        "id": "Bu7SyRMUlsc2",
        "outputId": "4b9b81b3-d598-46a9-d2af-18a1bacad1a0"
      },
      "execution_count": 36,
      "outputs": [
        {
          "output_type": "execute_result",
          "data": {
            "text/plain": [
              "[('sozialismus', 0.809930682182312),\n",
              " ('faschismus', 0.7722556591033936),\n",
              " ('kapitalismus', 0.7694765329360962),\n",
              " ('krieges', 0.7385677099227905),\n",
              " ('hitler', 0.7207187414169312),\n",
              " ('zusammenbruch', 0.7151106595993042),\n",
              " ('totalitarismus', 0.7024784088134766),\n",
              " ('untergang', 0.702152669429779),\n",
              " ('kalten', 0.699565589427948),\n",
              " ('sturz', 0.6961703300476074)]"
            ]
          },
          "metadata": {},
          "execution_count": 36
        }
      ]
    },
    {
      "cell_type": "code",
      "source": [
        "ddrW2V.most_similar('sozialismus')"
      ],
      "metadata": {
        "colab": {
          "base_uri": "https://localhost:8080/"
        },
        "id": "9Q2YcAdVl1p-",
        "outputId": "8679e9d4-bcd0-495f-f3e2-5244bcbc1a18"
      },
      "execution_count": 37,
      "outputs": [
        {
          "output_type": "execute_result",
          "data": {
            "text/plain": [
              "[('kommunismus', 0.8099306225776672),\n",
              " ('kapitalismus', 0.6851324439048767),\n",
              " ('planwirtschaft', 0.6698181629180908),\n",
              " ('zusammenbruch', 0.6329454183578491),\n",
              " ('mißwirtschaft', 0.6258171796798706),\n",
              " ('kommunistischen', 0.6208592653274536),\n",
              " ('real', 0.6191256046295166),\n",
              " ('faschismus', 0.6148935556411743),\n",
              " ('kalten', 0.6146227121353149),\n",
              " ('herrschaft', 0.6090492010116577)]"
            ]
          },
          "metadata": {},
          "execution_count": 37
        }
      ]
    },
    {
      "cell_type": "code",
      "source": [
        "ddrW2V.most_similar('faschismus')"
      ],
      "metadata": {
        "colab": {
          "base_uri": "https://localhost:8080/"
        },
        "id": "dYM7Qm9vl4JS",
        "outputId": "bda5fe27-3146-4d87-95e4-fe9541364d68"
      },
      "execution_count": 38,
      "outputs": [
        {
          "output_type": "execute_result",
          "data": {
            "text/plain": [
              "[('stalinismus', 0.8288543224334717),\n",
              " ('völkermord', 0.8162961602210999),\n",
              " ('totalitarismus', 0.816228985786438),\n",
              " ('nationalsozialisten', 0.7886788249015808),\n",
              " ('nationalsozialismus', 0.7847617268562317),\n",
              " ('widerstands', 0.7828447222709656),\n",
              " ('sturz', 0.7735012769699097),\n",
              " ('kommunismus', 0.7722555994987488),\n",
              " ('volksaufstandes', 0.7634817361831665),\n",
              " ('faschistischen', 0.7599637508392334)]"
            ]
          },
          "metadata": {},
          "execution_count": 38
        }
      ]
    },
    {
      "cell_type": "code",
      "source": [
        "ddrW2V.most_similar('fdj')"
      ],
      "metadata": {
        "colab": {
          "base_uri": "https://localhost:8080/"
        },
        "id": "mU00JtDKl6Ss",
        "outputId": "ad107d3c-4dc0-4182-f372-ecb23c3de5e5"
      },
      "execution_count": 39,
      "outputs": [
        {
          "output_type": "execute_result",
          "data": {
            "text/plain": [
              "[('nsdap', 0.797605574131012),\n",
              " ('bezirksleitung', 0.7969170808792114),\n",
              " ('staatspartei', 0.7842071056365967),\n",
              " ('ldpd', 0.7716515064239502),\n",
              " ('bürgerrechtler', 0.7691270709037781),\n",
              " ('volkspolizei', 0.7672082185745239),\n",
              " ('staatsratsvorsitzenden', 0.7628517150878906),\n",
              " ('kpd', 0.7619377970695496),\n",
              " ('ndpd', 0.7611520290374756),\n",
              " ('angehörten', 0.7553227543830872)]"
            ]
          },
          "metadata": {},
          "execution_count": 39
        }
      ]
    },
    {
      "cell_type": "code",
      "source": [
        "#which word matches the others the least in a string of words?\n",
        "ddrW2V.doesnt_match(['ostdeutschland', 'ddr', 'stasi', 'ostalgie', 'ossi'])"
      ],
      "metadata": {
        "colab": {
          "base_uri": "https://localhost:8080/",
          "height": 35
        },
        "id": "6EUvbVbSvHpI",
        "outputId": "dc90bad0-6228-4eb5-b1ae-52bd51643aa3"
      },
      "execution_count": 26,
      "outputs": [
        {
          "output_type": "execute_result",
          "data": {
            "text/plain": [
              "'ostdeutschland'"
            ],
            "application/vnd.google.colaboratory.intrinsic+json": {
              "type": "string"
            }
          },
          "metadata": {},
          "execution_count": 26
        }
      ]
    },
    {
      "cell_type": "markdown",
      "source": [
        "Find which word best matches the result of a semantic equation (here, we seek the words whose vectors best fit the missing entry from the equation: X + Y - Z = _."
      ],
      "metadata": {
        "id": "3ajAuFoRvk2b"
      }
    },
    {
      "cell_type": "code",
      "source": [
        "ddrW2V.most_similar(positive=['ddr', 'honecker'], negative = ['freiheit'])"
      ],
      "metadata": {
        "colab": {
          "base_uri": "https://localhost:8080/"
        },
        "id": "YINJau8nvkiv",
        "outputId": "1ef85cbc-2dad-49e2-9ffd-98145f01d2c4"
      },
      "execution_count": 40,
      "outputs": [
        {
          "output_type": "execute_result",
          "data": {
            "text/plain": [
              "[('modrow', 0.6364411115646362),\n",
              " ('erich', 0.6108534336090088),\n",
              " ('ddr-', 0.5938221216201782),\n",
              " ('ulbricht', 0.5893762111663818),\n",
              " ('nva', 0.5790137052536011),\n",
              " ('veb', 0.5789828300476074),\n",
              " ('lpgs', 0.5777294635772705),\n",
              " ('mielke', 0.5753769278526306),\n",
              " ('honeckers', 0.5677607655525208),\n",
              " ('loest', 0.5673772096633911)]"
            ]
          },
          "metadata": {},
          "execution_count": 40
        }
      ]
    },
    {
      "cell_type": "code",
      "source": [
        "ddrW2V.most_similar(positive=['ostalgie', 'wende'], negative = ['reichtum'])"
      ],
      "metadata": {
        "colab": {
          "base_uri": "https://localhost:8080/"
        },
        "id": "d18jcAKjwt9S",
        "outputId": "9e5c22a3-59ab-45ff-e0ad-a8d1be91a46f"
      },
      "execution_count": 41,
      "outputs": [
        {
          "output_type": "execute_result",
          "data": {
            "text/plain": [
              "[('richtigstellung', 0.5760782957077026),\n",
              " ('maueröffnung', 0.574425220489502),\n",
              " ('diätenerhöhung', 0.5642131567001343),\n",
              " ('rückfrage', 0.5642070770263672),\n",
              " ('auslandsreise', 0.5616757869720459),\n",
              " ('ministerpräsidentenkonferenz', 0.5562148690223694),\n",
              " ('vergangenem', 0.5541509389877319),\n",
              " ('kontenklärung', 0.5541438460350037),\n",
              " ('wiedereinsetzung', 0.5525339841842651),\n",
              " ('entnazifizierung', 0.5524466633796692)]"
            ]
          },
          "metadata": {},
          "execution_count": 41
        }
      ]
    },
    {
      "cell_type": "markdown",
      "source": [
        "visualize the vectors (on a smaller subset)"
      ],
      "metadata": {
        "id": "b8F08FWYw_44"
      }
    },
    {
      "cell_type": "code",
      "source": [
        "numWords = 150\n",
        "targetWords = ddrW2V.wv.index2word[:numWords]"
      ],
      "metadata": {
        "id": "i-FmB7DGxDpA"
      },
      "execution_count": 42,
      "outputs": []
    },
    {
      "cell_type": "code",
      "source": [
        "wordsSubMatrix = []\n",
        "for word in targetWords:\n",
        "    wordsSubMatrix.append(ddrW2V[word])\n",
        "wordsSubMatrix = np.array(wordsSubMatrix)\n",
        "wordsSubMatrix"
      ],
      "metadata": {
        "id": "w9GeX8TFxH97",
        "colab": {
          "base_uri": "https://localhost:8080/"
        },
        "outputId": "3a2d242f-8d61-42ec-f594-1155f7630c2f"
      },
      "execution_count": 43,
      "outputs": [
        {
          "output_type": "execute_result",
          "data": {
            "text/plain": [
              "array([[-0.46407172,  1.198255  ,  1.3679209 , ..., -0.37612396,\n",
              "        -0.83945346,  0.5724367 ],\n",
              "       [ 0.03533547,  0.41874248,  1.0611646 , ...,  0.47299752,\n",
              "        -0.7778466 ,  0.39735064],\n",
              "       [ 1.1340708 , -0.5927741 ,  1.3223621 , ..., -0.9226398 ,\n",
              "         0.06143441, -0.07065785],\n",
              "       ...,\n",
              "       [ 1.0162663 , -1.9849477 ,  0.76128614, ..., -1.6259623 ,\n",
              "         0.38489884,  0.22662427],\n",
              "       [ 0.6119882 , -0.2836245 ,  1.3745608 , ..., -1.5781192 ,\n",
              "        -0.42546853,  0.45123067],\n",
              "       [-0.8607254 , -0.58206105,  2.4009187 , ...,  0.2690782 ,\n",
              "        -1.0328863 ,  1.3634858 ]], dtype=float32)"
            ]
          },
          "metadata": {},
          "execution_count": 43
        }
      ]
    },
    {
      "cell_type": "code",
      "source": [
        "pcaWords = sklearn.decomposition.PCA(n_components = 100).fit(wordsSubMatrix)\n",
        "reducedPCA_data = pcaWords.transform(wordsSubMatrix)\n",
        "#T-SNE is theoretically better, but you should experiment\n",
        "tsneWords = sklearn.manifold.TSNE(n_components = 2).fit_transform(reducedPCA_data)"
      ],
      "metadata": {
        "id": "3Qf323X-xMKT"
      },
      "execution_count": 48,
      "outputs": []
    },
    {
      "cell_type": "code",
      "source": [
        "fig = plt.figure(figsize = (10,6))\n",
        "ax = fig.add_subplot(111)\n",
        "ax.set_frame_on(False)\n",
        "plt.scatter(tsneWords[:, 0], tsneWords[:, 1], alpha = 0)#Making the points invisible \n",
        "for i, word in enumerate(targetWords):\n",
        "    ax.annotate(word, (tsneWords[:, 0][i],tsneWords[:, 1][i]), size =  20 * (numWords - i) / numWords)\n",
        "plt.xticks(())\n",
        "plt.yticks(())\n",
        "plt.show()"
      ],
      "metadata": {
        "id": "VxcQ2XbkxQgX",
        "colab": {
          "base_uri": "https://localhost:8080/",
          "height": 357
        },
        "outputId": "3515c17b-0b80-41ed-e7e0-2a1610e761e2"
      },
      "execution_count": 49,
      "outputs": [
        {
          "output_type": "display_data",
          "data": {
            "text/plain": [
              "<Figure size 720x432 with 1 Axes>"
            ],
            "image/png": "[encoded data removed]"
          },
          "metadata": {}
        }
      ]
    },
    {
      "cell_type": "markdown",
      "source": [
        "### Doc2Vec"
      ],
      "metadata": {
        "id": "JORO6CwVxgbg"
      }
    },
    {
      "cell_type": "code",
      "source": [
        "#define keywords -- use the same ones we subsetted for \n",
        "keywords = ['ddr', 'sozialismus', 'ostdeutschland', 'ostalgie', 'ossi', 'sed', 'agnes', 'stasi']"
      ],
      "metadata": {
        "id": "ug0NymCTxjZF"
      },
      "execution_count": 79,
      "outputs": []
    },
    {
      "cell_type": "code",
      "source": [
        "taggedDocs = []\n",
        "for index, row in subset_df.iterrows():\n",
        "    #Just doing a simple keyword assignment\n",
        "    docKeywords = [s for s in keywords if s in row['normalized_tokens']]\n",
        "    docKeywords.append(row['date'])\n",
        "    docKeywords.append(row['id']) #This lets us extract individual documnets since doi's are unique\n",
        "    taggedDocs.append(gensim.models.doc2vec.LabeledSentence(words = row['normalized_tokens'], tags = docKeywords))\n",
        "subset_df['TaggedAbstracts'] = taggedDocs"
      ],
      "metadata": {
        "id": "QfIXb0Gxx9iI"
      },
      "execution_count": 51,
      "outputs": []
    },
    {
      "cell_type": "code",
      "source": [
        "#train doc2vec model\n",
        "ddrD2V = gensim.models.doc2vec.Doc2Vec(subset_df['TaggedAbstracts'], size = 100) #Limiting to 100 dimensions"
      ],
      "metadata": {
        "colab": {
          "base_uri": "https://localhost:8080/"
        },
        "id": "lJIO9x4IyiVR",
        "outputId": "9aadd0fa-22e3-4a62-b611-ffe6cc690704"
      },
      "execution_count": 52,
      "outputs": [
        {
          "output_type": "stream",
          "name": "stderr",
          "text": [
            "/usr/local/lib/python3.7/dist-packages/gensim/models/doc2vec.py:570: UserWarning: The parameter `size` is deprecated, will be removed in 4.0.0, use `vector_size` instead.\n",
            "  warnings.warn(\"The parameter `size` is deprecated, will be removed in 4.0.0, use `vector_size` instead.\")\n"
          ]
        }
      ]
    },
    {
      "cell_type": "code",
      "source": [
        "ddrD2V.docvecs.most_similar([ ddrD2V['ddr'] ], topn=5 )"
      ],
      "metadata": {
        "colab": {
          "base_uri": "https://localhost:8080/"
        },
        "id": "EmTGJPP21Ttb",
        "outputId": "bce43c96-d328-4dfb-b968-e0bd69f4bf6a"
      },
      "execution_count": 53,
      "outputs": [
        {
          "output_type": "execute_result",
          "data": {
            "text/plain": [
              "[('ddr', 1.0),\n",
              " ('ostdeutschland', 0.7606908082962036),\n",
              " (469136, 0.7502638101577759),\n",
              " (1042105, 0.7446686029434204),\n",
              " ('2019-10-23', 0.7267827987670898)]"
            ]
          },
          "metadata": {},
          "execution_count": 53
        }
      ]
    },
    {
      "cell_type": "code",
      "source": [
        "#plot words and documents against each other in heatmap\n",
        "heatmapMatrix = []\n",
        "for tagOuter in keywords:\n",
        "    column = []\n",
        "    tagVec = ddrD2V.docvecs[tagOuter].reshape(1, -1)\n",
        "    for tagInner in keywords:\n",
        "        column.append(sklearn.metrics.pairwise.cosine_similarity(tagVec, ddrD2V.docvecs[tagInner].reshape(1, -1))[0][0])\n",
        "    heatmapMatrix.append(column)\n",
        "heatmapMatrix = np.array(heatmapMatrix)"
      ],
      "metadata": {
        "id": "iDIv1Uym2O4l"
      },
      "execution_count": 54,
      "outputs": []
    },
    {
      "cell_type": "code",
      "source": [
        "fig, ax = plt.subplots()\n",
        "hmap = ax.pcolor(heatmapMatrix, cmap='terrain')\n",
        "cbar = plt.colorbar(hmap)\n",
        "\n",
        "cbar.set_label('cosine similarity', rotation=270)\n",
        "a = ax.set_xticks(np.arange(heatmapMatrix.shape[1]) + 0.5, minor=False)\n",
        "a = ax.set_yticks(np.arange(heatmapMatrix.shape[0]) + 0.5, minor=False)\n",
        "\n",
        "a = ax.set_xticklabels(keywords, minor=False, rotation=270)\n",
        "a = ax.set_yticklabels(keywords, minor=False)"
      ],
      "metadata": {
        "colab": {
          "base_uri": "https://localhost:8080/",
          "height": 336
        },
        "id": "7y0e3ELo2aY9",
        "outputId": "1c1b316b-1bfc-4682-8f99-587d4642944e"
      },
      "execution_count": 55,
      "outputs": [
        {
          "output_type": "display_data",
          "data": {
            "text/plain": [
              "<Figure size 432x288 with 2 Axes>"
            ],
            "image/png": "[encoded data removed]"
          },
          "metadata": {
            "needs_background": "light"
          }
        }
      ]
    },
    {
      "cell_type": "code",
      "source": [
        "#heatmap of similarities between the first ten speeches\n",
        "targetDocs = subset_df['id'][10000:10010]\n",
        "\n",
        "heatmapMatrixD = []\n",
        "\n",
        "for tagOuter in targetDocs:\n",
        "    column = []\n",
        "    tagVec = ddrD2V.docvecs[tagOuter].reshape(1, -1)\n",
        "    for tagInner in targetDocs:\n",
        "        column.append(sklearn.metrics.pairwise.cosine_similarity(tagVec, ddrD2V.docvecs[tagInner].reshape(1, -1))[0][0])\n",
        "    heatmapMatrixD.append(column)\n",
        "heatmapMatrixD = np.array(heatmapMatrixD)"
      ],
      "metadata": {
        "id": "80lKZ4s82pxb"
      },
      "execution_count": 75,
      "outputs": []
    },
    {
      "cell_type": "code",
      "source": [
        "fig, ax = plt.subplots()\n",
        "hmap = ax.pcolor(heatmapMatrixD, cmap='terrain')\n",
        "cbar = plt.colorbar(hmap)\n",
        "\n",
        "cbar.set_label('cosine similarity', rotation=270)\n",
        "a = ax.set_xticks(np.arange(heatmapMatrixD.shape[1]) + 0.5, minor=False)\n",
        "a = ax.set_yticks(np.arange(heatmapMatrixD.shape[0]) + 0.5, minor=False)\n",
        "\n",
        "a = ax.set_xticklabels(targetDocs, minor=False, rotation=270)\n",
        "a = ax.set_yticklabels(targetDocs, minor=False)"
      ],
      "metadata": {
        "colab": {
          "base_uri": "https://localhost:8080/",
          "height": 297
        },
        "id": "IV74300g28OB",
        "outputId": "75c3751b-f1b6-4d3e-b789-f9fb2301cd3a"
      },
      "execution_count": 77,
      "outputs": [
        {
          "output_type": "display_data",
          "data": {
            "text/plain": [
              "<Figure size 432x288 with 2 Axes>"
            ],
            "image/png": "[encoded data removed]"
          },
          "metadata": {
            "needs_background": "light"
          }
        }
      ]
    },
    {
      "cell_type": "code",
      "source": [
        "#heatmap of similarities between first ten documents and our keywords\n",
        "heatmapMatrixC = []\n",
        "\n",
        "for tagOuter in targetDocs:\n",
        "    column = []\n",
        "    tagVec = ddrD2V.docvecs[tagOuter].reshape(1, -1)\n",
        "    for tagInner in keywords:\n",
        "        column.append(sklearn.metrics.pairwise.cosine_similarity(tagVec, ddrD2V.docvecs[tagInner].reshape(1, -1))[0][0])\n",
        "    heatmapMatrixC.append(column)\n",
        "heatmapMatrixC = np.array(heatmapMatrixC)"
      ],
      "metadata": {
        "id": "UGmtmX983IBx"
      },
      "execution_count": 80,
      "outputs": []
    },
    {
      "cell_type": "code",
      "source": [
        "fig, ax = plt.subplots()\n",
        "hmap = ax.pcolor(heatmapMatrixC, cmap='terrain')\n",
        "cbar = plt.colorbar(hmap)\n",
        "\n",
        "cbar.set_label('cosine similarity', rotation=270)\n",
        "a = ax.set_xticks(np.arange(heatmapMatrixC.shape[1]) + 0.5, minor=False)\n",
        "a = ax.set_yticks(np.arange(heatmapMatrixC.shape[0]) + 0.5, minor=False)\n",
        "\n",
        "a = ax.set_xticklabels(keywords, minor=False, rotation=270)\n",
        "a = ax.set_yticklabels(targetDocs, minor=False)"
      ],
      "metadata": {
        "colab": {
          "base_uri": "https://localhost:8080/",
          "height": 332
        },
        "id": "KUwwxAcY3S2U",
        "outputId": "a4e97772-fd12-4289-d2d9-5e4f385c0700"
      },
      "execution_count": 81,
      "outputs": [
        {
          "output_type": "display_data",
          "data": {
            "text/plain": [
              "<Figure size 432x288 with 2 Axes>"
            ],
            "image/png": "[encoded data removed]"
          },
          "metadata": {
            "needs_background": "light"
          }
        }
      ]
    },
    {
      "cell_type": "code",
      "source": [
        "#save model just in case\n",
        "ddrD2V.save('ddrW2V')\n",
        "#uncomment next line to load it\n",
        "#ddrD2V = gensim.models.word2vec.Word2Vec.load('data/ddrW2V')"
      ],
      "metadata": {
        "id": "Nv_Et9L63XfZ"
      },
      "execution_count": null,
      "outputs": []
    },
    {
      "cell_type": "markdown",
      "source": [
        "### Topic Modeling with Word2Vec"
      ],
      "metadata": {
        "id": "XwzqlBMl3ylo"
      }
    },
    {
      "cell_type": "code",
      "source": [
        "w2v = ddrW2V"
      ],
      "metadata": {
        "id": "31zA3Eej36t4"
      },
      "execution_count": 60,
      "outputs": []
    },
    {
      "cell_type": "code",
      "source": [
        "def do_aksvd(w2vmodel, n_comp, n_nonzeros, save=False, savelocation='drive/MyDrive/SOCI40133/'): \n",
        "    #https://github.com/nel215/ksvd #takes about 2 min on Alina's laptop for 30 atoms \n",
        "    aksvd_t = ApproximateKSVD(n_components=n_comp, transform_n_nonzero_coefs=n_nonzeros) #also may adjuste n iter which is default at 10, and tolerance for error which is default at  tol=1e-6 #n_components is number of discourse atoms, since vocab size is smallish, keep this fewer. transform_n is the number of atoms (components) that a word can be a linear combo of\n",
        "    dictionary_t = aksvd_t.fit(w2vmodel.wv.vectors).components_ # Dictionary is the matrix of discourse atoms. \n",
        "    alpha_t = aksvd_t.transform(w2vmodel.wv.vectors) #get the alphas, which are the \"weights\" of each word on a discourse atoms\n",
        "\n",
        "    if save==True:\n",
        "        outfile = open(str(savelocation) + '200d_' + str(n_comp) + 'comp' + str(n_nonzeros) + 'nonzeros_aksvd_nvdrsdf20','wb')\n",
        "        pickle.dump(aksvd_t,outfile)\n",
        "        outfile.close()\n",
        "        \n",
        "        outfile = open(str(savelocation) + '200d_' +str(n_comp) + 'comp' + str(n_nonzeros) + 'nonzeros_dictionary_nvdrsdf20','wb')\n",
        "        pickle.dump(dictionary_t,outfile)\n",
        "        outfile.close()\n",
        "        \n",
        "        outfile = open(str(savelocation) + '200d_' + str(n_comp) + 'comp' + str(n_nonzeros) + 'nonzeros_alpha_nvdrsdf20','wb')\n",
        "        pickle.dump(alpha_t,outfile)\n",
        "        outfile.close()\n",
        "    return(dictionary_t, alpha_t)"
      ],
      "metadata": {
        "id": "j5FyPkUE4gzi"
      },
      "execution_count": 61,
      "outputs": []
    },
    {
      "cell_type": "code",
      "source": [
        "def reconst_qual(w2vmodel, dictionary_mat, alpha_mat):\n",
        "    #reconstruct the word vectors\n",
        "    reconstructed = alpha_mat.dot(dictionary_mat) #reconstruct word vectors and add back in mean(?). but note that reconstructed norm is still around 0-1, not 1, is that an issue?\n",
        "    #e1 = norm(w2vmodel.wv.vectors - reconstructed) #total reconstruction error, larger means MORE error. norm as specified here takes frobenius norm of error matrix.\n",
        "\n",
        "\n",
        "    #total VARIANCE in the data: sum of squares \n",
        "    squares3= w2vmodel.wv.vectors-np.mean(w2vmodel.wv.vectors, axis=1).reshape(-1,1) #https://dziganto.github.io/data%20science/linear%20regression/machine%20learning/python/Linear-Regression-101-Metrics/\n",
        "    #sst3= np.sum([i.dot(i) for i in squares3] ) #same as below\n",
        "\n",
        "    sst3= np.sum(np.square(squares3))\n",
        "\n",
        "\n",
        "    #total sum of squared ERRORS/residuals\n",
        "    e3= [reconstructed[i]-w2vmodel.wv.vectors[i] for i in range(0,len(w2vmodel.wv.vectors))]  #https://dziganto.github.io/data%20science/linear%20regression/machine%20learning/python/Linear-Regression-101-Metrics/\n",
        "    #sse3= np.sum([i.dot(i) for i in e3] ) #same as below\n",
        "    sse3= np.sum(np.square(e3))\n",
        "\n",
        "    #R^2: 1- (SSE / SST )\n",
        "    r2= 1- (sse3 /  sst3) #https://stats.stackexchange.com/questions/184603/in-pca-what-is-the-connection-between-explained-variance-and-squared-error\n",
        "\n",
        "\n",
        "    #compute root mean square error\n",
        "    rmse=  math.sqrt(np.mean(np.square(e3)))\n",
        "\n",
        "\n",
        "\n",
        "    return(sse3, rmse, r2) #https://stats.stackexchange.com/questions/184603/in-pca-what-is-the-connection-between-explained-variance-and-squared-error"
      ],
      "metadata": {
        "id": "J1FL3P_G4wkB"
      },
      "execution_count": 62,
      "outputs": []
    },
    {
      "cell_type": "code",
      "source": [
        "#topic diversity (% unique words among total closest 25 words to each atom)\n",
        "def topic_diversity(w2vmodel, dictionary_mat, top_n=25):\n",
        "\n",
        "    topwords=[] #list of list, each innter list includes top N words in that topic\n",
        "\n",
        "    for i in range(0, len(dictionary_mat)): #set to number of total topics\n",
        "        topwords.extend([i[0] for i in w2vmodel.wv.similar_by_vector(dictionary_mat[i],topn=top_n)]) #set for top N words \n",
        "        #print(w2vmodel.wv.similar_by_vector(dictionary[i],topn=N))\n",
        "\n",
        "    uniquewords= set(topwords)\n",
        "    diversity = len(uniquewords)/len(topwords)\n",
        "    return(diversity)"
      ],
      "metadata": {
        "id": "vHuQcq_342W9"
      },
      "execution_count": 63,
      "outputs": []
    },
    {
      "cell_type": "code",
      "source": [
        "dictionary, alpha = do_aksvd(w2v, 150, 5, save=True)"
      ],
      "metadata": {
        "id": "oG_Zc-FJ46lz"
      },
      "execution_count": 64,
      "outputs": []
    },
    {
      "cell_type": "code",
      "source": [
        "topic_diversity(w2v, dictionary, top_n=25)"
      ],
      "metadata": {
        "colab": {
          "base_uri": "https://localhost:8080/"
        },
        "id": "J5DhruXW4932",
        "outputId": "18dd4d5d-e65b-47c4-d141-62317d4041fa"
      },
      "execution_count": 65,
      "outputs": [
        {
          "output_type": "execute_result",
          "data": {
            "text/plain": [
              "0.9088"
            ]
          },
          "metadata": {},
          "execution_count": 65
        }
      ]
    },
    {
      "cell_type": "code",
      "source": [
        "reconst_qual(w2v, dictionary, alpha)"
      ],
      "metadata": {
        "colab": {
          "base_uri": "https://localhost:8080/"
        },
        "id": "MGJbi6jP5AQB",
        "outputId": "4b8f3636-403a-4064-8c4a-894a069d47d9"
      },
      "execution_count": 66,
      "outputs": [
        {
          "output_type": "execute_result",
          "data": {
            "text/plain": [
              "(155864.83268527716, 0.16154456599115924, 0.7128421451141711)"
            ]
          },
          "metadata": {},
          "execution_count": 66
        }
      ]
    },
    {
      "cell_type": "code",
      "source": [
        "for i in range(0, len(dictionary)):\n",
        "    print(\"Discourse_Atom \" + str(i))\n",
        "    print([i[0] for i in w2v.wv.similar_by_vector(dictionary[i],topn=25)]) #what are the most similar words to the Nth\n",
        "    #print([i[0] for i in w2vmodel.wv.similar_by_vector(-dictionary[i],topn=25)]) #what are the most similar words to the Nth dicourse atom?\n",
        "    print('\\n')\n"
      ],
      "metadata": {
        "colab": {
          "base_uri": "https://localhost:8080/"
        },
        "id": "hRwDN5WB5Dnq",
        "outputId": "cab321ef-d23d-4903-c8b7-44a5d23751a8"
      },
      "execution_count": 67,
      "outputs": [
        {
          "output_type": "stream",
          "name": "stdout",
          "text": [
            "Discourse_Atom 0\n",
            "['sehr', 'relativ', 'ziemlich', 'unendlich', 'außerordentlich', 'ungeheuer', 'äußerst', 'genug', 'unglaublich', 'allzu', 'unheimlich', 'wahnsinnig', 'besonders', 'genauso', 'extrem', 'höchst', 'verdammt', 'sonderlich', 'ganz', 'erschreckend', 'überaus', 'ungewöhnlich', 'einigermaßen', 'vergleichsweise', 'wie']\n",
            "\n",
            "\n",
            "Discourse_Atom 1\n",
            "['gesetzliche', 'gesetzlich', 'ausgleichsleistungen', 'garantierten', 'entschädigung', 'geltende', 'erhalten', 'garantiert', 'garantierte', 'asyl', 'einheitliche', 'geltenden', 'gewährt', 'entschädigungsleistungen', 'erworbener', 'grundgesetzlich', 'mindestrente', 'gesetzlichen', 'beitragsbezogenen', 'eigenständige', 'beitragsbezogenheit', 'gesicherte', 'ansprüche', 'faktisch', 'enteigneten']\n",
            "\n",
            "\n",
            "Discourse_Atom 2\n",
            "['zuschüsse', 'fördermittel', 'private', 'betriebliche', 'bundesmittel', 'personal', 'bauland', 'milliardenhöhe', 'gebühren', 'dienstleistungen', 'arbeitsbeschaffungsmaßnahmen', 'investitionszulagen', 'darlehen', 'bereitzustellen', 'aufträge', 'kredite', 'eigenkapital', 'investitionen', 'wohneigentum', 'wohnraum', 'energie', 'bürgschaften', 'lohnkostenzuschüsse', 'subventionen', 'bereitstellen']\n",
            "\n",
            "\n",
            "Discourse_Atom 3\n",
            "['ihren', 'unseren', 'seinen', 'den', 'diesen', 'jenen', 'ihrem', 'welchen', 'seinem', 'denselben', 'meinem', 'irgendwelchen', 'dem', 'meinen', 'manchen', 'großem', 'neuem', 'einigem', 'unserem', 'denjenigen', 'absolutem', 'einen', 'politischem', 'vielen', 'manchem']\n",
            "\n",
            "\n",
            "Discourse_Atom 4\n",
            "['damen', 'vorrednerin', 'kolleginnen', 'vorrednerinnen', 'redezeit', 'güte', 'lieben', 'vorredner', 'hochachtung', 'nichtchristen', 'hauptkritik', 'begriffe', 'herzliche', 'schlussbemerkung', 'eingangsbemerkung', 'fraktionskollegin', 'fraktion', 'trotzdem', 'verehrten', 'verwunderung', 'großmutter', 'dennoch', 'oma', 'heimatregion', 'kritik']\n",
            "\n",
            "\n",
            "Discourse_Atom 5\n",
            "['sinnvolle', 'langfristige', 'wirksame', 'effektive', 'saubere', 'vernünftige', 'dauerhafte', 'verlässliche', 'grundlegende', 'angemessene', 'kontinuierliche', 'umfassende', 'verläßliche', 'ausreichende', 'echte', 'durchgreifende', 'schnelle', 'sachgerechte', 'realistische', 'effiziente', 'spezielle', 'gerechte', 'wirkliche', 'tragfähige', 'spezifische']\n",
            "\n",
            "\n",
            "Discourse_Atom 6\n",
            "['haben', 'hat', 'hätten', 'hatten', 'hatte', 'hätte', 'wurde', 'worden', 'vorher', 'habe', 'längst', 'jemals', 'damals', 'zuvor', 'bislang', 'früher', 'wurden', 'nachdem', 'rechtzeitig', 'werden', 'jahrelang', 'bisher', 'ursprünglich', 'regierungsverantwortung', 'wird']\n",
            "\n",
            "\n",
            "Discourse_Atom 7\n",
            "['weigern', 'erschließt', 'richtet', 'häufen', 'abzeichnenden', 'reiht', 'beläuft', 'rächt', 'weigert', 'dreht', 'unterscheidet', 'erweist', 'belief', 'vollzieht', 'wendet', 'lohnt', 'äußert', 'änderte', 'zeichnet', 'befanden', 'versündigt', 'spiegelt', 'verbietet', 'eignet', 'verhält']\n",
            "\n",
            "\n",
            "Discourse_Atom 8\n",
            "['appellieren', 'fangen', 'lehnen', 'begrüßen', 'packen', 'bräuchten', 'fordern', 'kennen', 'möchten', 'hoffen', 'verdanken', 'brauchen', 'dachten', 'wünschen', 'merken', 'verkennen', 'unterstützen', 'befürworten', 'beabsichtigen', 'bejahen', 'kritisieren', 'bedauern', 'beklagen', 'muten', 'erleben']\n",
            "\n",
            "\n",
            "Discourse_Atom 9\n",
            "['zunehmender', 'politischem', 'wirtschaftlicher', 'ökonomischer', 'sozialer', 'menschlicher', 'materieller', 'wachsender', 'rechtsstaatlicher', 'orientierten', 'äußerster', 'massiver', 'familiärer', 'strikter', 'veränderter', 'kultureller', 'weltweiter', 'dezentraler', 'sozialem', 'ständiger', 'administrativer', 'parteipolitischer', 'doppelter', 'ökologischer', 'personeller']\n",
            "\n",
            "\n",
            "Discourse_Atom 10\n",
            "['wehrkraft', 'vergünstigten', 'school', 'handlungsdruck', 'sogenanntem', 'auftragsvolumen', 'arbeitgeberverband', 'nettotransfer', 'tariffreibetrag', 'deutlicheren', 'leistungsausgleich', 'elefant', 'gesichtsausdruck', 'zweit-', 'betriebsergebnis', 'sechsmonatigen', 'abschiebungs-', 'ghana', 'abrupten', 'wurmfortsatz', 'durchbricht', 'ausweisungsmaßnahmen', 'straßennamen', 'beelzebub', 'durchgängigen']\n",
            "\n",
            "\n",
            "Discourse_Atom 11\n",
            "['medizinischen', 'ambulanten', 'stationären', 'betrieblichen', 'überbetrieblichen', 'vorhandener', 'land-', 'technischen', 'hochwertigen', 'dezentralen', 'personellen', 'industrieller', 'bestehender', 'genossenschaftlichen', 'privater', 'beruflicher', 'landwirtschaftlicher', 'ärztlichen', 'gesundheitlichen', 'zivilen', 'kindertagesstätten', 'gemeinnützigen', 'infrastrukturellen', 'organisatorischen', 'betrieblicher']\n",
            "\n",
            "\n",
            "Discourse_Atom 12\n",
            "['nachdenkt', 'nachzudenken', 'hinausgehende', 'hinausgehenden', 'hinwegsehen', 'nachgedacht', 'hinausgehen', 'wachen', 'hinwegzugehen', 'hinweggehen', 'hinwegzutäuschen', 'nachdenke', 'hinausgeht', 'aufschluß', 'hinwegreden', 'nachdenken', 'diskutiert', 'hinwegtäuschen', 'diskutieren', 'abzustimmen', 'debattieren', 'debattiert', 'unterhalten', 'streiten', 'bestürzt']\n",
            "\n",
            "\n",
            "Discourse_Atom 13\n",
            "['angehen', 'annehmen', 'aushalten', 'funktionieren', 'stattfinden', 'mithelfen', 'weitergehen', 'hinnehmen', 'bewirken', 'durchsetzen', 'einsehen', 'eingreifen', 'sicherstellen', 'genügen', 'ausschließen', 'nachweisen', 'herstellen', 'aufrechterhalten', 'ausgleichen', 'erfolgen', 'vorangehen', 'weiterarbeiten', 'aussehen', 'eintreten', 'ansetzen']\n",
            "\n",
            "\n",
            "Discourse_Atom 14\n",
            "['weiterentwicklung', 'stabilisierung', 'umgestaltung', 'erneuerung', 'erhaltung', 'gestaltung', 'sicherstellung', 'sicherung', 'flankierung', 'absicherung', 'stärkung', 'steuerung', 'demokratisierung', 'erschließung', 'modernisierung', 'neuorientierung', 'gewährleistung', 'bewahrung', 'verstärkung', 'nutzung', 'verwirklichung', 'energieversorgung', 'vermittlung', 'vermarktung', 'belebung']\n",
            "\n",
            "\n",
            "Discourse_Atom 15\n",
            "['neubauten', 'sozialpläne', 'interessenten', 'abfindungen', 'behandlungen', 'lebensversicherungen', 'altbauten', 'kliniken', 'kläranlagen', 'bundesfernstraßen', 'pflegeeinrichtungen', 'pflanzenschutzmittel', 'preissteigerungen', 'unfälle', 'gewerbeflächen', 'abfall', 'treuhandbetriebe', 'aktiengesellschaften', 'neugründungen', 'mietwohnungen', 'entlassungen', 'beteiligungen', 'baugenehmigungen', 'rechtspfleger', 'plattenbauten']\n",
            "\n",
            "\n",
            "Discourse_Atom 16\n",
            "['werden', 'gesetzlich', 'unverzüglich', 'wurde', 'worden', 'afg', 'wird', 'vollständig', 'verbindlich', 'einigungsvertrag', 'gesetzgeber', 'rechtzeitig', 'einvernehmlich', 'hinreichend', 'zügig', 'entsprechend', 'umfassend', 'endgültig', 'ordnungsgemäß', 'umgehend', 'schnellstens', 'komplett', 'ersatzlos', 'wurden', 'einigungsvertrages']\n",
            "\n",
            "\n",
            "Discourse_Atom 17\n",
            "['terror', 'hitlers', 'unterdrückung', 'mord', 'unfreiheit', 'faschistische', 'rechtsextremer', 'repression', 'rassistische', 'nationalsozialistische', 'nazi', 'haß', 'begangenen', 'hass', 'stalinistischen', 'vertreibung', 'willkürherrschaft', 'hunger', 'gewaltherrschaft', 'massenmord', 'totalitärer', 'kommunistischer', 'stacheldraht', 'diktatoren', 'rechter']\n",
            "\n",
            "\n",
            "Discourse_Atom 18\n",
            "['zählen', 'gehören', 'gegenüber', 'dienen', 'überlassen', 'bei', 'dient', 'verpflichten', 'zwingt', 'zollen', 'verpflichtet', 'zwingen', 'bekennen', 'neben', 'führten', 'danken', 'von', 'diente', 'gehörte', 'beitrugen', 'unterliegen', 'zusteht', 'gebührt', 'befähigen', 'neigen']\n",
            "\n",
            "\n",
            "Discourse_Atom 19\n",
            "['rechtsstaatlichkeit', 'bürgerrechte', 'toleranz', 'brüderlichkeit', 'freiheitliche', 'demokratische', 'mitmenschlichkeit', 'stabilität', 'gleichheit', 'teilhabe', 'demokratie', 'freiheitlichen', 'freiheit', 'partizipation', 'selbstbestimmung', 'menschenwürde', 'geistige', 'menschenrechte', 'demokratischer', 'verläßlichkeit', 'eigenverantwortung', 'rechtsstaatliche', 'grundrechte', 'freiheitlich', 'äußeren']\n",
            "\n",
            "\n",
            "Discourse_Atom 20\n",
            "['tabaksteuer', 'gewerbeertragsteuer', 'bemessungsgrundlage', 'lohn-', 'gewerbesteuer', 'erbschaftsteuer', 'rückführung', 'körperschaftsteuer', 'einkommensteuer', 'senkung', 'anhebung', 'finanzhilfen', 'deckelung', 'ergänzungsabgabe', 'grundsteuer', 'zuzahlung', 'beitragsbemessungsgrenze', 'reduzierung', 'einspeisevergütung', 'absenkung', 'selbstbeteiligung', 'kürzung', 'abschreibung', 'degression', 'eigenheimzulage']\n",
            "\n",
            "\n",
            "Discourse_Atom 21\n",
            "['einnahmen', 'transferleistungen', 'steuereinnahmen', 'sozialleistungen', 'ausgaben', 'investitionen', 'subventionen', 'haushalte', 'mieten', 'transfers', 'sozialausgaben', 'preise', 'gewinne', 'lohnnebenkosten', 'personalkosten', 'kapazitäten', 'zinsen', 'einkommensteuer', 'fördermittel', 'kreditaufnahme', 'verschuldung', 'staatsausgaben', 'kredite', 'aufwendungen', 'arbeitskosten']\n",
            "\n",
            "\n",
            "Discourse_Atom 22\n",
            "['rüstungsgütern', 'komitees', 'intellektuellen', 'spanischen', 'autonomen', 'schalcks', 'sarajevo', 'volkspolizei', 'italienischen', 'fanatischen', 'kampfgruppen', 'völkischen', 'conference', 'geheimhaltung', 'säuberungen', 'nationalistischen', 'kontakten', 'staatspräsidenten', 'ministeriellen', 'sri', 'okkupation', 'kriegs-', 'idealen', 'funktionsträgern', 'kasernen']\n",
            "\n",
            "\n",
            "Discourse_Atom 23\n",
            "['unsinnig', 'absurd', 'unerträglich', 'nachvollziehbar', 'legitim', 'unredlich', 'beschämend', 'unverantwortlich', 'verständlich', 'machbar', 'angebracht', 'unstrittig', 'gerechtfertigt', 'vertretbar', 'hinnehmbar', 'logisch', 'akzeptabel', 'kontraproduktiv', 'verwunderlich', 'schlimm', 'wünschenswert', 'schade', 'wahr', 'verantwortbar', 'zumutbar']\n",
            "\n",
            "\n",
            "Discourse_Atom 24\n",
            "['müsse', 'könne', 'sollte', 'solle', 'müßte', 'müsste', 'muss', 'muß', 'könnte', 'kann', 'soll', 'dürfe', 'wolle', 'mußte', 'musste', 'konnte', 'darf', 'möge', 'mag', 'würde', 'dürfte', 'wollte', 'indem', 'läßt', 'durfte']\n",
            "\n",
            "\n",
            "Discourse_Atom 25\n",
            "['schlußfolgerungen', 'schlüsse', 'schlussfolgerungen', 'absichten', 'aussagen', 'formulierungen', 'daten', 'prognosen', 'analysen', 'behauptungen', 'untersuchungen', 'erfahrungen', 'erkenntnisse', 'feststellungen', 'überlegungen', 'ankündigungen', 'erwägungen', 'konsequenzen', 'fakten', 'indikatoren', 'bewertungen', 'lehren', 'positionen', 'meinungen', 'forderungen']\n",
            "\n",
            "\n",
            "Discourse_Atom 26\n",
            "['begrüße', 'begrüßen', 'hervorheben', 'eindringlich', 'begrüßt', 'dankbar', 'unterstreichen', 'bedauere', 'anmerken', 'betonen', 'nachdrücklich', 'bedaure', 'hoffe', 'bedanken', 'erwähnen', 'darauf', 'ausgeführt', 'froh', 'festgestellt', 'nochmals', 'unterstütze', 'ausdrücklich', 'mich', 'zuversichtlich', 'dankenswerterweise']\n",
            "\n",
            "\n",
            "Discourse_Atom 27\n",
            "['ja', 'da', 'leider', 'gar', 'aber', 'wahrscheinlich', 'doch', 'eben', 'eigentlich', 'offenbar', 'trotzdem', 'jedenfalls', 'natürlich', 'offensichtlich', 'überhaupt', 'sonst', 'vorher', 'sicherlich', 'hier', 'denn', 'jetzt', 'vielleicht', 'allerdings', 'dann', 'manchmal']\n",
            "\n",
            "\n",
            "Discourse_Atom 28\n",
            "['langsamer', 'größer', 'geringer', 'günstiger', 'komplizierter', 'höher', 'härter', 'niedriger', 'schlechter', 'schwächer', 'teurer', 'stärker', 'leichter', 'schärfer', 'deutlicher', 'weniger', 'besser', 'dramatischer', 'schlimmer', 'schneller', 'schwerer', 'schwieriger', 'problematischer', 'gravierender', 'ausgeprägter']\n",
            "\n",
            "\n",
            "Discourse_Atom 29\n",
            "['jahrzehnten', 'jahre', 'jahren', 'monate', 'jahrzehnte', 'monaten', 'legislaturperioden', 'wochen', 'endes', 'jahrhunderten', 'samstag', 'tage', 'jahrzehnt', 'dekade', 'sitzungswoche', 'stunden', 'bundestagswahl', 'jahrtausend', 'wochenende', 'wahlperiode', 'regierungsjahr', 'stufen', 'bastionen', 'tagen', 'jahrhunderts']\n",
            "\n",
            "\n",
            "Discourse_Atom 30\n",
            "['überzeugendes', 'ernsthaftes', 'stärkeres', 'eindeutiges', 'riesiges', 'solides', 'echtes', 'sinnvolles', 'allgemeines', 'spezielles', 'schlüssiges', 'gefährliches', 'eigenständiges', 'offenes', 'generelles', 'massives', 'ökologisches', 'integriertes', 'wunderbares', 'leichtes', 'modernes', 'gesamtdeutsches', 'tragfähiges', 'sicheres', 'ökonomisches']\n",
            "\n",
            "\n",
            "Discourse_Atom 31\n",
            "['parallel', 'genüge', 'ader', 'beiträgt', 'beizutragen', 'bekenntnis', 'chefsache', 'schau', 'hang', 'konfirmation', 'neigen', 'ddrzeit', 'linderung', 'wehr', 'verdeutlichung', 'steuervereinfachung', 'beitragen', 'disposition', 'friedensvereinbarung', 'beitrag', 'schuldentilgung', 'substanzerhaltung', 'besinnung', 'nachahmung', 'illustration']\n",
            "\n",
            "\n",
            "Discourse_Atom 32\n",
            "['kaum', 'keine', 'nichts', 'niemanden', 'keiner', 'nicht', 'niemand', 'nie', 'niemals', 'keinen', 'keinerlei', 'niemandem', 'nirgendwo', 'kein', 'weder', 'keines', 'manches', 'überhaupt', 'genügend', 'tatsächlich', 'keineswegs', 'jemals', 'keinesfalls', 'ebensowenig', 'vieles']\n",
            "\n",
            "\n",
            "Discourse_Atom 33\n",
            "['schicksal', 'gefühl', 'engagement', 'verständnis', 'volk', 'selbstbewusstsein', 'geschäft', 'vertrauen', 'bewußtsein', 'versprechen', 'gewicht', 'glück', 'risiko', 'leben', 'gemeinwesen', 'bild', 'werk', 'herz', 'selbstverständnis', 'erbe', 'menschenbild', 'privileg', 'unglück', 'selbstbewußtsein', 'gesicht']\n",
            "\n",
            "\n",
            "Discourse_Atom 34\n",
            "['dollar', 'dm', 'euro', 'tonnen', 'ecu', 'kilowattstunden', 't', 'ostmark', 'zig', 'liter', 'überstunden', 'hektar', 'kilowattstunde', 'co2', 'jährlich', 'einwohner', 'kubikmeter', 'telefonanschlüsse', 'quadratmeter', 'anschlüsse', 'cent', 'hunderte', 'arbeitsstunden', 'umts', 'erwerbstätige']\n",
            "\n",
            "\n",
            "Discourse_Atom 35\n",
            "['auswärtigen', 'federführende', 'auswärtiger', 'engem', 'diesem', 'auswärtige', 'mitberatend', 'unterstrichen', 'arbeitsgruppe', 'begrüßt', 'bekräftigt', 'eingeschlichen', 'enquete', 'einstimmige', 'federführend', 'wohnungspolitischem', 'unserem', 'betont', 'enquetekommission', 'regionalpolitische', 'bedanken', 'beauftragt', 'unmittelbarem', 'bundländer', 'hierfür']\n",
            "\n",
            "\n",
            "Discourse_Atom 36\n",
            "['west', 'ost', 'westdeutschland', 'rentenwert', 'abschwung', 'timor', 'stadtumbau', 'beteiligungsfonds', 'rentenwerte', 'süd', 'aufschwung', 'nachbau', 'nord', 'timors', 'ost-', 'timoresen', 'unten', 'westkonflikts', 'ostdeutschland', 'startbahn', 'lebensverhältnisse', 'west-', 'vorne', 'sonderwohngeld', 'westrenten']\n",
            "\n",
            "\n",
            "Discourse_Atom 37\n",
            "['vortragen', 'ansprechen', 'sätze', 'kurz', 'bemerkungen', 'anführen', 'erläutern', 'vorweg', 'abschließend', 'bemerkung', 'vorlesen', 'greife', 'herausgreifen', 'anmerkungen', 'kurze', 'nennen', 'eingehen', 'erwähnen', 'folgendes', 'nachher', 'stichwortartig', 'zitieren', 'andeuten', 'gestatten', 'gern']\n",
            "\n",
            "\n",
            "Discourse_Atom 38\n",
            "['können', 'könnten', 'sollen', 'würden', 'konnten', 'mußten', 'sie', 'müssen', 'mussten', 'wollten', 'zu', 'müßten', 'wollen', 'manche', 'dürfen', 'durften', 'möchten', 'sollten', 'müssten', 'wir', 'lassen', 'selber', 'mögen', 'alle', 'gegenseitig']\n",
            "\n",
            "\n",
            "Discourse_Atom 39\n",
            "['behaupte', 'unterstreiche', 'wiederhole', 'gestehe', 'erwähne', 'kritisiere', 'betone', 'merke', 'verstehe', 'erkenne', 'formuliere', 'bestreite', 'fürchte', 'respektiere', 'bezweifle', 'befürchte', 'tue', 'vermute', 'erlebe', 'verkenne', 'erkläre', 'akzeptiere', 'bewerte', 'vermisse', 'unterstelle']\n",
            "\n",
            "\n",
            "Discourse_Atom 40\n",
            "['ist', 'wäre', 'war', 'sei', 'sein', 'erscheint', 'halte', 'gewesen', 'seien', 'absolut', 'wären', 'sind', 'erachtet', 'waren', 'bin', 'finde', 'gehalten', 'geradezu', 'erachte', 'erscheinen', 'erachten', 'fand', 'klingt', 'bitter', 'äußerst']\n",
            "\n",
            "\n",
            "Discourse_Atom 41\n",
            "['droht', 'steckt', 'läuft', 'beginnt', 'fängt', 'stünde', 'herauskommt', 'liegt', 'herrscht', 'steht', 'fällt', 'paßt', 'stattfindet', 'kommt', 'endet', 'bricht', 'gerät', 'schließt', 'bliebe', 'passt', 'bildet', 'sah', 'hilft', 'läge', 'rechtfertigt']\n",
            "\n",
            "\n",
            "Discourse_Atom 42\n",
            "['skudelny', 'sybille', 'lotter', 'dage-', 'benning', 'schmiedeberg', 'gülistan', 'yüksel', 'ulli', 'corinna', 'bruckmann', '/eg', 'vorzuschlagenden', 'hübinger', 'frauenarbeit', 'hedi', 'susann', 'addicks', 'cansel', 'nich', 'agnieszka', 'übergangsmaßnahmen', 'interessengemeinschaft', 'movassat', 'barchmann']\n",
            "\n",
            "\n",
            "Discourse_Atom 43\n",
            "['hamburg', 'holstein', 'bremen', 'hessen', 'thüringen', 'württemberg', 'baden', 'münchen', 'niedersachsen', 'brandenburg', 'schleswig', 'magdeburg', 'dresden', 'pfalz', 'rheinland', 'rostock', 'bayern', 'sachsen', 'halle', 'württembergische', 'hannover', 'leipzig', 'köln', 'stuttgart', 'nordrhein']\n",
            "\n",
            "\n",
            "Discourse_Atom 44\n",
            "['schlechterstellung', 'bestandsgarantie', 'neiddebatte', 'neugründung', 'verknappung', 'fiktion', 'aufenthaltserlaubnis', 'rekordverschuldung', 'sonderabgabe', 'neuausrichtung', 'floskel', 'ausbildungschance', 'arbeitsbeschaffungsmaßnahme', 'quotierung', 'anleihe', 'überforderung', 'meldepflicht', 'nichtanerkennung', 'neubewertung', 'abgeltungssteuer', 'arbeitsstelle', 'weltsicht', 'wettbewerbsverzerrung', 'ganztagsschule', 'entwertung']\n",
            "\n",
            "\n",
            "Discourse_Atom 45\n",
            "['einen', 'einem', 'keinem', 'jedem', 'jeden', 'keinen', 'irgendeinem', 'dem', 'irgendeinen', 'ihrem', 'welchem', 'diesem', 'zum', 'den', 'diesen', 'seinem', 'manchem', 'welchen', 'denselben', 'gutem', 'seinen', 'ihren', 'folgendem', 'm', 'wohin']\n",
            "\n",
            "\n",
            "Discourse_Atom 46\n",
            "['demokratien', 'mitgliedstaaten', 'gesellschaften', 'republiken', 'institutionen', 'industrienationen', 'industrieländer', 'reformstaaten', 'märkte', 'volkswirtschaften', 'nachbarstaaten', 'mitgliedsländer', 'staaten', 'lander', 'strukturen', 'technologien', 'formen', 'industriestaaten', 'märkten', 'bevölkerungsgruppen', 'gegebenheiten', 'ländern', 'systeme', 'regionen', 'industrien']\n",
            "\n",
            "\n",
            "Discourse_Atom 47\n",
            "['eingetreten', 'verschwunden', 'imstande', 'aufgetreten', 'gewillt', 'berufstätig', 'durchsetzbar', 'unzufrieden', 'erwerbstätig', 'unvermeidlich', 'unbekannt', 'tragfähig', 'verfügbar', 'unterwegs', 'verlorengegangen', 'zufrieden', 'absehbar', 'erreichbar', 'unvermeidbar', 'gewohnt', 'akzeptabel', 'aufgegangen', 'übriggeblieben', 'verblieben', 'finanzierbar']\n",
            "\n",
            "\n",
            "Discourse_Atom 48\n",
            "['vorgelegten', 'einstimmig', 'vorliegenden', 'verabschiedeten', 'eingebracht', 'eingebrachter', 'eingebrachte', 'einmütig', 'vorgelegte', 'mehrheitlich', 'beschlossenen', 'bundesrates', 'vorliegende', 'zuzustimmen', 'einvernehmlich', 'vorliegt', 'mitberatenden', 'überwiesene', 'aufgerufenen', 'verabschiedet', 'überweisung', 'rechtsausschuß', 'beraten', 'federführenden', 'gesetzentwürfe']\n",
            "\n",
            "\n",
            "Discourse_Atom 49\n",
            "['nationalistisches', 'besonnene', 'wahlkampftaktik', 'ziel-', 'hohles', 'fehlverwendungen', 'sawade', 'change', 'schuldbekenntnis', 'unredlichkeit', 'forschungsfreiheit', 'jugendkriminalität', 'arbeitnehmerschutzrechte', 'memet', 'weite-', 'zollner', 'katzmarek', 'sachwidrig', 'extremes', 'wei-', 'bendt', 'inoffiziell', 'berner', 'schewegerigk', 'kudla']\n",
            "\n",
            "\n",
            "Discourse_Atom 50\n",
            "['machthaber', 'unrechtstaten', 'herrschaft', 'ex', 'früheren', 'besatzungszone', 'sbz', 'untergegangenen', 'staatsratsvorsitzenden', 'vormaligen', 'hinterlassenschaft', 'ehemaligen', 'unrechtsbereinigungsgesetze', 'regimes', 'staatspartei', 'damaligen', 'bürgerrechtler', 'kreisleitung', 'bezirksleitung', 'gefängnissen', 'nostalgie', 'bürgerrechtsbewegung', 'ehemalige', 'mißwirtschaft', 'gewaltherrschaft']\n",
            "\n",
            "\n",
            "Discourse_Atom 51\n",
            "['haushaltsdebatte', 'thematik', 'angelegenheit', 'debatte', 'legislaturperiode', 'beziehung', 'legislatur', 'problematik', 'woche', 'stunde', 'wahlperiode', 'branche', 'diskussion', 'phase', 'maßnahme', 'periode', 'misere', 'vorgehensweise', 'stelle', 'operation', 'situation', 'regelung', 'formulierung', 'petition', 'erkenntnis']\n",
            "\n",
            "\n",
            "Discourse_Atom 52\n",
            "['instrumente', 'ansätze', 'konzepte', 'weichenstellungen', 'programme', 'signale', 'reformen', 'konzeptionen', 'lösungen', 'überlegungen', 'projekte', 'maßnahmen', 'spielräume', 'modelle', 'schritte', 'strategien', 'ziele', 'ergebnisse', 'möglichkeiten', 'akzente', 'maßstäbe', 'rahmenbedingungen', 'prioritäten', 'veränderungen', 'prozesse']\n",
            "\n",
            "\n",
            "Discourse_Atom 53\n",
            "['anhebung', 'quote', 'kürzung', 'berechnung', 'regelung', 'dynamisierung', 'kappung', 'rentenberechnung', 'anrechnung', 'beitragsbemessungsgrenze', 'anzahl', 'obergrenze', 'absenkung', 'arbeitslosenquote', 'überleitung', 'kappungsgrenze', 'steigerungsrate', 'zahl', 'erhöhung', 'verlängerung', 'ungleichbehandlung', 'investitionszulage', 'grundrente', 'auffüllbeträge', 'verjährung']\n",
            "\n",
            "\n",
            "Discourse_Atom 54\n",
            "['dörflinger', 'jacoby', 'lenzer', 'gloser', 'kubatschka', 'ostertag', 'schuster', 'kraus', 'hartenbach', 'nachtwei', 'singhammer', 'dietzel', 'willner', 'lennartz', 'schockenhoff', 'palis', 'mayer', 'storm', 'krautscheid', 'schummer', 'dehnel', 'riegert', 'hagemann', 'sterzing', 'raidel']\n",
            "\n",
            "\n",
            "Discourse_Atom 55\n",
            "['hannelore', 'iris', 'gesine', 'petra', 'katrin', 'strebl', 'claudia', 'andrea', 'edelgard', 'birgit', 'sabine', 'rita', 'anke', 'ina', 'ulla', 'ingrid', 'gerda', 'sylvia', 'annette', 'inge', 'monika', 'vizepräsidentin', 'regine', 'frau', 'jutta']\n",
            "\n",
            "\n",
            "Discourse_Atom 56\n",
            "['angemessenen', 'echten', 'vernünftigen', 'sicheren', 'realistischen', 'derartigen', 'deutlichen', 'beachtlichen', 'ähnlichen', 'stabilen', 'sinnvollen', 'gesicherten', 'wirksamen', 'geordneten', 'seriösen', 'ausgewogenen', 'fairen', 'riesigen', 'ordentlichen', 'schlechten', 'gigantischen', 'begrenzten', 'ungeheuren', 'selbsttragenden', 'leichten']\n",
            "\n",
            "\n",
            "Discourse_Atom 57\n",
            "['bietet', 'gibt', 'beinhaltet', 'gab', 'gegeben', 'gefunden', 'geben', 'gäbe', 'findet', 'vorzunehmen', 'vorzulegen', 'herbeizuführen', 'enthält', 'schafft', 'liefert', 'braucht', 'finden', 'erfordern', 'bieten', 'ermöglicht', 'erfordert', 'aufzunehmen', 'einzuführen', 'geschaffen', 'bringt']\n",
            "\n",
            "\n",
            "Discourse_Atom 58\n",
            "['auffassung', 'überzeugung', 'ansicht', 'meinung', 'sicher', 'deshalb', 'deswegen', 'zweitens', 'erstens', 'grundsätzlich', 'unbedingt', 'dafür', 'davon', 'zwingend', 'vielmehr', 'dagegen', 'dringend', 'darin', 'insofern', 'natürlich', 'forderung', 'erkenntnis', 'damit', 'sinnvoll', 'daher']\n",
            "\n",
            "\n",
            "Discourse_Atom 59\n",
            "['niedrigen', 'geringen', 'sinkenden', 'unteren', 'steigenden', 'höheren', 'niedrigeren', 'hohen', 'löhnen', 'einkommen', 'geringeren', 'gestiegenen', 'geringem', 'mieten', 'lebenshaltungskosten', 'niedrigem', 'lebenserwartung', 'niedrige', 'überproportional', 'durchschnittlichen', 'steigender', 'hoher', 'belastet', 'geringfügig', 'sozialabgaben']\n",
            "\n",
            "\n",
            "Discourse_Atom 60\n",
            "['kommunistischen', 'nationalsozialistischen', 'sowjetunion', 'udssr', 'sowjetischen', 'sozialistischen', 'totalitären', 'zusammenbruch', 'ddr', 'nachkriegszeit', 'brd', 'nazi', 'jugoslawien', 'ddr-', 'kommunismus', 'sozialismus', 'sed', 'vorhang', 'nationalsozialisten', 'faschistischen', 'rgw', 'nva', 'kommandowirtschaft', 'bundesdeutschen', 'kommunistischer']\n",
            "\n",
            "\n",
            "Discourse_Atom 61\n",
            "['verabschiedung', 'vorlage', 'änderung', 'novellierung', 'ratifizierung', 'fassung', 'empfehlung', 'entschließung', 'neuregelung', 'einbringung', 'einsetzung', 'erarbeitung', 'novelle', 'gesetzesinitiative', 'vorbereitung', 'verordnung', 'prüfung', 'gesetzentwurfs', 'annahme', 'ergänzung', 'aufhebung', 'geschäftsordnung', 'beschlußfassung', 'beratung', 'beschleunigung']\n",
            "\n",
            "\n",
            "Discourse_Atom 62\n",
            "['guido', 'norbert', 'achim', 'ottmar', 'günter', 'horst', 'heiner', 'gerhard', 'bernhard', 'rudolf', 'joschka', 'gregor', 'detlef', 'reinhard', 'volker', 'wolfgang', 'jochen', 'jürgen', 'gunnar', 'edmund', 'adolf', 'theodor', 'johannes', 'erwin', 'rainer']\n",
            "\n",
            "\n",
            "Discourse_Atom 63\n",
            "['überlegen', 'fragen', 'prüfen', 'frage', 'überlegt', 'untersuchen', 'überprüfen', 'egal', 'gespannt', 'schauen', 'gefragt', 'nachdenken', 'gucken', 'entscheiden', 'sehen', 'geprüft', 'nachfragen', 'prüft', 'bedenken', 'wissen', 'fragt', 'anschauen', 'klären', 'skeptisch', 'fraglich']\n",
            "\n",
            "\n",
            "Discourse_Atom 64\n",
            "['städtebau', 'bauwesen', 'verkehr', 'telekommunikation', 'raumordnung', 'ernährung', 'außeruniversitären', 'fachhochschulen', 'wissenschaft', 'technologie', 'wohnungs-', 'verbraucherschutz', 'forsten', 'forschungseinrichtungen', 'jugendhilfe', 'forschung', 'bau-', 'fremdenverkehr', 'dienstleistungen', 'industrienahen', 'außeruniversitäre', 'kultur-', 'aus-', 'naturschutz', 'technikfolgenabschätzung']\n",
            "\n",
            "\n",
            "Discourse_Atom 65\n",
            "['angelika', 'siegfried', 'gerd', 'brigitte', 'dr.-ing', 'arne', 'dieter', 'winfried', 'christel', 'julius', 'bartholomäus', 'adler', 'heinz', 'uwe', 'hartmut', 'waltraud', 'christian', 'reinhold', 'doris', 'gisela', 'gudrun', 'herbert', 'hermann', 'gabriele', 'andreas']\n",
            "\n",
            "\n",
            "Discourse_Atom 66\n",
            "['a.', 'zuständigen', 'treuhandanstalt', 'bundesanstalt', 'behörde', 'treuhand', 'bvs', 'gauck', 'unabhängige', 'bundesministerium', 'bundesamt', 'zuständige', 'bundes', 'nachrichtendienste', 'erp', 'bundesbeauftragte', 'wismut', 'unabhängigen', 'entsprechende', 'stiftung', 'kfw', 'u.', 'bereitgestellten', 'erfassungsstelle', 'bundesbeauftragten']\n",
            "\n",
            "\n",
            "Discourse_Atom 67\n",
            "['emotional', 'umfangreich', 'empfehlenswert', 'zögernd', 'zurückhaltend', 'heterogen', 'ungleichmäßig', 'detailliert', 'sensibel', 'anschaulich', 'restriktiv', 'bewegend', 'wohlwollend', 'nah', 'intensiv', 'plastisch', 'zeitig', 'verschieden', 'differenziert', 'treffend', 'sorgfältig', 'turbulent', 'lehrreiche', 'bescheiden', 'ausführlich']\n",
            "\n",
            "\n",
            "Discourse_Atom 68\n",
            "['durchschnittlich', 'rund', 'knapp', 'circa', 'gesunken', 'prozent', 'durchschnittliche', 'durchschnitt', 'viertel', 'drittel', 'zirka', 'ungefähr', 'stieg', 'durchschnittlichen', 'betrug', 'gestiegen', 'bruttoinlandsprodukt', 'beträgt', 'arbeitslosenquote', 'prozentpunkte', 'hundert', 'zurückgegangen', 'nominal', 'angestiegen', 'einwohner']\n",
            "\n",
            "\n",
            "Discourse_Atom 69\n",
            "['projekt', 'paket', 'modell', 'datum', 'werk', 'zukunftsprogramm', 'geschäft', 'programm', 'mandat', 'budget', 'sparpaket', 'aktionsprogramm', 'instrumentarium', 'steuersystem', 'dilemma', 'privileg', 'phänomen', 'gremium', 'gesundheitssystem', 'produkt', 'bestreben', 'szenario', 'ansinnen', 'mietrecht', 'denkmal']\n",
            "\n",
            "\n",
            "Discourse_Atom 70\n",
            "['verwandt', 'eingespart', 'zurückgefahren', 'erwirtschaftet', 'gerettet', 'aufgebracht', 'fortgeschrieben', 'getätigt', 'reformiert', 'stillgelegt', 'umgestellt', 'zusammengestrichen', 'gestoppt', 'weitergeführt', 'angewandt', 'genehmigt', 'zurückgegeben', 'ausgeweitet', 'angewendet', 'verwertet', 'abgerufen', 'gestrichen', 'veräußert', 'vermieden', 'weggenommen']\n",
            "\n",
            "\n",
            "Discourse_Atom 71\n",
            "['mir', 'ihnen', 'ihm', 'mich', 'dir', 'euch', 'herrn', 'niemandem', 'gern', 'unwahrheit', 'jemandem', 'gerne', 'wahrscheinlich', 'nachher', 'waigel', 'entschuldigung', 'dich', 'hier', 'bloß', 'bundesfinanzminister', 'bundeskanzler', 'vorhin', 'uns', 'bundeswirtschaftsminister', 'spät']\n",
            "\n",
            "\n",
            "Discourse_Atom 72\n",
            "['polen', 'ungarn', 'rußland', 'tschechien', 'tschechoslowakei', 'rumänien', 'ukraine', 'csfr', 'slowakei', 'tschechen', 'bulgarien', 'juden', 'serbien', 'israel', 'litauen', 'slowaken', 'prag', 'estland', 'freundschaft', 'china', 'solidarnosc', 'afghanistan', 'russland', 'völker', 'türkei']\n",
            "\n",
            "\n",
            "Discourse_Atom 73\n",
            "['glaubt', 'denkt', 'schreibt', 'redet', 'versteht', 'spürt', 'kennt', 'lernt', 'sagt', 'nennt', 'wagt', 'spricht', 'meint', 'merkt', 'wisse', 'leugnet', 'wußte', 'rechnet', 'wusste', 'vergisst', 'nannte', 'kündigt', 'erkennt', 'glaubte', 'liest']\n",
            "\n",
            "\n",
            "Discourse_Atom 74\n",
            "['herzlich', 'ausdrücklich', 'nachdrücklich', 'freimütig', 'persönlich', 'offen', 'herzlichen', 'eindringlich', 'eindeutig', 'dezidiert', 'besonderer', 'danken', 'bewusst', 'bewußt', 'konkret', 'nüchtern', 'bedanken', 'klar', 'speziell', 'dankbar', 'dankeschön', 'selbstverständlich', 'deutlich', 'ehrlich', 'nebenbei']\n",
            "\n",
            "\n",
            "Discourse_Atom 75\n",
            "['eingegriffen', 'fortgeschrieben', 'angewendet', 'untersucht', 'reformiert', 'angetastet', 'weitergeführt', 'entsprochen', 'angepackt', 'aufgelöst', 'eingelöst', 'aufgeklärt', 'ausgefüllt', 'angewandt', 'zurückgeholt', 'genehmigt', 'gehandhabt', 'verwirklicht', 'gestoppt', 'angegriffen', 'ausgenutzt', 'zusammengeführt', 'zurückgedrängt', 'wiederhergestellt', 'geahndet']\n",
            "\n",
            "\n",
            "Discourse_Atom 76\n",
            "['sinne', 'mit', 'lande', 'kontext', 'falle', 'hintergrund', 'geist', 'entgegen', 'gebiet', 'felde', 'neben', 'kontinent', 'aus', 'umfeld', 'umfang', 'maße', 'entspricht', 'staate', 'ausmaß', 'getreu', 'gegenüber', 'land', 'nach', 'hause', 'saal']\n",
            "\n",
            "\n",
            "Discourse_Atom 77\n",
            "['verbieten', 'verkraften', 'aushalten', 'mithalten', 'kompensieren', 'zumuten', 'gebrauchen', 'erfassen', 'bedienen', 'realisieren', 'identifizieren', 'bewerkstelligen', 'beheben', 'verkaufen', 'vereinbaren', 'ausgleichen', 'aufgeben', 'teilhaben', 'regulieren', 'differenzieren', 'kalkulieren', 'studieren', 'vernachlässigen', 'bestellen', 'ignorieren']\n",
            "\n",
            "\n",
            "Discourse_Atom 78\n",
            "['vorgang', 'punkt', 'akt', 'aspekt', 'skandal', 'baustein', 'irrtum', 'trick', 'kritikpunkt', 'ansatzpunkt', 'schock', 'kraftakt', 'paradigmenwechsel', 'satz', 'meilenstein', 'impuls', 'argument', 'einwand', 'irrweg', 'wirtschaftszweig', 'sachverhalt', 'mißverständnis', 'ansatz', 'gedanke', 'investitionshemmnis']\n",
            "\n",
            "\n",
            "Discourse_Atom 79\n",
            "['reihe', 'vielen', 'manchen', 'verschiedenen', 'mehreren', 'vielzahl', 'einigen', 'beiden', 'zahlreichen', 'fülle', 'allen', 'denen', 'tausenden', 'zwei', 'hunderten', 'meisten', 'unterschiedlichen', 'tausende', 'anzahl', 'vornherein', 'wissenschaftlern', 'verschiedensten', 'amerika', 'wenigen', 'drei']\n",
            "\n",
            "\n",
            "Discourse_Atom 80\n",
            "['kinder', 'männer', 'eltern', 'jugendliche', 'mädchen', 'erwachsene', 'familie', 'alleinerziehende', 'familien', 'mütter', 'alleinerziehenden', 'pflegebedürftige', 'jugendlichen', 'kindern', 'mutter', 'lehrer', 'behinderte', 'großeltern', 'schüler', 'kranke', 'ältere', 'studenten', 'sozialhilfeempfänger', 'junge', 'enkel']\n",
            "\n",
            "\n",
            "Discourse_Atom 81\n",
            "['landwirte', 'ärzte', 'leute', 'unternehmer', 'arbeitnehmer', 'bauern', 'mieter', 'menschen', 'wissenschaftler', 'betriebe', 'betriebsräte', 'firmen', 'rentner', 'beschäftigten', 'familien', 'mittelständler', 'diejenigen', 'sportler', 'studenten', 'patienten', 'eltern', 'versicherten', 'bürger', 'fachleute', 'mitbürger']\n",
            "\n",
            "\n",
            "Discourse_Atom 82\n",
            "['anstieg', 'beitragssatz', 'zuwachs', 'schuldenstand', 'durchschnittlichen', 'rückgang', 'höhe', 'betrag', 'verkauf', 'anteil', 'abbau', 'spitzensteuersatz', 'jährlichen', 'steuersatz', 'wegfall', 'freibetrag', 'volumen', 'prozentsatz', 'monatlichen', 'eingangssteuersatz', 'sozialzuschlag', 'nettoeinkommen', 'erhöhten', 'grundfreibetrag', 'kaufpreis']\n",
            "\n",
            "\n",
            "Discourse_Atom 83\n",
            "['vernünftig', 'nachhaltig', 'attraktiv', 'wirksam', 'konsequent', 'radikal', 'ordentlich', 'zukunftsfähig', 'effizient', 'effektiv', 'kaputt', 'gezielt', 'teuer', 'flexibel', 'schnell', 'erfolgreich', 'schlecht', 'massiv', 'kurzfristig', 'verträglich', 'stark', 'finanziell', 'hervorragend', 'konkret', 'ausgewogen']\n",
            "\n",
            "\n",
            "Discourse_Atom 84\n",
            "['kanzleramt', 'bildungsbereich', 'wahljahr', 'inland', 'endeffekt', 'nachhinein', 'vermittlungsverfahren', 'vermittlungsausschuß', 'gerichtssaal', 'bundeskanzleramt', 'vermittlungsausschuss', 'frühjahr', 'gesundheitsbereich', 'haushaltsverfahren', 'europaparlament', 'hauruckverfahren', 'geiste', 'treuhandausschuß', 'energiebereich', 'agrarbereich', 'sicherheitsrat', 'baugewerbe', 'altbundesgebiet', 'gesundheitsausschuß', 'verwaltungsrat']\n",
            "\n",
            "\n",
            "Discourse_Atom 85\n",
            "['zusammenhalt', 'umbau', 'wandel', 'strukturwandel', 'neuaufbau', 'reformprozeß', 'erhalt', 'umstrukturierungsprozeß', 'erfordernissen', 'wiederaufbau', 'wettbewerb', 'wohlstand', 'austausch', 'rechtsfrieden', 'übergang', 'fortschritt', 'aufstieg', 'klimaschutz', 'ausbau', 'aufbruch', 'frieden', 'sozialstaat', 'grundwerten', 'niedergang', 'neubeginn']\n",
            "\n",
            "\n",
            "Discourse_Atom 86\n",
            "['bundesebene', 'verweis', 'bezug', 'landesebene', 'basiert', 'beruht', 'beharren', 'abzielen', 'bezogen', 'hinauslaufen', 'augenhöhe', 'verweist', 'hinausläuft', 'verzichtet', 'pump', 'länderebene', 'zielt', 'beruhen', 'abzielt', 'verzicht', 'beschränkt', 'aufbauend', 'hinwirken', 'hinzuwirken', 'zurückzuführen']\n",
            "\n",
            "\n",
            "Discourse_Atom 87\n",
            "['netto', 'brutto', 'ausgeben', 'zinsen', 'milliarden', 'miete', 'milliarde', 'geld', 'cent', 'monatlich', 'zuschüsse', 'bezahlt', 'milliardenbeträge', 'benzin', 'milliardenhöhe', 'jährlich', 'bezahlen', 'billionen', 'einnahmen', 'steuern', 'sparen', 'zahlt', 'auszugeben', 'sozialleistungen', 'kindergeld']\n",
            "\n",
            "\n",
            "Discourse_Atom 88\n",
            "['formulierung', 'aussage', 'variante', 'vorgehensweise', 'konzeption', 'angelegenheit', 'betrachtungsweise', 'erklärung', 'prognose', 'zäsur', 'vision', 'strategie', 'errungenschaft', 'formel', 'botschaft', 'funktion', 'vorstellung', 'philosophie', 'analyse', 'institution', 'fehleinschätzung', 'bestandsaufnahme', 'maßnahme', 'zusage', 'zielsetzung']\n",
            "\n",
            "\n",
            "Discourse_Atom 89\n",
            "['biographie', 'eigenschaft', 'vorgängerin', 'parteifreunde', 'partei', 'repräsentanten', 'vorgänger', 'amtszeit', 'gesamtheit', 'abgeordnetengruppe', 'fraktionssitzung', 'truppe', 'delegation', 'rechtsauffassung', 'haushaltsrede', 'pressemitteilung', 'gesinnung', 'vorgängerpartei', 'mitstreiter', 'mitgliedschaft', 'position', 'freundin', 'stellungnahme', 'akte', 'tradition']\n",
            "\n",
            "\n",
            "Discourse_Atom 90\n",
            "['festgestellt', 'gemerkt', 'ausgeführt', 'betont', 'feststellen', 'klargestellt', 'gesagt', 'mitbekommen', 'zugegeben', 'mitgeteilt', 'belegt', 'klargemacht', 'verdeutlicht', 'gezeigt', 'bedauert', 'erwähnt', 'bemerkt', 'behauptet', 'merken', 'wussten', 'gelesen', 'vernommen', 'vorgerechnet', 'beklagt', 'übersehen']\n",
            "\n",
            "\n",
            "Discourse_Atom 91\n",
            "['ihrer', 'unserer', 'ihre', 'seiner', 'meiner', 'unsere', 'seine', 'deren', 'eigener', 'dieselbe', 'der', 'meine', 'derselben', 'welcher', 'sozialdemokratische', 'unterschiedlicher', 'voller', 'eurer', 'dieser', 'deiner', 'aller', 'rotgrüner', 'jede', 'verantwortliche', 'diese']\n",
            "\n",
            "\n",
            "Discourse_Atom 92\n",
            "['kohl', 'rotgrün', 'gelb', 'schwarz', 'helmut', 'ära', 'grün', 'rot', 'rote', 'gelbe', 'oben', 'schröder', 'teppich', 'roten', 'gerhard', 'gelben', 'kohls', 'grüner', 'schmidt', 'schwarze', 'kanzler', 'fidel', 'waigel', 'regierung', 'erhard']\n",
            "\n",
            "\n",
            "Discourse_Atom 93\n",
            "['verfolgung', 'handlungen', 'rehabilitierung', 'strafverfolgung', 'ausübung', 'offenlegung', 'tätigkeit', 'diskriminierung', 'instrumentalisierung', 'behandlung', 'wiedergutmachung', 'ächtung', 'willkür', 'würdigung', 'verletzung', 'durchsetzung', 'verurteilung', 'aufhebung', 'bestrafung', 'bespitzelung', 'unrechtsurteile', 'unabhängigkeit', 'verantwortlichkeit', 'gewissensentscheidung', 'freilassung']\n",
            "\n",
            "\n",
            "Discourse_Atom 94\n",
            "['neuen', 'östlichen', 'ostdeutschen', 'westlichen', 'osteuropäischen', 'gemeinden', 'ärmeren', 'ostdeutschlands', 'beitrittswilligen', 'skandinavischen', 'finanzschwachen', 'alten', 'osteuropas', 'kommunen', 'regionalen', 'spdregierten', 'afrikanischen', 'kultusministerien', 'regierter', 'untereinander', 'westeuropäischen', 'spdgeführten', 'einzelnen', 'unionsregierten', 'jeweiligen']\n",
            "\n",
            "\n",
            "Discourse_Atom 95\n",
            "['ich', 'jemand', 'persönlich', 'überrascht', 'man', 'traurig', 'jemanden', 'manchmal', 'niemand', 'verwundert', 'peinlich', 'er', 'wundern', 'erstaunt', 'schön', 'schlimm', 'unerträglich', 'toll', 'vorstellen', 'jeder', 'naiv', 'schade', 'zufällig', 'zynisch', 'unangenehm']\n",
            "\n",
            "\n",
            "Discourse_Atom 96\n",
            "['eineinhalb', 'neunziger', 'zweieinhalb', 'anderthalb', 'siebziger', 'achtziger', 'zurückliegenden', '20er', 'sieben', 'fünfziger', '60er', 'elf', '80er', 'zwölf', 'kommenden', '30er', '90er', '1990er', 'zehn', 'neun', '70er', '2000er', '50er', 'sechs', 'dreieinhalb']\n",
            "\n",
            "\n",
            "Discourse_Atom 97\n",
            "['regierung', 'politik', 'öffentlichkeit', 'staat', 'bundesregierung', 'bundeskanzler', 'realität', 'bevölkerung', 'wirklichkeit', 'derjenige', 'realitäten', 'opposition', 'kanzler', 'koalition', 'lage', 'krise', 'finanzminister', 'vergangenheit', 'gesellschaft', 'wirtschaftspolitik', 'praxis', 'sozialstaat', 'steuerpolitik', 'situation', 'erkenntnis']\n",
            "\n",
            "\n",
            "Discourse_Atom 98\n",
            "['gleichwohl', 'dennoch', 'daher', 'deshalb', 'deswegen', 'vielmehr', 'insofern', 'außerdem', 'zudem', 'trotzdem', 'schließlich', 'ferner', 'hierbei', 'dabei', 'allerdings', 'daneben', 'natürlich', 'dies', 'beides', 'darin', 'insoweit', 'demgegenüber', 'zweitens', 'hierfür', 'zweifellos']\n",
            "\n",
            "\n",
            "Discourse_Atom 99\n",
            "['fdp', 'spd', 'f.d.p', 'pds', 'afd', 'grünen', 'linke', 'regierungskoalition', 'grüne', 'koalitionsfraktionen', 'bundestagsfraktion', '/csu', 'linken', 'linkspartei', 'sozialdemokratische', 'linksfraktion', 'cdu/', 'opposition', 'unionsfraktion', 'cdu', '90/', 'enthaltung', 'bündnisgrünen', 'regierungsfraktionen', 'csu']\n",
            "\n",
            "\n",
            "Discourse_Atom 100\n",
            "['federführenden', 'beschlussempfehlung', 'zp', 'b', 'beschlußempfehlung', 'nr', 'f', 'überweisung', 'zp3', 'g', 'ausschußfassung', 'k', '13/', 'j', 'c', 'beschlussempfeh-', 'immunität', 'wahlprüfung', 'empfiehlt', 'reaktorsicherheit', 'ausschüsse', 'buchstabe', 'beschlußempfehlungen', 'drucksachen', 'innenausschuß']\n",
            "\n",
            "\n",
            "Discourse_Atom 101\n",
            "['abschluss', 'abschluß', 'erstenmal', 'zweitenmal', 'schluss', 'durchbruch', 'nulltarif', 'schluß', 'stichtag', 'sachverhalt', 'jahreswirtschaftsbericht', 'zeitpunkt', 'drittenmal', 'nachteil', 'vorschein', 'kompromiß', 'prügelknaben', 'kommentar', 'mitschreiben', 'jahresbericht', 'leidwesen', 'jahresende', 'zweck', 'bock', 'letztenmal']\n",
            "\n",
            "\n",
            "Discourse_Atom 102\n",
            "['november', 'september', 'oktober', 'märz', 'mai', 'august', 'juni', 'dienstag', 'februar', 'april', 'mittwoch', 'montag', 'vorgestern', 'dezember', 'juli', 'freitag', 'jüngst', 'donnerstag', 'kürzlich', 'wochenende', 'unlängst', 'samstag', 'gestern', 'januar', 'bundesgerichtshof']\n",
            "\n",
            "\n",
            "Discourse_Atom 103\n",
            "['erste', 'zweite', 'wichtigste', 'dritte', 'entscheidende', 'eigentliche', 'letzte', 'nächste', 'einzige', 'zentrale', 'vierte', 'größte', 'richtige', 'wahre', 'beste', 'vierter', 'zweiter', 'gesamte', 'heutige', 'erster', 'schlechteste', 'erfolgreichste', 'schwierigste', 'dritten', 'kommende']\n",
            "\n",
            "\n",
            "Discourse_Atom 104\n",
            "['rönsch', 'mascher', 'homburger', 'eichhorn', 'pieper', 'babel', 'jelpke', 'köppe', 'michalk', 'bläss', 'bulmahn', 'gleicke', 'breuel', 'dückert', 'künast', 'schwaetzer', 'höll', 'lederer', 'enkelmann', 'ostrowski', 'flach', 'würfel', 'kaspereit', 'wollenberger', 'beer']\n",
            "\n",
            "\n",
            "Discourse_Atom 105\n",
            "['geführte', 'wählt', 'vorwirft', 'lobt', 'forderte', 'teilt', 'plant', 'vorschlägt', 'übernahm', 'fraktionsvorsitzende', 'ablehnt', 'lehnt', 'landesvorsitzende', 'eingebrachte', 'versprach', 'verlangte', 'grundwertekommission', 'zumißt', 'beschloß', 'beschloss', 'appelliert', 'betreibt', 'geführten', 'fordert', 'damalige']\n",
            "\n",
            "\n",
            "Discourse_Atom 106\n",
            "['aufgrund', 'ungeachtet', 'anbetracht', 'infolge', 'trotz', 'bezüglich', 'hinsichtlich', 'wegen', 'angesichts', 'tragweite', 'unbeschadet', 'jenseits', 'resultat', 'anhand', 'zugunsten', 'einschließlich', 'bestandteil', 'entstehung', 'unterliegt', 'fehlens', 'richtigkeit', 'abhängt', 'vorabend', 'bedürfen', 'ausweislich']\n",
            "\n",
            "\n",
            "Discourse_Atom 107\n",
            "['sorgt', 'voraussetzung', 'einsetzt', 'plädieren', 'gesorgt', 'voraussetzungen', 'erforderlichen', 'gewähr', 'erforderliche', 'grundvoraussetzung', 'benötigten', 'einsetzen', 'aufwendungen', 'einzusetzen', 'plädiert', 'vorsorge', 'grundlagen', 'bedingung', 'mittel', 'einstehen', 'ersatz', 'spielraum', 'rechtssicherheit', 'garantie', 'beweis']\n",
            "\n",
            "\n",
            "Discourse_Atom 108\n",
            "['deutsche', 'deutschen', 'deutscher', 'deutschlands', 'innere', 'europas', 'ostdeutsche', 'polnische', 'tschechische', 'amerikanische', 'russische', 'wiedergewonnenen', 'staatsrechtliche', 'nationale', 'polnischen', 'westdeutsche', 'sowjetische', 'berlins', 'französische', 'db', 'westliche', 'tschechischen', 'gesamtdeutsche', 'chemischen', 'inneren']\n",
            "\n",
            "\n",
            "Discourse_Atom 109\n",
            "['darüber', 'über', 'davon', 'voneinander', 'worüber', 'breit', 'hierüber', 'kontrovers', 'parteigrenzen', 'vom', 'miteinander', 'getrennt', 'fraktionsgrenzen', 'auseinandergegangen', 'hiervon', 'daran', 'zurzeit', 'koalitionsgrenzen', 'überlegt', 'seither', 'rüber', 'seitdem', 'übereinander', 'verstreut', 'studiert']\n",
            "\n",
            "\n",
            "Discourse_Atom 110\n",
            "['journalist', 'christdemokrat', 'freund', 'schutzwall', 'jude', 'diktator', 'fremdkörper', 'glanzstück', 'kommentator', 'regierungschef', 'gedicht', 'auftritt', 'kandidat', 'technologierat', 'geheimdienst', 'flop', 'petent', 'experte', 'novum', 'überzeugendes', 'einschnitt', 'glücksfall', 'bekannter', 'geschichtsbild', 'entwicklungsland']\n",
            "\n",
            "\n",
            "Discourse_Atom 111\n",
            "['punkten', 'beispielen', 'rednern', 'fällen', 'anträgen', 'gesprächen', 'gesetzentwürfen', 'mitgliedern', 'ministerien', 'sätzen', 'gesetzen', 'orten', 'entwürfen', 'vorschlägen', 'politikfeldern', 'einzelplänen', 'programmen', 'ausschüssen', 'verbänden', 'worten', 'schwerpunkten', 'bereichen', 'fachleuten', 'akteuren', 'veranstaltungen']\n",
            "\n",
            "\n",
            "Discourse_Atom 112\n",
            "['er', 'man', 'jemand', 'wer', 'niemand', 'derjenige', 'es', 'irgendjemand', 'gesetzgeber', 'jedermann', 'passieren', 'staat', 'jemanden', 'dies', 'sie', 'geschehen', 'bundesverfassungsgericht', 'irgendetwas', 'alles', 'bundesregierung', 'manches', 'kanzler', 'jeder', 'etwas', 'arzt']\n",
            "\n",
            "\n",
            "Discourse_Atom 113\n",
            "['kinkel', 'bundeswirtschaftsminister', 'bundesaußenminister', 'bundesarbeitsminister', 'schily', 'vogel', 'möllemann', 'bundesinnenminister', 'arbeitsminister', 'justizminister', 'stolpe', 'töpfer', 'kanther', 'engholm', 'scholz', 'dreßler', 'rüttgers', 'innenminister', 'krause', 'rexrodt', 'staatsminister', 'minister', 'seehofer', 'struck', 'scharping']\n",
            "\n",
            "\n",
            "Discourse_Atom 114\n",
            "['leistungsbereitschaft', 'wohlstand', 'umwelt', 'mitmenschlichkeit', 'gesundheit', 'kreativität', 'genießt', 'füreinander', 'stabilität', 'abzuwenden', 'solidität', 'zurückzugewinnen', 'verläßlichkeit', 'toleranz', 'talente', 'tatkraft', 'stärkt', 'verdankt', 'gesunde', 'mobilität', 'bedrohen', 'zukunftschancen', 'freizeit', 'neugewonnene', 'mitbürgerinnen']\n",
            "\n",
            "\n",
            "Discourse_Atom 115\n",
            "['osteuropäischen', 'untereinander', 'baltischen', 'osteuropas', 'befreundeten', 'beitrittswilligen', 'beider', 'arabischen', 'afrikanischen', 'südosteuropäischen', 'mittelosteuropäischen', 'postkommunistischen', 'islamischen', 'jeweiligen', 'westeuropäischen', 'westlichen', 'südosteuropas', 'mitteleuropäischen', 'gus', 'lateinamerikas', 'asiatischen', 'interessierten', 'parlamenten', 'skandinavischen', 'verschiedener']\n",
            "\n",
            "\n",
            "Discourse_Atom 116\n",
            "['älteren', 'unternehmern', 'kranken', 'arbeitnehmern', 'ausländischen', 'ärzten', 'rentnern', 'handwerkern', 'allermeisten', 'arbeitnehmerinnen', 'rentnerinnen', 'mitbürgerinnen', 'alleinerziehenden', 'wissenschaftlern', 'studenten', 'arbeitern', 'tausenden', 'verbänden', 'mitbürgern', 'angestellten', 'männern', 'dörfern', 'arbeitgebern', 'behinderten', 'schülern']\n",
            "\n",
            "\n",
            "Discourse_Atom 117\n",
            "['iii', 'viii', 'm.', 'vi', 'i.', 'sgb', 'sachgebiet', 'sozialgesetzbuch', 'sechsten', 'k', 'xii', 'auslaufende', 'vorgenommene', 'geltungsdauer', '10a', 'gesundheits', 'abs', 'aaüg', 'beabsichtigte', 'zp2', 'verabschiedeten', 'bedarfssätze', 'arzneimittelgesetzes', 'buches', 'vorgezogene']\n",
            "\n",
            "\n",
            "Discourse_Atom 118\n",
            "['organisieren', 'verwirklichen', 'integrieren', 'realisieren', 'gelangen', 'befördern', 'mobilisieren', 'installieren', 'stoppen', 'vollziehen', 'stabilisieren', 'beheben', 'bewerkstelligen', 'öffnen', 'garantieren', 'vereinbaren', 'vermeiden', 'bedienen', 'retten', 'modernisieren', 'erarbeiten', 'zerstören', 'beschleunigen', 'beenden', 'erzeugen']\n",
            "\n",
            "\n",
            "Discourse_Atom 119\n",
            "['bildungsbereich', 'inland', 'verkehrsbereich', 'baubereich', 'endeffekt', 'agrarbereich', 'baugewerbe', 'energiebereich', 'kulturbereich', 'personalbereich', 'immobilienbereich', 'gesundheitsbereich', 'sozialbereich', 'altbundesgebiet', 'umweltbereich', 'umkehrschluß', 'berichtszeitraum', 'gegenzug', 'arzneimittelbereich', 'entferntesten', 'dienstleistungsbereich', 'vorhinein', 'erbfall', 'nachhinein', 'gefolge']\n",
            "\n",
            "\n",
            "Discourse_Atom 120\n",
            "['dann', 'wirklich', 'doch', 'eigentlich', 'gern', 'sonst', 'wenigstens', 'bloß', 'zuhören', 'euch', 'irgendwie', 'gerne', 'sie', 'ansonsten', 'vielleicht', 'schreien', 'sparen', 'ernsthaft', 'mal', 'da', 'irgend', 'ruhig', 'glauben', 'wieso', 'hinterher']\n",
            "\n",
            "\n",
            "Discourse_Atom 121\n",
            "['dorthin', 'ans', 'ins', 'vorwärts', 'auseinander', 'knie', 'aufs', 'hierher', 'beiseite', 'vonstatten', 'betracht', 'gang', 'dahin', 'schief', 'zueinander', 'vorbei', 'infrage', 'zugute', 'vergessenheit', 'aufwärts', 'tür', 'heran', 'abhanden', 'zurück', 'wohin']\n",
            "\n",
            "\n",
            "Discourse_Atom 122\n",
            "['gebracht', 'bitteren', 'gekommen', 'gekommenen', 'kamen', 'jüngsten', 'bringen', 'zweiten', 'langen', 'kam', 'geführt', 'gestrigen', 'bekannten', 'gehenden', 'gekommene', 'ersten', 'heftigen', 'ereignissen', 'gezogen', 'bewegenden', 'gemachten', 'vorangegangenen', 'schlimmen', 'aufrechten', 'selben']\n",
            "\n",
            "\n",
            "Discourse_Atom 123\n",
            "['gewalt', 'rechtsextremismus', 'armut', 'kriminalität', 'rassismus', 'terror', 'altersarmut', 'fremdenfeindlichkeit', 'antisemitismus', 'ausländerfeindlichkeit', 'aggression', 'korruption', 'menschlichkeit', 'hass', 'massenarbeitslosigkeit', 'gewalttaten', 'extremismus', 'kinderarmut', 'verstöße', 'verbrechen', 'ausländer', 'haß', 'gewaltbereitschaft', 'hunger', 'kinderarbeit']\n",
            "\n",
            "\n",
            "Discourse_Atom 124\n",
            "['kritik', 'zustimmung', 'haltung', 'zurückhaltung', 'ehre', 'klientel', 'position', 'bemühungen', 'absicht', 'argumente', 'pflicht', 'bereitschaft', 'aufmerksamkeit', 'parteifreunde', 'einsicht', 'unterstützung', 'mitarbeit', 'mühe', 'argumentation', 'sympathie', 'vorstellungen', 'hausaufgaben', 'äußerungen', 'absichten', 'ausführungen']\n",
            "\n",
            "\n",
            "Discourse_Atom 125\n",
            "['kauf', 'mund', 'ernster', 'stellung', 'abschied', 'ernst', 'einfluss', 'augenschein', 'einfluß', 'geiselhaft', 'kenntnis', 'tasche', 'hut', 'anspruch', 'rücksicht', 'notiz', 'hand', 'angriff', 'lauf', 'schulter', 'schaden', 'übel', 'platz', 'auge', 'mut']\n",
            "\n",
            "\n",
            "Discourse_Atom 126\n",
            "['dramatisch', 'dramatische', 'konjunkturelle', 'steigende', 'gestiegene', 'bauwirtschaft', 'produktivität', 'rapide', 'demografische', 'gestiegenen', 'wachsende', 'ostdeutschlands', 'lebenserwartung', 'lohnentwicklung', 'stetig', 'steigenden', 'enorme', 'sinkende', 'gesamtwirtschaftliche', 'konjunktur', 'rezession', 'demographische', 'wirtschaftliche', 'steigender', 'strukturelle']\n",
            "\n",
            "\n",
            "Discourse_Atom 127\n",
            "['verfolgten', 'verbrechen', 'verfolgung', 'opfer', 'täter', 'ns', 'homosexuellen', 'verfolgte', 'straftaten', 'gewaltherrschaft', 'erlittenen', 'unrechts', 'begangenen', 'willkür', 'bespitzelung', 'offiziere', 'homosexuelle', 'nationalsozialistischen', 'militärjustiz', 'nationalsozialistischer', 'unrechtsurteile', 'zwangsarbeiter', 'handlungen', 'gewalttaten', 'nazis']\n",
            "\n",
            "\n",
            "Discourse_Atom 128\n",
            "['etc', 'tätige', 'gebundene', 'krippen', 'subventionierte', 'genutzte', 'usw', 'ortsansässige', 'landwirtschaftlicher', 'alcor', 'einheimische', 'forstwirtschaftliche', 'elektrotechnik', 'kaputte', 'genutzter', 'örtliche', 'forstwirtschaftlichen', 'universitärer', 'abwasserentsorgung', 'operierenden', 'zinsgünstige', 'bundeseigener', 'elektroindustrie', 'überbetriebliche', 'horten']\n",
            "\n",
            "\n",
            "Discourse_Atom 129\n",
            "['bauministeriums', 'innenministeriums', 'europaparlaments', 'bundesfinanzministeriums', 'finanzministeriums', 'wegfalls', 'asylbewerberleistungsgesetzes', 'verfassungsbruchs', 'bundeswirtschaftsministers', 'wirtschaftsministeriums', 'bundesrechnungshofs', 'kreises', 'lastenausgleichs', 'bundeseisenbahnvermögens', 'aktienrechts', 'bundesjustizministeriums', 'wirtschaftsministers', 'bundeskanzleramts', 'volksgerichtshofs', 'umweltministeriums', 'entwurfes', 'einzelplanes', 'kabinetts', 'bundesaußenministers', 'mieters']\n",
            "\n",
            "\n",
            "Discourse_Atom 130\n",
            "['moderne', 'wettbewerbsfähige', 'innovative', 'junge', 'sichere', 'bezahlbare', 'industrielle', 'zukunftschancen', 'attraktive', 'chancen', 'perspektiven', 'hochqualifizierte', 'leistungsfähige', 'arbeitskräfte', 'qualifizierte', 'gesunde', 'aufzubauen', 'qualitativ', 'arbeitsplätze', 'gesamtdeutschland', 'ostdeutschland', 'sozialversicherungspflichtige', 'innovationen', 'neue', 'mobilität']\n",
            "\n",
            "\n",
            "Discourse_Atom 131\n",
            "['sondern', 'letztlich', 'aber', 'jedoch', 'natürlich', 'dabei', 'allerdings', 'politisch', 'dies', 'dadurch', 'jedenfalls', 'letztendlich', 'daran', 'ökonomisch', 'selbstverständlich', 'wirtschaftlich', 'offenbar', 'hierbei', 'weiterhin', 'finanzierbar', 'deshalb', 'nachvollziehbar', 'moralisch', 'offensichtlich', 'gewiß']\n",
            "\n",
            "\n",
            "Discourse_Atom 132\n",
            "['vollkommen', 'höchst', 'völlig', 'verteilungspolitisch', 'äußerst', 'gänzlich', 'absolut', 'juristisch', 'ziemlich', 'fahrlässig', 'ganz', 'irreführend', 'verstandener', 'psychologisch', 'positioniert', 'geworden', 'erscheint', 'hervorzuheben', 'einzuschätzen', 'aufgetaucht', 'platze', 'moralisch', 'originell', 'sonderlich', 'ausgedrückt']\n",
            "\n",
            "\n",
            "Discourse_Atom 133\n",
            "['notwendiger', 'gesellschaftlicher', 'herbeizuführen', 'einheitlicher', 'ökologischer', 'wesentlicher', 'anzustreben', 'wirtschaftlicher', 'darstellt', 'wirklicher', 'gewaltiger', 'struktureller', 'entscheidender', 'unverzichtbarer', 'wichtiger', 'einzuleiten', 'finanzpolitischer', 'rasche', 'solider', 'schnelle', 'zukunftsfähiger', 'positiver', 'besserer', 'industrieller', 'stabiler']\n",
            "\n",
            "\n",
            "Discourse_Atom 134\n",
            "['lagen', 'gingen', 'liegen', 'sind', 'waren', 'gehen', 'steigen', 'hängen', 'fehlen', 'fallen', 'sitzen', 'stehen', 'standen', 'kämen', 'stiegen', 'kamen', 'sinken', 'fließen', 'wären', 'existieren', 'greifen', 'reichen', 'stünden', 'laufen', 'wachsen']\n",
            "\n",
            "\n",
            "Discourse_Atom 135\n",
            "['noch', 'tatsächlich', 'erst', 'irgendwann', 'wieder', 'möglicherweise', 'nicht', 'schon', 'plötzlich', 'einfach', 'billiger', 'automatisch', 'sofort', 'mehr', 'schneller', 'doch', 'nämlich', 'irgendwie', 'vielleicht', 'endlich', 'dann', 'sozusagen', 'hinterher', 'zumindest', 'niemals']\n",
            "\n",
            "\n",
            "Discourse_Atom 136\n",
            "['allem', 'schützend', 'liegenden', 'vollendete', 'warnen', 'schlage', 'schlagen', 'furcht', 'ehrfurcht', 'kurzem', 'gaukelt', 'warne', 'toren', 'augen', 'ort', 'gefeit', 'hunde', 'verbeugung', 'jahresfrist', 'hergetragen', 'warnt', 'gewarnt', 'weihnachten', 'allzulanger', 'haustür']\n",
            "\n",
            "\n",
            "Discourse_Atom 137\n",
            "['dieser', 'aktuellen', 'heutigen', 'stehenden', 'folgende', 'heutige', 'gestellt', 'jetzigen', 'gestrigen', 'aktuelle', 'gestellten', 'aufwerfen', 'vorletzten', 'vorgelegten', 'beantworten', 'gestellte', 'vorliegenden', 'folgender', 'welcher', 'diese', 'schriftliche', 'aufgeworfen', 'nächste', 'stellen', 'ersten']\n",
            "\n",
            "\n",
            "Discourse_Atom 138\n",
            "['ihres', 'unseres', 'des', 'seines', 'eines', 'meines', 'dieses', 'dessen', 'deren', 'ungeborenen', 'desselben', 'menschlichen', 'bestimmter', 'seiner', 'vorgeburtlichen', 'ihrer', 'integraler', 'mangelnder', 'plebiszitärer', 'eigentlichen', 'israels', 'jener', 'beider', 'parteipolitischer', 'persönlicher']\n",
            "\n",
            "\n",
            "Discourse_Atom 139\n",
            "['herausforderungen', 'herausforderung', 'aufgaben', 'problemen', 'historischen', 'gegenwart', 'dimension', 'aufgabe', 'dimensionen', 'bewältigung', 'umbrüche', 'gewachsenen', 'probleme', 'entwicklungen', 'moralischen', 'wahrnehmung', 'geschichtlichen', 'errungenschaften', 'veränderungen', 'krisen', 'umbruchsituation', 'notwendigkeiten', 'gesellschaftlichen', 'rolle', 'themen']\n",
            "\n",
            "\n",
            "Discourse_Atom 140\n",
            "['unterstreiche', 'gestehe', 'erkenne', 'wiederhole', 'respektiere', 'merke', 'kritisiere', 'vermisse', 'unterstütze', 'widerspreche', 'beklage', 'erkläre', 'formuliere', 'rechne', 'kündige', 'traue', 'erlebe', 'erwähne', 'entnehme', 'behaupte', 'unterstelle', 'vertrete', 'biete', 'verlange', 'bestreite']\n",
            "\n",
            "\n",
            "Discourse_Atom 141\n",
            "['außenpolitik', 'einheit', 'vereinigung', 'sozialdemokratie', 'nachkriegsgeschichte', 'einigung', 'volkswirtschaft', 'welle', 'bundesbank', 'landkreistag', 'geschichte', 'nation', 'entwicklungspolitik', 'teilung', 'wiedervereinigung', 'sportbund', 'gewerkschaftsbund', 'ausgleichsbank', 'städtetag', 'staatsangehörigkeit', 'präsidentschaft', 'hauptstadt', 'forschungsgemeinschaft', 'erinnerungskultur', 'bank']\n",
            "\n",
            "\n",
            "Discourse_Atom 142\n",
            "['herbeigeführt', 'angemahnt', 'vollbracht', 'bewirkt', 'versäumt', 'gewirkt', 'begonnen', 'eingefordert', 'stattgefunden', 'gegolten', 'angestoßen', 'erfunden', 'abgeliefert', 'zugestanden', 'bewiesen', 'mitgemacht', 'aufgegeben', 'angerichtet', 'praktiziert', 'thematisiert', 'versagt', 'erkannt', 'vorgebracht', 'beschworen', 'vollzogen']\n",
            "\n",
            "\n",
            "Discourse_Atom 143\n",
            "['unser', 'ihr', 'ein', 'das', 'jedes', 'dieses', 'welches', 'solches', 'irgendein', 'kein', 'politisches', 'europäisches', 'großes', 'unserem', 'deutsches', 'mein', 'gemeinsames', 'durchs', 'duale', 'neues', 'wichtiges', 'gutes', 'euer', 'diesem', 'demokratisches']\n",
            "\n",
            "\n",
            "Discourse_Atom 144\n",
            "['gemeinwesens', 'kontinents', 'rechtsstaates', 'rechtsstaats', 'staatswesens', 'parlamentes', 'volkes', 'rechtssystems', 'bildungssystems', 'erbes', 'vaterlandes', 'miteinanders', 'alltags', 'westens', 'bürgers', 'wohlstands', 'gemeinwohls', 'vertrauens', 'selbstverständnisses', 'gesundheitssystems', 'geschehens', 'handelns', 'anliegens', 'zusammenlebens', 'energiesystems']\n",
            "\n",
            "\n",
            "Discourse_Atom 145\n",
            "['termin', 'personenkreis', 'kompromiss', 'kompromiß', 'tarifvertrag', 'etat', 'ansatz', 'sachverhalt', 'betrag', 'lastenausgleich', 'zweck', 'tatbestand', 'untersuchungsausschuss', 'haushalt', 'job', 'wechsel', 'stichtag', 'fahrplan', 'untersuchungsausschuß', 'prozeß', 'kurs', 'trend', 'wettlauf', 'plan', 'zeitplan']\n",
            "\n",
            "\n",
            "Discourse_Atom 146\n",
            "['nato', 'sicherheitspolitik', 'osze', 'partnerschaft', 'friedensordnung', 'gemeinschaft', 'ksze', 'eu', 'weu', 'außen-', 'eg', 'transatlantischen', 'osterweiterung', 'sicherheits-', 'verteidigungspolitik', 'europäische', 'zentralbank', 'binnenmarkt', 'integration', 'agrarpolitik', 'allianz', 'uno', 'menschenrechtskonvention', 'europäischer', 'europäischen']\n",
            "\n",
            "\n",
            "Discourse_Atom 147\n",
            "['hinzuweisen', 'hinausläuft', 'abzielen', 'beharren', 'abzielt', 'hinauslaufen', 'aufbauend', 'verweist', 'verweisen', 'verweis', 'ankam', 'hinwirken', 'einzugehen', 'hinweist', 'zielte', 'beharrt', 'bundesebene', 'beruhte', 'bezogen', 'fußend', 'verwiesen', 'basiert', 'beruht', 'verzichte', 'bezug']\n",
            "\n",
            "\n",
            "Discourse_Atom 148\n",
            "['tausend', 'hundert', 'tausende', 'meter', 'tote', 'hunderttausend', 'wurden', 'kamen', 'briefe', 'zehntausende', 'nachrichten', 'weltkriege', 'mehrere', 'zehntausend', 'gab', 'gingen', 'unzählige', 'verzweiflung', 'hunderttausende', 'verletzte', 'landschaften', 'darunter', 'unschuldige', 'dörfer', 'einwohnern']\n",
            "\n",
            "\n",
            "Discourse_Atom 149\n",
            "['kurzfristigen', 'tatsächlichen', 'arbeitsmarktpolitischen', 'finanziellen', 'strukturellen', 'zeitlichen', 'personellen', 'institutionellen', 'sozialpolitischen', 'materiellen', 'steuerlichen', 'gesetzgeberischen', 'strukturpolitischen', 'langfristigen', 'entwicklungspolitischen', 'gegebenen', 'grundlegenden', 'objektiven', 'organisatorischen', 'rechtlichen', 'gravierenden', 'investiven', 'spezifischen', 'grundsätzlichen', 'freiwilligen']\n",
            "\n",
            "\n"
          ]
        }
      ]
    },
    {
      "cell_type": "code",
      "source": [
        "# for a specific atom, e.g., 112th atom look at 25 most similar words:\n",
        "w2v.wv.similar_by_vector(dictionary[1],topn=25)"
      ],
      "metadata": {
        "colab": {
          "base_uri": "https://localhost:8080/"
        },
        "id": "D_ceV3KG5H0J",
        "outputId": "99dc5bae-e476-4779-ee87-4de7688d3f9f"
      },
      "execution_count": 68,
      "outputs": [
        {
          "output_type": "execute_result",
          "data": {
            "text/plain": [
              "[('gesetzliche', 0.6890949010848999),\n",
              " ('gesetzlich', 0.688127338886261),\n",
              " ('ausgleichsleistungen', 0.6122502088546753),\n",
              " ('garantierten', 0.5934789180755615),\n",
              " ('entschädigung', 0.5756001472473145),\n",
              " ('geltende', 0.5741870403289795),\n",
              " ('erhalten', 0.56938636302948),\n",
              " ('garantiert', 0.568692147731781),\n",
              " ('garantierte', 0.5682421922683716),\n",
              " ('asyl', 0.5680488348007202),\n",
              " ('einheitliche', 0.5656465291976929),\n",
              " ('geltenden', 0.5643967390060425),\n",
              " ('gewährt', 0.5621501803398132),\n",
              " ('entschädigungsleistungen', 0.5618624687194824),\n",
              " ('erworbener', 0.5544141530990601),\n",
              " ('grundgesetzlich', 0.5485568046569824),\n",
              " ('mindestrente', 0.5479013919830322),\n",
              " ('gesetzlichen', 0.5451385974884033),\n",
              " ('beitragsbezogenen', 0.5446598529815674),\n",
              " ('eigenständige', 0.5443336963653564),\n",
              " ('beitragsbezogenheit', 0.5436088442802429),\n",
              " ('gesicherte', 0.5418306589126587),\n",
              " ('ansprüche', 0.5400257110595703),\n",
              " ('faktisch', 0.5341232419013977),\n",
              " ('enteigneten', 0.5323445796966553)]"
            ]
          },
          "metadata": {},
          "execution_count": 68
        }
      ]
    },
    {
      "cell_type": "code",
      "source": [
        "print(w2v.wv.vocab.get('the').index, '\\n', alpha[w2vmodel.wv.vocab.get('the').index])"
      ],
      "metadata": {
        "colab": {
          "base_uri": "https://localhost:8080/",
          "height": 168
        },
        "id": "8GxUtLg85Kt8",
        "outputId": "89650317-95b3-4ab2-d623-fd3b339c1f98"
      },
      "execution_count": null,
      "outputs": [
        {
          "output_type": "error",
          "ename": "AttributeError",
          "evalue": "ignored",
          "traceback": [
            "\u001b[0;31m---------------------------------------------------------------------------\u001b[0m",
            "\u001b[0;31mAttributeError\u001b[0m                            Traceback (most recent call last)",
            "\u001b[0;32m<ipython-input-147-7aac1070edc1>\u001b[0m in \u001b[0;36m<module>\u001b[0;34m()\u001b[0m\n\u001b[0;32m----> 1\u001b[0;31m \u001b[0mprint\u001b[0m\u001b[0;34m(\u001b[0m\u001b[0mw2v\u001b[0m\u001b[0;34m.\u001b[0m\u001b[0mwv\u001b[0m\u001b[0;34m.\u001b[0m\u001b[0mvocab\u001b[0m\u001b[0;34m.\u001b[0m\u001b[0mget\u001b[0m\u001b[0;34m(\u001b[0m\u001b[0;34m'the'\u001b[0m\u001b[0;34m)\u001b[0m\u001b[0;34m.\u001b[0m\u001b[0mindex\u001b[0m\u001b[0;34m,\u001b[0m \u001b[0;34m'\\n'\u001b[0m\u001b[0;34m,\u001b[0m \u001b[0malpha\u001b[0m\u001b[0;34m[\u001b[0m\u001b[0mw2vmodel\u001b[0m\u001b[0;34m.\u001b[0m\u001b[0mwv\u001b[0m\u001b[0;34m.\u001b[0m\u001b[0mvocab\u001b[0m\u001b[0;34m.\u001b[0m\u001b[0mget\u001b[0m\u001b[0;34m(\u001b[0m\u001b[0;34m'the'\u001b[0m\u001b[0;34m)\u001b[0m\u001b[0;34m.\u001b[0m\u001b[0mindex\u001b[0m\u001b[0;34m]\u001b[0m\u001b[0;34m)\u001b[0m\u001b[0;34m\u001b[0m\u001b[0;34m\u001b[0m\u001b[0m\n\u001b[0m",
            "\u001b[0;31mAttributeError\u001b[0m: 'NoneType' object has no attribute 'index'"
          ]
        }
      ]
    }
  ],
  "metadata": {
    "colab": {
      "name": "Final Project Code",
      "provenance": []
    },
    "kernelspec": {
      "display_name": "Python 3",
      "name": "python3"
    },
    "language_info": {
      "name": "python"
    }
  },
  "nbformat": 4,
  "nbformat_minor": 0
}