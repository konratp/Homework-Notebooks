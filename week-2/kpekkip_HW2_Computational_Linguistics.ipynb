{
  "cells": [
    {
      "cell_type": "markdown",
      "metadata": {
        "id": "d2SvMJrnTg32"
      },
      "source": [
        "# Week 2 - Counting Words & Phrases (Computational Linguistics)\n",
        "This week, we take text corpora that we have developed, spidered, scraped, and encoded, and we find and count words, simple and parsed phrases and explore the statistical properties of those counts (e.g., word frequency distributions). Initially, we model how to search corpora for keywords or phrases. Next, we examine the distributions of terms and phrases across a corpus, and the correlation between different words and phrase counts. In order to do this effectively, we coarsely disambiguate words based of part-of-speech (POS) tagging, and normalize them through stemming and lemmatization. Next we distinguish *important* words and phrase within the corpus, and image them with Wordls! Then we calculate word frequenceis, conditional frequences (the frequency of word *shock* conditional on the presence of word *awe*), and statistically significant collocations of lengths 2 through $n$. Finally, we calculate and visualize Differences (Divergences and Distances) between the word frequency distributions from two corpora. \n",
        "\n",
        "Then we shift to focus not simply on the *ideas* in a corpus, but also extracting precise *claims*. This process involves a sequential pipeline of classifying and structuring tokens from text, each of which generates potentially useful data for the content analyst. Steps in this process, which we examine in this notebook, include: 1) tagging words by their part of speech (POS) to reveal the linguistic role they play in the sentence (e.g., Verb, Noun, Adjective, etc.); 2) tagging words as named entities (NER) such as places or organizations; 3) structuring or \"parsing\" sentences into nested phrases that are local to, describe or depend on one another; and 4) extracting informational claims from those phrases.\n",
        "\n",
        "We will be introducing spaCy as a package for Computational Linguistics, and also walk you through how to use the Davies Corpora. \n",
        "\n",
        "While we wish to avoid using NLTK for heavy corpus analysis, some of its smaller functions can still be useful.\n",
        "\n",
        "Of course, for final projects that draw on these tools, we encourage you to install the software on your own machines or shared servers at the university (RCC, SSRC) in order to perform these operations on much more text. \n",
        "\n",
        "For this notebook we will be using the following packages:\n"
      ]
    },
    {
      "cell_type": "code",
      "execution_count": null,
      "metadata": {
        "id": "qqV8gNpHTg36",
        "colab": {
          "base_uri": "https://localhost:8080/"
        },
        "outputId": "5fd76393-d41a-474b-b789-52fe99c35055"
      },
      "outputs": [
        {
          "output_type": "stream",
          "name": "stdout",
          "text": [
            "Collecting git+git://github.com/UChicago-Computational-Content-Analysis/lucem_illud.git\n",
            "  Cloning git://github.com/UChicago-Computational-Content-Analysis/lucem_illud.git to /tmp/pip-req-build-2pqdrmd2\n",
            "  Running command git clone -q git://github.com/UChicago-Computational-Content-Analysis/lucem_illud.git /tmp/pip-req-build-2pqdrmd2\n",
            "Requirement already satisfied: numpy in /usr/local/lib/python3.7/dist-packages (from lucem-illud==8.0.1) (1.19.5)\n",
            "Requirement already satisfied: requests in /usr/local/lib/python3.7/dist-packages (from lucem-illud==8.0.1) (2.23.0)\n",
            "Requirement already satisfied: pandas in /usr/local/lib/python3.7/dist-packages (from lucem-illud==8.0.1) (1.1.5)\n",
            "Requirement already satisfied: python-docx in /usr/local/lib/python3.7/dist-packages (from lucem-illud==8.0.1) (0.8.11)\n",
            "Requirement already satisfied: pillow in /usr/local/lib/python3.7/dist-packages (from lucem-illud==8.0.1) (7.1.2)\n",
            "Requirement already satisfied: pdfminer2 in /usr/local/lib/python3.7/dist-packages (from lucem-illud==8.0.1) (20151206)\n",
            "Requirement already satisfied: GitPython in /usr/local/lib/python3.7/dist-packages (from lucem-illud==8.0.1) (3.1.26)\n",
            "Requirement already satisfied: wordcloud in /usr/local/lib/python3.7/dist-packages (from lucem-illud==8.0.1) (1.5.0)\n",
            "Requirement already satisfied: scipy in /usr/local/lib/python3.7/dist-packages (from lucem-illud==8.0.1) (1.4.1)\n",
            "Requirement already satisfied: seaborn in /usr/local/lib/python3.7/dist-packages (from lucem-illud==8.0.1) (0.11.2)\n",
            "Requirement already satisfied: scikit-learn in /usr/local/lib/python3.7/dist-packages (from lucem-illud==8.0.1) (1.0.2)\n",
            "Requirement already satisfied: nltk in /usr/local/lib/python3.7/dist-packages (from lucem-illud==8.0.1) (3.2.5)\n",
            "Requirement already satisfied: gensim in /usr/local/lib/python3.7/dist-packages (from lucem-illud==8.0.1) (3.6.0)\n",
            "Requirement already satisfied: matplotlib in /usr/local/lib/python3.7/dist-packages (from lucem-illud==8.0.1) (3.2.2)\n",
            "Requirement already satisfied: pyanno3 in /usr/local/lib/python3.7/dist-packages (from lucem-illud==8.0.1) (2.0.2)\n",
            "Requirement already satisfied: beautifulsoup4 in /usr/local/lib/python3.7/dist-packages (from lucem-illud==8.0.1) (4.6.3)\n",
            "Requirement already satisfied: graphviz in /usr/local/lib/python3.7/dist-packages (from lucem-illud==8.0.1) (0.10.1)\n",
            "Requirement already satisfied: boto3 in /usr/local/lib/python3.7/dist-packages (from lucem-illud==8.0.1) (1.20.44)\n",
            "Requirement already satisfied: networkx in /usr/local/lib/python3.7/dist-packages (from lucem-illud==8.0.1) (2.6.3)\n",
            "Requirement already satisfied: pydub in /usr/local/lib/python3.7/dist-packages (from lucem-illud==8.0.1) (0.25.1)\n",
            "Requirement already satisfied: speechrecognition in /usr/local/lib/python3.7/dist-packages (from lucem-illud==8.0.1) (3.8.1)\n",
            "Requirement already satisfied: pysoundfile in /usr/local/lib/python3.7/dist-packages (from lucem-illud==8.0.1) (0.9.0.post1)\n",
            "Requirement already satisfied: scikit-image in /usr/local/lib/python3.7/dist-packages (from lucem-illud==8.0.1) (0.18.3)\n",
            "Requirement already satisfied: IPython in /usr/local/lib/python3.7/dist-packages (from lucem-illud==8.0.1) (5.5.0)\n",
            "Requirement already satisfied: spacy in /usr/local/lib/python3.7/dist-packages (from lucem-illud==8.0.1) (2.2.4)\n",
            "Requirement already satisfied: botocore<1.24.0,>=1.23.44 in /usr/local/lib/python3.7/dist-packages (from boto3->lucem-illud==8.0.1) (1.23.44)\n",
            "Requirement already satisfied: jmespath<1.0.0,>=0.7.1 in /usr/local/lib/python3.7/dist-packages (from boto3->lucem-illud==8.0.1) (0.10.0)\n",
            "Requirement already satisfied: s3transfer<0.6.0,>=0.5.0 in /usr/local/lib/python3.7/dist-packages (from boto3->lucem-illud==8.0.1) (0.5.0)\n",
            "Requirement already satisfied: python-dateutil<3.0.0,>=2.1 in /usr/local/lib/python3.7/dist-packages (from botocore<1.24.0,>=1.23.44->boto3->lucem-illud==8.0.1) (2.8.2)\n",
            "Requirement already satisfied: urllib3<1.27,>=1.25.4 in /usr/local/lib/python3.7/dist-packages (from botocore<1.24.0,>=1.23.44->boto3->lucem-illud==8.0.1) (1.25.11)\n",
            "Requirement already satisfied: six>=1.5 in /usr/local/lib/python3.7/dist-packages (from python-dateutil<3.0.0,>=2.1->botocore<1.24.0,>=1.23.44->boto3->lucem-illud==8.0.1) (1.15.0)\n",
            "Requirement already satisfied: smart-open>=1.2.1 in /usr/local/lib/python3.7/dist-packages (from gensim->lucem-illud==8.0.1) (5.2.1)\n",
            "Requirement already satisfied: typing-extensions>=3.7.4.3 in /usr/local/lib/python3.7/dist-packages (from GitPython->lucem-illud==8.0.1) (3.10.0.2)\n",
            "Requirement already satisfied: gitdb<5,>=4.0.1 in /usr/local/lib/python3.7/dist-packages (from GitPython->lucem-illud==8.0.1) (4.0.9)\n",
            "Requirement already satisfied: smmap<6,>=3.0.1 in /usr/local/lib/python3.7/dist-packages (from gitdb<5,>=4.0.1->GitPython->lucem-illud==8.0.1) (5.0.0)\n",
            "Requirement already satisfied: pygments in /usr/local/lib/python3.7/dist-packages (from IPython->lucem-illud==8.0.1) (2.6.1)\n",
            "Requirement already satisfied: pickleshare in /usr/local/lib/python3.7/dist-packages (from IPython->lucem-illud==8.0.1) (0.7.5)\n",
            "Requirement already satisfied: setuptools>=18.5 in /usr/local/lib/python3.7/dist-packages (from IPython->lucem-illud==8.0.1) (57.4.0)\n",
            "Requirement already satisfied: traitlets>=4.2 in /usr/local/lib/python3.7/dist-packages (from IPython->lucem-illud==8.0.1) (5.1.1)\n",
            "Requirement already satisfied: simplegeneric>0.8 in /usr/local/lib/python3.7/dist-packages (from IPython->lucem-illud==8.0.1) (0.8.1)\n",
            "Requirement already satisfied: prompt-toolkit<2.0.0,>=1.0.4 in /usr/local/lib/python3.7/dist-packages (from IPython->lucem-illud==8.0.1) (1.0.18)\n",
            "Requirement already satisfied: decorator in /usr/local/lib/python3.7/dist-packages (from IPython->lucem-illud==8.0.1) (4.4.2)\n",
            "Requirement already satisfied: pexpect in /usr/local/lib/python3.7/dist-packages (from IPython->lucem-illud==8.0.1) (4.8.0)\n",
            "Requirement already satisfied: wcwidth in /usr/local/lib/python3.7/dist-packages (from prompt-toolkit<2.0.0,>=1.0.4->IPython->lucem-illud==8.0.1) (0.2.5)\n",
            "Requirement already satisfied: pyparsing!=2.0.4,!=2.1.2,!=2.1.6,>=2.0.1 in /usr/local/lib/python3.7/dist-packages (from matplotlib->lucem-illud==8.0.1) (3.0.7)\n",
            "Requirement already satisfied: kiwisolver>=1.0.1 in /usr/local/lib/python3.7/dist-packages (from matplotlib->lucem-illud==8.0.1) (1.3.2)\n",
            "Requirement already satisfied: cycler>=0.10 in /usr/local/lib/python3.7/dist-packages (from matplotlib->lucem-illud==8.0.1) (0.11.0)\n",
            "Requirement already satisfied: pytz>=2017.2 in /usr/local/lib/python3.7/dist-packages (from pandas->lucem-illud==8.0.1) (2018.9)\n",
            "Requirement already satisfied: ptyprocess>=0.5 in /usr/local/lib/python3.7/dist-packages (from pexpect->IPython->lucem-illud==8.0.1) (0.7.0)\n",
            "Requirement already satisfied: traits in /usr/local/lib/python3.7/dist-packages (from pyanno3->lucem-illud==8.0.1) (6.3.2)\n",
            "Requirement already satisfied: cffi>=0.6 in /usr/local/lib/python3.7/dist-packages (from pysoundfile->lucem-illud==8.0.1) (1.15.0)\n",
            "Requirement already satisfied: pycparser in /usr/local/lib/python3.7/dist-packages (from cffi>=0.6->pysoundfile->lucem-illud==8.0.1) (2.21)\n",
            "Requirement already satisfied: lxml>=2.3.2 in /usr/local/lib/python3.7/dist-packages (from python-docx->lucem-illud==8.0.1) (4.2.6)\n",
            "Requirement already satisfied: idna<3,>=2.5 in /usr/local/lib/python3.7/dist-packages (from requests->lucem-illud==8.0.1) (2.10)\n",
            "Requirement already satisfied: certifi>=2017.4.17 in /usr/local/lib/python3.7/dist-packages (from requests->lucem-illud==8.0.1) (2021.10.8)\n",
            "Requirement already satisfied: chardet<4,>=3.0.2 in /usr/local/lib/python3.7/dist-packages (from requests->lucem-illud==8.0.1) (3.0.4)\n",
            "Requirement already satisfied: imageio>=2.3.0 in /usr/local/lib/python3.7/dist-packages (from scikit-image->lucem-illud==8.0.1) (2.4.1)\n",
            "Requirement already satisfied: PyWavelets>=1.1.1 in /usr/local/lib/python3.7/dist-packages (from scikit-image->lucem-illud==8.0.1) (1.2.0)\n",
            "Requirement already satisfied: tifffile>=2019.7.26 in /usr/local/lib/python3.7/dist-packages (from scikit-image->lucem-illud==8.0.1) (2021.11.2)\n",
            "Requirement already satisfied: joblib>=0.11 in /usr/local/lib/python3.7/dist-packages (from scikit-learn->lucem-illud==8.0.1) (1.1.0)\n",
            "Requirement already satisfied: threadpoolctl>=2.0.0 in /usr/local/lib/python3.7/dist-packages (from scikit-learn->lucem-illud==8.0.1) (3.0.0)\n",
            "Requirement already satisfied: srsly<1.1.0,>=1.0.2 in /usr/local/lib/python3.7/dist-packages (from spacy->lucem-illud==8.0.1) (1.0.5)\n",
            "Requirement already satisfied: cymem<2.1.0,>=2.0.2 in /usr/local/lib/python3.7/dist-packages (from spacy->lucem-illud==8.0.1) (2.0.6)\n",
            "Requirement already satisfied: tqdm<5.0.0,>=4.38.0 in /usr/local/lib/python3.7/dist-packages (from spacy->lucem-illud==8.0.1) (4.62.3)\n",
            "Requirement already satisfied: blis<0.5.0,>=0.4.0 in /usr/local/lib/python3.7/dist-packages (from spacy->lucem-illud==8.0.1) (0.4.1)\n",
            "Requirement already satisfied: wasabi<1.1.0,>=0.4.0 in /usr/local/lib/python3.7/dist-packages (from spacy->lucem-illud==8.0.1) (0.9.0)\n",
            "Requirement already satisfied: plac<1.2.0,>=0.9.6 in /usr/local/lib/python3.7/dist-packages (from spacy->lucem-illud==8.0.1) (1.1.3)\n",
            "Requirement already satisfied: preshed<3.1.0,>=3.0.2 in /usr/local/lib/python3.7/dist-packages (from spacy->lucem-illud==8.0.1) (3.0.6)\n",
            "Requirement already satisfied: thinc==7.4.0 in /usr/local/lib/python3.7/dist-packages (from spacy->lucem-illud==8.0.1) (7.4.0)\n",
            "Requirement already satisfied: catalogue<1.1.0,>=0.0.7 in /usr/local/lib/python3.7/dist-packages (from spacy->lucem-illud==8.0.1) (1.0.0)\n",
            "Requirement already satisfied: murmurhash<1.1.0,>=0.28.0 in /usr/local/lib/python3.7/dist-packages (from spacy->lucem-illud==8.0.1) (1.0.6)\n",
            "Requirement already satisfied: importlib-metadata>=0.20 in /usr/local/lib/python3.7/dist-packages (from catalogue<1.1.0,>=0.0.7->spacy->lucem-illud==8.0.1) (4.10.1)\n",
            "Requirement already satisfied: zipp>=0.5 in /usr/local/lib/python3.7/dist-packages (from importlib-metadata>=0.20->catalogue<1.1.0,>=0.0.7->spacy->lucem-illud==8.0.1) (3.7.0)\n"
          ]
        }
      ],
      "source": [
        "#Special module written for this class\n",
        "#This provides access to data and to helper functions from previous weeks\n",
        "!pip install git+git://github.com/UChicago-Computational-Content-Analysis/lucem_illud.git\n",
        "import lucem_illud #just in case, regularly update your lucem_illud with the following code: pip install git+git://github.com/UChicago-Computational-Content-Analysis/lucem_illud.git\n",
        "\n",
        "#All these packages need to be installed from pip\n",
        "import requests #for http requests\n",
        "import pandas #gives us DataFrames\n",
        "import matplotlib.pyplot as plt #For graphics\n",
        "import wordcloud #Makes word clouds\n",
        "import numpy as np #For divergences/distances\n",
        "import scipy #For divergences/distances\n",
        "import seaborn as sns #makes our plots look nicer\n",
        "import sklearn.manifold #For a manifold plot\n",
        "import json #For API responses\n",
        "import urllib.parse #For joining urls\n",
        "\n",
        "# comp-linguistics\n",
        "import spacy\n",
        "\n",
        "#Displays the graphs\n",
        "import graphviz #You also need to install the command line graphviz\n",
        "\n",
        "#These are from the standard library\n",
        "import os.path\n",
        "import zipfile\n",
        "import subprocess\n",
        "import io\n",
        "import tempfile\n",
        "\n",
        "#This 'magic' command makes the plots work better\n",
        "#in the notebook, don't use it outside of a notebook\n",
        "%matplotlib inline"
      ]
    },
    {
      "cell_type": "markdown",
      "metadata": {
        "id": "DYFP8RnNTg38"
      },
      "source": [
        "# Retrieving exemplary corpora\n",
        "\n",
        "To get started we will need some examples. Let's start by downloading one of the corpuses from the Davies set purchased for this class and developed by a computational linguist at Brigham Young University. We can get a list of works available from the [corpora here](https://www.english-corpora.org/).\n",
        "\n",
        "In this notebook, I will be accessing the data locally - you also have access to this data through the Dropbox download link. The same code can be modified slighlty to access the rest of the corpora on RCC. \n",
        "There is a notebook describing this process in the same repository, as well as in the same directory on RCC."
      ]
    },
    {
      "cell_type": "code",
      "source": [
        "from google.colab import drive\n",
        "drive.mount(\"/content/drive\")"
      ],
      "metadata": {
        "colab": {
          "base_uri": "https://localhost:8080/"
        },
        "id": "xDDTjaKhzE7z",
        "outputId": "23708399-e520-43c5-efce-6e27c9627d31"
      },
      "execution_count": null,
      "outputs": [
        {
          "output_type": "stream",
          "name": "stdout",
          "text": [
            "Drive already mounted at /content/drive; to attempt to forcibly remount, call drive.mount(\"/content/drive\", force_remount=True).\n"
          ]
        }
      ]
    },
    {
      "cell_type": "code",
      "execution_count": null,
      "metadata": {
        "id": "Y3x_yymzTg39"
      },
      "outputs": [],
      "source": [
        "corpus_name = \"/content/drive/MyDrive/Movies\"\n",
        "# corpus_name = \"Movies\""
      ]
    },
    {
      "cell_type": "markdown",
      "metadata": {
        "id": "35zDspFTTg39"
      },
      "source": [
        "Just to be clear, your corpus_name should be different since you're not bhargav. Modify the corpus_name with your directory. This method extracts the text from the zip files and stroes the raw data."
      ]
    },
    {
      "cell_type": "code",
      "execution_count": null,
      "metadata": {
        "id": "Z2RnrQ9RTg3-"
      },
      "outputs": [],
      "source": [
        "def loadcorpus(corpus_name, corpus_style=\"text\"):\n",
        "    texts_raw = {}\n",
        "    for file in os.listdir(corpus_name + \"/\"):\n",
        "        if corpus_style in file:\n",
        "            print(file)\n",
        "            zfile = zipfile.ZipFile(corpus_name + \"/\" + file)\n",
        "            for file in zfile.namelist():\n",
        "                texts_raw[file] = []\n",
        "                with zfile.open(file) as f:\n",
        "                    for line in f:\n",
        "                        texts_raw[file].append(line)\n",
        "    return texts_raw"
      ]
    },
    {
      "cell_type": "code",
      "execution_count": null,
      "metadata": {
        "id": "C3ZS9QVCTg3_",
        "colab": {
          "base_uri": "https://localhost:8080/"
        },
        "outputId": "4d412ef8-d065-478e-93e1-54b5577bb96b"
      },
      "outputs": [
        {
          "output_type": "stream",
          "name": "stdout",
          "text": [
            "text_01_ote.zip\n",
            "text_02_mqu.zip\n",
            "text_03_mnq.zip\n",
            "text_04_mlq.zip\n",
            "text_05_nko.zip\n",
            "text_06_jfy.zip\n",
            "text_07_oma.zip\n",
            "text_08_loh.zip\n",
            "text_09_oii.zip\n",
            "text_10_aoy.zip\n",
            "text_11_uoy.zip\n",
            "text_12_rcq.zip\n",
            "text_13_idi.zip\n",
            "text_14_lnc.zip\n",
            "text_15_guo.zip\n",
            "text_16_qll.zip\n",
            "text_17_arp.zip\n",
            "text_18_jfj.zip\n",
            "text_19_gvc.zip\n",
            "text_20_cde.zip\n",
            "text_21_fqa.zip\n",
            "text_22_etp.zip\n",
            "text_23_fmh.zip\n",
            "text_24_ywo.zip\n",
            "text_25_byg.zip\n",
            "text_26_ngj.zip\n",
            "text_27_fle.zip\n",
            "text_28_rfy.zip\n",
            "text_29_oye.zip\n",
            "text_30_wkp.zip\n",
            "text_31_akv.zip\n",
            "text_32_ldf.zip\n",
            "text_33_kje.zip\n",
            "text_00_myn.zip\n"
          ]
        }
      ],
      "source": [
        "movie_raw = loadcorpus(corpus_name)"
      ]
    },
    {
      "cell_type": "code",
      "execution_count": null,
      "metadata": {
        "id": "a2rUOYhPTg3_",
        "colab": {
          "base_uri": "https://localhost:8080/"
        },
        "outputId": "83979d2f-0deb-4d61-e500-aee87a9a91b8"
      },
      "outputs": [
        {
          "output_type": "execute_result",
          "data": {
            "text/plain": [
              "[b'\\r\\n',\n",
              " b'@@216680 Hey , I \\'m talking to you Give me 600 dollars You wish ! That \\'s all we \\'ve left And you still go to gamble Shut up I earn the money Even that you ca n\\'t take it for gamble Shut up What \\'re you doing ? Bastard , I \\'m gon na beat you You gambling pig , I \\'ll beat the shit out of you You bitch I \\'ll beat you You dare to hit me with something ! I \\'ll kill you All you know is gambling I \\'ll beat you What \\'re you doing ? Let go of me Stop You \\'ll kill Mom Mom , are you all right ? Do n\\'t touch my money Dad , where \\'re you going ? Go away Dad , do n\\'t go Get lost Dad , come back You take Marble with you The way she \\'s now Do you want to give me trouble ? I \\'m in more trouble than you I am a woman I \\'m a sailor You take care of Marble Just gamble a bit less is enough to raise the kid No way Raising her would be like raising others @ @ @ @ @ @ @ @ @ @ take care of her Marry her when she grows up And you tell her to be smart Do n\\'t marry a gambler Hey , you want a quarrel ? No , never This is the last time You \\'re SO right Do n\\'t rush ... Everyone will have a share Why so crowded ? What \\'re they doing ? Worshipping ancestors With all those many things ? Hey , Granny , Come on Come and take a bite The dishes are good this year Right Marble , have some I \\'ll go get my share of pork This is a leg-washing basin Hey , how can you say that ? Let \\'s go get a share of pork Your share ? You wish ! That \\'s only for boys Yeah , I have a wee-wee . Have you ? Aunty Chiang Lin , one more baby this year ? Yes You are the best in your family Hey , you think it \\'s my will I was compelled by my stupid husband Come on . Let \\'s worship first Eat some roast pork We have a lot of it Honey @ @ @ @ @ @ @ @ @ @ baby ? Yes . Only with Chinese blood What do you mean ? It means I give you a green hat Oh , that goes with my clothes then Eat , no more talk ! So rude . Take it home Get up , go We \\'re going back home Be quick Honey Hey , make a stance Hold it ... Master , every time we \\'ve to stand in a pose If you could teach us something else please Okay Shaolin Masters learn poses for years Hold it ... Okay . I \\'ll teach you something new Watch me See . Get to it Seeing Shanghai Beach in Mainland Here I \\'m still watching it everyday I \\'m so tired Tired ? Let \\'s go to bed for rest I hate Chau Yun Fa the most He did n\\'t marry when I \\'m in China As soon as I \\'m here , he got married You ca n\\'t come to Hong Kong if you do n\\'t marry me You said you are big boss Having a big business Now that I \\'m in Hong Kong ... I \\'m still @ @ @ @ @ @ @ @ @ @ for myself Then I ought to feel much more sorry You ca n\\'t even lay an egg This year I can only get one share of pork And you \\'re blaming me for it ? Damn monkey ... What \\'s going on ? A letter for you Oh , it \\'s you Your monkey glared at me fiercely Will you open it for me ? Read it to me . I am quite illiterate Stop it . Do n\\'t bother him Let me help you . Give me the letter Postman \\'s duty is to deliver and read letters He reads for Aunt Jiao How can you compare to her ? Aunty Jiao is 83 years old Hello , dubbing room Martin ? Martin is working Are you lying to me ? Why should I lie ? I know he \\'s free . Get him You listen yourself then Hello , what \\'s the noise ? Is someone being raped ? Martin , your telephone Hello What took you so long ? Recording is going on Do n\\'t mess around Yes , I know . I wo n\\'t Honey , @ @ @ @ @ @ @ @ @ @ did you spend so much ? I was late for work ... so I took a taxi On your way back do n\\'t forget to buy vegetables Okay And buy a pair of slippers for me Got it , honey I \\'ll hang up . Bye Would n\\'t marry if you know your wife is so bad ! Take pity for the rest of my life Hey , what \\'s on your neck ? Nothing You look piteous She \\'s the piteous one The vampire is here Grandma , grandma Someone is fighting Grandma , grandma Come over quickly What happened ? Someone is fighting Fighting ? Yes Where ? Over there ! You see it ? I spare you this time . No next time Sorry , let me kiss you Cut the bullshit . Go to bed I need to work tomorrow Where at ? That villa over there ! Wow , it looks beautiful Who lives there ? Snow White Kidding , there \\'s no Snow White Oh , murder That \\'s the pig scream Why \\'s the pig screaming so late at night ? Shorty \\'s @ @ @ @ @ @ @ @ @ @ late ? So the government wo n\\'t know But how could a pig \\'s scream be so terrible ? Why ? Why are n\\'t you tired ? Why are n\\'t you sleepy ? Why have n\\'t you gone to bed ? Why are you so nosy ? Go to sleep ! Here \\'s the kitchen Oil . Salt . Sauce . Vinegar . All there Go tidy up Ask me if you have any question Come dance with me Come on Come Dance I \\'ll teach you . Do n\\'t be afraid Damn dog ! Damn it ! What \\'s such a big deal to be rich ? Pay for my pants Sorry . I do n\\'t mean to be rude Be careful next time Miss , it seems I \\'ve seen you somewhere Of course you have I \\'ll be the Miss Hong Kong in next contest I have nine posters at the Ferry pier And I \\'ve been handing out my photographs all around Never seen one as rude as you Chang Jin This girl is great . She lives in your village ? Of course she \\'s @ @ @ @ @ @ @ @ @ @ And the ugly one\\'s only live in your village Miss , I want my BALL back We \\'re back from Holland Shall we make a friendship ? My dad said she got married Married ? No way Look at her curves ! She sure knows how to keep fit Maybe she never takes birth-control pills Hey , pals Be nice to a girl , huh ? What do you mean ? You think you \\'re a kungfu master ? Get the ball back Okay We \\'re friends . If you do n\\'t give me face At least for my Dad \\'s sake ... let \\'s not make a fuss of this Are you alright ? He hits me . Beat him Stop Just playing . Stop What \\'re you on about ? I \\'ve stopped . Why do n\\'t you stop ? I \\'ll let you go , damn kid Do n\\'t let me see you again I \\'ll kill you next time Let \\'s go , go Waste of strength ! Post-boy . You think you \\'re good We \\'re taking pity on you Yeah Go , go Your @ @ @ @ @ @ @ @ @ @ Sorry to bother you again Please sign Where \\'s Wang ? He went to Kowloon on business Oh , you \\'re bleeding ? Who hurt you ? Let me help you Suppressing anger is not a good thing What ? Let me clean your wound No Okay , I wo n\\'t touch you I \\'ll give you some water , do it yourself How often do you deliver each day ? What are you drawing so late at night ? Go to bed . You have class tomorrow Go to sleep now Dad , I \\'m going to school now Go now . Do n\\'t be late Okay , I know A shepherd drove sheep on the hill Watching farmers farming below ... Jin Bao I have twenty of them Give me one No way My uncle smuggled it from Mainland What is it ? How about I exchange one with a secret What secret ? Last night the White Man tortured his wife I do n\\'t believe you He \\'s so coward to his wife he \\'ll never beat her Then will you give me ? What kind of @ @ @ @ @ @ @ @ @ @ shepherd laughed ... Master Good morning , teacher I \\'ve taught you ... to write yourselves a letter And learn to write your home address That \\'d help uncle Postman to deliver No , Mister Postman Oh yes , calling \\' uncle \\' is too old Yes Now come out to get your letter when I call you Wang Jia Leung Here Wang Shi Chung Here Shu Ker Ying Here She \\'s a cripple ! Do n\\'t laugh at her Wang Jia Hao Here Wang Jie Hwa Here Wang Wan Wen Here Wang Tian Sheng Here Marble Mister You have a letter from your dad Your Grandma said he \\'s in Panama What has he written ? Just ask your Grandma No My Dad is dead Do n\\'t curse him I do n\\'t like him Go away Go away Let me go Let me go ... Damn dog Go away Let go of me The damn dog bites anything it sees I always get bitten when delivering letters Do n\\'t tell people about it I wo n\\'t . I \\'ll do as you said You \\'ll be responsible if anyone @ @ @ @ @ @ @ @ @ @ your secret Let \\'s hook our pinkies I \\'ll be true to my word Wait for me ? When I \\'m young no-one likes me I hope someone would love me like crazy If not , I hope I have lots of money If no money , I wish I can be famous Let everyone know me at least If I have nothing else I hope I \\'m prettier than others Staying pretty longer is okay Being a woman is indeed tragic ! But you have everything now How poor of you , silly girl ? You never stay with me overnight You \\'d better find an excuse to convince me My wife does n\\'t understand me Take any man in the world Not one would say his wife understands him I really love you Not for your money Do n\\'t think you \\'re Santa Claus Why would I do this ? So cheap ! Go to bed early Do n\\'t abuse drugs Wang , give me a red cloth Okay Lin , give him a red cloth Big one or small one ? Big one , of course Did @ @ @ @ @ @ @ @ @ @ You think old Wang can do that ? You are good Your hand is so white , I believe you \\'d have made it Lin , go to work if you \\'ve nothing else Okay , five dollars Bin , why did you have to come yourself to buy ? What else do you need ? Nothing else . I \\'ll come later See you I know all the neighbours around here Hey , get the button fastened I ca n\\'t breath if I fasten up Or you buy me a new dress Okay , okay Let me take you to the discount stall Discount stalls only sell cheap stuff I want to visit the fashion shop Look at you Just two months here you \\'ve learned it I learned all about it long before I came Then you be good I \\'ll buy you anything you want Okay ? Then ai n\\'t I good enough now ? Good , you \\'re good Sir , I would like to know ... if there \\'s a new villa here ? You \\'ve real talent Among the mistresses of my husband You @ @ @ @ @ @ @ @ @ @ you want ? Sure He \\'s my Santa Claus You think you \\'re young ? Whatever . I \\'m younger than you I heard you \\'re a dancer What kind of dance are you good at ? The kind that takes hard work ... and looks like mad jumping You have money now Why work so hard ? Is money everything ? No ? Depends on the person Do n\\'t say you love my man No , we use each other What are you laughing at ? One night your husband told me ... his wife does n\\'t understand him He lies , you fool It \\'s not bad he lies to me in that way My husband is sure in bad luck He has a mistress like you He is in luck actually Because he met me You \\'re just a whore What are you here for ? You \\'re great Let me show you something No . Okay , you can go now You do n\\'t like me a bit ? Like you what ? What good are you ? Oh , I dare not Do n\\'t be @ @ @ @ @ @ @ @ @ @ hand Get up , get up Be serious . Come One more time I ca n\\'t Use the hip . Come . Ready Go See , you can do it Got weak hips . I ca n\\'t get up Forget it You are a porn star . No need to get up You bald head You should be an extra forever Oh , I am now Yao Ju , come Coming You play with him Hold it Get me a suit from the wardrobe What \\'s that for ? Meet your girlfriend That one You want it however she looks You take all whatever the age My girl is beautiful And who is that ? Nanny ! Yao Ju Who \\'s she ? I do n\\'t know Why do you always come to me ? I have things to do Then I \\'ll wait for you You have to wait a long time I \\'ll wait for you Then you have to wait a long time What \\'s wrong with me ? At least I am with single mind Why do you hit her ? Yeah , why do you @ @ @ @ @ @ @ @ @ @ dare I \\'ll kill you You do n\\'t want me You dump me after you have had sex with me Is n\\'t it just for money ? No , it is n\\'t for money I love you I am not for money I really love you You \\'re crazy Just make a run Or I \\'ll cut you to pieces Damn shameless bitch Let \\'s play rubber-band rope Come , let \\'s play rubber-band rope Come on Do n\\'t go Come In any event let \\'s clarify our relationship today You have a husband My husband is no use Lower your voice What \\'re you afraid of ? No need to fear if you dare to do it In short , I \\'ll give you money Money ... yes , I \\'ll need a lot of it You think you can afford ? You \\'re prepared , huh ? Let me tell you now My cousin will come next month He \\'d need cash for permit and ID card That takes 50,000 dollars Are you worth it ? Maybe I \\'m not worth it But if I spread word of @ @ @ @ @ @ @ @ @ @ And that woman is more trouble enough You think I do n\\'t know she \\'s a mistress Just think what if her man knows ... of your affair ! Perhaps you can bear losing face She ca n\\'t You have no money , she has You hit me ! My husband never dare hit me . How dare you ! Rape ! Help ! I \\'m being raped ... please help ! Help ! Rape ! Someone rapes me Stop it . That will kill her Hey , that \\'s not enough What \\'s that for ? It \\'s for you Carnation Like it ? Carnation is only for mothers Mother \\'s Day ? Do you ever give anything to your Mom ? She wants nothing She only wants money As if someone would marry you ! She \\'ll have three kids in her teens Get fat as a barrel and smell bad She \\'ll get up every day at six-thirty Cook an egg for your breakfast And says it \\'s good for you Every week you go to Kowloon for tea once Every half a year you \\'d take @ @ @ @ @ @ @ @ @ @ ? No At least I have everything But you do n\\'t have a husband That \\'s okay to me You say so for sure I \\'ll go now If he does n\\'t find me on the phone ... then I \\'ll truly have nothing If he lies to his wife , he can lie to you Are you sure he has no-one else ? That \\'s none of your business What about me ? I left that woman because of you What about this ? I do n\\'t even know who \\'d get the money I do n\\'t care Let go Sit \" RITA \" Miss Rita Last night I passed by your house Your dog scared me Then I fell down And dropped a ring It \\'s my husband \\'s gift You know when a man gives you some gift It \\'s no good if you were to lose it He \\'ll be unhappy Did you see it ? Help me to find it , please The ring is worth 100,000 dollars I \\'ll help you to find it Then I \\'ll wait for your news I \\'m so @ @ @ @ @ @ @ @ @ @ I studied in Grade Two I already hated women That class girl captain ... told the teacher I peeked at her And the teacher hit me hard for it I was hit so hard that it broke the ruler In university I studied the Tang dynasty poems It said women are tender and passionate But I found it to the contrary Women and mean people are hard to deal with It was n\\'t easy for me to stay away from women Now I would n\\'t want one anymore Women are poison ! You \\'re right Let \\'s toast Tonight when you \\'re home You should punish your wife hard All men are brothers ! Great . I \\'ll punish her tonight Fifty to hundred thousand each call Your threat is never-ending After this time ... Once and for all , I \\'ll leave You take this man I \\'m tired of him If you \\'re that crazy for men ... I \\'ll give my Wang to you , too Stupid Where \\'re you going ? Grandma , Grandma . Come on Murder Grandma , hurry What \\'s that serious ? @ @ @ @ @ @ @ @ @ @ ? Over there , you see ? What nonsense ! There \\'s nothing there It \\'s really a murder Hey , stop talking rubbish ! Go to bed Stop looking Kids are innocent Shorty , do n\\'t move Stop moving Shorty , Shorty It was terrible last night I saw two guys fight And then one person ... killed the other ! The killer wore a chain You know , I could ... pull out some hair from the killer But Grandma does n\\'t believe me If you \\'d please check for me What \\'re you doing ? You have n\\'t finished your hair-cut ? What happened ? Go and see Quick What is it ? Quick Come , be quick This is the White Man \\'s house This is the villa This is where Jin Bao lives I live right here That night I saw a murder in there Hey , what \\'s this ? It \\'s a watchband You ca n\\'t even recognise it in picture , stupid Hold it . Hold it . Hold it What \\'s this ? Silly fool , it \\'s Ninja That night @ @ @ @ @ @ @ @ @ @ saw two guys were fighting over there And then one man ... killed the other The killer wore a watchband too I saw it But I \\'m not scared Then I went out and took a look But he had run away I just saw some hair and a lot of footprints Now our first move ... is to check out who \\'s missing in the village ? What are you doing here ? Where \\'s your wife , uncle ? Looking for my wife at your age ? You have guts Go away I \\'ll get your Dad to take you back You \\'d better spend time on study And stop running around Go home Wang , where \\'s your wife ? My wife is sick , okay ! Nosey Have you seen the White Man and his wife ? Shin , go home for meal Hurry Always playing Marble , time for work Do n\\'t run around I \\'m working right now Look here . On the rock Here It \\'s real The White Man Women are sick , vicious ... and fierce . We should kill them @ @ @ @ @ @ @ @ @ @ have to bear with them What is the time ? Oh , time for work Get lost Why are the floor so dirty ? Hey , what \\'re you doing ? I just came early to tidy things up See , what have you done ! I ... White Man . It \\'s him Little girl Little girl Wake up Little girl Wake up You okay ? Are you all right ? But that ca n\\'t be evidence That \\'s the record in my children \\'s diary This proves that everyday he thought of murder Did your teacher tell you ... not to lie to the police ? I have more evidence Take it out I saw that after he killed his wife ... he dragged the corpse away , too That night he did n\\'t return home He went out for drinks Got drunk and slept on a rock And he cursed the women too He almost killed me What a bad White man Always thinking to kill people Chinese wo n\\'t do that The Chinese do n\\'t have that power Go and see Hi Police ? What \\'re @ @ @ @ @ @ @ @ @ @ illegal to play chess ? You have a warrant , sir ? Of course , see It \\'s marijuana Go away ... What are you looking ? Nothing good to see Move away Hey , what \\'re you doing ? He \\'s my husband He just slapped me slightly Is it illegal the husband slapping his wife ? Actually I let him slap me Why are you arresting him ? Where are you going ? I just went back to my Mama \\'s house Why do n\\'t you call me these few days ? Who is he ? His sworn brother What \\'s a \\' sworn brother \\' ? Move . Do n\\'t pretend anymore Sir , he \\'s innocent Do n\\'t arrest him Girl , do n\\'t lie Sir , please do n\\'t arrest my husband Do n\\'t arrest my husband Let him go Dear Hello , Miss Rita Why ? Why am I being fired ? How do I guess if you do n\\'t tell me ? Mister Postman . Mister ? No-one believed the murder I told you about What clue do you have ? I suspected @ @ @ @ @ @ @ @ @ @ if she \\'s dead Wang , you got mail It \\'s hot outside . Come and have a seat Have some tea Busy ? Yeah , the past few days has been killing ! A lot more people at the festival this year ! You ought to take your girlfriend along I do n\\'t have a girlfriend You \\'re kidding Where \\'s Mrs . Wang ? Can you not mention her ? Where has she gone ? I do n\\'t know where she has gone Mind your own business , kid This letter is from my wife Marble , Marble Oh , you are here ! Shorty has been calling you many times Must have found something new What did she say in the letter ? She ran away with someone Now she \\'s with someone else She told me not to think of her Even though we ca n\\'t be a couple She still thinks of writing to me I knew she is a good girl Just the men are bad That \\'s good . That bitch is gone Thank God , we \\'ll have peace now Do n\\'t @ @ @ @ @ @ @ @ @ @ is murdered What ? I go back to answer the phone Grandma said many girls ... worried that they ca n\\'t immigrate in 1997 So they all wanted to marry an old foreigner Those old men are so ugly ! More ugly than Wang You see , I do n\\'t even have time for toilet Old Wang , just a woman One left . More to come I would get you a good girl later Grandma Everyone will quarrel after getting married Stop being a match-maker If I do n\\'t help them make the match ... They will have no-one to quarrel with Let \\'s go home What a crowd ! Look How much is a pack of tissue ? Fifty cents What \\'re you doing ? Idiot I told you Wang \\'s wife is dead No , lousy kid I kept a secret for you What secret ? I wo n\\'t tell anyone About you and Wang \\'s wife Grandma Xiaoji Xiaoji Xiaoji Xiaoji Marble , get dressed . We go to pray Grandma is bad . You killed my Xiaoji You \\'ll have to compensate No other chicken @ @ @ @ @ @ @ @ @ @ doing ? I \\'m gathering the fire wood Oh , do n\\'t sit here Sit over there It \\'ll dirty your pants And you \\'ll need your Grandma to wash it I do n\\'t care What did she do ? Did she make you angry ? She \\'s a killer Jin Bao , faster Yes Shorty , Shorty The village chief gave me 10 dollars to catch grasshopper for the bird And you wo n\\'t investigate my case ? All those you mentioned as missing are still alive I do n\\'t know if you \\'re telling the truth That \\'s no fun I did n\\'t lie to you Please help me , okay Unless ... Unless what ? Unless you let me be the commander Well , you listen to me whatever I say The mission we have tonight ... is to search the suspects and evidences Especially that watchband Yes , especially the watchband Jin Bao , you watch number one to fifteen I \\'m terribly afraid Jin Ju , you watch number to thirty Especially my dad , he \\'s fierce How could your Dad be the murderer @ @ @ @ @ @ @ @ @ @ killer , I \\'ll get him You watch all the shops Okay You watch the pigsty and the doghouse You must obey the order You gather information How come I have nothing to do ? Because you walk slow That \\'s true Fine . I \\'m sick of girls crying You take my post Women are troublesome Everyone take a firecracker as weapon , pass it Use it only if you see the enemies The enemies are tough Be careful . It \\'s life-threatening Understand ? Yes Okay , let \\'s go Go If anything please say it now You do n\\'t speak and did n\\'t let me either You wo n\\'t understand even if I say it Has your husband been found ? In this situation Spreading out is n\\'t the worst . At the most we could flee How \\'d that help ? I am not afraid of getting caught I know I am poor All you love is money Help ! Help ! Shorty , do n\\'t be afraid Do n\\'t be afraid Come back Shorty \\'s spirit , come back Do n\\'t be afraid Shorty \\'s @ @ @ @ @ @ @ @ @ @ ? Who is it ? Ghost ! Open up your eye Shorty , recover Let \\'s stop the investigation , okay ? We just want you to recover Yes Yes , do n\\'t be like that Shorty , do n\\'t be afraid ... please ! Shorty \\'s spirit , come back Shorty \\'s spirit , come back What took so long ? Is it okay ? It \\'s not done yet Mine is fit for eating ? Marble , come to eat Shorty \\'s gone mad . I have no appetite Hey , come over I \\'ll let you be the host . Come It smells great Fire \\'s up It \\'s ready Do n\\'t kill her Are you alright ? Grandma will never kill your chicken I \\'ll buy you another chicken tomorrow I swear I \\'ll never kill your chick You hear me ? What \\'re you doing ? It \\'s all your fault I could watch you once I ca n\\'t watch you forever I \\'m not willing to do that I did n\\'t hate you We had been a couple before I \\'ll burn more food @ @ @ @ @ @ @ @ @ @ \\'ll offer some Chau Yun Fa \\'s photos , too Wang ... I need to talk to you urgently Open the door Wang , I have something to tell you You \\'d better brace yourself for this Do n\\'t be shocked out of mind Actually your wife is dead I knew you would be stunned Relax and listen to me The letters you got It \\'s all a farce It \\'s actually the postman The postman did it After he killed your wife ... He forged her letter to you He knew how The school taught us ... how to write to ourselves Let me see the letter . Quick Then I \\'ll get it for myself So , will you leave ? Where do we go ? To Mainland China , okay ? Whatever You do n\\'t leave until you got trouble Now you got trouble Will this all ever be exposed ? Did you leave any evidence ? The trouble is the letter you wrote What letter ? The letter you forged in her handwriting I had never written any letter So the letter Wang had received ... @ @ @ @ @ @ @ @ @ @ Marble Come . Eat something This is yours Go on ! How come I have more ? And you have less ? You take this bowl It \\'s okay for kids to eat more It \\'s sweet and tasty . Eat now Where \\'s the letter ? Oh , I forgot where I put them Eat ... It \\'s new Yes . Eat while it \\'s hot Relax , Wang Everything will come out fine He ca n\\'t run away I \\'ll move on Or grandma will scold me , bye Bye Brother Yao Where were you last night ? It \\'s late . Time to go Are you ready ? Yes You \\'re always the last Let \\'s go Where \\'s Marble ? Marble is up the hill with Wang Ready , go You see , it flies high It \\'s great It \\'s beautiful Marble , you fly it It \\'s fun Be careful . Be careful What happened ? Marble , Marble What are you doing here ? There \\'s a kite there Yes , go have a look You see Jin Bao , be careful Be @ @ @ @ @ @ @ @ @ @ down It hurts Murderer It \\'s not us He fell down by himself . It \\'s not us Where \\'s Marble ? She was just here Help ... ! Help ! Help ... ! Help ! Mister Postman ... Do n\\'t be afraid Help me Mister Postman Help me Mister Postman Marble , grab my hand Wang Inspector , see Let me Mr . Butterfly give you a lesson Do you know how to act ? Your first day at this , huh ? Sorry , Brother Lang Sorry Hey , what \\'s up ? What \\'s the matter ? They are all fools Yes , he \\'s a fool Be smart Once again Let \\'s do it again One try is okay Calm down Come again Do it better All standby Ready You \\'re shooting movies ? Master , who do you fight with ? That \\'s Wan Ji Lang ? Want a drink , master ? Who \\'s the director ? The one in red glasses A woman Yes Oh no , fell down ! Brother Ji Lang , you okay ? What \\'s wrong with you ? @ @ @ @ @ @ @ @ @ @ , come over Coming It \\'s my turn . Do n\\'t run around It \\'s all yours Yao Ju . Memorize those moves Act better Ready All standby Do it better Do n\\'t make trouble Ready ? Action ! Cut Okay Move the machine here Move it over Come , over here Like that ? Okay ? It \\'s fine You said you \\'d go to Mainland with me Really ? Of course you ca n\\'t remember I did Did you see me shooting movie ? A little bit Next week I \\'ll go to London I will write to you when I arrive You better not go If you do n\\'t go , you do n\\'t need to write You \\'d pay for my living , huh ? No big deal I do n\\'t know what to say That \\'s rubbish Okay Take care Mister Postman Marble , are you alright ? Yes Marble ... It \\'s for you Is it good ? Do you like it ? \\r\\n',\n",
              " b'@@3512517 I \\'m \\' most frightened to death . Sure , after you \\'ve done it eight or nine times , you wo n\\'t even give it a thought . - Gee , Dot , you look swell . - Am I all right ? Lovely . dddd Well , there goes the maiden \\'s prayer . I wonder how I \\'ll act . It \\'s like diving overboard-you never know how the water \\'s going to be till you hit it . - I \\'m so nervous . - Say ... if I could look like you in a wedding gown , I \\'d be a bigamist . Come on . dddd I say , is n\\'t that girl in the bride \\'s outfit a new model ? Why , yes . She \\'s a salesgirl downstairs . We \\'re trying her out . She \\'s got my okay . These guys usually make wisecracks . Do n\\'t let it bother you . I know all the answers- men have been insulting me for years . Say , beautiful . Doing anything tonight ? I \\'m taking my two pet fish out for a drive . There \\'ll be @ @ @ @ @ @ @ @ @ @ Do n\\'t talk back to them . You \\'ll get fired . When they deliver baloney at my door , I always give them a receipt . dddd Honestly , if I ever met a fella ... that did n\\'t try to date me up right off the bat , I think I \\'d fall on his neck . He \\'d probably be too weak to hold you up . Oh , men are all alike . Rich or poor- when it comes to women , they \\'ve only got one idea in their head . Take those fellas out there today- When they did n\\'t try to date you up ... you could tell what they were thinking by the way they looked at ya . And it is n\\'t only those swell society guys either . Ridin \\' the subways during the rush hour , fellas brushing \\' up against you-you know what . Or sit in the theater . Right away some stranger ... takes a seat next to you and that knee business starts . - You said it . - Do n\\'t I know it @ @ @ @ @ @ @ @ @ @ . - Good night . After all , I guess nature made men that way . It \\'s their great weakness . And how we women encourage that weakness . - Well , I don\\'t . - Oh , no . I know you do n\\'t , Dot . - Oh , Mlss Haley . - Yes , Mr . Thompson . - Good night , Dot . Good night . - So long . I just wanted to tell you how awfully well you did this afternoon . - Oh , thank you so much , Mr . Thompson . - You were marvelous . It \\'s been such a hot day- I thought you might like to take a drive . Oh , I \\'d just love to , Mr . Thompson , but , you see ... - my husband \\'s a prizefighter . - Oh . Yes . And he heard about a fella here in the store who tried to make a date with me ... and he \\'s waiting downstairs now to beat him up . - Well - Oh . - Yes . @ @ @ @ @ @ @ @ @ @ take the ride , I had nothing wrong in mind . Oh , no , Mr . Thompson . You see , I never think of things like that . Well , good night . Gee , Dot , that husband prizefighter gag \\'s a pip . I \\'m gon na use that one too . - Do n\\'t men ever think of anything else ? - Well , hardly ever . dddd dddd What are you looking at the river for , baby ? You ai n\\'t expecting anybody , are ya ? Yeah , my grandfather \\'s swimming in from Europe tonight . I got ya . Well ... when the old guy gets here , give him my best regards . You think you can spare any ? Hey , Dot . - Hey , Dot . Come on . I \\'ve got something to show ya . - What ? - There \\'s a fella over here who wo n\\'t flirt . - There ai n\\'t no such animal . - On the level . - His wife must be watching him . No , he @ @ @ @ @ @ @ @ @ @ tumble . A girl ca n\\'t get a tumble ? Wan na bet a quarter ? - That you can make him speak to you ? - Yeah ! - All right . A quarter . - The bet \\'s on . Where is he ? Come on . dd d You want a little sweet Come , come , say pretty please d d Come on , baby and beg for it d d You want a little kiss So pucker up like this d d Coax me nice and gentle , baby d - d Maybe I \\'ll fall dd - Hey . Do you have to do that ? - I \\'m singin \\' . - I had an aunt once who used to make noises like that . She called it \\' \\' neuraliga . \" Neuralgia must run in your family . Yeah ? Well , listen , kid . If you want to prove that something runs in your family , this is the spot . You got a clear deck . - I do n\\'t know whether I won or not . - @ @ @ @ @ @ @ @ @ @ bet her a quarter she could n\\'t get you to talk to her . - Which one of us wins ? - Oh . So you \\'re a couple of them smart janes , huh ? No , we \\'re not . But almost every fella we meet makes a pass at us . When my girlfriend here said you would n\\'t flirt , I just could n\\'t believe it . I suppose you think when you pass by ... guys just naturally drop dead . - No , I don\\'t . - If you do n\\'t want them to flirt with you ... what do you dress like that for ? You wear those clothes for what ? To show off the curves of your body . Look at the waist . What \\'s that so low for ? Yeah . So some guy can get an eyeful . And your dress is deliberately made for the wind to blow up over your knees . Listen , sister . If you do n\\'t want guys to salute ya , take down your flag . You \\'re like all other @ @ @ @ @ @ @ @ @ @ , you wan na call out the police . And if he do n\\'t , you wan na call the army . - You do n\\'t seem to like me . - I think you \\'re a pain in the neck . Well , my name is Dorothy Haley . You ai n\\'t kiddin \\' me a bit . You \\'re like all the other fellas . You just have a new line . That \\'s all . - You \\'ll be making a pass at us yet . - We \\'d make a great team- with my- and your conceit . - Oh , hello , Edna . - Hello there , Jane . How are you ? - Hey . My sister \\'s over here . Come over , will ya ? - Okay . - d Come on , baby d - Hey . Hey . - d You want to dd - Please . Please , will ya ? My nerves . dd Hey . Ai n\\'t there any other tune you can almost sing ? You ai n\\'t told me your name . - Joe @ @ @ @ @ @ @ @ @ @ . He drove a Ford . Did you ever meet him ? Well , I might \\'ve , at that . No . No . The guy I knew drove a Chevrolet , and his name was Fred . No . It could n\\'t have been the same guy . - Oh , you \\'re quite a kidder . - Yeah , you \\'re pretty fresh yourself . Just fresh enough . Say , what makes you such a grouch ? Janes like you . You work all day in some store ... and then you rush home to sleep at night in some stuffy tenement . And you \\'ll be content to do it for the rest of your life ... because you \\'re just a good-time girl . This is where you wan na be , with a lot of saps like that ... yellin \\' their heads off and thinkin \\' they \\'re enjoying themselves . You ai n\\'t got brains enough to realize ... that now is the time you ought a be saving your money ... and trying to make something better of yourself . @ @ @ @ @ @ @ @ @ @ ? - I \\'m here to get fresh air . But you notice I ai n\\'t spendin \\' any dough on you , do n\\'t ya ? Not even an ice cream soda . Say , listen , you big stiff . If you think I \\'m worried ... about you buying me an ice cream soda , you \\'re crazy . I would n\\'t be found dead with ya . Thanks for bringing me home . I had a swell time . Okay . Well , do you want to see me again ? Oh , I should say not . But accidents will happen . Well , I got ta go . I got ta go upstairs now . You see , my mother \\'s dead , and my brother \\'s boss of the house . He gets sore when I stay out late . You know , he \\'s careful for me . But as Edna says , you ca n\\'t watch a girl hard enough ... to keep her good if she do n\\'t want to be . Get 10 cents\\'worth of potato salad too . @ @ @ @ @ @ @ @ @ @ flat all smelled up again . Oh , I know what to get . Gee , I wish she would n\\'t holler down the stairs that way . It do n\\'t give the house no class . My mother always used to holler down the stairs . She did ? Yeah . So \\'s my old man . He sold his coat for a drink and caught pneumonia . He was a terrible lush . Gee . My old lady was nice though . - Hello , Dot . - Hello , Paula . Geez . Everything lives in this house . Nobody \\'ll speak to her anymore but me . It makes my brother sore when I do . But as Edna says , nobody knows whether a person \\'s good or bad but the person themselves . And they wo n\\'t tell . This Edna jane does most of your thinking , do n\\'t she ? Edna \\'s swell . She \\'s got a kid almost seven . She \\'s a widow . Jerome 7 ... 4-7-5-3 . Her mother \\'s been awful sick . Hello ? Esther @ @ @ @ @ @ @ @ @ @ Esther ... you got ta control yourself . 9:15 . I had just looked at the clock . You better stop in at Mr . Levant \\'s . Esther , you got ta get ahold of yourself . There \\'s things to be done . Good-bye . Your mother , Mrs . Gardner ? - Yes . - Oh , I \\'m so sorry for you . Thanks , Miss Haley . Still stays hot out , do n\\'t it ? Do you want me to go up with you , ma\\'am ? Thank you very kindly . I \\'m all right . I \\'m just a little tired , I guess . Good night . - Good night . - Good night . You know , a tenement house like this is awful funny . Here her mother \\'s dead on the fifth floor . And only this morning ... on the second floor ... Mrs . Mills had a new baby . Yeah ? Well , she did n\\'t do that kid no favor . - What do you mean ? - I mean bringing it into the @ @ @ @ @ @ @ @ @ @ take care of it . Oh , Joe , that \\'s a terrible thing to say . What \\'s the kid got to look forward to ? Starvin \\' himself to death in some tenement . Born on the second floor and ... probably die on the fifth . His whole life spent in climbin \\' three flights of stairs . - Oh , Joe , you \\'re terrible hard . - Yeah ? Well , here \\'s one guy \\'s gon na beat this game , see ? No poverty , no pinching \\' , no scrimping \\' for me . I got $580 saved up , see ? In a couple of months , I \\'m gon na have my own radio shop . Yeah . Gee , there are a lot of things in life besides just money . Yeah . Sure there \\'s a lot of things in life beside money . But you got ta have money to find them . Well ... I got ta go now . My brother will lay me out in lavender . I went to Coney Island once and @ @ @ @ @ @ @ @ @ @ . He hit me in the eye . - He did ? - Yeah . - Say , do you want me to go up with you ? - Oh , no . - That \\'d only make it worse . - Yeah ? Well , no guy \\'s gon na hit any jane I go out with , brother or no brother . Oh , he just wants to see that I keep straight . - But as Edna says-- Ah , who cares what Edna says ? Well ... I got ta go now . I told you not to bring any Llmburger cheese In here . I wo n\\'t have the flat all stunk up ! Well , It do n\\'t smell after It \\'s eaten . There \\'s a tenement for ya . A woman dies , a baby \\'s born ... and a guy \\'s wife wo n\\'t let him eat Limburger . Gee , you \\'re a funny fella , Joe . In fact , you \\'re the first guy I ever went out with that did n\\'t try to get fresh . Well @ @ @ @ @ @ @ @ @ @ , you know , I like you an awful lot . Okay . You \\'ll probably be just nutty enough to call me up at the shop . The number \\'s Schuyler 4 ... 6-5-8-3 . Four , 65 , 83 . That \\'s the way I always remember numbers . Well , good night . So long . Hey . Walt a minute . My name ain\\'tJoe . It \\'s Eddie Collins . Just a moment . Oh , Eddie . Oh , Eddie , uh , will you have this gentleman \\'s set finished by tomorrow morning ? Yes , sir . I \\'ll work on it tonight . You \\'ve got a great set . - Mmm . Your wife will enjoy that . - Oh , I have n\\'t any wife . - Oh . - That \\'s why I \\'m able to pay $300 for a radio . Well , there \\'s something to that . Of course , if you keep your radio turned on all the time ... you have the effect of a wife anyway . - Yes . - Oh , @ @ @ @ @ @ @ @ @ @ fella \\'s got the right idea . Eddie , now , you take a lesson from him . Do n\\'t get married . Not a Chinaman \\'s chance . He \\'s been getting a lot of telephone calls lately , Mr . Lathrop . - Ah . - Well , I \\'d hate to see you making any mistake , Eddie . Why , you can have your own little place in six months . - But not if you let a woman get a hold on ya . - Oh . I never even think about it . That \\'s the danger . Do you suppose any man would ever marry if he thought of it ? Why , I ca n\\'t even talk to a girl . You know , it \\'s funny about me that way . I \\'d like to be nice to women . You know , say nice things to them , like fellas can . I ca n\\'t though . I think of nice things to say . But when it comes to putting \\' em into words-I only say something sarcastic and @ @ @ @ @ @ @ @ @ @ ? - That \\'s a laugh . - Well , I hope so . Yeah . Hey , sheikh . Hello ? Hello , stupid . How are ya ? Sure , it \\'s me . Yeah . The same place . In front of Loft \\'s candy store . Listen , unconscious . Be on time . I ai n\\'t waiting \\' for any dizzy janes on a street corner , see ? Yeah . 7:30 . Okay . Uh-uh . Oh-Waiting for me , baby ? - I \\'m waiting for my husband . He \\'s the cop on this beat . - Excuse me . Yeah . - I was just going . - Well , ai n\\'t that swell . Say , you got a lot of nerve letting me stand out there in the pouring rain . Gee , I did n\\'t know it was so late . I got to foolin \\' around with this thing . Ai n\\'t it a pip ? It \\'ll bring in anything from KGO to L20 . - No kidding . - Yeah . Sweet job , huh @ @ @ @ @ @ @ @ @ @ I had to do with it . What do I care what you had to do with it ? I \\'m not Marconi ... or Edison or whoever invented the thing . - I \\'m standing out there-- All right . My mistake . Radio \\'s my job . I \\'m gon na have my own store soon . - I thought you were interested in my work . - I am interested , Eddie . But , gee , I got a right to be sore , standing out in the rain like that . Well , after all , you ca n\\'t saw sawdust . What kind of a crack is that ? \\' \\' You ca n\\'t saw sawdust . \" I mean it \\'s done . All I can do is say that I \\'m sorry . - Do you forgive me ? - Well , I got a right to be sore . All right . You \\'re sore . What are you kicking about ? - Well , I got a right . - All right . - Well ? - Well ? Aw @ @ @ @ @ @ @ @ @ @ , come on . Come on . Come on . Say it . Come on . Come on . Okay . How \\'d you ever find the place ? I remember you said it was on the third floor in the front . Come on . Take your coat off and stay a while . Oh , no , Eddie . Let \\'s go to a movie , huh ? Ah , look . It \\'s raining cats and dogs out . - Well , I ca n\\'t stay here . - What \\'s the matter with this ? My brother would rip me apart if he knew I was alone with a fella in his room . Suppose your landlady found me . Gee , she \\'d think I was a tramp or something . Ah , they do n\\'t expect nothing raw here . This ai n\\'t no $12-a-day hotel . Ah , let \\'s wait downstairs then . It might rain for an hour yet . Let \\'s stay here where they have ashtrays and things . I got ta go . Besides , it ai n\\'t @ @ @ @ @ @ @ @ @ @ you . - Did I ever get fresh with ya ? - No . But I ai n\\'t that kind of a girl . I do n\\'t go to fellas \\' rooms . Listen . I got other things to think about , see ? I \\'m gon na have my own store soon . I was talking to the boss about it only today . Oh , gee , Eddie . That \\'ll be swell . None of that mushy stuff for me . - Give us a kiss , will ya ? - Oh . None of that mushy stuff , huh ? Ah , well , a little of it \\'s all right . - Come on . Take off your coat and stay a while . - Oh , no . I ca n\\'t . Oh , no . - Eddie , now-- Come on . Take it off . Come on . - Take that hat off . - Stay - Oh , no . - Eddie , I \\'m not gon na take my hat off . - Come on . - Oh , @ @ @ @ @ @ @ @ @ @ gee . I did n\\'t know it was as late as that . - Ah , it \\'s early yet . - Well , I got ta go . Stopped raining . Hey , lookit . There \\'s a fella trying to kiss a girl . Where ? - Here . - Oh , Eddie . Oh , Eddie , please do n\\'t . I got ta go . Aw , gee . You ca n\\'t be with me two minutes but you got ta pull that \\' \\' I got ta go \" gag . Aw , no . But you do n\\'t understand . I must go . You \\'d think I was poison or something . - Oh , no , but it \\'s getting late , and I ca n\\'t stay any longer . - I know . You got ta go . Aw , Eddie . Do n\\'t get mad . I \\'m not mad . But you \\'re always talking about \\' \\' I got ta go . \" Well , I do have to go . It \\'s only about 4:00 . Yeah @ @ @ @ @ @ @ @ @ @ in my life . Oh , my brother will kill me . Aw , gee , kid . Please do n\\'t do that . If I could only find Edna . Aw , ca n\\'t you do anything without Edna \\'s help ? My brother \\'s stuck on her . If she was there , he would n\\'t be sore at me . At least he would n\\'t holler . He \\'s got a terrible temper . Well , you want to go over and try Edna \\'s house again ? No . If she was there , she \\'d open the door . She must be sleeping at her aunt\\'s . - Come on . - What are you gon na do ? I \\'m goin \\' up and tell your brother you were with me . No . You ca n\\'t go up . There \\'d only be a fight . Aw , there would n\\'t be any fight . He \\'d make one crack , I \\'d hang that in his jaw , and the fight would be all over . Oh , gee , Eddie . @ @ @ @ @ @ @ @ @ @ - Oh , do n\\'t just say ... - \\' \\' Okay . \" - Aw , gee , kid . I ai n\\'t much , and ... well , you-you know ... words do n\\'t seem to-- Aw , what are you bawling for ? - Oh , Eddie . Aw , gee , kid . I \\'m sorry . It \\'s all my fault . Me staying out till 4:00 in the morning . What \\'ll I do ? I tell ya . You can say we were gon na get married . - Oh , he \\'d find out we weren\\'t . - How ? When we did n\\'t . Well , we would . - We would ? - Would ya ? You mean you\\'re- you \\'re asking me to marry you ? Yeah . Oh . Oh , sure I will , Eddie . Okay . I \\'ll love to marry you , Eddie . You \\'ll never be sorry or anything , honest you won\\'t . - But I never thought you meant we \\'d really get married . - Neither did I . @ @ @ @ @ @ @ @ @ @ to back out , I won\\'t-- Oh . - So you want to make an argument out of it , huh ? - No . Listen . I never back out ever , see ? And let me tell you something . You ai n\\'t putting \\' nothin \\' over on me neither . - I don\\'t-- Not a thing . If I did n\\'t think ... you were the swellest jane in the world , I never would have given you a tumble . For me , nothing but the best , see ? So if you \\'ve got any idea in your nut that I \\'m the kind of guy ... runs around asking any jane to marry him , you \\'re crazy . Oh , gee , Eddie , you \\'re a scream . Why , you can-you can even make a fight out of a proposal of marriage . But you ai n\\'t kiddin \\' me . You try to make out you \\'re hard-boiled ... but you \\'re not really . Why , you \\'ve got a heart as big as anything . - And @ @ @ @ @ @ @ @ @ @ of a fella a girl can depend on . I was in love with you almost the first time we met . Oh , you \\'re fine and decent and tenderhearted . Oh , Eddie . You \\'re just the sweetest guy in all the world . - Okay . - And we can be happy . Lots of people are married and happy . I \\'m sick and tired of It . ... while you stay out till 4 . ? 00 In the morning-I said enough Is enough ! Get out , you pig ! That \\'ll never happen to us . - I should say not . - Well ? - Do you want me to go up with you ? - No . I \\'m not afraid now . I \\'m not afraid of anything now . You know ... it \\'s sort of like not being alone anymore . Yeah . It is like that , ai n\\'t it ? When \\'ll we be married ? In the morning . And I \\'ll take the day off . Say ... I \\'m kind of happy @ @ @ @ @ @ @ @ @ @ that ? Oh , Eddie . Good night , kid . Good night , darling . - Eddie . - What ? Husband . Okay . Hey , cab . Hello , Edna . What are you doing here ? Jim come over to my house about an hour ago to see if you were there . He was worried about you , so I came back here with him . I , um - I could n\\'t remember the name of that hospital ... you said you were going to to visit that girl . She must be worse , huh ? Your staying there until almost 4:00 . You mean well , Edna , but that \\'s a lot of hooey . - Where were ya ? - Where do you think , Edna ? - I \\'m gon na get married . - No . So , it \\'s as bad as that , huh ? What do you mean it \\'s as bad as that ? I thought girls brought their fellas around and showed them off first to their families . They do in families @ @ @ @ @ @ @ @ @ @ Well , not that you \\'d have brains enough to know it ... but I \\'ve been a pretty good brother to you , see ? I \\'ve been a father and a mother to ya . I \\'m supporting this house . And you \\'ve got some nerve comin \\' in at 4:00 in the morning ... tellin \\' me that you \\'re gon na get married . Why do you object ? You do n\\'t even know the fella . No , but I \\'m going to . Bring him around . Let him meet your family , like any decent fella would want to do . And after a while , if I think he \\'s all right ... you can marry him . - After a while ? - Oh , that gets a rise out of you , does it ? I thought it would . One of them rush marriages . - What do you mean ? - You know what I mean . - You do n\\'t know that I did anything wrong . - I can put two and two together . @ @ @ @ @ @ @ @ @ @ You can prove that you \\'re not . You tell me that you \\'ll wait , or I \\'ll know that you got ta marry this guy . And if that \\'s the case , I do n\\'t want you in the house . - Now , what do you think about that ? - Where \\'ll I go ? Go back where you come from , you little tramp . And get out now . You wo n\\'t take any clothes with you either . I paid for every rag you got on your back . Go on . Get out . You deserve everything you \\'re gettin \\' . Sure does . A girl brought up under the influence of a fine brother like you got . You \\'ll probably end up in the streets . That \\'s what you got in your mind , ai n\\'t it , Jim ? And I wo n\\'t be sorry for her either . No , I do n\\'t expect you to be sorry for her , Jim . But let her have her clothes . - I paid for \\' @ @ @ @ @ @ @ @ @ @ . Let her find out there ai n\\'t another man who \\'ll treat her as white as her own brother did . Go on . Let her have her clothes . All right . Get \\' em , and get out . Hey , Dot . Hey . - Where you goin \\' ? - With the kid , you big bully . You called her a tramp , did n\\'t ya ? Just because she stayed out until 4:00 in the morning and you suspect where she was . Well , I stayed out until 4:00 in the morning , and you knew where I was . So I got a pretty good idea what you think of me . I \\'ll see you in the cemetery . Go on , Dot . Wake up , Dotty . Wake up . Hello , Floyd . Ma just hollered across the air shaft ... and said that she was makin \\' breakfast for a new bride . Are you a new bride ? Yes , darling . I \\'m going to be today . - What \\'s an old one @ @ @ @ @ @ @ @ @ @ on . Run along and play now . Aw , I wan na see Dotty get out of bed . You get out of here . I wan na see Dotty get out of bed . And at his age . - What time is it ? - Almost 11:00 . - I phoned the store and said we were both sick . - Has Eddie come yet ? - Nope . - He has n\\'t ? - Not yet . - I wonder why he does n\\'t come . - Maybe it \\'s \\' cause he does n\\'t know I \\'m here . - That \\'d be a good reason . He certainly would n\\'t come to see me . Oh , he does n\\'t really dislike you , Edna . No , not dislike . He hates me . And it is n\\'t just an average , everyday , amateur kind of hatred either . I \\'ll bet that guy spends hours practicing hating me . Aw , that \\'s just his way . You know , he \\'s kind of funny . That would be great . @ @ @ @ @ @ @ @ @ @ , gee , Edna , it was swell the way you came through for me last night . - I \\'m awful grateful to ya . - And I \\'m grateful toJim . - He saved my life . - How ? Just suppose he did n\\'t turn out to be a heel last night . I \\'d have been married to him in three months , and after being nicely cemented ... with a wedding ring , the church service and everything ... I \\'d have found out what he really is . Yes , sir . He saved my life- \\' cause they send you to the chair these days for killing your husband . In the name of goodness , what are you doing ? - I \\'m trying something , but it wo n\\'t work . - What wo n\\'t ? I put some black ink in the white milk ... and the white milk turned black . But when I put the white milk in the black ink , the black wo n\\'t turn white . Put that ink away and clean up that mess @ @ @ @ @ @ @ @ @ @ what time Is It now ? It \\'s a little after 11:00 . - Where \\'d you put my stockings ? - Why , I put \\' em , uh-Is this Mrs . Cook \\'s boardinghouse ? Well , is Mr . Collins there ? Collins . Eddie Collins . He what ? He moved away ? Well-Well , he lived there last night . He moved away this morning ? Well-Well , did he say where he was moving to ? What \\'s the matter ? - He \\'s walked out on me . - Do n\\'t be a goof . He has . Oh . I wish I was dead . We all get that wish someday . Call up his store . Do you know the number ? Schuyler 4-6583 . Schuyler 4-6583 . And hurry it up , deary . There \\'s a fire . Here . Hello ? Hello , Lathrop Radio Shop ? Well , can I speak to Mr . Collins , please ? Eddie Collins . Never mind the wisecracks . He \\'s there , I wan na speak to him . @ @ @ @ @ @ @ @ @ @ to . Fresh guy trying to flirt with me . He what ? He was fired ? What for ? He said he was fired for robbin \\' the cash register . Well , you \\'re all right then . If he \\'s lost his job , it \\'s a cinch he \\'ll be here to marry ya . I ca n\\'t tell whether the fella was kiddin \\' or not . There he is now . See ? All of your troubles for nothing . Oh , gee , and I \\'m not dressed or anything . Oh , give me those stockings . I do n\\'t wan na subscribe to any magazines . I do n\\'t care if you \\'re working your way through the penitentiary . - Was that him , Edna ? - No . A book agent . Oh . What am I gon na do ? Now , stop worrying . If Eddie is only half the guy I think he is , he wo n\\'t let you down . That \\'s the trouble with us women . If we \\'d only realize that-Something @ @ @ @ @ @ @ @ @ @ ? - I \\'m cookin \\' it for ya . - A whole pound of butter . I told you a piece of butter , not a pound of butter . A pound \\'s a piece . I \\'ll go , Edna . Oh , darling , you \\'re driving me crazy . Get out into the hall . You \\'ve done all the damage in here that you can . See if you can ruin the wallpaper . - Shall I do it with a knife ? - Get out of here ! - Was n\\'t him , huh ? - No . A man selling-For goodness \\' sake , take that long face off . This is your wedding day , not your funeral . He \\'ll be here . There \\'s a mistake somewhere . That \\'s all . Yeah , last night- that was the mistake . Do n\\'t be silly . He \\'ll be here . Oh , but I love him so much . Well , you can still love him and have a cup of coffee in your stomach too . I do @ @ @ @ @ @ @ @ @ @ anything again . - Fine . Then have a glass of milk . - I do n\\'t want any milk . Oh , come on . Have a glass of milk . It \\'ll do you good . You know , the first thing that you have to learn is-I \\'m getting hysterical . Open the door , Floyd . And if it \\'s a man selling coffins , tell him we \\'ll take two . Who \\'s dead ? Oh , Eddie ! - What \\'s the matter ? - Nothing . Say , listen . You \\'re going to be a married man . The first thing you have to learn is to get accustomed to your wife \\'s tears . I was over to your house , and they said you was n\\'t there . So I took a chance and come here . I called up your house , and your landlady said that you \\'d moved . I got a bigger room across the street . My landlady was sore . That \\'s why she would n\\'t tell you where I went . And they @ @ @ @ @ @ @ @ @ @ stealing . They were kidding \\' ya . Oh , Eddie , I \\'m so happy . - Okay . - Now maybe you can eat some breakfast . We \\'ll eat downtown . We got ta get goin \\' . Go get your things . Her master \\'s voice . - Do you know how to get there ? - I \\'ll find out . - I \\'ll tell ya . You take the subway to City Hall . - Yeah ? When you get out of the train , you walk straight ahead and turn to the right . There are two exits there . You take the one to the left . Understand ? - Yeah . - Then when you get up on the street ... - you walk straight ahead-- I \\'m gon na take a cab . I \\'ll tell you which cab to take . Hey . Whose wedding is this , yours or mine ? Oh , Edna \\'s just trying to help us , Eddie . You was n\\'t on the other side when they had the war , were ya @ @ @ @ @ @ @ @ @ @ I was wondering how they ever got along without you . I phoned my orders over . Wo n\\'t you come down and see us get married ? No . I hate those things- deaths and funerals and things like that . Oh , gee , Edna . I can never thank you enough for all you \\'ve done for me . Oh , that \\'s all right , kid . I only hope you \\'re gon na be awful happy . If she ai n\\'t , you \\'ll hear from me , you big stiff . Okay . - Good luck . - So long . Good-bye . Oh , darling ! Night , now . - Hello , darling . - Hello . - What \\'s this ? - Oh . Just a couple of hunks of candy . Oh , gee , Eddie . - You know why ? - Sure . Because you love me , do n\\'t ya ? Ah-- Oh , say it . - What ? Say \\' \\' I love you , darling . \" Right out in all the light ? @ @ @ @ @ @ @ @ @ @ . Ten weeks ago today we got hitched . Aw , gee , it was sweet of you to bring me the candy . And I got news for ya . I found a store . The boss is gon na lend me a hundred bucks ... and with the 650 I got saved up , I can swing the deal . He \\'ll let me have all the radios I want on time . - What do you know about that , huh ? - That \\'ll be swell . Of course , we may have to pinch nickels for a while but ... in the end , it \\'ll all be jake . - Gee whiz , I \\'m a happy guy . - Are you , Eddie ? Yeah . I been thinkin \\' about having my own store for over two years now . And while I ai n\\'t much on tossing \\' this baloney ... and all that mush stuff ... a guy could have a worse wife than you . - Ya little squirt . - Oh , Eddie . - I love you @ @ @ @ @ @ @ @ @ @ your hat and coat on , and I \\'ll take you over and show you the place . - Oh , I ca n\\'t now . - Why not ? I \\'m waitin \\' for Edna . She phoned she \\'ll be up in a little while . - Ah , what does she want ? - Well , I wanted to ask her advice about something . - About what ? - About-Well , about the store , see what she thinks of it . Oh , gee . It \\'ll be tough if she do n\\'t like it . Oh , Eddie , that \\'s not a nice thing to say . Here she is . Now , please do n\\'t be mean to her . Come in . - Hello , Dot . - HI , Edna . How \\'s the grouch ? I thought they sent you down to Washington ... so you could tell the president how to run the country . Ooh . They sent the president up to see me . Oh , do n\\'t mind him , Edna . - He \\'s @ @ @ @ @ @ @ @ @ @ looks it . - He \\'s gon na open his own store soon . - Hmm ! I heard Wanamaker \\'s were going out of business . They probably figured the competition would be too much for \\' em . I \\'m going down to the corner and get a paper . Come on . Sit down . I \\'ve got so much to tell you . - Still in love with him ? - Oh , I \\'m just crazy about him . Edna , I \\'m going to have a baby . Oh , Dot . - I \\'m afraid . - Oh , do n\\'t be silly . - My mother had eight of_\\'em . - Yeah . My mother died having me . Yes , but things are different now . You know , the hospitals are better , and the doctors and things . No girl minds it anymore . - What does Eddie say ? - He does n\\'t know . Well , why do n\\'t you tell him ? Well , his heart \\'s so set on having that store . It \\'ll @ @ @ @ @ @ @ @ @ @ do n\\'t know what to do . Edna , I \\'m so worried . You know , if the store \\'s gon na make Eddie happy , I want him to have it . - Sure . - When I think of what happened to my mother-Unless I had everything of the best- you know , the best doctors and everything-- I \\'d be frightened . - You poor kid . Now listen . This fella you \\'re married to is all right . He \\'s 100 ? /o . I know what \\'s the matter with him . He \\'s one of those sensitive eggs . Of course , he may not like me , but what the heck . Napol ? on had a couple of enemies too . Now you tell Eddie tonight . And if I know anything about men ... he \\'ll be stopping strangers on the street tomorrow , bragging about it . - Do you really think so ? - Oh , sure . All men are alike . They puff themselves up . You \\'d think they \\'d done something . - @ @ @ @ @ @ @ @ @ @ . - He will be . I do n\\'t know though . He \\'s always yelling about living in a tenement ... and what a sin it is to have children if you ca n\\'t afford to give \\' em everything . I do n\\'t think I read anything in the papers about him being born in the White House . He was awful poor . That \\'s why he thinks like that about it . Here he is . Do n\\'t say anything . - You still here ? - No . Dld you get your paper , Eddle ? I got down there , and I did n\\'t have any change . You can get one next week . They \\'ll have a dozen new murders for you by then . Here , let me fix that tie . - It looks like a unbent pretzel . - The tie is-You only wear it . Other people have to look at it . I do n\\'t know how you ever picked this jane out for a friend . - She \\'s the dizziest dame I ever seen . @ @ @ @ @ @ @ @ @ @ , Eddie . Look what I got ! Look what I got ! - Where \\'d you get all this stuff ? - Eddie give us 60 cents to buy it . Aw , he \\'s crazy . It was - Sixty-Oh , what did you wan na come up here for anyway ? Go on outside and play . Go on . Go on . Go on now . Get out of here . Thanks a lot , Eddie ! Gim me a slice of that cone down there . Poor kids . I found \\' em downstairs in that dark hallway tryin \\' to play games . They ai n\\'t got a chance in life . Eddie , did you give him the 60 cents ? Listen , I got better things to do with my money ... than throw it away on a lot of kids . Say , you \\'re a swell egg . What are you gon na sell in your radio store ? Never mind . The way you run people \\'s business for them ... if you start butting \\' in , I @ @ @ @ @ @ @ @ @ @ Well , I \\'m going . - Remember now . Tell him . - Tell him what ? Oh , nothing , Eddie . She \\'s got a secret for ya . Oh , she \\'s got a secret for me , but you know it . Geez , you \\'re runnin \\' my house for me , too , I see . - Sure . Bye , darlin \\' . - See you tomorrow . - Bye , grouch . - So long , dizzy . - What \\'s the big secret ? - I do n\\'t know whether you \\'ll like it or not . Hey , listen , kid . I \\'m so happy about the store , I \\'d like anything . Oh . Well ? What is it ? Eddie , I \\'m going back to work . - Back to work ? - Yeah . Hey , listen . No wife of mine is goin \\' to work . - What \\'d be the harm ? - I \\'ll do all the work that \\'s to be done in this family . - What @ @ @ @ @ @ @ @ @ @ Well-Well , it gets kind of lonesome staying \\' here all day all alone . Ca n\\'t you go to picture shows and things ? You just said we \\'d have to pinch nickels . Yeah , but I did n\\'t mean we \\'d have to pinch \\' em that hard . - You do n\\'t like livin \\' in just one room . Is that it ? - Oh , it \\'s all right . But I wish we had a flat of our own or something-you know , our own furniture . Ca n\\'t you see , Eddie ? If I went to work , you could have your store just the same . And with the money I make , we could-Do you think I \\'d take money you worked for ? - Oh , it \\'d be all right . - Not with me , it would n\\'t . My idea of a husband is a guy that looks after his wife and takes care of her ... and sees that she do n\\'t want for nothin \\' . If I ca n\\'t do that , @ @ @ @ @ @ @ @ @ @ money- you work all day- or let you use it for something that I ought to be payin \\' for . Listen . They got a name for guys like that . Oh , Eddie , I did n\\'t mean to make you sore . I ai n\\'t sore . But I ai n\\'t as happy as I was . You can lay that on a line . It was our 10 weeks anniversary . And I had the store all picked out and everything . And , say , when I come in here tonight , I was walkin \\' on air . This kinda crumbs it all up . Gee , I did n\\'t know you was n\\'t satisfied . Oh , Eddie , I am satisfied . It \\'s all right . Let \\'s not talk about it . - I \\'ll bet that Edna jane put that idea in your nut . - No , she did n\\'t . Let \\'s not say any more about it . You \\'re crazy to have the store , and it \\'ll make you happy . Well , that @ @ @ @ @ @ @ @ @ @ . I \\'m the husband , and it \\'s my job to make you happy . If a husband ai n\\'t for that , he ai n\\'t for nothin \\' . Gee , I told the real estate guy I \\'d meet him tonight . I ca n\\'t make up my mind about that sign . \\' \\' Eddie Collins \" or \\' \\' Edward Collins \" ? Course , \\' \\' Eddie Collins \" is all right for a saloon or somethin \\' like that . Nope , it ai n\\'t got class enough for a radio store . I \\'ll be back in 15 or 20 minutes . And I still think that Edna jane put that idea in your nut . I was afraid you was n\\'t comin \\' . What \\'s the idea of phoning \\' me to meet you here ? - Dot and me are movin \\' here . - You \\'re movin \\' here ? Sure . I got new furniture and everything . That \\'s why I asked you to come . I thought maybe you \\'d help me put \\' em @ @ @ @ @ @ @ @ @ @ in anyway , so I figured out you might as well do it in the beginning . You \\'re moving here ? Yeah . Dot told me that secret . What \\'s that got to do with your moving and spending your money ? She wanted to go to work . - You mean that \\'s the secret she told you ? - Yeah . So I put two and two together and figured out why . She wanted a home with nice furnishings and things . - Say , how much did all this cost you ? - I shot the bankroll . - Oh , no . - Yeah . - All you \\'d saved ? - Sure . This is a swell joint . The furniture man is takin \\' charge . I bought everything new- from soup to nuts . When it \\'s finished , it \\'ll look just like a home that somebody \\'s lived in for a long time . Some surprise for the kid , huh ? Yeah , but what about your store ? Well , I figured , why let her @ @ @ @ @ @ @ @ @ @ build up a business ? I might \\'ve made a flop of the store anyhow . Not that I would \\'ve . I \\'d have made a success of it . Do n\\'t get that idea in your nut . And you spent all your savings ? Sure . She \\'s worth it . She \\'s a great kid . You \\'ll have me crying in a minute , Eddie . What for ? You would n\\'t know . Come on . You never saw anything sweller than that parlor set I bought . Come on . Wait till you get a load of the bedroom . It \\'s got sheets and pillowcases and beds and everything in it . And the kitchen- We got a lot of pots and pans . It \\'s gon na be like a party . See , I \\'m gon na tell Dot that Pat and Sue have got a new flat ... and are havin \\' a housewarming and we \\'re invited . I asked a lot of the gang , and they \\'re in on it too . It \\'s gon na @ @ @ @ @ @ @ @ @ @ parties . And the big payoff comes when I say ... \\' \\' Well , kid , how do you like your new home ? \" What do you think of the idea ? - I do n\\'t know . - You did n\\'t think it up . That \\'s why . Hey , wait a minute . Do n\\'t put that great big chair over there by the divan . - That \\'s where the chair belongs . - No , it is n\\'t . It belongs over on this side . Have n\\'t you got any sense of balance ? - You would get your mouth in it some way or another . dd Hey , hey . Wait until they get here . Aw , have a heart . I have n\\'t had any supper . And do n\\'t drink up all the punch . Here they are . Listen , Pat . Remember , this is supposed to be your home . You \\'re the host . - Right . I \\'ll take off my coat and collar . - That ai n\\'t funny . - @ @ @ @ @ @ @ @ @ @ door . Go on . I did n\\'t even know that Pat had moved from 92nd Street . Sure . They got a swell place here . - Hello , Dot . How are you ? - Hello , Sue . - Hello , Eddie . - I did n\\'t know that you \\'d moved . Oh , I \\'ve been here a week . Come in . Hi , everybody . - Hello , Chad . How are you ? - Hello , Dot . - Hello , Pat . How are you ? - Let me take your coat . - Have a schnapps . - Oh , no , thanks . Oh , gee , Sue , this is swell . Pat must have murdered a millionaire or something . Hey , you ai n\\'t seen nothin \\' yet . Come on out here and I \\'ll show you the kitchen . You \\'d think this was his house . Come on . Let \\'s eat . A closet , and it \\'s got glass in it too . And a sink and a washtub . And @ @ @ @ @ @ @ @ @ @ where you keep your salt and pepper and spices and things . In the one marked \\' \\' Salt , \" you keep the salt . In the one marked \\' \\' Pepper , \" you keep the pepper . Gee , Eddie , ai n\\'t it swell ? Look at that darling table . The guy said it was the breakfast nook . Oh , Eddie , you think we \\'ll ever have a place like this ? - Would you like to live here , kid ? - Oh , gee , would I ? - Of course , we could n\\'t afford-- Why not ? Well , we could n\\'t afford the money now . Well , why now ? - Well , you wan na get your store first . - Yeah . Oh , yeah . That \\'s right . Say , wait till you get a load of the bedroom . Come on ! Say , if Eddie can get Dot a home like this , why ca n\\'t you get me one ? I thought that \\'d crop up . - Look at @ @ @ @ @ @ @ @ @ @ , kid . There \\'s a bed . You ca n\\'t buy a better bed than that- 65 bucks . - But how did you-- Oh , Pat told me . Come on . Feel it . Just feel it . Ai n\\'t this a bed ? Not like that old egg crate we sleep in . I \\'ve never seen you so enthusiastic . The house has sure made a hit with you . Come on . Now I \\'m gon na show you somethin \\' . Just grand . There \\'s the bridges over there . And there \\'s all New York to pick from . Ai n\\'t the lights great ? And the East River . And stars . Are n\\'t they beautiful ? Not phony one\\'s either . Gee , a roof like this would be a swell place for ... kids to play . Would n\\'t it , Eddie ? You know , they could get plenty of fresh air ... and their mothers would n\\'t have to worry about streetcars ... and taxis and trucks and things . You know , rich kids could @ @ @ @ @ @ @ @ @ @ it , do n\\'t you , kid ? Oh , I think it \\'s just grand . I \\'m awful glad for Pat and Sue . Okay . We better get back to the bunch now . You said it . Sue , it \\'s the grandest flat I ever saw . - I \\'m awfully glad you like it , Dot . - Oh , it \\'s sweet for anything . Dot , sit down . Here goes . Well , kid , it \\'s yours . - Mine ? What do you mean , mine ? - Sure . Yours . This is where you \\'re gon na live . I bought it for you . - You bought it for me ? - Sure . You know that secret about goin \\' back to work ? Well , I doped it out that you was n\\'t satisfied where you \\'re livin \\' . So this is the answer . - Well , what about your store ? - Thls Is It . You spent all your money for this ? I shot the works . - You @ @ @ @ @ @ @ @ @ @ n\\'t owe a nickel on It . Well , what do ya say ? I do n\\'t know . Do n\\'t seem to make such a hit with ya now . Naturally , Eddie . She \\'s surprised . You ca n\\'t get a thing like this through your head in a minute . - Did you know he was doing it , Edna ? - Yeah , I helped him fi ? x It up . Why \\'d you let him spend all the money ? Well , folks , it looks like a bust . Oh , no , it is n\\'t , Eddie . I think it \\'s just great . I \\'m tickled to death . - You \\'re the swellest husband any girl ever had . - Okay . Dot \\'s only disappointed for you , Eddie . She was so anxious for you to have the store ... she did n\\'t want you to spend the money for anything else . - That \\'s right . - Sure . That \\'s why , dear . You know I think it \\'s just swell . @ @ @ @ @ @ @ @ @ @ , a long time dead . Live while ya can . That \\'s what I say . When I think of the way my folks used to live . They did n\\'t have enough money to support themselves ... so they go and have nine kids . My old lady used to scrub floors in an office building . 4:00 every morning she went to work- sick or well , summer or winter . I can see her goin\\'out when It was 20 below zero ... with a cough that \\'d tear the heart out of ya . And for what ? To bring up a couple ofklds and die- dle before they was ever any comfort to her . Not for Dot . Every nickel I make , she and I are gon na spend on ourselves . - My sister died bringing up-- Oh , stop it ! Ca n\\'t you stop it ! You \\'d think there was nothin \\' else in the world to talk about . All right . There , there , dear . Shh . What \\'s wrong ? Dot \\'s going to @ @ @ @ @ @ @ @ @ @ , Eddle . No , she \\'s just a little hysterical . That \\'s all . We should n\\'t have talked about those things . - That \\'s right . I guess we shouldn\\'t . - Sue told me , but I forgot . Gee , everybody in New York seems to know about it ... but the only guy that \\'s interested . Oh , gee , Eddie , I wish you \\'d let me do that . Do n\\'t be crazy , will ya ? You \\'re goin \\' to the hospital in a few weeks . You know the doc told you not to do any hard work . I do n\\'t think he knows what he \\'s talkin \\' about . I do n\\'t like him . - You want me to get you a different one ? - No . If you ca n\\'t get the best , he \\'s as good as any of the others , I guess . He \\'s all right . I worry . That \\'s all . - About what ? - About everything . You having to do @ @ @ @ @ @ @ @ @ @ and pinching \\' every nickel the way you have . I do n\\'t want a baby any more than you do . All right , all right . Now you told me that a thousand times . Let \\'s not talk about it . Is there any other doctor you got in mind ? There was somethin \\' in the paper about a society woman . The doctor \\'s name was Burgess . His picture was there . Gee , he was awful kind-lookin \\' . Not that we could get him . He \\'s only for millionaires . As long as you ca n\\'t get him , you might as well pick out the best . Whoo-ooh ! Dot ! Now do n\\'t bring her in here . I do n\\'t want her razzin \\' me . - Good morning . - Hello , Edna . - Hello , Eddie . - So long . Floyd made such a racket , I did n\\'t wait for breakfast . - Got a cup of coffee ? - Sure . Hmm . You got a new washerwoman , I see . @ @ @ @ @ @ @ @ @ @ n\\'t got enough bluing in this water . I knew somethin \\' would be wrong with it when you seen it . - Here . - Thanks . Got a cigarette ? No , I cut \\' em out . They was puttin \\' my throat on the bum . Come on , Edna . Drink this in the other room . Yeah , go on . Beat it , will ya ? You give me the willies . That \\'s good . - How do you feel ? - Oh , all right . - How do you feel when you feel bad ? - I worry . Yeah , and you worry other people too . You worry him . Your child \\'ll probably grow up to be a radio broadcaster . Gee , It \\'s 10 minutes to 8 . ? 00 . I got ta blow . Do n\\'t touch those things . I \\'ll finish \\' em when I come home . - Good-bye , darling . - So long . - So long , meddlesome . - Good-bye , grouch . Break a leg @ @ @ @ @ @ @ @ @ @ me so miserable . - What ? - He \\'s so square about everything . Says smoking hurts his throat . He cut it out so he could save the money . It does n\\'t seem fair that he should give up all his fun just because of me . Yeah , it \\'s tough on husbands . Nobody knows what a husband suffers when his wife has a baby ... and a big juicy raspberry . It must be great for a woman when everything is right- you know , when she can afford a doctor like that man Burgess ... and when she knows her husband wants the baby . You want it , do n\\'t you , Dot ? I \\'m crazy about it . That is , I would be ... if it were n\\'t for Eddie and if I was n\\'t afraid . - How do you know he does n\\'t want it ? - The things he says . I can feel it , too , in the way he acts . He does n\\'t like children . Coochie-coo . Coochie-coo . Coochie , @ @ @ @ @ @ @ @ @ @ it ? - Only seven months . Of course , all parents are proud of their children . But honestly , even if this was somebody else \\'s kid ... I \\'d have to admit it \\'s the cleverest youngster I ever saw . - Do n\\'t you think so , Mama ? - I honestly do . Hey , lookit ! The little son of a gun \\'s got ahold of my finger . That \\'s what I mean . Is n\\'t that clever ? - She \\'s a darling . Look at her . - Coochie-coo . Coochie-coo . Coochie , coochie-coo . Coochie-coo . Coochie-coo . Hey , Eddie . Eddie . Eddie . - Has Mr . Randall \\'s set been fixed for him ? - Yes , sir . - Gee , that \\'s a great kid you got . - We think so . - Say , Mr . Lathrop ? - Yes ? Do you think that a woman havin \\' a baby ... you know , that she has n\\'t always wanted ... could-could learn to love it ... you know , @ @ @ @ @ @ @ @ @ @ Your wife , eh ? She \\'s afraid . Say , there ai n\\'t any danger in these things , is there ? Well , lots of women manage to have babies ... without calling out the militia . There \\'s no danger when they have the proper attention . She should be made to have confidence in her doctor . That \\'s just it . My wife ai n\\'t got any . That \\'s not right . - She speaks of a Dr . Burgess . - Burgess ? You \\'d have to be a millionaire to have him . - Goin \\' to lunch , Eddie ? - Nah , I cut lunches out . I was gettin \\' too fat . - This Dr . Burgess is good , huh ? - And expensive . When a king is born , they send for him . I wonder how you could get in to see a guy like that . - Mr . Lathrop , will you take a look at this set , please ? - Oh , yes . Certainly . Hey , Joe . @ @ @ @ @ @ @ @ @ @ Club ? - Yeah . Do you suppose he could get me on in one of them preliminary fights ? Say , some of those boys are pretty good . - What do you wan na take a beatin \\' for ? - Ten bucks a round . Four rounds- 40 bucks . I can use that dough swell . - I can fix it for ya , but I think you \\'re nutty . - Okay . 7:00 . Say , ai n\\'t that job of yours got any hours ? A guy wanted his radio fixed , so I did it on the side . I should think you \\'d try gettin \\' home ... with your wife goin \\' to the hospital and everything . - How is she ? - She \\'s worrying herself sick . That \\'s how she is . But , gee , she ought n\\'t to do that . I do n\\'t think she knows that . You ought to tell her . - You had any supper ? - I ai n\\'t hungry . Gettin \\' your beauty sleep , kid @ @ @ @ @ @ @ @ @ @ would hurt you to hang around once in a while . Okay . That \\' \\' okay \" does me a lot of good , do n\\'t it ? Gee , kid , you know I \\'m for you , do n\\'t ya ? Well , it do n\\'t look like it . You have n\\'t spent an evening in the house for two weeks now . I do n\\'t mean to be a grouch , Eddie , but ... I \\'m frightened . Is it the doctor ? Is that what makes you afraid ? Oh , he \\'s all right , I guess . It \\'s my fault . You know , you have confidence in some people , and others you have n\\'t . There \\'s no reason . You just have . That \\'s all . Sure , I know how it is , kid . Eddie , you \\'re gon na stick around and go to the hospital with me tonight , ai n\\'t ya ? You betcha . No . Wait a minute . - I tell ya , I got ta go out-- @ @ @ @ @ @ @ @ @ @ - Oh , no . Just for a half an hour , kid . - Ca n\\'t even stay with me tonight . I \\'ll be right back . Honest I will . Mmm . Your honey is searching among the \\' \\' bees . \" Hello ? Yeah , this is his secretary . Mm-hmm . Who wants to talk to him ? Joe ? - There \\'s a Joe wants to talk to you . - Hello , Joe . Tonight ? Sure I \\'ll be there . Hey , that \\'s great . It comes just at the right time . Thanks . So long . I \\'ll be a little longer now , but I \\'ll be back at 9:00 . I got another fella to see now . - You pick a swell night to make a date . - You sure do . This ai n\\'t a date . Honest it ain\\'t . - I \\'ll be back as quick as I can . - Give my love toJenny , will ya ? - WhatJenny ? - WhateverJenny happens to be there . Okay @ @ @ @ @ @ @ @ @ @ hospital . But I \\'m sure the doctor you have is competent . It ai n\\'t that . You see , she \\'s just a kid herself , and she \\'s frightened . Her mother died that way . She read about you In the paper , Dr . Burgess . Well , of course , we never thought we could get ya . She was sayin\\'that It would be swell ... If she could get a guy like you to be with her . Did you tell her you were coming to see me ? No , sir . She and me ai n\\'t been gettin \\' along very well lately . I \\'ve been workin \\' nights . I did n\\'t tell her about it . She thinks I \\'ve been chiseling \\' on her , I guess . I ca n\\'t tell things like that . I \\'m kind of a mug that way . Of course , I could n\\'t pay you what you \\'re worth . But I tell ya . I make 45 bucks a week , and pick up 15 workin \\' nights @ @ @ @ @ @ @ @ @ @ fight tonight . And I got 381 saved up , see ? - Are you a prizefighter ? - No , sir . But a friend of mine \\'s gettin \\' me on ... in the preliminaries over at the Empire Club . I get 10 bucks a round , and I do n\\'t mind takin \\' a beating for 40 bucks . Llsten , Dr . Burgess-I always been kinda proud , see ? You know , pay my own way , take nothin \\' from nobody . But I ai n\\'t that way now , Doc . I \\'m beggin \\' you . If she knew she was gon na have you with her ... everything would be all right . But as it is ... she \\'s so sick from worry-I \\'m afraid maybe she \\'ll die . Will you do it , Doc ? I \\'ll give you the $381 I got saved up ... and I \\'ll pay you back dollar for dollar . Please do it , will ya , Doc ? So help me , God , I\\'ll- I \\'ll lay down my @ @ @ @ @ @ @ @ @ @ Thanks . - I guess I \\'m kinda nervous about this child thing . - Mm-hmm . Kinda goofy , huh ? Gee , Doc , I \\'m sorry I have n\\'t got a cigar or somethin \\' to offer ya . I cut out smokin \\' . It was hurtin \\' my throat . This is a swell dump you got here . Oh , I did n\\'t mean-Okay . Flght ! - He said 9:00 . - Do n\\'t worry . You \\'d think the least he could do would be to be with me tonight . Now , now , now . Do n\\'t get yourself all worked up . One , two-Get out . Get out . Hey , Mike , knock that fella out , will ya ? This ai n\\'t a slaughterhouse . I wanted to give him a break , but I \\'ll put him away right at the next gong . Aw , why do n\\'t ya quit ? I know what I \\'m doin \\' . I would n\\'t take a beatin \\' like that for a hundred bucks . Yeah @ @ @ @ @ @ @ @ @ @ me . One , two , three , four ... five , six ... seven , eight , nine-Uh ! Do n\\'t knock me out , will ya , buddy ? I need the cash . - My wife \\'s gon na have a kid . - Well , why did n\\'t you tell me ? I guess I ca n\\'t make it though . Hold on to me . Take a deep breath . Break it up . Thanks . Good-bye . I \\'ve arranged for the hospital . The cab will be here at 11:00 . I never thought Eddie would do this to me . But , darling , he \\'s only an hour late . Some hours are lifetimes . He \\'s walked out on me . - When \\'s the kid expected ? - Any-Anytime now . - I got two of them . - Yeah ? How long before they get to know ya ? Mine knew me inside of two months . - But of course , mine was kinda extra bright . - Yeah . Oh , gee , kid , I @ @ @ @ @ @ @ @ @ @ bad about you . - I could n\\'t help it . Could n\\'t spend a couple of minutes with me , tonight of all nights ? You know how nervous I am . But you could go to some speakeasy with a bunch of fellas ... and get your face all battered up in a drunken brawl . Is that what ya think ? That \\'s what it looks like to me . Okay . Do you want me to go with ya ? You do n\\'t have to bother about me anymore at all , Eddie . I got Burgess for ya ! - How about it , Doctor ? - Congratulations . Twins . - Twins ? - Twins . - Boys or girls ? - Both . - Twins ! - Yes , sir . The baby business is picking up . Sometimes I was here , and I was the only one . - This your first ? - Yes , and my last . I would n\\'t go through this again for all the money in the world . How many kids have you got @ @ @ @ @ @ @ @ @ @ n\\'t know . You do n\\'t know ? I know I got six . What \\'s happening upstairs , I ca n\\'t tell ya . Here I am . You \\'re the father of a fine baby girl , Mr . Vernon . - Oh , well . - Oh ! - Put him over here on the-- It was too much for him . - He \\'ll be all right . - What \\'s the matter with him ? - I \\'ve got some smelling salts . - That \\'s fine . Give him some . - He \\'ll be all right . - He \\'s as white as a sheet . He \\'ll be all right in a minute . People kid about fathers , but they do n\\'t realize ... what a guy has to go through when his wife has a baby . If he had as many as I got , he \\'d stay unconscious . He \\'s coming to now . He \\'s fine . - What happened ? - You just had a baby . I would n\\'t go through this again for @ @ @ @ @ @ @ @ @ @ , or he \\'ll faint again . - It \\'s all right , Mr . Vernon . You come with me . - Hold him up . - Gee , I \\'m gettin \\' nervous myself now . Do n\\'t be nervous . Say , Mr . Linsky , I wan na ask you a question . My wife was n\\'t any too anxious to- to have this kid . Say , in two weeks , she will be crazy about it . - Is that straight ? - They always are . Be careful . Do n\\'t let her think that you are more concerned for the baby ... than what you are for her . Women get jealous under those conditions . You know , be interested , but not anxious . After all , you \\'ve known your wife for years ... and the baby is practically a stranger . Yeah , that \\'s right . Excuse me . I got ta phone my partner . Mr . Collins ? - Yeah ? - A boy . Okay . Your wife will see you in just a @ @ @ @ @ @ @ @ @ @ you know about that ? My kid \\'s 22 hours old already . They get old very quickly when they \\'re young . - Hello , Doctor . How are they ? - Fine . Say , Doc , I \\'ve got 350 bucks here . - And I \\'ll give ya-- Yeah , well , I have your bill here . Now , I have another patient . I must hurry . - Good luck to you , my lad . - Thanks . Gee , he \\'ll never let me speak to him about money . It says paid in full . And here \\'s a check . \\' \\' Pay to the order of Mr . Edward Collins \\'s son- $50 . \" What does that mean ? He \\'s giving your boy $50 to start a bank account . And he would n\\'t let me give him anything . Gee . That \\'s a guy for ya , ai n\\'t it ? Oh , they \\'re just grand , Mrs . Linsky . Every time I have a baby , my husband gives me a new @ @ @ @ @ @ @ @ @ @ n\\'t have any more room . - What do you think of it ? - Oh . Oh , no , this is n\\'t yours . This baby \\'s six days old . She acts like she hates the child . I guess maybe she did n\\'t want it . Do parents hate children they do n\\'t want ? I heard of people like that . How do you like this one ? - Oh , it \\'s darling . - Oh , no . This is young Mussolini . dd Gee , it \\'s funny when you think of it , ai n\\'t it ? Everybody in the world was once just a little bundle like that . - Is n\\'t this one cute ? - Oh , it \\'s lovely . Just look at those little hands . Did you ever see such an adorable nose ? Gee , it \\'s swell . Do n\\'t you want to hold your baby ? Is this mine ? - Honest ? Oh . - Thls Is It . I would n\\'t cry over It , Mrs . Colllns . It @ @ @ @ @ @ @ @ @ @ . No ? Well , it \\'s the first time this baby was ever born . You can come in now . Hello , kid . - How do you feel ? - All right . Thanks for sending me the flowers . Okay . - Is that it ? - Yes , that \\'s it , and it \\'s no \\' \\' it . \" Well , I did n\\'t mean it that way . Let \\'s not talk about it . - That suits me too , kid . - I thought it would . We \\'ll take him back to the nursery now . I asked Dr . Burgess how we happened to get a fine doctor like him . He just laughed and said that you \\'d tell me . Oh , my boss knew him . He did it for him . - He give me a check for the baby \\'s bank too . - He did ? - Was n\\'t that swell of him ? - Yeah . Those big guys do a lot of work for charity . So you think of @ @ @ @ @ @ @ @ @ @ I-Well - Gee , everything I say seems to be wrong . Oh , Eddie . I \\'d give anything if- well , if things were different . Aw , everything \\'s gon na be all right , kid . We ai n\\'t gon na stop living just because we got a baby . You and me is gon na have a good time , the same as always . Why , In six months we \\'ll have forgotten we got a kid . Please go now . I \\'m tired . Sure . - When \\'ll you be home ? - In about two weeks . Well , hurry it up . I \\'ll feel like stepping \\' out a bit . - So long , kid . - So long . I \\'ll be back every day . Oh , Mrs . Linsky , she \\'s getting bigger every day . What are you going to call her ? I \\'m calling her Shelly , after my mother-in-law . Her name was Esther , but it \\'s close enough . Well , how are all the mothers today @ @ @ @ @ @ @ @ @ @ Is the cab downstairs ? - Yes . Are you ready ? Mm-hmm . - Are you leaving now ? - Yes . But I heard you tell your husband that you were going tomorrow . - I want to surprise him . - Oh . Say , listen , kid . - Have you thought this thing over ? - Yep . I could n\\'t live with a man that did n\\'t like his own child . All he thinks about is stepping out . I could n\\'t go back to Eddie for anything . I \\'d get to hate him . Well , it \\'s your funeral , kid . Well , what are you going to do with that ? Well , I thought maybe the kid would like to fool around with it . What ? A two-weeks-old baby ? Well , it \\'s only a little balloon . The doctor \\'s in the ward . You \\'ll have to wait a few minutes . - Dr . Gibson ? - Yes ? Just a minute , please . - Hurry , Nurse Parson . - @ @ @ @ @ @ @ @ @ @ . My baby . Something \\'s happened to my baby ! Somethlng \\'s happening to my baby . No , Mrs . Collins . It \\'s all right . - I want my baby ! I want my baby ! - He \\'s all right . - I want my baby ! - Please listen . I want my baby ! I want my baby ! I want my baby ! - I want my baby ! - What \\'s the matter , kid ? - Something \\'s happened to my baby . - Where ? In there ! It \\'s not your baby . There \\'s no danger . Your husband will get it . Now , everything is all right . - It \\'s all right . - He \\'s all right , kid . Look . Here he is . - He \\'s all right . - It was Mrs . Burns \\'s baby . Nothing serious . Just a little coughing spell . Oh , gee , kid . I did n\\'t know you liked it . And I thought all along that you did n\\'t @ @ @ @ @ @ @ @ @ @ in your nut . The things you said that night in the flat- you know , about your mother and everything . Well , I thought like that then . But gee , it \\'s different when you got your own kid . Hey , lookit . The little son of a gun \\'s got ahold of my finger . - Dr . Burgess said he had a finely shaped head . - He did ? Hey , look out there , buddy . You might have the future president of the United States in this cab . That \\'s what they all say . - Oh , yeah ? - Oh , Eddie . Now do n\\'t , Eddie . Hey . Let me hold him , will ya ? - You really want to , Eddie ? - Sure . Be careful . Put your arm under his head . - Okay . - There you go , baby . Say , Dr . Burgess was right about the kid \\'s head . That \\'s the best-shaped kid \\'s head I ever saw . He has a lovely @ @ @ @ @ @ @ @ @ @ give me the baby . He \\'s dribbling all over you . Dribbling ? That ai n\\'t the half of it . I \\'m wet clean through . But it \\'s okay . dddd dddd dddd dddd \\r\\n']"
            ]
          },
          "metadata": {},
          "execution_count": 38
        }
      ],
      "source": [
        "movie_raw['11.txt'][0:3]"
      ]
    },
    {
      "cell_type": "markdown",
      "metadata": {
        "id": "IaoOMM1qTg4A"
      },
      "source": [
        "It seems messy, but nothing we can't clean. This basic method replaces some of the issues with the formatting, and prints the errors if any for debugging. Let us clean one of the raw text files.\n",
        "\n",
        "We ignore the non-unicode data for convenience in our first pass."
      ]
    },
    {
      "cell_type": "code",
      "execution_count": null,
      "metadata": {
        "id": "tjdMGkLyTg4B"
      },
      "outputs": [],
      "source": [
        "def clean_raw_text(raw_texts):\n",
        "    clean_texts = []\n",
        "    for text in raw_texts:\n",
        "        try:\n",
        "            text = text.decode(\"utf-8\")\n",
        "            clean_text = text.replace(\" \\'m\", \"'m\").replace(\" \\'ll\", \"'ll\").replace(\" \\'re\", \"'re\").replace(\" \\'s\", \"'s\").replace(\" \\'re\", \"'re\").replace(\" n\\'t\", \"n't\").replace(\" \\'ve\", \"'ve\").replace(\" /'d\", \"'d\")\n",
        "            clean_texts.append(clean_text)\n",
        "        except AttributeError:\n",
        "            # print(\"ERROR CLEANING\")\n",
        "            # print(text)\n",
        "            continue\n",
        "        except UnicodeDecodeError:\n",
        "            # print(\"Unicode Error, Skip\")\n",
        "            continue\n",
        "    return clean_texts"
      ]
    },
    {
      "cell_type": "code",
      "execution_count": null,
      "metadata": {
        "id": "UBTycuv7Tg4B"
      },
      "outputs": [],
      "source": [
        "clean_11 = clean_raw_text(movie_raw['11.txt'])"
      ]
    },
    {
      "cell_type": "code",
      "execution_count": null,
      "metadata": {
        "id": "IJ1hud5STg4B",
        "colab": {
          "base_uri": "https://localhost:8080/",
          "height": 140
        },
        "outputId": "8c223615-fd74-463d-9de9-fef30002a7b5"
      },
      "outputs": [
        {
          "output_type": "execute_result",
          "data": {
            "application/vnd.google.colaboratory.intrinsic+json": {
              "type": "string"
            },
            "text/plain": [
              "'@@216680 Hey , I\\'m talking to you Give me 600 dollars You wish ! That\\'s all we\\'ve left And you still go to gamble Shut up I earn the money Even that you can\\'t take it for gamble Shut up What\\'re you doing ? Bastard , I\\'m gon na beat you You gambling pig , I\\'ll beat the shit out of you You bitch I\\'ll beat you You dare to hit me with something ! I\\'ll kill you All you know is gambling I\\'ll beat you What\\'re you doing ? Let go of me Stop You\\'ll kill Mom Mom , are you all right ? Don\\'t touch my money Dad , where\\'re you going ? Go away Dad , don\\'t go Get lost Dad , come back You take Marble with you The way she\\'s now Do you want to give me trouble ? I\\'m in more trouble than you I am a woman I\\'m a sailor You take care of Marble Just gamble a bit less is enough to raise the kid No way Raising her would be like raising others @ @ @ @ @ @ @ @ @ @ take care of her Marry her when she grows up And you tell her to be smart Don\\'t marry a gambler Hey , you want a quarrel ? No , never This is the last time You\\'re SO right Don\\'t rush ... Everyone will have a share Why so crowded ? What\\'re they doing ? Worshipping ancestors With all those many things ? Hey , Granny , Come on Come and take a bite The dishes are good this year Right Marble , have some I\\'ll go get my share of pork This is a leg-washing basin Hey , how can you say that ? Let\\'s go get a share of pork Your share ? You wish ! That\\'s only for boys Yeah , I have a wee-wee . Have you ? Aunty Chiang Lin , one more baby this year ? Yes You are the best in your family Hey , you think it\\'s my will I was compelled by my stupid husband Come on . Let\\'s worship first Eat some roast pork We have a lot of it Honey @ @ @ @ @ @ @ @ @ @ baby ? Yes . Only with Chinese blood What do you mean ? It means I give you a green hat Oh , that goes with my clothes then Eat , no more talk ! So rude . Take it home Get up , go We\\'re going back home Be quick Honey Hey , make a stance Hold it ... Master , every time we\\'ve to stand in a pose If you could teach us something else please Okay Shaolin Masters learn poses for years Hold it ... Okay . I\\'ll teach you something new Watch me See . Get to it Seeing Shanghai Beach in Mainland Here I\\'m still watching it everyday I\\'m so tired Tired ? Let\\'s go to bed for rest I hate Chau Yun Fa the most He didn\\'t marry when I\\'m in China As soon as I\\'m here , he got married You can\\'t come to Hong Kong if you don\\'t marry me You said you are big boss Having a big business Now that I\\'m in Hong Kong ... I\\'m still @ @ @ @ @ @ @ @ @ @ for myself Then I ought to feel much more sorry You can\\'t even lay an egg This year I can only get one share of pork And you\\'re blaming me for it ? Damn monkey ... What\\'s going on ? A letter for you Oh , it\\'s you Your monkey glared at me fiercely Will you open it for me ? Read it to me . I am quite illiterate Stop it . Don\\'t bother him Let me help you . Give me the letter Postman\\'s duty is to deliver and read letters He reads for Aunt Jiao How can you compare to her ? Aunty Jiao is 83 years old Hello , dubbing room Martin ? Martin is working Are you lying to me ? Why should I lie ? I know he\\'s free . Get him You listen yourself then Hello , what\\'s the noise ? Is someone being raped ? Martin , your telephone Hello What took you so long ? Recording is going on Don\\'t mess around Yes , I know . I won\\'t Honey , @ @ @ @ @ @ @ @ @ @ did you spend so much ? I was late for work ... so I took a taxi On your way back don\\'t forget to buy vegetables Okay And buy a pair of slippers for me Got it , honey I\\'ll hang up . Bye Wouldn\\'t marry if you know your wife is so bad ! Take pity for the rest of my life Hey , what\\'s on your neck ? Nothing You look piteous She\\'s the piteous one The vampire is here Grandma , grandma Someone is fighting Grandma , grandma Come over quickly What happened ? Someone is fighting Fighting ? Yes Where ? Over there ! You see it ? I spare you this time . No next time Sorry , let me kiss you Cut the bullshit . Go to bed I need to work tomorrow Where at ? That villa over there ! Wow , it looks beautiful Who lives there ? Snow White Kidding , there\\'s no Snow White Oh , murder That\\'s the pig scream Why\\'s the pig screaming so late at night ? Shorty\\'s @ @ @ @ @ @ @ @ @ @ late ? So the government won\\'t know But how could a pig\\'s scream be so terrible ? Why ? Why aren\\'t you tired ? Why aren\\'t you sleepy ? Why haven\\'t you gone to bed ? Why are you so nosy ? Go to sleep ! Here\\'s the kitchen Oil . Salt . Sauce . Vinegar . All there Go tidy up Ask me if you have any question Come dance with me Come on Come Dance I\\'ll teach you . Don\\'t be afraid Damn dog ! Damn it ! What\\'s such a big deal to be rich ? Pay for my pants Sorry . I don\\'t mean to be rude Be careful next time Miss , it seems I\\'ve seen you somewhere Of course you have I\\'ll be the Miss Hong Kong in next contest I have nine posters at the Ferry pier And I\\'ve been handing out my photographs all around Never seen one as rude as you Chang Jin This girl is great . She lives in your village ? Of course she\\'s @ @ @ @ @ @ @ @ @ @ And the ugly one\\'s only live in your village Miss , I want my BALL back We\\'re back from Holland Shall we make a friendship ? My dad said she got married Married ? No way Look at her curves ! She sure knows how to keep fit Maybe she never takes birth-control pills Hey , pals Be nice to a girl , huh ? What do you mean ? You think you\\'re a kungfu master ? Get the ball back Okay We\\'re friends . If you don\\'t give me face At least for my Dad\\'s sake ... let\\'s not make a fuss of this Are you alright ? He hits me . Beat him Stop Just playing . Stop What\\'re you on about ? I\\'ve stopped . Why don\\'t you stop ? I\\'ll let you go , damn kid Don\\'t let me see you again I\\'ll kill you next time Let\\'s go , go Waste of strength ! Post-boy . You think you\\'re good We\\'re taking pity on you Yeah Go , go Your @ @ @ @ @ @ @ @ @ @ Sorry to bother you again Please sign Where\\'s Wang ? He went to Kowloon on business Oh , you\\'re bleeding ? Who hurt you ? Let me help you Suppressing anger is not a good thing What ? Let me clean your wound No Okay , I won\\'t touch you I\\'ll give you some water , do it yourself How often do you deliver each day ? What are you drawing so late at night ? Go to bed . You have class tomorrow Go to sleep now Dad , I\\'m going to school now Go now . Don\\'t be late Okay , I know A shepherd drove sheep on the hill Watching farmers farming below ... Jin Bao I have twenty of them Give me one No way My uncle smuggled it from Mainland What is it ? How about I exchange one with a secret What secret ? Last night the White Man tortured his wife I don\\'t believe you He\\'s so coward to his wife he\\'ll never beat her Then will you give me ? What kind of @ @ @ @ @ @ @ @ @ @ shepherd laughed ... Master Good morning , teacher I\\'ve taught you ... to write yourselves a letter And learn to write your home address That \\'d help uncle Postman to deliver No , Mister Postman Oh yes , calling \\' uncle \\' is too old Yes Now come out to get your letter when I call you Wang Jia Leung Here Wang Shi Chung Here Shu Ker Ying Here She\\'s a cripple ! Don\\'t laugh at her Wang Jia Hao Here Wang Jie Hwa Here Wang Wan Wen Here Wang Tian Sheng Here Marble Mister You have a letter from your dad Your Grandma said he\\'s in Panama What has he written ? Just ask your Grandma No My Dad is dead Don\\'t curse him I don\\'t like him Go away Go away Let me go Let me go ... Damn dog Go away Let go of me The damn dog bites anything it sees I always get bitten when delivering letters Don\\'t tell people about it I won\\'t . I\\'ll do as you said You\\'ll be responsible if anyone @ @ @ @ @ @ @ @ @ @ your secret Let\\'s hook our pinkies I\\'ll be true to my word Wait for me ? When I\\'m young no-one likes me I hope someone would love me like crazy If not , I hope I have lots of money If no money , I wish I can be famous Let everyone know me at least If I have nothing else I hope I\\'m prettier than others Staying pretty longer is okay Being a woman is indeed tragic ! But you have everything now How poor of you , silly girl ? You never stay with me overnight You \\'d better find an excuse to convince me My wife doesn\\'t understand me Take any man in the world Not one would say his wife understands him I really love you Not for your money Don\\'t think you\\'re Santa Claus Why would I do this ? So cheap ! Go to bed early Don\\'t abuse drugs Wang , give me a red cloth Okay Lin , give him a red cloth Big one or small one ? Big one , of course Did @ @ @ @ @ @ @ @ @ @ You think old Wang can do that ? You are good Your hand is so white , I believe you \\'d have made it Lin , go to work if you\\'ve nothing else Okay , five dollars Bin , why did you have to come yourself to buy ? What else do you need ? Nothing else . I\\'ll come later See you I know all the neighbours around here Hey , get the button fastened I can\\'t breath if I fasten up Or you buy me a new dress Okay , okay Let me take you to the discount stall Discount stalls only sell cheap stuff I want to visit the fashion shop Look at you Just two months here you\\'ve learned it I learned all about it long before I came Then you be good I\\'ll buy you anything you want Okay ? Then ain\\'t I good enough now ? Good , you\\'re good Sir , I would like to know ... if there\\'s a new villa here ? You\\'ve real talent Among the mistresses of my husband You @ @ @ @ @ @ @ @ @ @ you want ? Sure He\\'s my Santa Claus You think you\\'re young ? Whatever . I\\'m younger than you I heard you\\'re a dancer What kind of dance are you good at ? The kind that takes hard work ... and looks like mad jumping You have money now Why work so hard ? Is money everything ? No ? Depends on the person Don\\'t say you love my man No , we use each other What are you laughing at ? One night your husband told me ... his wife doesn\\'t understand him He lies , you fool It\\'s not bad he lies to me in that way My husband is sure in bad luck He has a mistress like you He is in luck actually Because he met me You\\'re just a whore What are you here for ? You\\'re great Let me show you something No . Okay , you can go now You don\\'t like me a bit ? Like you what ? What good are you ? Oh , I dare not Don\\'t be @ @ @ @ @ @ @ @ @ @ hand Get up , get up Be serious . Come One more time I can\\'t Use the hip . Come . Ready Go See , you can do it Got weak hips . I can\\'t get up Forget it You are a porn star . No need to get up You bald head You should be an extra forever Oh , I am now Yao Ju , come Coming You play with him Hold it Get me a suit from the wardrobe What\\'s that for ? Meet your girlfriend That one You want it however she looks You take all whatever the age My girl is beautiful And who is that ? Nanny ! Yao Ju Who\\'s she ? I don\\'t know Why do you always come to me ? I have things to do Then I\\'ll wait for you You have to wait a long time I\\'ll wait for you Then you have to wait a long time What\\'s wrong with me ? At least I am with single mind Why do you hit her ? Yeah , why do you @ @ @ @ @ @ @ @ @ @ dare I\\'ll kill you You don\\'t want me You dump me after you have had sex with me Isn\\'t it just for money ? No , it isn\\'t for money I love you I am not for money I really love you You\\'re crazy Just make a run Or I\\'ll cut you to pieces Damn shameless bitch Let\\'s play rubber-band rope Come , let\\'s play rubber-band rope Come on Don\\'t go Come In any event let\\'s clarify our relationship today You have a husband My husband is no use Lower your voice What\\'re you afraid of ? No need to fear if you dare to do it In short , I\\'ll give you money Money ... yes , I\\'ll need a lot of it You think you can afford ? You\\'re prepared , huh ? Let me tell you now My cousin will come next month He \\'d need cash for permit and ID card That takes 50,000 dollars Are you worth it ? Maybe I\\'m not worth it But if I spread word of @ @ @ @ @ @ @ @ @ @ And that woman is more trouble enough You think I don\\'t know she\\'s a mistress Just think what if her man knows ... of your affair ! Perhaps you can bear losing face She can\\'t You have no money , she has You hit me ! My husband never dare hit me . How dare you ! Rape ! Help ! I\\'m being raped ... please help ! Help ! Rape ! Someone rapes me Stop it . That will kill her Hey , that\\'s not enough What\\'s that for ? It\\'s for you Carnation Like it ? Carnation is only for mothers Mother\\'s Day ? Do you ever give anything to your Mom ? She wants nothing She only wants money As if someone would marry you ! She\\'ll have three kids in her teens Get fat as a barrel and smell bad She\\'ll get up every day at six-thirty Cook an egg for your breakfast And says it\\'s good for you Every week you go to Kowloon for tea once Every half a year you \\'d take @ @ @ @ @ @ @ @ @ @ ? No At least I have everything But you don\\'t have a husband That\\'s okay to me You say so for sure I\\'ll go now If he doesn\\'t find me on the phone ... then I\\'ll truly have nothing If he lies to his wife , he can lie to you Are you sure he has no-one else ? That\\'s none of your business What about me ? I left that woman because of you What about this ? I don\\'t even know who \\'d get the money I don\\'t care Let go Sit \" RITA \" Miss Rita Last night I passed by your house Your dog scared me Then I fell down And dropped a ring It\\'s my husband\\'s gift You know when a man gives you some gift It\\'s no good if you were to lose it He\\'ll be unhappy Did you see it ? Help me to find it , please The ring is worth 100,000 dollars I\\'ll help you to find it Then I\\'ll wait for your news I\\'m so @ @ @ @ @ @ @ @ @ @ I studied in Grade Two I already hated women That class girl captain ... told the teacher I peeked at her And the teacher hit me hard for it I was hit so hard that it broke the ruler In university I studied the Tang dynasty poems It said women are tender and passionate But I found it to the contrary Women and mean people are hard to deal with It wasn\\'t easy for me to stay away from women Now I wouldn\\'t want one anymore Women are poison ! You\\'re right Let\\'s toast Tonight when you\\'re home You should punish your wife hard All men are brothers ! Great . I\\'ll punish her tonight Fifty to hundred thousand each call Your threat is never-ending After this time ... Once and for all , I\\'ll leave You take this man I\\'m tired of him If you\\'re that crazy for men ... I\\'ll give my Wang to you , too Stupid Where\\'re you going ? Grandma , Grandma . Come on Murder Grandma , hurry What\\'s that serious ? @ @ @ @ @ @ @ @ @ @ ? Over there , you see ? What nonsense ! There\\'s nothing there It\\'s really a murder Hey , stop talking rubbish ! Go to bed Stop looking Kids are innocent Shorty , don\\'t move Stop moving Shorty , Shorty It was terrible last night I saw two guys fight And then one person ... killed the other ! The killer wore a chain You know , I could ... pull out some hair from the killer But Grandma doesn\\'t believe me If you \\'d please check for me What\\'re you doing ? You haven\\'t finished your hair-cut ? What happened ? Go and see Quick What is it ? Quick Come , be quick This is the White Man\\'s house This is the villa This is where Jin Bao lives I live right here That night I saw a murder in there Hey , what\\'s this ? It\\'s a watchband You can\\'t even recognise it in picture , stupid Hold it . Hold it . Hold it What\\'s this ? Silly fool , it\\'s Ninja That night @ @ @ @ @ @ @ @ @ @ saw two guys were fighting over there And then one man ... killed the other The killer wore a watchband too I saw it But I\\'m not scared Then I went out and took a look But he had run away I just saw some hair and a lot of footprints Now our first move ... is to check out who\\'s missing in the village ? What are you doing here ? Where\\'s your wife , uncle ? Looking for my wife at your age ? You have guts Go away I\\'ll get your Dad to take you back You \\'d better spend time on study And stop running around Go home Wang , where\\'s your wife ? My wife is sick , okay ! Nosey Have you seen the White Man and his wife ? Shin , go home for meal Hurry Always playing Marble , time for work Don\\'t run around I\\'m working right now Look here . On the rock Here It\\'s real The White Man Women are sick , vicious ... and fierce . We should kill them @ @ @ @ @ @ @ @ @ @ have to bear with them What is the time ? Oh , time for work Get lost Why are the floor so dirty ? Hey , what\\'re you doing ? I just came early to tidy things up See , what have you done ! I ... White Man . It\\'s him Little girl Little girl Wake up Little girl Wake up You okay ? Are you all right ? But that can\\'t be evidence That\\'s the record in my children\\'s diary This proves that everyday he thought of murder Did your teacher tell you ... not to lie to the police ? I have more evidence Take it out I saw that after he killed his wife ... he dragged the corpse away , too That night he didn\\'t return home He went out for drinks Got drunk and slept on a rock And he cursed the women too He almost killed me What a bad White man Always thinking to kill people Chinese won\\'t do that The Chinese don\\'t have that power Go and see Hi Police ? What\\'re @ @ @ @ @ @ @ @ @ @ illegal to play chess ? You have a warrant , sir ? Of course , see It\\'s marijuana Go away ... What are you looking ? Nothing good to see Move away Hey , what\\'re you doing ? He\\'s my husband He just slapped me slightly Is it illegal the husband slapping his wife ? Actually I let him slap me Why are you arresting him ? Where are you going ? I just went back to my Mama\\'s house Why don\\'t you call me these few days ? Who is he ? His sworn brother What\\'s a \\' sworn brother \\' ? Move . Don\\'t pretend anymore Sir , he\\'s innocent Don\\'t arrest him Girl , don\\'t lie Sir , please don\\'t arrest my husband Don\\'t arrest my husband Let him go Dear Hello , Miss Rita Why ? Why am I being fired ? How do I guess if you don\\'t tell me ? Mister Postman . Mister ? No-one believed the murder I told you about What clue do you have ? I suspected @ @ @ @ @ @ @ @ @ @ if she\\'s dead Wang , you got mail It\\'s hot outside . Come and have a seat Have some tea Busy ? Yeah , the past few days has been killing ! A lot more people at the festival this year ! You ought to take your girlfriend along I don\\'t have a girlfriend You\\'re kidding Where\\'s Mrs . Wang ? Can you not mention her ? Where has she gone ? I don\\'t know where she has gone Mind your own business , kid This letter is from my wife Marble , Marble Oh , you are here ! Shorty has been calling you many times Must have found something new What did she say in the letter ? She ran away with someone Now she\\'s with someone else She told me not to think of her Even though we can\\'t be a couple She still thinks of writing to me I knew she is a good girl Just the men are bad That\\'s good . That bitch is gone Thank God , we\\'ll have peace now Don\\'t @ @ @ @ @ @ @ @ @ @ is murdered What ? I go back to answer the phone Grandma said many girls ... worried that they can\\'t immigrate in 1997 So they all wanted to marry an old foreigner Those old men are so ugly ! More ugly than Wang You see , I don\\'t even have time for toilet Old Wang , just a woman One left . More to come I would get you a good girl later Grandma Everyone will quarrel after getting married Stop being a match-maker If I don\\'t help them make the match ... They will have no-one to quarrel with Let\\'s go home What a crowd ! Look How much is a pack of tissue ? Fifty cents What\\'re you doing ? Idiot I told you Wang\\'s wife is dead No , lousy kid I kept a secret for you What secret ? I won\\'t tell anyone About you and Wang\\'s wife Grandma Xiaoji Xiaoji Xiaoji Xiaoji Marble , get dressed . We go to pray Grandma is bad . You killed my Xiaoji You\\'ll have to compensate No other chicken @ @ @ @ @ @ @ @ @ @ doing ? I\\'m gathering the fire wood Oh , don\\'t sit here Sit over there It\\'ll dirty your pants And you\\'ll need your Grandma to wash it I don\\'t care What did she do ? Did she make you angry ? She\\'s a killer Jin Bao , faster Yes Shorty , Shorty The village chief gave me 10 dollars to catch grasshopper for the bird And you won\\'t investigate my case ? All those you mentioned as missing are still alive I don\\'t know if you\\'re telling the truth That\\'s no fun I didn\\'t lie to you Please help me , okay Unless ... Unless what ? Unless you let me be the commander Well , you listen to me whatever I say The mission we have tonight ... is to search the suspects and evidences Especially that watchband Yes , especially the watchband Jin Bao , you watch number one to fifteen I\\'m terribly afraid Jin Ju , you watch number to thirty Especially my dad , he\\'s fierce How could your Dad be the murderer @ @ @ @ @ @ @ @ @ @ killer , I\\'ll get him You watch all the shops Okay You watch the pigsty and the doghouse You must obey the order You gather information How come I have nothing to do ? Because you walk slow That\\'s true Fine . I\\'m sick of girls crying You take my post Women are troublesome Everyone take a firecracker as weapon , pass it Use it only if you see the enemies The enemies are tough Be careful . It\\'s life-threatening Understand ? Yes Okay , let\\'s go Go If anything please say it now You don\\'t speak and didn\\'t let me either You won\\'t understand even if I say it Has your husband been found ? In this situation Spreading out isn\\'t the worst . At the most we could flee How \\'d that help ? I am not afraid of getting caught I know I am poor All you love is money Help ! Help ! Shorty , don\\'t be afraid Don\\'t be afraid Come back Shorty\\'s spirit , come back Don\\'t be afraid Shorty\\'s @ @ @ @ @ @ @ @ @ @ ? Who is it ? Ghost ! Open up your eye Shorty , recover Let\\'s stop the investigation , okay ? We just want you to recover Yes Yes , don\\'t be like that Shorty , don\\'t be afraid ... please ! Shorty\\'s spirit , come back Shorty\\'s spirit , come back What took so long ? Is it okay ? It\\'s not done yet Mine is fit for eating ? Marble , come to eat Shorty\\'s gone mad . I have no appetite Hey , come over I\\'ll let you be the host . Come It smells great Fire\\'s up It\\'s ready Don\\'t kill her Are you alright ? Grandma will never kill your chicken I\\'ll buy you another chicken tomorrow I swear I\\'ll never kill your chick You hear me ? What\\'re you doing ? It\\'s all your fault I could watch you once I can\\'t watch you forever I\\'m not willing to do that I didn\\'t hate you We had been a couple before I\\'ll burn more food @ @ @ @ @ @ @ @ @ @\\'ll offer some Chau Yun Fa\\'s photos , too Wang ... I need to talk to you urgently Open the door Wang , I have something to tell you You \\'d better brace yourself for this Don\\'t be shocked out of mind Actually your wife is dead I knew you would be stunned Relax and listen to me The letters you got It\\'s all a farce It\\'s actually the postman The postman did it After he killed your wife ... He forged her letter to you He knew how The school taught us ... how to write to ourselves Let me see the letter . Quick Then I\\'ll get it for myself So , will you leave ? Where do we go ? To Mainland China , okay ? Whatever You don\\'t leave until you got trouble Now you got trouble Will this all ever be exposed ? Did you leave any evidence ? The trouble is the letter you wrote What letter ? The letter you forged in her handwriting I had never written any letter So the letter Wang had received ... @ @ @ @ @ @ @ @ @ @ Marble Come . Eat something This is yours Go on ! How come I have more ? And you have less ? You take this bowl It\\'s okay for kids to eat more It\\'s sweet and tasty . Eat now Where\\'s the letter ? Oh , I forgot where I put them Eat ... It\\'s new Yes . Eat while it\\'s hot Relax , Wang Everything will come out fine He can\\'t run away I\\'ll move on Or grandma will scold me , bye Bye Brother Yao Where were you last night ? It\\'s late . Time to go Are you ready ? Yes You\\'re always the last Let\\'s go Where\\'s Marble ? Marble is up the hill with Wang Ready , go You see , it flies high It\\'s great It\\'s beautiful Marble , you fly it It\\'s fun Be careful . Be careful What happened ? Marble , Marble What are you doing here ? There\\'s a kite there Yes , go have a look You see Jin Bao , be careful Be @ @ @ @ @ @ @ @ @ @ down It hurts Murderer It\\'s not us He fell down by himself . It\\'s not us Where\\'s Marble ? She was just here Help ... ! Help ! Help ... ! Help ! Mister Postman ... Don\\'t be afraid Help me Mister Postman Help me Mister Postman Marble , grab my hand Wang Inspector , see Let me Mr . Butterfly give you a lesson Do you know how to act ? Your first day at this , huh ? Sorry , Brother Lang Sorry Hey , what\\'s up ? What\\'s the matter ? They are all fools Yes , he\\'s a fool Be smart Once again Let\\'s do it again One try is okay Calm down Come again Do it better All standby Ready You\\'re shooting movies ? Master , who do you fight with ? That\\'s Wan Ji Lang ? Want a drink , master ? Who\\'s the director ? The one in red glasses A woman Yes Oh no , fell down ! Brother Ji Lang , you okay ? What\\'s wrong with you ? @ @ @ @ @ @ @ @ @ @ , come over Coming It\\'s my turn . Don\\'t run around It\\'s all yours Yao Ju . Memorize those moves Act better Ready All standby Do it better Don\\'t make trouble Ready ? Action ! Cut Okay Move the machine here Move it over Come , over here Like that ? Okay ? It\\'s fine You said you \\'d go to Mainland with me Really ? Of course you can\\'t remember I did Did you see me shooting movie ? A little bit Next week I\\'ll go to London I will write to you when I arrive You better not go If you don\\'t go , you don\\'t need to write You \\'d pay for my living , huh ? No big deal I don\\'t know what to say That\\'s rubbish Okay Take care Mister Postman Marble , are you alright ? Yes Marble ... It\\'s for you Is it good ? Do you like it ? \\r\\n'"
            ]
          },
          "metadata": {},
          "execution_count": 41
        }
      ],
      "source": [
        "clean_11[1]"
      ]
    },
    {
      "cell_type": "markdown",
      "metadata": {
        "id": "sDA_iP2pTg4C"
      },
      "source": [
        "This method cleaned a few basic formatting errors. You are welcome to experiment and add your own code to expand on cleaning the text. Once it begins to look the way you want it to, we can start using spaCy to do some heavier cleaning. spaCy does this through the use of language models. Make sure you have the spaCy english language model loaded. "
      ]
    },
    {
      "cell_type": "code",
      "execution_count": null,
      "metadata": {
        "id": "-j9vY3b7Tg4C"
      },
      "outputs": [],
      "source": [
        "nlp = spacy.load(\"en\")"
      ]
    },
    {
      "cell_type": "markdown",
      "metadata": {
        "id": "AbqpPLUuTg4C"
      },
      "source": [
        "This model is going to be the basis of most of the tasks which NLTK (the Natural Language Tool Kit) might have done otherwise. While NLTK uses a bunch of clunky models from multiple places, spacy neatly packs all functionality in one model. This deep trained model will start by doing our word tokenizing and normalising. These methods are already included in lucem illud, and here we will just demonstrate them outside the package so to explain what goes on under the hood.\n",
        "\n",
        "When we run text through a spacy model, it performs a lot of computation on each of the tokens. Each token is given certain attributes, such as a part of speech, information whether it is a number, a stop word, and so on. \n",
        "\n",
        "To perform a tokenization, we check if the string includes punctuation and add this token. "
      ]
    },
    {
      "cell_type": "code",
      "execution_count": null,
      "metadata": {
        "id": "cmO6GFyNTg4D"
      },
      "outputs": [],
      "source": [
        "def word_tokenize(word_list):\n",
        "    tokenized = []\n",
        "    # pass word list through language model.\n",
        "    doc = nlp(word_list)\n",
        "    for token in doc:\n",
        "        if not token.is_punct and len(token.text.strip()) > 0:\n",
        "            tokenized.append(token.text)\n",
        "    return tokenized"
      ]
    },
    {
      "cell_type": "code",
      "execution_count": null,
      "metadata": {
        "id": "pnG4AHQmTg4D",
        "colab": {
          "base_uri": "https://localhost:8080/"
        },
        "outputId": "291c1b1e-e5d7-4078-bef8-c0799be93e09"
      },
      "outputs": [
        {
          "output_type": "execute_result",
          "data": {
            "text/plain": [
              "['@@216680',\n",
              " 'Hey',\n",
              " 'I',\n",
              " \"'m\",\n",
              " 'talking',\n",
              " 'to',\n",
              " 'you',\n",
              " 'Give',\n",
              " 'me',\n",
              " '600',\n",
              " 'dollars',\n",
              " 'You',\n",
              " 'wish',\n",
              " 'That',\n",
              " \"'s\",\n",
              " 'all',\n",
              " 'we',\n",
              " \"'ve\",\n",
              " 'left',\n",
              " 'And',\n",
              " 'you',\n",
              " 'still',\n",
              " 'go',\n",
              " 'to',\n",
              " 'gamble',\n",
              " 'Shut',\n",
              " 'up',\n",
              " 'I',\n",
              " 'earn',\n",
              " 'the',\n",
              " 'money',\n",
              " 'Even',\n",
              " 'that',\n",
              " 'you',\n",
              " 'ca',\n",
              " \"n't\",\n",
              " 'take',\n",
              " 'it',\n",
              " 'for',\n",
              " 'gamble',\n",
              " 'Shut',\n",
              " 'up',\n",
              " 'What',\n",
              " \"'re\",\n",
              " 'you',\n",
              " 'doing',\n",
              " 'Bastard',\n",
              " 'I',\n",
              " \"'m\",\n",
              " 'gon',\n",
              " 'na',\n",
              " 'beat',\n",
              " 'you',\n",
              " 'You',\n",
              " 'gambling',\n",
              " 'pig',\n",
              " 'I',\n",
              " \"'ll\",\n",
              " 'beat',\n",
              " 'the',\n",
              " 'shit',\n",
              " 'out',\n",
              " 'of',\n",
              " 'you',\n",
              " 'You',\n",
              " 'bitch',\n",
              " 'I',\n",
              " \"'ll\",\n",
              " 'beat',\n",
              " 'you',\n",
              " 'You',\n",
              " 'dare',\n",
              " 'to',\n",
              " 'hit',\n",
              " 'me',\n",
              " 'with',\n",
              " 'something',\n",
              " 'I',\n",
              " \"'ll\",\n",
              " 'kill',\n",
              " 'you',\n",
              " 'All',\n",
              " 'you',\n",
              " 'know',\n",
              " 'is',\n",
              " 'gambling',\n",
              " 'I',\n",
              " \"'ll\",\n",
              " 'beat',\n",
              " 'you',\n",
              " 'What',\n",
              " \"'re\",\n",
              " 'you',\n",
              " 'doing',\n",
              " 'Let',\n",
              " 'go',\n",
              " 'of',\n",
              " 'me',\n",
              " 'Stop',\n",
              " 'You',\n",
              " \"'ll\",\n",
              " 'kill',\n",
              " 'Mom',\n",
              " 'Mom',\n",
              " 'are',\n",
              " 'you',\n",
              " 'all',\n",
              " 'right',\n",
              " 'Do',\n",
              " \"n't\",\n",
              " 'touch',\n",
              " 'my',\n",
              " 'money',\n",
              " 'Dad',\n",
              " 'where',\n",
              " \"'re\",\n",
              " 'you',\n",
              " 'going',\n",
              " 'Go',\n",
              " 'away',\n",
              " 'Dad',\n",
              " 'do',\n",
              " \"n't\",\n",
              " 'go',\n",
              " 'Get',\n",
              " 'lost',\n",
              " 'Dad',\n",
              " 'come',\n",
              " 'back',\n",
              " 'You',\n",
              " 'take',\n",
              " 'Marble',\n",
              " 'with',\n",
              " 'you',\n",
              " 'The',\n",
              " 'way',\n",
              " 'she',\n",
              " \"'s\",\n",
              " 'now',\n",
              " 'Do',\n",
              " 'you',\n",
              " 'want',\n",
              " 'to',\n",
              " 'give',\n",
              " 'me',\n",
              " 'trouble',\n",
              " 'I',\n",
              " \"'m\",\n",
              " 'in',\n",
              " 'more',\n",
              " 'trouble',\n",
              " 'than',\n",
              " 'you',\n",
              " 'I',\n",
              " 'am',\n",
              " 'a',\n",
              " 'woman',\n",
              " 'I',\n",
              " \"'m\",\n",
              " 'a',\n",
              " 'sailor',\n",
              " 'You',\n",
              " 'take',\n",
              " 'care',\n",
              " 'of',\n",
              " 'Marble',\n",
              " 'Just',\n",
              " 'gamble',\n",
              " 'a',\n",
              " 'bit',\n",
              " 'less',\n",
              " 'is',\n",
              " 'enough',\n",
              " 'to',\n",
              " 'raise',\n",
              " 'the',\n",
              " 'kid',\n",
              " 'No',\n",
              " 'way',\n",
              " 'Raising',\n",
              " 'her',\n",
              " 'would',\n",
              " 'be',\n",
              " 'like',\n",
              " 'raising',\n",
              " 'others',\n",
              " 'take',\n",
              " 'care',\n",
              " 'of',\n",
              " 'her',\n",
              " 'Marry',\n",
              " 'her',\n",
              " 'when',\n",
              " 'she',\n",
              " 'grows',\n",
              " 'up',\n",
              " 'And',\n",
              " 'you',\n",
              " 'tell',\n",
              " 'her',\n",
              " 'to',\n",
              " 'be',\n",
              " 'smart',\n",
              " 'Do',\n",
              " \"n't\",\n",
              " 'marry',\n",
              " 'a',\n",
              " 'gambler',\n",
              " 'Hey',\n",
              " 'you',\n",
              " 'want',\n",
              " 'a',\n",
              " 'quarrel',\n",
              " 'No',\n",
              " 'never',\n",
              " 'This',\n",
              " 'is',\n",
              " 'the',\n",
              " 'last',\n",
              " 'time',\n",
              " 'You',\n",
              " \"'re\",\n",
              " 'SO',\n",
              " 'right',\n",
              " 'Do',\n",
              " \"n't\",\n",
              " 'rush',\n",
              " 'Everyone',\n",
              " 'will',\n",
              " 'have',\n",
              " 'a',\n",
              " 'share',\n",
              " 'Why',\n",
              " 'so',\n",
              " 'crowded',\n",
              " 'What',\n",
              " \"'re\",\n",
              " 'they',\n",
              " 'doing',\n",
              " 'Worshipping',\n",
              " 'ancestors',\n",
              " 'With',\n",
              " 'all',\n",
              " 'those',\n",
              " 'many',\n",
              " 'things',\n",
              " 'Hey',\n",
              " 'Granny',\n",
              " 'Come',\n",
              " 'on',\n",
              " 'Come',\n",
              " 'and',\n",
              " 'take',\n",
              " 'a',\n",
              " 'bite',\n",
              " 'The',\n",
              " 'dishes',\n",
              " 'are',\n",
              " 'good',\n",
              " 'this',\n",
              " 'year',\n",
              " 'Right',\n",
              " 'Marble',\n",
              " 'have',\n",
              " 'some',\n",
              " 'I',\n",
              " \"'ll\",\n",
              " 'go',\n",
              " 'get',\n",
              " 'my',\n",
              " 'share',\n",
              " 'of',\n",
              " 'pork',\n",
              " 'This',\n",
              " 'is',\n",
              " 'a',\n",
              " 'leg',\n",
              " 'washing',\n",
              " 'basin',\n",
              " 'Hey',\n",
              " 'how',\n",
              " 'can',\n",
              " 'you',\n",
              " 'say',\n",
              " 'that',\n",
              " 'Let',\n",
              " \"'s\",\n",
              " 'go',\n",
              " 'get',\n",
              " 'a',\n",
              " 'share',\n",
              " 'of',\n",
              " 'pork',\n",
              " 'Your',\n",
              " 'share',\n",
              " 'You',\n",
              " 'wish',\n",
              " 'That',\n",
              " \"'s\",\n",
              " 'only',\n",
              " 'for',\n",
              " 'boys',\n",
              " 'Yeah',\n",
              " 'I',\n",
              " 'have',\n",
              " 'a',\n",
              " 'wee',\n",
              " 'wee',\n",
              " 'Have',\n",
              " 'you',\n",
              " 'Aunty',\n",
              " 'Chiang',\n",
              " 'Lin',\n",
              " 'one',\n",
              " 'more',\n",
              " 'baby',\n",
              " 'this',\n",
              " 'year',\n",
              " 'Yes',\n",
              " 'You',\n",
              " 'are',\n",
              " 'the',\n",
              " 'best',\n",
              " 'in',\n",
              " 'your',\n",
              " 'family',\n",
              " 'Hey',\n",
              " 'you',\n",
              " 'think',\n",
              " 'it',\n",
              " \"'s\",\n",
              " 'my',\n",
              " 'will',\n",
              " 'I',\n",
              " 'was',\n",
              " 'compelled',\n",
              " 'by',\n",
              " 'my',\n",
              " 'stupid',\n",
              " 'husband',\n",
              " 'Come',\n",
              " 'on',\n",
              " 'Let',\n",
              " \"'s\",\n",
              " 'worship',\n",
              " 'first',\n",
              " 'Eat',\n",
              " 'some',\n",
              " 'roast',\n",
              " 'pork',\n",
              " 'We',\n",
              " 'have',\n",
              " 'a',\n",
              " 'lot',\n",
              " 'of',\n",
              " 'it',\n",
              " 'Honey',\n",
              " 'baby',\n",
              " 'Yes',\n",
              " 'Only',\n",
              " 'with',\n",
              " 'Chinese',\n",
              " 'blood',\n",
              " 'What',\n",
              " 'do',\n",
              " 'you',\n",
              " 'mean',\n",
              " 'It',\n",
              " 'means',\n",
              " 'I',\n",
              " 'give',\n",
              " 'you',\n",
              " 'a',\n",
              " 'green',\n",
              " 'hat',\n",
              " 'Oh',\n",
              " 'that',\n",
              " 'goes',\n",
              " 'with',\n",
              " 'my',\n",
              " 'clothes',\n",
              " 'then',\n",
              " 'Eat',\n",
              " 'no',\n",
              " 'more',\n",
              " 'talk',\n",
              " 'So',\n",
              " 'rude',\n",
              " 'Take',\n",
              " 'it',\n",
              " 'home',\n",
              " 'Get',\n",
              " 'up',\n",
              " 'go',\n",
              " 'We',\n",
              " \"'re\",\n",
              " 'going',\n",
              " 'back',\n",
              " 'home',\n",
              " 'Be',\n",
              " 'quick',\n",
              " 'Honey',\n",
              " 'Hey',\n",
              " 'make',\n",
              " 'a',\n",
              " 'stance',\n",
              " 'Hold',\n",
              " 'it',\n",
              " 'Master',\n",
              " 'every',\n",
              " 'time',\n",
              " 'we',\n",
              " \"'ve\",\n",
              " 'to',\n",
              " 'stand',\n",
              " 'in',\n",
              " 'a',\n",
              " 'pose',\n",
              " 'If',\n",
              " 'you',\n",
              " 'could',\n",
              " 'teach',\n",
              " 'us',\n",
              " 'something',\n",
              " 'else',\n",
              " 'please',\n",
              " 'Okay',\n",
              " 'Shaolin',\n",
              " 'Masters',\n",
              " 'learn',\n",
              " 'poses',\n",
              " 'for',\n",
              " 'years',\n",
              " 'Hold',\n",
              " 'it',\n",
              " 'Okay',\n",
              " 'I',\n",
              " \"'ll\",\n",
              " 'teach',\n",
              " 'you',\n",
              " 'something',\n",
              " 'new',\n",
              " 'Watch',\n",
              " 'me',\n",
              " 'See',\n",
              " 'Get',\n",
              " 'to',\n",
              " 'it',\n",
              " 'Seeing',\n",
              " 'Shanghai',\n",
              " 'Beach',\n",
              " 'in',\n",
              " 'Mainland',\n",
              " 'Here',\n",
              " 'I',\n",
              " \"'m\",\n",
              " 'still',\n",
              " 'watching',\n",
              " 'it',\n",
              " 'everyday',\n",
              " 'I',\n",
              " \"'m\",\n",
              " 'so',\n",
              " 'tired',\n",
              " 'Tired',\n",
              " 'Let',\n",
              " \"'s\",\n",
              " 'go',\n",
              " 'to',\n",
              " 'bed',\n",
              " 'for',\n",
              " 'rest',\n",
              " 'I',\n",
              " 'hate',\n",
              " 'Chau',\n",
              " 'Yun',\n",
              " 'Fa',\n",
              " 'the',\n",
              " 'most',\n",
              " 'He',\n",
              " 'did',\n",
              " \"n't\",\n",
              " 'marry',\n",
              " 'when',\n",
              " 'I',\n",
              " \"'m\",\n",
              " 'in',\n",
              " 'China',\n",
              " 'As',\n",
              " 'soon',\n",
              " 'as',\n",
              " 'I',\n",
              " \"'m\",\n",
              " 'here',\n",
              " 'he',\n",
              " 'got',\n",
              " 'married',\n",
              " 'You',\n",
              " 'ca',\n",
              " \"n't\",\n",
              " 'come',\n",
              " 'to',\n",
              " 'Hong',\n",
              " 'Kong',\n",
              " 'if',\n",
              " 'you',\n",
              " 'do',\n",
              " \"n't\",\n",
              " 'marry',\n",
              " 'me',\n",
              " 'You',\n",
              " 'said',\n",
              " 'you',\n",
              " 'are',\n",
              " 'big',\n",
              " 'boss',\n",
              " 'Having',\n",
              " 'a',\n",
              " 'big',\n",
              " 'business',\n",
              " 'Now',\n",
              " 'that',\n",
              " 'I',\n",
              " \"'m\",\n",
              " 'in',\n",
              " 'Hong',\n",
              " 'Kong',\n",
              " 'I',\n",
              " \"'m\",\n",
              " 'still',\n",
              " 'for',\n",
              " 'myself',\n",
              " 'Then',\n",
              " 'I',\n",
              " 'ought',\n",
              " 'to',\n",
              " 'feel',\n",
              " 'much',\n",
              " 'more',\n",
              " 'sorry',\n",
              " 'You',\n",
              " 'ca',\n",
              " \"n't\",\n",
              " 'even',\n",
              " 'lay',\n",
              " 'an',\n",
              " 'egg',\n",
              " 'This',\n",
              " 'year',\n",
              " 'I',\n",
              " 'can',\n",
              " 'only',\n",
              " 'get',\n",
              " 'one',\n",
              " 'share',\n",
              " 'of',\n",
              " 'pork',\n",
              " 'And',\n",
              " 'you',\n",
              " \"'re\",\n",
              " 'blaming',\n",
              " 'me',\n",
              " 'for',\n",
              " 'it',\n",
              " 'Damn',\n",
              " 'monkey',\n",
              " 'What',\n",
              " \"'s\",\n",
              " 'going',\n",
              " 'on',\n",
              " 'A',\n",
              " 'letter',\n",
              " 'for',\n",
              " 'you',\n",
              " 'Oh',\n",
              " 'it',\n",
              " \"'s\",\n",
              " 'you',\n",
              " 'Your',\n",
              " 'monkey',\n",
              " 'glared',\n",
              " 'at',\n",
              " 'me',\n",
              " 'fiercely',\n",
              " 'Will',\n",
              " 'you',\n",
              " 'open',\n",
              " 'it',\n",
              " 'for',\n",
              " 'me',\n",
              " 'Read',\n",
              " 'it',\n",
              " 'to',\n",
              " 'me',\n",
              " 'I',\n",
              " 'am',\n",
              " 'quite',\n",
              " 'illiterate',\n",
              " 'Stop',\n",
              " 'it',\n",
              " 'Do',\n",
              " \"n't\",\n",
              " 'bother',\n",
              " 'him',\n",
              " 'Let',\n",
              " 'me',\n",
              " 'help',\n",
              " 'you',\n",
              " 'Give',\n",
              " 'me',\n",
              " 'the',\n",
              " 'letter',\n",
              " 'Postman',\n",
              " \"'s\",\n",
              " 'duty',\n",
              " 'is',\n",
              " 'to',\n",
              " 'deliver',\n",
              " 'and',\n",
              " 'read',\n",
              " 'letters',\n",
              " 'He',\n",
              " 'reads',\n",
              " 'for',\n",
              " 'Aunt',\n",
              " 'Jiao',\n",
              " 'How',\n",
              " 'can',\n",
              " 'you',\n",
              " 'compare',\n",
              " 'to',\n",
              " 'her',\n",
              " 'Aunty',\n",
              " 'Jiao',\n",
              " 'is',\n",
              " '83',\n",
              " 'years',\n",
              " 'old',\n",
              " 'Hello',\n",
              " 'dubbing',\n",
              " 'room',\n",
              " 'Martin',\n",
              " 'Martin',\n",
              " 'is',\n",
              " 'working',\n",
              " 'Are',\n",
              " 'you',\n",
              " 'lying',\n",
              " 'to',\n",
              " 'me',\n",
              " 'Why',\n",
              " 'should',\n",
              " 'I',\n",
              " 'lie',\n",
              " 'I',\n",
              " 'know',\n",
              " 'he',\n",
              " \"'s\",\n",
              " 'free',\n",
              " 'Get',\n",
              " 'him',\n",
              " 'You',\n",
              " 'listen',\n",
              " 'yourself',\n",
              " 'then',\n",
              " 'Hello',\n",
              " 'what',\n",
              " \"'s\",\n",
              " 'the',\n",
              " 'noise',\n",
              " 'Is',\n",
              " 'someone',\n",
              " 'being',\n",
              " 'raped',\n",
              " 'Martin',\n",
              " 'your',\n",
              " 'telephone',\n",
              " 'Hello',\n",
              " 'What',\n",
              " 'took',\n",
              " 'you',\n",
              " 'so',\n",
              " 'long',\n",
              " 'Recording',\n",
              " 'is',\n",
              " 'going',\n",
              " 'on',\n",
              " 'Do',\n",
              " \"n't\",\n",
              " 'mess',\n",
              " 'around',\n",
              " 'Yes',\n",
              " 'I',\n",
              " 'know',\n",
              " 'I',\n",
              " 'wo',\n",
              " \"n't\",\n",
              " 'Honey',\n",
              " 'did',\n",
              " 'you',\n",
              " 'spend',\n",
              " 'so',\n",
              " 'much',\n",
              " 'I',\n",
              " 'was',\n",
              " 'late',\n",
              " 'for',\n",
              " 'work',\n",
              " 'so',\n",
              " 'I',\n",
              " 'took',\n",
              " 'a',\n",
              " 'taxi',\n",
              " 'On',\n",
              " 'your',\n",
              " 'way',\n",
              " 'back',\n",
              " 'do',\n",
              " \"n't\",\n",
              " 'forget',\n",
              " 'to',\n",
              " 'buy',\n",
              " 'vegetables',\n",
              " 'Okay',\n",
              " 'And',\n",
              " 'buy',\n",
              " 'a',\n",
              " 'pair',\n",
              " 'of',\n",
              " 'slippers',\n",
              " 'for',\n",
              " 'me',\n",
              " 'Got',\n",
              " 'it',\n",
              " 'honey',\n",
              " 'I',\n",
              " \"'ll\",\n",
              " 'hang',\n",
              " 'up',\n",
              " 'Bye',\n",
              " 'Would',\n",
              " \"n't\",\n",
              " 'marry',\n",
              " 'if',\n",
              " 'you',\n",
              " 'know',\n",
              " 'your',\n",
              " 'wife',\n",
              " 'is',\n",
              " 'so',\n",
              " 'bad',\n",
              " 'Take',\n",
              " 'pity',\n",
              " 'for',\n",
              " 'the',\n",
              " 'rest',\n",
              " 'of',\n",
              " 'my',\n",
              " 'life',\n",
              " 'Hey',\n",
              " 'what',\n",
              " \"'s\",\n",
              " 'on',\n",
              " 'your',\n",
              " 'neck',\n",
              " 'Nothing',\n",
              " 'You',\n",
              " 'look',\n",
              " 'piteous',\n",
              " 'She',\n",
              " \"'s\",\n",
              " 'the',\n",
              " 'piteous',\n",
              " 'one',\n",
              " 'The',\n",
              " 'vampire',\n",
              " 'is',\n",
              " 'here',\n",
              " 'Grandma',\n",
              " 'grandma',\n",
              " 'Someone',\n",
              " 'is',\n",
              " 'fighting',\n",
              " 'Grandma',\n",
              " 'grandma',\n",
              " 'Come',\n",
              " 'over',\n",
              " 'quickly',\n",
              " 'What',\n",
              " 'happened',\n",
              " 'Someone',\n",
              " 'is',\n",
              " 'fighting',\n",
              " 'Fighting',\n",
              " 'Yes',\n",
              " 'Where',\n",
              " 'Over',\n",
              " 'there',\n",
              " 'You',\n",
              " 'see',\n",
              " 'it',\n",
              " 'I',\n",
              " 'spare',\n",
              " 'you',\n",
              " 'this',\n",
              " 'time',\n",
              " 'No',\n",
              " 'next',\n",
              " 'time',\n",
              " 'Sorry',\n",
              " 'let',\n",
              " 'me',\n",
              " 'kiss',\n",
              " 'you',\n",
              " 'Cut',\n",
              " 'the',\n",
              " 'bullshit',\n",
              " 'Go',\n",
              " 'to',\n",
              " 'bed',\n",
              " 'I',\n",
              " 'need',\n",
              " 'to',\n",
              " 'work',\n",
              " 'tomorrow',\n",
              " 'Where',\n",
              " 'at',\n",
              " 'That',\n",
              " 'villa',\n",
              " 'over',\n",
              " 'there',\n",
              " 'Wow',\n",
              " 'it',\n",
              " 'looks',\n",
              " 'beautiful',\n",
              " 'Who',\n",
              " 'lives',\n",
              " 'there',\n",
              " 'Snow',\n",
              " 'White',\n",
              " 'Kidding',\n",
              " 'there',\n",
              " \"'s\",\n",
              " 'no',\n",
              " 'Snow',\n",
              " 'White',\n",
              " 'Oh',\n",
              " 'murder',\n",
              " 'That',\n",
              " \"'s\",\n",
              " 'the',\n",
              " 'pig',\n",
              " 'scream',\n",
              " 'Why',\n",
              " \"'s\",\n",
              " 'the',\n",
              " 'pig',\n",
              " 'screaming',\n",
              " 'so',\n",
              " 'late',\n",
              " 'at',\n",
              " 'night',\n",
              " 'Shorty',\n",
              " \"'s\",\n",
              " 'late',\n",
              " 'So',\n",
              " 'the',\n",
              " 'government',\n",
              " 'wo',\n",
              " \"n't\",\n",
              " 'know',\n",
              " 'But',\n",
              " 'how',\n",
              " 'could',\n",
              " 'a',\n",
              " 'pig',\n",
              " \"'s\",\n",
              " 'scream',\n",
              " 'be',\n",
              " 'so',\n",
              " 'terrible',\n",
              " 'Why',\n",
              " 'Why',\n",
              " 'are',\n",
              " \"n't\",\n",
              " 'you',\n",
              " 'tired',\n",
              " 'Why',\n",
              " 'are',\n",
              " \"n't\",\n",
              " 'you',\n",
              " 'sleepy',\n",
              " 'Why',\n",
              " 'have',\n",
              " \"n't\",\n",
              " 'you',\n",
              " 'gone',\n",
              " 'to',\n",
              " 'bed',\n",
              " 'Why',\n",
              " 'are',\n",
              " 'you',\n",
              " 'so',\n",
              " 'nosy',\n",
              " 'Go',\n",
              " 'to',\n",
              " 'sleep',\n",
              " 'Here',\n",
              " \"'s\",\n",
              " 'the',\n",
              " 'kitchen',\n",
              " 'Oil',\n",
              " 'Salt',\n",
              " 'Sauce',\n",
              " 'Vinegar',\n",
              " 'All',\n",
              " 'there',\n",
              " 'Go',\n",
              " 'tidy',\n",
              " 'up',\n",
              " 'Ask',\n",
              " 'me',\n",
              " 'if',\n",
              " 'you',\n",
              " 'have',\n",
              " 'any',\n",
              " 'question',\n",
              " 'Come',\n",
              " 'dance',\n",
              " 'with',\n",
              " 'me',\n",
              " 'Come',\n",
              " 'on',\n",
              " 'Come',\n",
              " 'Dance',\n",
              " 'I',\n",
              " \"'ll\",\n",
              " 'teach',\n",
              " 'you',\n",
              " 'Do',\n",
              " \"n't\",\n",
              " 'be',\n",
              " 'afraid',\n",
              " 'Damn',\n",
              " 'dog',\n",
              " 'Damn',\n",
              " 'it',\n",
              " 'What',\n",
              " \"'s\",\n",
              " 'such',\n",
              " 'a',\n",
              " 'big',\n",
              " 'deal',\n",
              " 'to',\n",
              " 'be',\n",
              " 'rich',\n",
              " 'Pay',\n",
              " 'for',\n",
              " 'my',\n",
              " 'pants',\n",
              " 'Sorry',\n",
              " 'I',\n",
              " 'do',\n",
              " \"n't\",\n",
              " 'mean',\n",
              " 'to',\n",
              " 'be',\n",
              " 'rude',\n",
              " 'Be',\n",
              " 'careful',\n",
              " 'next',\n",
              " 'time',\n",
              " 'Miss',\n",
              " 'it',\n",
              " 'seems',\n",
              " 'I',\n",
              " \"'ve\",\n",
              " 'seen',\n",
              " 'you',\n",
              " 'somewhere',\n",
              " 'Of',\n",
              " 'course',\n",
              " 'you',\n",
              " 'have',\n",
              " 'I',\n",
              " \"'ll\",\n",
              " 'be',\n",
              " 'the',\n",
              " 'Miss',\n",
              " 'Hong',\n",
              " 'Kong',\n",
              " 'in',\n",
              " 'next',\n",
              " 'contest',\n",
              " 'I',\n",
              " 'have',\n",
              " 'nine',\n",
              " 'posters',\n",
              " 'at',\n",
              " 'the',\n",
              " ...]"
            ]
          },
          "metadata": {},
          "execution_count": 44
        }
      ],
      "source": [
        "word_tokenize(clean_11[1])"
      ]
    },
    {
      "cell_type": "markdown",
      "metadata": {
        "id": "kpelIiv8Tg4D"
      },
      "source": [
        "You can see how the sentence is broken into its constituent words. We can then do some analysis with this. \n",
        "\n",
        "Note: we still don't know which movie this is, just that it is raw movie text data. Maybe in the process of our text cleaning and counting we will come across something!"
      ]
    },
    {
      "cell_type": "markdown",
      "metadata": {
        "id": "CiW6tZapTg4D"
      },
      "source": [
        "# Counting words\n",
        "\n",
        "If we want to do some analysis we can start by simply counting the number of times each word occurs within the corpus."
      ]
    },
    {
      "cell_type": "code",
      "execution_count": null,
      "metadata": {
        "id": "hARQPUprTg4E"
      },
      "outputs": [],
      "source": [
        "def wordCounter(wordLst):\n",
        "    wordCounts = {}\n",
        "    for word in wordLst:\n",
        "        #We usually need to normalize the case\n",
        "        wLower = word.lower()\n",
        "        if wLower in wordCounts:\n",
        "            wordCounts[wLower] += 1\n",
        "        else:\n",
        "            wordCounts[wLower] = 1\n",
        "    #convert to DataFrame\n",
        "    countsForFrame = {'word' : [], 'count' : []}\n",
        "    for w, c in wordCounts.items():\n",
        "        countsForFrame['word'].append(w)\n",
        "        countsForFrame['count'].append(c)\n",
        "    return pandas.DataFrame(countsForFrame)"
      ]
    },
    {
      "cell_type": "code",
      "execution_count": null,
      "metadata": {
        "id": "ZTJhAgdvTg4E",
        "colab": {
          "base_uri": "https://localhost:8080/"
        },
        "outputId": "037f02ff-0bc9-430c-ad72-0a0b161d4b2a"
      },
      "outputs": [
        {
          "output_type": "execute_result",
          "data": {
            "text/html": [
              "\n",
              "  <div id=\"df-a6262acf-f6bb-4cd2-8b3e-62fe700a41ad\">\n",
              "    <div class=\"colab-df-container\">\n",
              "      <div>\n",
              "<style scoped>\n",
              "    .dataframe tbody tr th:only-of-type {\n",
              "        vertical-align: middle;\n",
              "    }\n",
              "\n",
              "    .dataframe tbody tr th {\n",
              "        vertical-align: top;\n",
              "    }\n",
              "\n",
              "    .dataframe thead th {\n",
              "        text-align: right;\n",
              "    }\n",
              "</style>\n",
              "<table border=\"1\" class=\"dataframe\">\n",
              "  <thead>\n",
              "    <tr style=\"text-align: right;\">\n",
              "      <th></th>\n",
              "      <th>word</th>\n",
              "      <th>count</th>\n",
              "    </tr>\n",
              "  </thead>\n",
              "  <tbody>\n",
              "    <tr>\n",
              "      <th>0</th>\n",
              "      <td>@@216680</td>\n",
              "      <td>1</td>\n",
              "    </tr>\n",
              "    <tr>\n",
              "      <th>1</th>\n",
              "      <td>hey</td>\n",
              "      <td>16</td>\n",
              "    </tr>\n",
              "    <tr>\n",
              "      <th>2</th>\n",
              "      <td>i</td>\n",
              "      <td>191</td>\n",
              "    </tr>\n",
              "    <tr>\n",
              "      <th>3</th>\n",
              "      <td>'m</td>\n",
              "      <td>24</td>\n",
              "    </tr>\n",
              "    <tr>\n",
              "      <th>4</th>\n",
              "      <td>talking</td>\n",
              "      <td>2</td>\n",
              "    </tr>\n",
              "    <tr>\n",
              "      <th>5</th>\n",
              "      <td>to</td>\n",
              "      <td>112</td>\n",
              "    </tr>\n",
              "    <tr>\n",
              "      <th>6</th>\n",
              "      <td>you</td>\n",
              "      <td>302</td>\n",
              "    </tr>\n",
              "    <tr>\n",
              "      <th>7</th>\n",
              "      <td>give</td>\n",
              "      <td>14</td>\n",
              "    </tr>\n",
              "    <tr>\n",
              "      <th>8</th>\n",
              "      <td>me</td>\n",
              "      <td>82</td>\n",
              "    </tr>\n",
              "    <tr>\n",
              "      <th>9</th>\n",
              "      <td>600</td>\n",
              "      <td>1</td>\n",
              "    </tr>\n",
              "  </tbody>\n",
              "</table>\n",
              "</div>\n",
              "      <button class=\"colab-df-convert\" onclick=\"convertToInteractive('df-a6262acf-f6bb-4cd2-8b3e-62fe700a41ad')\"\n",
              "              title=\"Convert this dataframe to an interactive table.\"\n",
              "              style=\"display:none;\">\n",
              "        \n",
              "  <svg xmlns=\"http://www.w3.org/2000/svg\" height=\"24px\"viewBox=\"0 0 24 24\"\n",
              "       width=\"24px\">\n",
              "    <path d=\"M0 0h24v24H0V0z\" fill=\"none\"/>\n",
              "    <path d=\"M18.56 5.44l.94 2.06.94-2.06 2.06-.94-2.06-.94-.94-2.06-.94 2.06-2.06.94zm-11 1L8.5 8.5l.94-2.06 2.06-.94-2.06-.94L8.5 2.5l-.94 2.06-2.06.94zm10 10l.94 2.06.94-2.06 2.06-.94-2.06-.94-.94-2.06-.94 2.06-2.06.94z\"/><path d=\"M17.41 7.96l-1.37-1.37c-.4-.4-.92-.59-1.43-.59-.52 0-1.04.2-1.43.59L10.3 9.45l-7.72 7.72c-.78.78-.78 2.05 0 2.83L4 21.41c.39.39.9.59 1.41.59.51 0 1.02-.2 1.41-.59l7.78-7.78 2.81-2.81c.8-.78.8-2.07 0-2.86zM5.41 20L4 18.59l7.72-7.72 1.47 1.35L5.41 20z\"/>\n",
              "  </svg>\n",
              "      </button>\n",
              "      \n",
              "  <style>\n",
              "    .colab-df-container {\n",
              "      display:flex;\n",
              "      flex-wrap:wrap;\n",
              "      gap: 12px;\n",
              "    }\n",
              "\n",
              "    .colab-df-convert {\n",
              "      background-color: #E8F0FE;\n",
              "      border: none;\n",
              "      border-radius: 50%;\n",
              "      cursor: pointer;\n",
              "      display: none;\n",
              "      fill: #1967D2;\n",
              "      height: 32px;\n",
              "      padding: 0 0 0 0;\n",
              "      width: 32px;\n",
              "    }\n",
              "\n",
              "    .colab-df-convert:hover {\n",
              "      background-color: #E2EBFA;\n",
              "      box-shadow: 0px 1px 2px rgba(60, 64, 67, 0.3), 0px 1px 3px 1px rgba(60, 64, 67, 0.15);\n",
              "      fill: #174EA6;\n",
              "    }\n",
              "\n",
              "    [theme=dark] .colab-df-convert {\n",
              "      background-color: #3B4455;\n",
              "      fill: #D2E3FC;\n",
              "    }\n",
              "\n",
              "    [theme=dark] .colab-df-convert:hover {\n",
              "      background-color: #434B5C;\n",
              "      box-shadow: 0px 1px 3px 1px rgba(0, 0, 0, 0.15);\n",
              "      filter: drop-shadow(0px 1px 2px rgba(0, 0, 0, 0.3));\n",
              "      fill: #FFFFFF;\n",
              "    }\n",
              "  </style>\n",
              "\n",
              "      <script>\n",
              "        const buttonEl =\n",
              "          document.querySelector('#df-a6262acf-f6bb-4cd2-8b3e-62fe700a41ad button.colab-df-convert');\n",
              "        buttonEl.style.display =\n",
              "          google.colab.kernel.accessAllowed ? 'block' : 'none';\n",
              "\n",
              "        async function convertToInteractive(key) {\n",
              "          const element = document.querySelector('#df-a6262acf-f6bb-4cd2-8b3e-62fe700a41ad');\n",
              "          const dataTable =\n",
              "            await google.colab.kernel.invokeFunction('convertToInteractive',\n",
              "                                                     [key], {});\n",
              "          if (!dataTable) return;\n",
              "\n",
              "          const docLinkHtml = 'Like what you see? Visit the ' +\n",
              "            '<a target=\"_blank\" href=https://colab.research.google.com/notebooks/data_table.ipynb>data table notebook</a>'\n",
              "            + ' to learn more about interactive tables.';\n",
              "          element.innerHTML = '';\n",
              "          dataTable['output_type'] = 'display_data';\n",
              "          await google.colab.output.renderOutput(dataTable, element);\n",
              "          const docLink = document.createElement('div');\n",
              "          docLink.innerHTML = docLinkHtml;\n",
              "          element.appendChild(docLink);\n",
              "        }\n",
              "      </script>\n",
              "    </div>\n",
              "  </div>\n",
              "  "
            ],
            "text/plain": [
              "       word  count\n",
              "0  @@216680      1\n",
              "1       hey     16\n",
              "2         i    191\n",
              "3        'm     24\n",
              "4   talking      2\n",
              "5        to    112\n",
              "6       you    302\n",
              "7      give     14\n",
              "8        me     82\n",
              "9       600      1"
            ]
          },
          "metadata": {},
          "execution_count": 46
        }
      ],
      "source": [
        "countedWords = wordCounter(word_tokenize(clean_11[1]))\n",
        "countedWords[:10]"
      ]
    },
    {
      "cell_type": "markdown",
      "metadata": {
        "id": "6RbGWZT9Tg4E"
      },
      "source": [
        "Lets sort and plot our counts to investigate the shape of our word frequency distribution.\n",
        "\n",
        "First we need to sort the words by count."
      ]
    },
    {
      "cell_type": "code",
      "execution_count": null,
      "metadata": {
        "id": "2qMR4rXnTg4E",
        "colab": {
          "base_uri": "https://localhost:8080/"
        },
        "outputId": "0dd773b1-31e6-423c-9233-4a67a14dacb6"
      },
      "outputs": [
        {
          "output_type": "execute_result",
          "data": {
            "text/html": [
              "\n",
              "  <div id=\"df-b4b03035-d419-445d-a335-6402088e02f1\">\n",
              "    <div class=\"colab-df-container\">\n",
              "      <div>\n",
              "<style scoped>\n",
              "    .dataframe tbody tr th:only-of-type {\n",
              "        vertical-align: middle;\n",
              "    }\n",
              "\n",
              "    .dataframe tbody tr th {\n",
              "        vertical-align: top;\n",
              "    }\n",
              "\n",
              "    .dataframe thead th {\n",
              "        text-align: right;\n",
              "    }\n",
              "</style>\n",
              "<table border=\"1\" class=\"dataframe\">\n",
              "  <thead>\n",
              "    <tr style=\"text-align: right;\">\n",
              "      <th></th>\n",
              "      <th>word</th>\n",
              "      <th>count</th>\n",
              "    </tr>\n",
              "  </thead>\n",
              "  <tbody>\n",
              "    <tr>\n",
              "      <th>6</th>\n",
              "      <td>you</td>\n",
              "      <td>302</td>\n",
              "    </tr>\n",
              "    <tr>\n",
              "      <th>2</th>\n",
              "      <td>i</td>\n",
              "      <td>191</td>\n",
              "    </tr>\n",
              "    <tr>\n",
              "      <th>13</th>\n",
              "      <td>'s</td>\n",
              "      <td>126</td>\n",
              "    </tr>\n",
              "    <tr>\n",
              "      <th>5</th>\n",
              "      <td>to</td>\n",
              "      <td>112</td>\n",
              "    </tr>\n",
              "    <tr>\n",
              "      <th>31</th>\n",
              "      <td>it</td>\n",
              "      <td>109</td>\n",
              "    </tr>\n",
              "    <tr>\n",
              "      <th>...</th>\n",
              "      <td>...</td>\n",
              "      <td>...</td>\n",
              "    </tr>\n",
              "    <tr>\n",
              "      <th>248</th>\n",
              "      <td>postman</td>\n",
              "      <td>10</td>\n",
              "    </tr>\n",
              "    <tr>\n",
              "      <th>187</th>\n",
              "      <td>please</td>\n",
              "      <td>9</td>\n",
              "    </tr>\n",
              "    <tr>\n",
              "      <th>328</th>\n",
              "      <td>but</td>\n",
              "      <td>9</td>\n",
              "    </tr>\n",
              "    <tr>\n",
              "      <th>215</th>\n",
              "      <td>as</td>\n",
              "      <td>9</td>\n",
              "    </tr>\n",
              "    <tr>\n",
              "      <th>135</th>\n",
              "      <td>say</td>\n",
              "      <td>9</td>\n",
              "    </tr>\n",
              "  </tbody>\n",
              "</table>\n",
              "<p>100 rows × 2 columns</p>\n",
              "</div>\n",
              "      <button class=\"colab-df-convert\" onclick=\"convertToInteractive('df-b4b03035-d419-445d-a335-6402088e02f1')\"\n",
              "              title=\"Convert this dataframe to an interactive table.\"\n",
              "              style=\"display:none;\">\n",
              "        \n",
              "  <svg xmlns=\"http://www.w3.org/2000/svg\" height=\"24px\"viewBox=\"0 0 24 24\"\n",
              "       width=\"24px\">\n",
              "    <path d=\"M0 0h24v24H0V0z\" fill=\"none\"/>\n",
              "    <path d=\"M18.56 5.44l.94 2.06.94-2.06 2.06-.94-2.06-.94-.94-2.06-.94 2.06-2.06.94zm-11 1L8.5 8.5l.94-2.06 2.06-.94-2.06-.94L8.5 2.5l-.94 2.06-2.06.94zm10 10l.94 2.06.94-2.06 2.06-.94-2.06-.94-.94-2.06-.94 2.06-2.06.94z\"/><path d=\"M17.41 7.96l-1.37-1.37c-.4-.4-.92-.59-1.43-.59-.52 0-1.04.2-1.43.59L10.3 9.45l-7.72 7.72c-.78.78-.78 2.05 0 2.83L4 21.41c.39.39.9.59 1.41.59.51 0 1.02-.2 1.41-.59l7.78-7.78 2.81-2.81c.8-.78.8-2.07 0-2.86zM5.41 20L4 18.59l7.72-7.72 1.47 1.35L5.41 20z\"/>\n",
              "  </svg>\n",
              "      </button>\n",
              "      \n",
              "  <style>\n",
              "    .colab-df-container {\n",
              "      display:flex;\n",
              "      flex-wrap:wrap;\n",
              "      gap: 12px;\n",
              "    }\n",
              "\n",
              "    .colab-df-convert {\n",
              "      background-color: #E8F0FE;\n",
              "      border: none;\n",
              "      border-radius: 50%;\n",
              "      cursor: pointer;\n",
              "      display: none;\n",
              "      fill: #1967D2;\n",
              "      height: 32px;\n",
              "      padding: 0 0 0 0;\n",
              "      width: 32px;\n",
              "    }\n",
              "\n",
              "    .colab-df-convert:hover {\n",
              "      background-color: #E2EBFA;\n",
              "      box-shadow: 0px 1px 2px rgba(60, 64, 67, 0.3), 0px 1px 3px 1px rgba(60, 64, 67, 0.15);\n",
              "      fill: #174EA6;\n",
              "    }\n",
              "\n",
              "    [theme=dark] .colab-df-convert {\n",
              "      background-color: #3B4455;\n",
              "      fill: #D2E3FC;\n",
              "    }\n",
              "\n",
              "    [theme=dark] .colab-df-convert:hover {\n",
              "      background-color: #434B5C;\n",
              "      box-shadow: 0px 1px 3px 1px rgba(0, 0, 0, 0.15);\n",
              "      filter: drop-shadow(0px 1px 2px rgba(0, 0, 0, 0.3));\n",
              "      fill: #FFFFFF;\n",
              "    }\n",
              "  </style>\n",
              "\n",
              "      <script>\n",
              "        const buttonEl =\n",
              "          document.querySelector('#df-b4b03035-d419-445d-a335-6402088e02f1 button.colab-df-convert');\n",
              "        buttonEl.style.display =\n",
              "          google.colab.kernel.accessAllowed ? 'block' : 'none';\n",
              "\n",
              "        async function convertToInteractive(key) {\n",
              "          const element = document.querySelector('#df-b4b03035-d419-445d-a335-6402088e02f1');\n",
              "          const dataTable =\n",
              "            await google.colab.kernel.invokeFunction('convertToInteractive',\n",
              "                                                     [key], {});\n",
              "          if (!dataTable) return;\n",
              "\n",
              "          const docLinkHtml = 'Like what you see? Visit the ' +\n",
              "            '<a target=\"_blank\" href=https://colab.research.google.com/notebooks/data_table.ipynb>data table notebook</a>'\n",
              "            + ' to learn more about interactive tables.';\n",
              "          element.innerHTML = '';\n",
              "          dataTable['output_type'] = 'display_data';\n",
              "          await google.colab.output.renderOutput(dataTable, element);\n",
              "          const docLink = document.createElement('div');\n",
              "          docLink.innerHTML = docLinkHtml;\n",
              "          element.appendChild(docLink);\n",
              "        }\n",
              "      </script>\n",
              "    </div>\n",
              "  </div>\n",
              "  "
            ],
            "text/plain": [
              "        word  count\n",
              "6        you    302\n",
              "2          i    191\n",
              "13        's    126\n",
              "5         to    112\n",
              "31        it    109\n",
              "..       ...    ...\n",
              "248  postman     10\n",
              "187   please      9\n",
              "328      but      9\n",
              "215       as      9\n",
              "135      say      9\n",
              "\n",
              "[100 rows x 2 columns]"
            ]
          },
          "metadata": {},
          "execution_count": 47
        }
      ],
      "source": [
        "#Doing this in place (changing the original DataFrame) as we don't need the unsorted DataFrame\n",
        "countedWords.sort_values('count', ascending=False, inplace=True)\n",
        "countedWords[:100]"
      ]
    },
    {
      "cell_type": "markdown",
      "metadata": {
        "id": "26qDRFT3Tg4F"
      },
      "source": [
        "Punctuation and very common words (articles 'a' and 'the'; prepositions 'of' and 'to') make up the most common values, but this isn't very interesting and can actually get in the way of our analysis. We may remove these 'function words' by removing according to a stopword list, setting some frequency threshold, or using a weighting scheme (like tf.idf) to decrease their influence - we will look at these methods in more detail as we go through this tutorial. "
      ]
    },
    {
      "cell_type": "code",
      "execution_count": null,
      "metadata": {
        "id": "W7-iE_BtTg4F",
        "colab": {
          "base_uri": "https://localhost:8080/"
        },
        "outputId": "2884d1bf-d852-4b30-f947-19731fb45349"
      },
      "outputs": [
        {
          "output_type": "display_data",
          "data": {
            "image/png": "[encoded data removed]",
            "text/plain": [
              "<Figure size 432x288 with 1 Axes>"
            ]
          },
          "metadata": {
            "needs_background": "light"
          }
        }
      ],
      "source": [
        "#Creating a figure and axis lets us do things like change the scaling or add a title\n",
        "fig = plt.figure()\n",
        "ax = fig.add_subplot(111)\n",
        "plt.plot(range(len(countedWords)), countedWords['count'])\n",
        "plt.show()"
      ]
    },
    {
      "cell_type": "markdown",
      "metadata": {
        "id": "s-38u7tpTg4F"
      },
      "source": [
        "This shows that likelihood of a word occurring is inversely proportional to its rank. This effect is called [Zipf's Law](https://en.wikipedia.org/wiki/Zipf%27s_law), and suggests that the most frequent word will occur approximately twice as often as the second most frequent word, three times as often as the third most frequent word, etc. Zipf's law is most easily observed by plotting the data on a log-log graph, with the axes being log (rank order) and log (frequency) resulting in a linear relationship."
      ]
    },
    {
      "cell_type": "code",
      "execution_count": null,
      "metadata": {
        "id": "vircv5ryTg4F",
        "colab": {
          "base_uri": "https://localhost:8080/"
        },
        "outputId": "e271fd31-d247-44a1-ee51-64dc3da6c617"
      },
      "outputs": [
        {
          "output_type": "display_data",
          "data": {
            "image/png": "[encoded data removed]",
            "text/plain": [
              "<Figure size 432x288 with 1 Axes>"
            ]
          },
          "metadata": {
            "needs_background": "light"
          }
        }
      ],
      "source": [
        "fig = plt.figure()\n",
        "ax = fig.add_subplot(111)\n",
        "plt.plot(range(len(countedWords)), countedWords['count'])\n",
        "ax.set_yscale('log')\n",
        "ax.set_xscale('log')\n",
        "plt.show()"
      ]
    },
    {
      "cell_type": "markdown",
      "metadata": {
        "id": "MlWtheqHTg4F"
      },
      "source": [
        "(The same relationship occurs in many other rankings, such as population ranks of cities, corporation sizes, income rankings, etc.) \n",
        "\n",
        "The distribution was imagined by Zipf to be driven by a principle of 'least effort' where speakers did not work any harder than necessary to communicate a given idea, but the basis for this relationship is still not well understood and conforms at least as well to a process of [preferential attachment](https://en.wikipedia.org/wiki/Preferential_attachment) whereby people disproportionately attend to popular words.\n"
      ]
    },
    {
      "cell_type": "markdown",
      "metadata": {
        "id": "UAzzkOKJTg4F"
      },
      "source": [
        "# Getting and working with raw text\n",
        "\n",
        "First, we will retrieve a collection of press releases from a *GitHub API* that archived them, based on a number of analyses by Justin Grimmer, a political scientist whose work we will read in two weeks!\n",
        "\n",
        "GitHub API requests are made to `'https://api.github.com/'` and responses are in JSON, similar to Tumblr's API.\n",
        "\n",
        "We will get the information on [github.com/lintool/GrimmerSenatePressReleases](https://github.com/lintool/GrimmerSenatePressReleases) as it contains a nice set documents."
      ]
    },
    {
      "cell_type": "code",
      "execution_count": null,
      "metadata": {
        "id": "MgG1h9NHTg4G",
        "colab": {
          "base_uri": "https://localhost:8080/"
        },
        "outputId": "32929414-907b-4a9b-b86a-493a4ba403d3"
      },
      "outputs": [
        {
          "output_type": "stream",
          "name": "stdout",
          "text": [
            "dict_keys(['id', 'node_id', 'name', 'full_name', 'private', 'owner', 'html_url', 'description', 'fork', 'url', 'forks_url', 'keys_url', 'collaborators_url', 'teams_url', 'hooks_url', 'issue_events_url', 'events_url', 'assignees_url', 'branches_url', 'tags_url', 'blobs_url', 'git_tags_url', 'git_refs_url', 'trees_url', 'statuses_url', 'languages_url', 'stargazers_url', 'contributors_url', 'subscribers_url', 'subscription_url', 'commits_url', 'git_commits_url', 'comments_url', 'issue_comment_url', 'contents_url', 'compare_url', 'merges_url', 'archive_url', 'downloads_url', 'issues_url', 'pulls_url', 'milestones_url', 'notifications_url', 'labels_url', 'releases_url', 'deployments_url', 'created_at', 'updated_at', 'pushed_at', 'git_url', 'ssh_url', 'clone_url', 'svn_url', 'homepage', 'size', 'stargazers_count', 'watchers_count', 'language', 'has_issues', 'has_projects', 'has_downloads', 'has_wiki', 'has_pages', 'forks_count', 'mirror_url', 'archived', 'disabled', 'open_issues_count', 'license', 'allow_forking', 'is_template', 'topics', 'visibility', 'forks', 'open_issues', 'watchers', 'default_branch', 'temp_clone_token', 'network_count', 'subscribers_count'])\n",
            "Grimmer's Senate Press Releases\n"
          ]
        }
      ],
      "source": [
        "r = requests.get('https://api.github.com/repos/lintool/GrimmerSenatePressReleases')\n",
        "senateReleasesData = json.loads(r.text)\n",
        "print(senateReleasesData.keys())\n",
        "print(senateReleasesData['description'])"
      ]
    },
    {
      "cell_type": "markdown",
      "metadata": {
        "id": "5fNKZqfmTg4G"
      },
      "source": [
        "What we are interested in here is the `'contents_url'`"
      ]
    },
    {
      "cell_type": "code",
      "execution_count": null,
      "metadata": {
        "id": "AFCjS8WTTg4G",
        "colab": {
          "base_uri": "https://localhost:8080/"
        },
        "outputId": "2a497aa1-a168-47b1-ddab-7e747c1e7fb4"
      },
      "outputs": [
        {
          "output_type": "stream",
          "name": "stdout",
          "text": [
            "https://api.github.com/repos/lintool/GrimmerSenatePressReleases/contents/{+path}\n"
          ]
        }
      ],
      "source": [
        "print(senateReleasesData['contents_url'])"
      ]
    },
    {
      "cell_type": "markdown",
      "metadata": {
        "id": "98jIPgMJTg4G"
      },
      "source": [
        "We can use this to get any or all of the files from the repo."
      ]
    },
    {
      "cell_type": "code",
      "execution_count": null,
      "metadata": {
        "id": "KYyp4ljDTg4G",
        "colab": {
          "base_uri": "https://localhost:8080/"
        },
        "outputId": "2b7d4412-3009-4c9a-da70-41f105b95842"
      },
      "outputs": [
        {
          "output_type": "execute_result",
          "data": {
            "text/plain": [
              "{'_links': {'git': 'https://api.github.com/repos/lintool/GrimmerSenatePressReleases/git/blobs/f524289ee563dca58690c8d36c23dce5dbd9962a',\n",
              "  'html': 'https://github.com/lintool/GrimmerSenatePressReleases/blob/master/raw/Whitehouse/10Apr2007Whitehouse123.txt',\n",
              "  'self': 'https://api.github.com/repos/lintool/GrimmerSenatePressReleases/contents/raw/Whitehouse/10Apr2007Whitehouse123.txt?ref=master'},\n",
              " 'download_url': 'https://raw.githubusercontent.com/lintool/GrimmerSenatePressReleases/master/raw/Whitehouse/10Apr2007Whitehouse123.txt',\n",
              " 'git_url': 'https://api.github.com/repos/lintool/GrimmerSenatePressReleases/git/blobs/f524289ee563dca58690c8d36c23dce5dbd9962a',\n",
              " 'html_url': 'https://github.com/lintool/GrimmerSenatePressReleases/blob/master/raw/Whitehouse/10Apr2007Whitehouse123.txt',\n",
              " 'name': '10Apr2007Whitehouse123.txt',\n",
              " 'path': 'raw/Whitehouse/10Apr2007Whitehouse123.txt',\n",
              " 'sha': 'f524289ee563dca58690c8d36c23dce5dbd9962a',\n",
              " 'size': 2206,\n",
              " 'type': 'file',\n",
              " 'url': 'https://api.github.com/repos/lintool/GrimmerSenatePressReleases/contents/raw/Whitehouse/10Apr2007Whitehouse123.txt?ref=master'}"
            ]
          },
          "metadata": {},
          "execution_count": 52
        }
      ],
      "source": [
        "r = requests.get('https://api.github.com/repos/lintool/GrimmerSenatePressReleases/contents/raw/Whitehouse')\n",
        "whitehouseLinks = json.loads(r.text)\n",
        "whitehouseLinks[0]"
      ]
    },
    {
      "cell_type": "markdown",
      "metadata": {
        "id": "CkpOPBbMTg4G"
      },
      "source": [
        "Now we have a list of information about Whitehouse press releases. Let's look at one of them."
      ]
    },
    {
      "cell_type": "code",
      "execution_count": null,
      "metadata": {
        "id": "Lzh2tpxYTg4G",
        "colab": {
          "base_uri": "https://localhost:8080/"
        },
        "outputId": "bfcafcc5-b77d-45fc-ade5-d05723ce9631"
      },
      "outputs": [
        {
          "output_type": "stream",
          "name": "stdout",
          "text": [
            "SEN. WHITEHOUSE SHARES WESTERLY GIRL'S STORY IN PUSH FOR STEM CELL RESEARCH\n",
            "  Sharing the story of Lila Barber, a 12 year old girl from Westerly, Sen. Sheldon Whitehouse (D-R.I.) on Tuesday, April 10, 2007, illustrated the hope stem cell research can offer in a speech on the Senate floor in favor of legislation to expand federal funding for stem cell research.  \n",
            "   Whitehouse met Lila two weeks ago. She was diagnosed two years ago with osteosarcoma, a cancerous bone condition, and last year underwent cadaver bone transplant surgery. The procedure saved her leg and is helping her remain cancer-free, but the transplanted tissue will not grow with her and likely will break down over time. Stem cell research, Whitehouse explained, could vastly improve the care of patients like Lila by allowing surgeons to enhance transplants with a patient's own stem cells, which could replace the lost bone and cartilage, or grow entirely new replacement bones and joints. \n",
            "   \"Stem cell research gives hope\n"
          ]
        },
        {
          "output_type": "execute_result",
          "data": {
            "text/plain": [
              "2206"
            ]
          },
          "metadata": {},
          "execution_count": 53
        }
      ],
      "source": [
        "r = requests.get(whitehouseLinks[0]['download_url'])\n",
        "whitehouseRelease = r.text\n",
        "print(whitehouseRelease[:1000])\n",
        "len(whitehouseRelease)"
      ]
    },
    {
      "cell_type": "markdown",
      "metadata": {
        "id": "XyTYcnhkTg4G"
      },
      "source": [
        "Now we have a string of correctly encoded text. For analysis of its words, next we need to tokenize it, or split it into a sequence of tokens or word instances."
      ]
    },
    {
      "cell_type": "code",
      "execution_count": null,
      "metadata": {
        "id": "w4MmAFG-Tg4H",
        "colab": {
          "base_uri": "https://localhost:8080/"
        },
        "outputId": "2d164ad2-060d-4161-c231-6868a88e7e8a"
      },
      "outputs": [
        {
          "output_type": "execute_result",
          "data": {
            "text/plain": [
              "['STEM',\n",
              " 'CELL',\n",
              " 'RESEARCH',\n",
              " 'Sharing',\n",
              " 'the',\n",
              " 'story',\n",
              " 'of',\n",
              " 'Lila',\n",
              " 'Barber',\n",
              " 'a',\n",
              " '12',\n",
              " 'year',\n",
              " 'old',\n",
              " 'girl',\n",
              " 'from',\n",
              " 'Westerly',\n",
              " 'Sen.',\n",
              " 'Sheldon',\n",
              " 'Whitehouse',\n",
              " 'D']"
            ]
          },
          "metadata": {},
          "execution_count": 54
        }
      ],
      "source": [
        "whTokens = word_tokenize(whitehouseRelease)\n",
        "whTokens[10:30]"
      ]
    },
    {
      "cell_type": "markdown",
      "metadata": {
        "id": "F9NYjFQFTg4H"
      },
      "source": [
        "Previous iterations of the course used `nltk`s tokenizer, but as we saw before, we used spaCy's model (https://spacy.io/api/tokenizer). We intend to avoid using NLTK when we can - for production level code, it is a lot faster and cleaner to use spaCy.\n",
        "\n",
        "That being said, `nltk` does have some useful methods for quick analysis of small corpora. We will explore a few here, and encourage you to figure out for yourself which other ones might be useful.\n",
        "\n",
        "To use the list of tokens in `nltk`, and take advantage of functions like `concordance`, shown above, we can convert it into a `Text`."
      ]
    },
    {
      "cell_type": "code",
      "execution_count": null,
      "metadata": {
        "id": "v0-a9MkkTg4H"
      },
      "outputs": [],
      "source": [
        "import nltk"
      ]
    },
    {
      "cell_type": "code",
      "execution_count": null,
      "metadata": {
        "id": "3vnI_dfgTg4H",
        "colab": {
          "base_uri": "https://localhost:8080/"
        },
        "outputId": "ad4b6015-38a5-47ee-a822-e54a69c2b822"
      },
      "outputs": [
        {
          "output_type": "stream",
          "name": "stdout",
          "text": [
            "Displaying 5 of 5 matches:\n",
            "girl from Westerly Sen. Sheldon Whitehouse D R.I. on Tuesday April 10 2007\n",
            " funding for stem cell research Whitehouse met Lila two weeks ago She was \n",
            "wn over time Stem cell research Whitehouse explained could vastly improve \n",
            "esearch might help or even cure Whitehouse said Whitehouse also praised th\n",
            "lp or even cure Whitehouse said Whitehouse also praised the efforts of Rho\n"
          ]
        }
      ],
      "source": [
        "whText = nltk.Text(whTokens)\n",
        "\n",
        "whitehouseIndex = nltk.text.ConcordanceIndex(whText) \n",
        "whitehouseIndex.print_concordance('Whitehouse')"
      ]
    },
    {
      "cell_type": "markdown",
      "metadata": {
        "id": "quI5rBUXTg4H"
      },
      "source": [
        "*Note* that the `Text` class is for doing rapid, exploratory analysis. It provides an easy interface to many of the operations we want to do, but it does not allow us much control over the particular operations it glosses. When you are doing a more complete analysis, you should be using the module specifically designed for that task instead of the shortcut method `Text` provides, e.g. use  [`collocations` Module](http://www.nltk.org/api/nltk.html#module-nltk.collocations) instead of `.collocations()`.\n",
        "\n",
        "Now that we have gotten this loaded, let's glance at few features we will delve into more deeply later.\n",
        "\n",
        "For example, we can find words that statistically tend to occur together and typically have a composite, idiomatic meaning irreducible to the semantics of its component words. We will do this later with more control over exactly how these are identified."
      ]
    },
    {
      "cell_type": "markdown",
      "metadata": {
        "id": "ZdK0xT8ETg4H"
      },
      "source": [
        "Or we can pick a word (or words) and find what words tend to occur around it."
      ]
    },
    {
      "cell_type": "code",
      "execution_count": null,
      "metadata": {
        "id": "YRpaISUaTg4H",
        "colab": {
          "base_uri": "https://localhost:8080/"
        },
        "outputId": "1f88423e-20a2-4782-9ca7-ac4f13462bc3"
      },
      "outputs": [
        {
          "output_type": "stream",
          "name": "stdout",
          "text": [
            "for_cell hope_cell time_cell own_cells joints_cell of_cell on_cells\n",
            "the_cell embryonic_cells\n"
          ]
        }
      ],
      "source": [
        "whText.common_contexts(['stem'])"
      ]
    },
    {
      "cell_type": "markdown",
      "metadata": {
        "id": "HjIMgrlJTg4I"
      },
      "source": [
        "We can also just count the number of times the word occurs."
      ]
    },
    {
      "cell_type": "code",
      "execution_count": null,
      "metadata": {
        "id": "C-HyrnZ0Tg4I",
        "colab": {
          "base_uri": "https://localhost:8080/"
        },
        "outputId": "540a7d49-2f9a-4389-be31-b37944fa9d77"
      },
      "outputs": [
        {
          "output_type": "execute_result",
          "data": {
            "text/plain": [
              "5"
            ]
          },
          "metadata": {},
          "execution_count": 58
        }
      ],
      "source": [
        "whText.count('cell')"
      ]
    },
    {
      "cell_type": "markdown",
      "metadata": {
        "id": "IkLX7MZuTg4I"
      },
      "source": [
        "\n",
        "We can also plot each time a set of words occurs."
      ]
    },
    {
      "cell_type": "code",
      "execution_count": null,
      "metadata": {
        "id": "Yz-BmQ8ATg4I",
        "colab": {
          "base_uri": "https://localhost:8080/",
          "height": 295
        },
        "outputId": "aea54ab2-f401-4301-b9f7-f5f7f8833166"
      },
      "outputs": [
        {
          "output_type": "display_data",
          "data": {
            "image/png": "[encoded data removed]",
            "text/plain": [
              "<Figure size 432x288 with 1 Axes>"
            ]
          },
          "metadata": {
            "needs_background": "light"
          }
        }
      ],
      "source": [
        "sns.reset_orig() #Seaborn messes with this plot, disabling it\n",
        "whText.dispersion_plot(['Sen.','stem', 'cell', 'federal' ,'Lila', 'Barber', 'Whitehouse'])\n",
        "sns.set() #Re-enabling seaborn"
      ]
    },
    {
      "cell_type": "markdown",
      "metadata": {
        "id": "z4Pxbjh3Tg4I"
      },
      "source": [
        "If we want to do an analysis of all the Whitehouse press releases we will first need to obtain them. By looking at the API we can see the the URL we want is [https://api.github.com/repos/lintool/GrimmerSenatePressReleases/contents/raw/Whitehouse](https://api.github.com/repos/lintool/GrimmerSenatePressReleases/contents/raw/Whitehouse), so we can create a function to scrape the individual files.\n",
        "\n",
        "If you want to know more about downloading from APIs, refer back to the 1st notebook."
      ]
    },
    {
      "cell_type": "code",
      "execution_count": null,
      "metadata": {
        "id": "F3jK3JavTg4I",
        "colab": {
          "base_uri": "https://localhost:8080/",
          "height": 424
        },
        "outputId": "1e021410-eb49-4f49-d24f-965c4406f49f"
      },
      "outputs": [
        {
          "output_type": "execute_result",
          "data": {
            "text/html": [
              "\n",
              "  <div id=\"df-a3984d3f-29f3-4205-9e3f-990c49475eaf\">\n",
              "    <div class=\"colab-df-container\">\n",
              "      <div>\n",
              "<style scoped>\n",
              "    .dataframe tbody tr th:only-of-type {\n",
              "        vertical-align: middle;\n",
              "    }\n",
              "\n",
              "    .dataframe tbody tr th {\n",
              "        vertical-align: top;\n",
              "    }\n",
              "\n",
              "    .dataframe thead th {\n",
              "        text-align: right;\n",
              "    }\n",
              "</style>\n",
              "<table border=\"1\" class=\"dataframe\">\n",
              "  <thead>\n",
              "    <tr style=\"text-align: right;\">\n",
              "      <th></th>\n",
              "      <th>name</th>\n",
              "      <th>text</th>\n",
              "      <th>path</th>\n",
              "      <th>html_url</th>\n",
              "      <th>download_url</th>\n",
              "    </tr>\n",
              "  </thead>\n",
              "  <tbody>\n",
              "    <tr>\n",
              "      <th>0</th>\n",
              "      <td>10Apr2007Whitehouse123.txt</td>\n",
              "      <td>SEN. WHITEHOUSE SHARES WESTERLY GIRL'S STORY I...</td>\n",
              "      <td>raw/Whitehouse/10Apr2007Whitehouse123.txt</td>\n",
              "      <td>https://github.com/lintool/GrimmerSenatePressR...</td>\n",
              "      <td>https://raw.githubusercontent.com/lintool/Grim...</td>\n",
              "    </tr>\n",
              "    <tr>\n",
              "      <th>1</th>\n",
              "      <td>10Apr2008Whitehouse2.txt</td>\n",
              "      <td>SEN. WHITEHOUSE SAYS PRESIDENT BUSH MUST BEGIN...</td>\n",
              "      <td>raw/Whitehouse/10Apr2008Whitehouse2.txt</td>\n",
              "      <td>https://github.com/lintool/GrimmerSenatePressR...</td>\n",
              "      <td>https://raw.githubusercontent.com/lintool/Grim...</td>\n",
              "    </tr>\n",
              "    <tr>\n",
              "      <th>2</th>\n",
              "      <td>10Apr2008Whitehouse3.txt</td>\n",
              "      <td>EPA MUST REVIEW LEGAL PROCESS TO ROOT OUT POLI...</td>\n",
              "      <td>raw/Whitehouse/10Apr2008Whitehouse3.txt</td>\n",
              "      <td>https://github.com/lintool/GrimmerSenatePressR...</td>\n",
              "      <td>https://raw.githubusercontent.com/lintool/Grim...</td>\n",
              "    </tr>\n",
              "    <tr>\n",
              "      <th>3</th>\n",
              "      <td>10Aug2007Whitehouse78.txt</td>\n",
              "      <td>R.I. SENATORS PRAISE SEN. DENIAL OF LNG FACILI...</td>\n",
              "      <td>raw/Whitehouse/10Aug2007Whitehouse78.txt</td>\n",
              "      <td>https://github.com/lintool/GrimmerSenatePressR...</td>\n",
              "      <td>https://raw.githubusercontent.com/lintool/Grim...</td>\n",
              "    </tr>\n",
              "    <tr>\n",
              "      <th>4</th>\n",
              "      <td>10Jan2008Whitehouse35.txt</td>\n",
              "      <td>SEN. WHITEHOUSE COMMENTS ON ONE-YEAR ANNIVERSA...</td>\n",
              "      <td>raw/Whitehouse/10Jan2008Whitehouse35.txt</td>\n",
              "      <td>https://github.com/lintool/GrimmerSenatePressR...</td>\n",
              "      <td>https://raw.githubusercontent.com/lintool/Grim...</td>\n",
              "    </tr>\n",
              "  </tbody>\n",
              "</table>\n",
              "</div>\n",
              "      <button class=\"colab-df-convert\" onclick=\"convertToInteractive('df-a3984d3f-29f3-4205-9e3f-990c49475eaf')\"\n",
              "              title=\"Convert this dataframe to an interactive table.\"\n",
              "              style=\"display:none;\">\n",
              "        \n",
              "  <svg xmlns=\"http://www.w3.org/2000/svg\" height=\"24px\"viewBox=\"0 0 24 24\"\n",
              "       width=\"24px\">\n",
              "    <path d=\"M0 0h24v24H0V0z\" fill=\"none\"/>\n",
              "    <path d=\"M18.56 5.44l.94 2.06.94-2.06 2.06-.94-2.06-.94-.94-2.06-.94 2.06-2.06.94zm-11 1L8.5 8.5l.94-2.06 2.06-.94-2.06-.94L8.5 2.5l-.94 2.06-2.06.94zm10 10l.94 2.06.94-2.06 2.06-.94-2.06-.94-.94-2.06-.94 2.06-2.06.94z\"/><path d=\"M17.41 7.96l-1.37-1.37c-.4-.4-.92-.59-1.43-.59-.52 0-1.04.2-1.43.59L10.3 9.45l-7.72 7.72c-.78.78-.78 2.05 0 2.83L4 21.41c.39.39.9.59 1.41.59.51 0 1.02-.2 1.41-.59l7.78-7.78 2.81-2.81c.8-.78.8-2.07 0-2.86zM5.41 20L4 18.59l7.72-7.72 1.47 1.35L5.41 20z\"/>\n",
              "  </svg>\n",
              "      </button>\n",
              "      \n",
              "  <style>\n",
              "    .colab-df-container {\n",
              "      display:flex;\n",
              "      flex-wrap:wrap;\n",
              "      gap: 12px;\n",
              "    }\n",
              "\n",
              "    .colab-df-convert {\n",
              "      background-color: #E8F0FE;\n",
              "      border: none;\n",
              "      border-radius: 50%;\n",
              "      cursor: pointer;\n",
              "      display: none;\n",
              "      fill: #1967D2;\n",
              "      height: 32px;\n",
              "      padding: 0 0 0 0;\n",
              "      width: 32px;\n",
              "    }\n",
              "\n",
              "    .colab-df-convert:hover {\n",
              "      background-color: #E2EBFA;\n",
              "      box-shadow: 0px 1px 2px rgba(60, 64, 67, 0.3), 0px 1px 3px 1px rgba(60, 64, 67, 0.15);\n",
              "      fill: #174EA6;\n",
              "    }\n",
              "\n",
              "    [theme=dark] .colab-df-convert {\n",
              "      background-color: #3B4455;\n",
              "      fill: #D2E3FC;\n",
              "    }\n",
              "\n",
              "    [theme=dark] .colab-df-convert:hover {\n",
              "      background-color: #434B5C;\n",
              "      box-shadow: 0px 1px 3px 1px rgba(0, 0, 0, 0.15);\n",
              "      filter: drop-shadow(0px 1px 2px rgba(0, 0, 0, 0.3));\n",
              "      fill: #FFFFFF;\n",
              "    }\n",
              "  </style>\n",
              "\n",
              "      <script>\n",
              "        const buttonEl =\n",
              "          document.querySelector('#df-a3984d3f-29f3-4205-9e3f-990c49475eaf button.colab-df-convert');\n",
              "        buttonEl.style.display =\n",
              "          google.colab.kernel.accessAllowed ? 'block' : 'none';\n",
              "\n",
              "        async function convertToInteractive(key) {\n",
              "          const element = document.querySelector('#df-a3984d3f-29f3-4205-9e3f-990c49475eaf');\n",
              "          const dataTable =\n",
              "            await google.colab.kernel.invokeFunction('convertToInteractive',\n",
              "                                                     [key], {});\n",
              "          if (!dataTable) return;\n",
              "\n",
              "          const docLinkHtml = 'Like what you see? Visit the ' +\n",
              "            '<a target=\"_blank\" href=https://colab.research.google.com/notebooks/data_table.ipynb>data table notebook</a>'\n",
              "            + ' to learn more about interactive tables.';\n",
              "          element.innerHTML = '';\n",
              "          dataTable['output_type'] = 'display_data';\n",
              "          await google.colab.output.renderOutput(dataTable, element);\n",
              "          const docLink = document.createElement('div');\n",
              "          docLink.innerHTML = docLinkHtml;\n",
              "          element.appendChild(docLink);\n",
              "        }\n",
              "      </script>\n",
              "    </div>\n",
              "  </div>\n",
              "  "
            ],
            "text/plain": [
              "                         name  ...                                       download_url\n",
              "0  10Apr2007Whitehouse123.txt  ...  https://raw.githubusercontent.com/lintool/Grim...\n",
              "1    10Apr2008Whitehouse2.txt  ...  https://raw.githubusercontent.com/lintool/Grim...\n",
              "2    10Apr2008Whitehouse3.txt  ...  https://raw.githubusercontent.com/lintool/Grim...\n",
              "3   10Aug2007Whitehouse78.txt  ...  https://raw.githubusercontent.com/lintool/Grim...\n",
              "4   10Jan2008Whitehouse35.txt  ...  https://raw.githubusercontent.com/lintool/Grim...\n",
              "\n",
              "[5 rows x 5 columns]"
            ]
          },
          "metadata": {},
          "execution_count": 60
        }
      ],
      "source": [
        "def getGithubFiles(target, maxFiles = 100):\n",
        "    #We are setting a max so our examples don't take too long to run\n",
        "    #For converting to a DataFrame\n",
        "    releasesDict = {\n",
        "        'name' : [], #The name of the file\n",
        "        'text' : [], #The text of the file, watch out for binary files\n",
        "        'path' : [], #The path in the git repo to the file\n",
        "        'html_url' : [], #The url to see the file on Github\n",
        "        'download_url' : [], #The url to download the file\n",
        "    }\n",
        "\n",
        "    #Get the directory information from Github\n",
        "    r = requests.get(target)\n",
        "    filesLst = json.loads(r.text)\n",
        "\n",
        "    for fileDict in filesLst[:maxFiles]:\n",
        "        #These are provided by the directory\n",
        "        releasesDict['name'].append(fileDict['name'])\n",
        "        releasesDict['path'].append(fileDict['path'])\n",
        "        releasesDict['html_url'].append(fileDict['html_url'])\n",
        "        releasesDict['download_url'].append(fileDict['download_url'])\n",
        "\n",
        "        #We need to download the text though\n",
        "        text = requests.get(fileDict['download_url']).text\n",
        "        releasesDict['text'].append(text)\n",
        "\n",
        "    return pandas.DataFrame(releasesDict)\n",
        "\n",
        "whReleases = getGithubFiles('https://api.github.com/repos/lintool/GrimmerSenatePressReleases/contents/raw/Whitehouse', maxFiles = 10)\n",
        "whReleases[:5]"
      ]
    },
    {
      "cell_type": "markdown",
      "metadata": {
        "id": "jRxaz2TATg4I"
      },
      "source": [
        "If you are having trouble downloading the data uncomment this next cell"
      ]
    },
    {
      "cell_type": "code",
      "execution_count": null,
      "metadata": {
        "id": "kGpDjkXaTg4I"
      },
      "outputs": [],
      "source": [
        "#whReleases = pandas.read_csv('../data/whReleases.csv')"
      ]
    },
    {
      "cell_type": "markdown",
      "metadata": {
        "id": "LYr3S2w5Tg4J"
      },
      "source": [
        "Now we have all the texts in a DataFrame we can look at a few things.\n",
        "\n",
        "First let's tokenize the texts with the same tokenizer as we used before. We will just save the tokens as a list for now; no need to convert to `Text`s."
      ]
    },
    {
      "cell_type": "code",
      "execution_count": null,
      "metadata": {
        "id": "QzgwlAgfTg4J"
      },
      "outputs": [],
      "source": [
        "whReleases['tokenized_text'] = whReleases['text'].apply(lambda x: word_tokenize(x))"
      ]
    },
    {
      "cell_type": "markdown",
      "metadata": {
        "id": "DCxLxRu2Tg4J"
      },
      "source": [
        "Now lets see how long each of the press releases is:"
      ]
    },
    {
      "cell_type": "code",
      "execution_count": null,
      "metadata": {
        "id": "wV69IkV1Tg4J",
        "colab": {
          "base_uri": "https://localhost:8080/"
        },
        "outputId": "234282c7-d0e1-41eb-b176-cd28d9dedb68"
      },
      "outputs": [
        {
          "output_type": "execute_result",
          "data": {
            "text/plain": [
              "0    350\n",
              "1    311\n",
              "2    497\n",
              "3    189\n",
              "4    236\n",
              "5    334\n",
              "6    241\n",
              "7    469\n",
              "8    443\n",
              "9    425\n",
              "Name: word_counts, dtype: int64"
            ]
          },
          "metadata": {},
          "execution_count": 63
        }
      ],
      "source": [
        "whReleases['word_counts'] = whReleases['tokenized_text'].apply(lambda x: len(x))\n",
        "whReleases['word_counts']"
      ]
    },
    {
      "cell_type": "markdown",
      "metadata": {
        "id": "JtaZMNqkTg4J"
      },
      "source": [
        "## <font color=\"red\">*Exercise 1*</font>\n",
        "\n",
        "<font color=\"red\">Construct cells immediately below this that input and interrogate a corpus relating to your anticipated final project. This could include one of the Davies corpora or some other you have constructed. Turn your text into an nltk `Text` object, and explore all of the features examined above, and others that relate to better understanding your corpus in relation to your research question. </font>"
      ]
    },
    {
      "cell_type": "code",
      "source": [
        "#mounting drive\n",
        "from google.colab import drive\n",
        "drive.mount(\"/content/drive\")\n",
        "#install a german-language package\n",
        "#importing csv file and converting into dataframe\n",
        "df = pandas.read_csv('/content/drive/MyDrive/csv/speeches.csv')"
      ],
      "metadata": {
        "colab": {
          "base_uri": "https://localhost:8080/"
        },
        "id": "v2wWWMFJXJvE",
        "outputId": "d18c29e9-23a1-407f-d0a9-028fdcfe85d7"
      },
      "execution_count": null,
      "outputs": [
        {
          "output_type": "stream",
          "name": "stdout",
          "text": [
            "Drive already mounted at /content/drive; to attempt to forcibly remount, call drive.mount(\"/content/drive\", force_remount=True).\n"
          ]
        }
      ]
    },
    {
      "cell_type": "code",
      "source": [
        "#create subset of dataset -- I'm choosing a random subset of the data\n",
        "#turn series into string\n",
        "#speeches_general = df.speechContent[600000:605000]\n",
        "speeches_general = df[600000:605000]\n",
        "speeches_general_string = speeches_general.to_string()"
      ],
      "metadata": {
        "id": "dveXC651xmq1"
      },
      "execution_count": null,
      "outputs": []
    },
    {
      "cell_type": "code",
      "source": [
        "#let's look at one of the speeches in the subset of the dataset\n",
        "example_speech = speeches_general.speechContent[604458]\n",
        "#print(example_speech)\n",
        "len(speeches_general)\n",
        "#tokenize this particular speech\n",
        "speechTokens = word_tokenize(example_speech)\n",
        "#utilize nltk package\n",
        "import nltk\n",
        "#turn text into nltk object and investigate\n",
        "exText = nltk.Text(speechTokens)\n",
        "exIndex = nltk.text.ConcordanceIndex(exText)\n",
        "exIndex.print_concordance('Kernenergie')\n",
        "#count the number of times a given word occurs\n",
        "exText.count('Kernenergie')\n",
        "#let's see if we can plot some of the information\n",
        "sns.reset_orig() #Seaborn messes with this plot, disabling it\n",
        "exText.dispersion_plot(['Kernenergie','Kolleginnen', 'Kollegen', 'ernsthaft' ,'Fraktion'])\n",
        "sns.set() #Re-enabling seaborn"
      ],
      "metadata": {
        "colab": {
          "base_uri": "https://localhost:8080/",
          "height": 399
        },
        "id": "RVQwNXv8wE0K",
        "outputId": "78ac1a36-5aac-4e89-db49-3b51d2183ecf"
      },
      "execution_count": null,
      "outputs": [
        {
          "output_type": "stream",
          "name": "stdout",
          "text": [
            "Displaying 5 of 5 matches:\n",
            "ekonzept statt Ausstieg aus der Kernenergie Es heißt statt nicht durch Auss\n",
            "tt nicht durch Ausstieg aus der Kernenergie Spätestens nach dieser Debatte \n",
            " inzwischen alle wissen daß die Kernenergie eine sehr risikoreiche Technolo\n",
            "Energieversorgung Dies schließt Kernenergie definitiv aus Nachhaltigkeit he\n",
            "998 5 Prozent weniger Strom aus Kernenergie erzeugt wurden dafür aber 5 Pro\n"
          ]
        },
        {
          "output_type": "display_data",
          "data": {
            "image/png": "[encoded data removed]",
            "text/plain": [
              "<Figure size 432x288 with 1 Axes>"
            ]
          },
          "metadata": {
            "needs_background": "light"
          }
        }
      ]
    },
    {
      "cell_type": "code",
      "source": [
        "#tokenize set of speeches, not just example speech -- however, the subset is still too large. we have to first remove more observations\n",
        "small_setspeeches = speeches_general[604000:605000]\n",
        "small_setspeeches_string = small_setspeeches.to_string()\n",
        "setTokens = word_tokenize(small_setspeeches_string)\n",
        "speechesText = nltk.Text(setTokens)\n",
        "speechesIndex = nltk.text.ConcordanceIndex(speechesText)\n",
        "speechesIndex.print_concordance('Kernenergie')\n",
        "#the above does not show any matches, despite the previous analysis showing 5 matches in one speech alone. Something isn't right here.\n",
        "sns.reset_orig() #Seaborn messes with this plot, disabling it\n",
        "speechesText.dispersion_plot(['Kernenergie','Kolleginnen', 'Kollegen', 'ernsthaft' ,'Fraktion'])\n",
        "sns.set() #Re-enabling seaborn\n",
        "#I'm not sure what I did wrong here, but I'm quite sad I don't get to analyze the actual corpus :("
      ],
      "metadata": {
        "colab": {
          "base_uri": "https://localhost:8080/",
          "height": 312
        },
        "id": "g9-nZljX1MJJ",
        "outputId": "0aef27ee-1c49-4b4c-8cab-08c27398b13f"
      },
      "execution_count": null,
      "outputs": [
        {
          "output_type": "stream",
          "name": "stdout",
          "text": [
            "No matches\n"
          ]
        },
        {
          "output_type": "display_data",
          "data": {
            "image/png": "[encoded data removed]",
            "text/plain": [
              "<Figure size 432x288 with 1 Axes>"
            ]
          },
          "metadata": {
            "needs_background": "light"
          }
        }
      ]
    },
    {
      "cell_type": "markdown",
      "metadata": {
        "id": "fuRyO3fSTg4J"
      },
      "source": [
        "# Filtering and normalizing text\n",
        "\n",
        "As we want to start comparing the different releases we may choose to do a bit of filtering and normalizing that will allow us to focus on what we most care about. We can first make all of the words lower case, then drop the non-word tokens. Next, we can remove some 'stop words', stem the remaining words to remove suffixes, prefixes and (in some languages) infixes, or lemmatize tokens by intelligently grouping inflected or variant forms of the same word (e.g., with a stemmer and a dictionary). \n",
        "\n",
        "To begin this process, we will first define a function to work over the tokenized lists, then another to add normalized tokens to a new column."
      ]
    },
    {
      "cell_type": "markdown",
      "metadata": {
        "id": "d2LI-t7STg4J"
      },
      "source": [
        "We will be using spaCy's built in stop words identifying capacity. When we run text through spaCy's language pipeline, it automatically tags it as a stop word. "
      ]
    },
    {
      "cell_type": "markdown",
      "metadata": {
        "id": "oSzzfP1QTg4J"
      },
      "source": [
        "We can remove these stopwords from the analysis by fiat, but we could also take a more principled approach by looking at the frequency distribution of words and selecting a specific cut-off associated with the preservation of 'meaningful words' identified upon inspection. Alternatively, we could automatically set a cut-off by rule, such as removal of all words more frequent then the most frequent verb, or the most frequent noun (not pronoun), or some term of central interest. "
      ]
    },
    {
      "cell_type": "code",
      "execution_count": null,
      "metadata": {
        "id": "jLLkz7z2Tg4K",
        "colab": {
          "base_uri": "https://localhost:8080/"
        },
        "outputId": "e8df2a27-2737-4d09-b212-7b27f88d0052"
      },
      "outputs": [
        {
          "output_type": "execute_result",
          "data": {
            "text/plain": [
              "[('the', 179),\n",
              " ('of', 112),\n",
              " ('to', 112),\n",
              " ('and', 108),\n",
              " ('in', 64),\n",
              " ('a', 61),\n",
              " (\"'s\", 50),\n",
              " ('that', 41),\n",
              " ('our', 39),\n",
              " ('for', 35),\n",
              " ('on', 33),\n",
              " ('is', 33),\n",
              " ('Whitehouse', 31),\n",
              " ('Iraq', 28),\n",
              " ('Bush', 27),\n",
              " ('President', 25),\n",
              " ('troops', 21),\n",
              " ('by', 19),\n",
              " ('American', 19),\n",
              " ('with', 18)]"
            ]
          },
          "metadata": {},
          "execution_count": 68
        }
      ],
      "source": [
        "countsDict = {}\n",
        "for word in whReleases['tokenized_text'].sum():\n",
        "    if word in countsDict:\n",
        "        countsDict[word] += 1\n",
        "    else:\n",
        "        countsDict[word] = 1\n",
        "word_counts = sorted(countsDict.items(), key = lambda x : x[1], reverse = True)\n",
        "word_counts[:20]"
      ]
    },
    {
      "cell_type": "markdown",
      "metadata": {
        "id": "XexrBelXTg4K"
      },
      "source": [
        "We can look at this and pick the cutoff, often at the first noun. So we will cut all words before `'Whitehouse'`."
      ]
    },
    {
      "cell_type": "code",
      "execution_count": null,
      "metadata": {
        "id": "cwgPJ1xBTg4K",
        "colab": {
          "base_uri": "https://localhost:8080/"
        },
        "outputId": "69ca315c-4d91-4bd8-9509-e40e018ae7b5"
      },
      "outputs": [
        {
          "output_type": "execute_result",
          "data": {
            "text/plain": [
              "['the', 'of', 'to', 'and', 'in', 'a', \"'s\", 'that', 'our', 'for', 'on', 'is']"
            ]
          },
          "metadata": {},
          "execution_count": 69
        }
      ],
      "source": [
        "#The stop list is then all words that occur before the first noun\n",
        "stop_words_freq = []\n",
        "for word, count in word_counts:\n",
        "    if word == 'Whitehouse':\n",
        "        break\n",
        "    else:\n",
        "        stop_words_freq.append(word)\n",
        "stop_words_freq"
      ]
    },
    {
      "cell_type": "markdown",
      "metadata": {
        "id": "5jejtOkqTg4K"
      },
      "source": [
        "If we did have any extra words to add as stop words apart from those normally considered as stop words, we would add it to our stop words by passing it to the normalize tokens method. "
      ]
    },
    {
      "cell_type": "markdown",
      "metadata": {
        "id": "U7zZiE6kTg4K"
      },
      "source": [
        "Now we can create our function to normalize the tokens"
      ]
    },
    {
      "cell_type": "code",
      "execution_count": null,
      "metadata": {
        "id": "PsBPf2qaTg4K"
      },
      "outputs": [],
      "source": [
        "def normalizeTokens(word_list, extra_stop=[]):\n",
        "    #We can use a generator here as we just need to iterate over it\n",
        "    normalized = []\n",
        "    if type(word_list) == list and len(word_list) == 1:\n",
        "        word_list = word_list[0]\n",
        "\n",
        "    if type(word_list) == list:\n",
        "        word_list = ' '.join([str(elem) for elem in word_list]) \n",
        "\n",
        "    doc = nlp(word_list.lower())\n",
        "    \n",
        "    # add the property of stop word to words considered as stop words\n",
        "    if len(extra_stop) > 0:\n",
        "        for stopword in extra_stop:\n",
        "            lexeme = nlp.vocab[stopword]\n",
        "            lexeme.is_stop = True\n",
        "\n",
        "    for w in doc:\n",
        "        # if it's not a stop word or punctuation mark, add it to our article\n",
        "        if w.text != '\\n' and not w.is_stop and not w.is_punct and not w.like_num and len(w.text.strip()) > 0:\n",
        "            # we add the lematized version of the word\n",
        "            normalized.append(str(w.lemma_))\n",
        "\n",
        "    return normalized"
      ]
    },
    {
      "cell_type": "code",
      "execution_count": null,
      "metadata": {
        "id": "VvBR5w1lTg4K",
        "colab": {
          "base_uri": "https://localhost:8080/",
          "height": 1000
        },
        "outputId": "bfb3768f-3318-4151-9bb9-42d0a98d7578"
      },
      "outputs": [
        {
          "output_type": "execute_result",
          "data": {
            "text/html": [
              "\n",
              "  <div id=\"df-a6d32864-dff5-4042-a50b-4133f0094475\">\n",
              "    <div class=\"colab-df-container\">\n",
              "      <div>\n",
              "<style scoped>\n",
              "    .dataframe tbody tr th:only-of-type {\n",
              "        vertical-align: middle;\n",
              "    }\n",
              "\n",
              "    .dataframe tbody tr th {\n",
              "        vertical-align: top;\n",
              "    }\n",
              "\n",
              "    .dataframe thead th {\n",
              "        text-align: right;\n",
              "    }\n",
              "</style>\n",
              "<table border=\"1\" class=\"dataframe\">\n",
              "  <thead>\n",
              "    <tr style=\"text-align: right;\">\n",
              "      <th></th>\n",
              "      <th>name</th>\n",
              "      <th>text</th>\n",
              "      <th>path</th>\n",
              "      <th>html_url</th>\n",
              "      <th>download_url</th>\n",
              "      <th>tokenized_text</th>\n",
              "      <th>word_counts</th>\n",
              "      <th>normalized_tokens</th>\n",
              "      <th>normalized_tokens_count</th>\n",
              "    </tr>\n",
              "  </thead>\n",
              "  <tbody>\n",
              "    <tr>\n",
              "      <th>0</th>\n",
              "      <td>10Apr2007Whitehouse123.txt</td>\n",
              "      <td>SEN. WHITEHOUSE SHARES WESTERLY GIRL'S STORY I...</td>\n",
              "      <td>raw/Whitehouse/10Apr2007Whitehouse123.txt</td>\n",
              "      <td>https://github.com/lintool/GrimmerSenatePressR...</td>\n",
              "      <td>https://raw.githubusercontent.com/lintool/Grim...</td>\n",
              "      <td>[SEN, WHITEHOUSE, SHARES, WESTERLY, GIRL, 'S, ...</td>\n",
              "      <td>350</td>\n",
              "      <td>[sen, whitehouse, share, westerly, girl, story...</td>\n",
              "      <td>224</td>\n",
              "    </tr>\n",
              "    <tr>\n",
              "      <th>1</th>\n",
              "      <td>10Apr2008Whitehouse2.txt</td>\n",
              "      <td>SEN. WHITEHOUSE SAYS PRESIDENT BUSH MUST BEGIN...</td>\n",
              "      <td>raw/Whitehouse/10Apr2008Whitehouse2.txt</td>\n",
              "      <td>https://github.com/lintool/GrimmerSenatePressR...</td>\n",
              "      <td>https://raw.githubusercontent.com/lintool/Grim...</td>\n",
              "      <td>[SEN, WHITEHOUSE, SAYS, PRESIDENT, BUSH, MUST,...</td>\n",
              "      <td>311</td>\n",
              "      <td>[sen, whitehouse, say, president, bush, begin,...</td>\n",
              "      <td>159</td>\n",
              "    </tr>\n",
              "    <tr>\n",
              "      <th>2</th>\n",
              "      <td>10Apr2008Whitehouse3.txt</td>\n",
              "      <td>EPA MUST REVIEW LEGAL PROCESS TO ROOT OUT POLI...</td>\n",
              "      <td>raw/Whitehouse/10Apr2008Whitehouse3.txt</td>\n",
              "      <td>https://github.com/lintool/GrimmerSenatePressR...</td>\n",
              "      <td>https://raw.githubusercontent.com/lintool/Grim...</td>\n",
              "      <td>[EPA, MUST, REVIEW, LEGAL, PROCESS, TO, ROOT, ...</td>\n",
              "      <td>497</td>\n",
              "      <td>[epa, review, legal, process, root, political,...</td>\n",
              "      <td>298</td>\n",
              "    </tr>\n",
              "    <tr>\n",
              "      <th>3</th>\n",
              "      <td>10Aug2007Whitehouse78.txt</td>\n",
              "      <td>R.I. SENATORS PRAISE SEN. DENIAL OF LNG FACILI...</td>\n",
              "      <td>raw/Whitehouse/10Aug2007Whitehouse78.txt</td>\n",
              "      <td>https://github.com/lintool/GrimmerSenatePressR...</td>\n",
              "      <td>https://raw.githubusercontent.com/lintool/Grim...</td>\n",
              "      <td>[R.I., SENATORS, PRAISE, SEN, DENIAL, OF, LNG,...</td>\n",
              "      <td>189</td>\n",
              "      <td>[r.i, senator, praise, sen, denial, lng, facil...</td>\n",
              "      <td>116</td>\n",
              "    </tr>\n",
              "    <tr>\n",
              "      <th>4</th>\n",
              "      <td>10Jan2008Whitehouse35.txt</td>\n",
              "      <td>SEN. WHITEHOUSE COMMENTS ON ONE-YEAR ANNIVERSA...</td>\n",
              "      <td>raw/Whitehouse/10Jan2008Whitehouse35.txt</td>\n",
              "      <td>https://github.com/lintool/GrimmerSenatePressR...</td>\n",
              "      <td>https://raw.githubusercontent.com/lintool/Grim...</td>\n",
              "      <td>[SEN, WHITEHOUSE, COMMENTS, ON, ONE, YEAR, ANN...</td>\n",
              "      <td>236</td>\n",
              "      <td>[sen, whitehouse, comment, year, anniversary, ...</td>\n",
              "      <td>125</td>\n",
              "    </tr>\n",
              "    <tr>\n",
              "      <th>5</th>\n",
              "      <td>10Mar2008Whitehouse8.txt</td>\n",
              "      <td>SENS. REED, WHITEHOUSE WELCOME RHODE ISLAND ST...</td>\n",
              "      <td>raw/Whitehouse/10Mar2008Whitehouse8.txt</td>\n",
              "      <td>https://github.com/lintool/GrimmerSenatePressR...</td>\n",
              "      <td>https://raw.githubusercontent.com/lintool/Grim...</td>\n",
              "      <td>[SENS, REED, WHITEHOUSE, WELCOME, RHODE, ISLAN...</td>\n",
              "      <td>334</td>\n",
              "      <td>[sens, reed, whitehouse, welcome, rhode, islan...</td>\n",
              "      <td>198</td>\n",
              "    </tr>\n",
              "    <tr>\n",
              "      <th>6</th>\n",
              "      <td>10Sep2007Whitehouse72.txt</td>\n",
              "      <td>REP. WHITEHOUSE ISSUES STATEMENT ON GEN. PETRA...</td>\n",
              "      <td>raw/Whitehouse/10Sep2007Whitehouse72.txt</td>\n",
              "      <td>https://github.com/lintool/GrimmerSenatePressR...</td>\n",
              "      <td>https://raw.githubusercontent.com/lintool/Grim...</td>\n",
              "      <td>[REP, WHITEHOUSE, ISSUES, STATEMENT, ON, GEN, ...</td>\n",
              "      <td>241</td>\n",
              "      <td>[rep, whitehouse, issue, statement, gen, petra...</td>\n",
              "      <td>118</td>\n",
              "    </tr>\n",
              "    <tr>\n",
              "      <th>7</th>\n",
              "      <td>11Apr2007Whitehouse122.txt</td>\n",
              "      <td>SEN. WHITEHOUSE URGES BUSH FOR NEW DIRECTION I...</td>\n",
              "      <td>raw/Whitehouse/11Apr2007Whitehouse122.txt</td>\n",
              "      <td>https://github.com/lintool/GrimmerSenatePressR...</td>\n",
              "      <td>https://raw.githubusercontent.com/lintool/Grim...</td>\n",
              "      <td>[SEN, WHITEHOUSE, URGES, BUSH, FOR, NEW, DIREC...</td>\n",
              "      <td>469</td>\n",
              "      <td>[sen, whitehouse, urge, bush, new, direction, ...</td>\n",
              "      <td>249</td>\n",
              "    </tr>\n",
              "    <tr>\n",
              "      <th>8</th>\n",
              "      <td>11Jan2007Whitehouse161.txt</td>\n",
              "      <td>SENS. REED, WHITEHOUSE URGE PORTUGAL TO RECONS...</td>\n",
              "      <td>raw/Whitehouse/11Jan2007Whitehouse161.txt</td>\n",
              "      <td>https://github.com/lintool/GrimmerSenatePressR...</td>\n",
              "      <td>https://raw.githubusercontent.com/lintool/Grim...</td>\n",
              "      <td>[SENS, REED, WHITEHOUSE, URGE, PORTUGAL, TO, R...</td>\n",
              "      <td>443</td>\n",
              "      <td>[sens, reed, whitehouse, urge, portugal, recon...</td>\n",
              "      <td>237</td>\n",
              "    </tr>\n",
              "    <tr>\n",
              "      <th>9</th>\n",
              "      <td>11Mar2008Whitehouse7.txt</td>\n",
              "      <td>WHITEHOUSE UNVEILS 'BUSH DEBT': $7.7 TRILLION ...</td>\n",
              "      <td>raw/Whitehouse/11Mar2008Whitehouse7.txt</td>\n",
              "      <td>https://github.com/lintool/GrimmerSenatePressR...</td>\n",
              "      <td>https://raw.githubusercontent.com/lintool/Grim...</td>\n",
              "      <td>[WHITEHOUSE, UNVEILS, BUSH, DEBT, $, 7.7, TRIL...</td>\n",
              "      <td>425</td>\n",
              "      <td>[whitehouse, unveil, bush, debt, $, foregone, ...</td>\n",
              "      <td>242</td>\n",
              "    </tr>\n",
              "  </tbody>\n",
              "</table>\n",
              "</div>\n",
              "      <button class=\"colab-df-convert\" onclick=\"convertToInteractive('df-a6d32864-dff5-4042-a50b-4133f0094475')\"\n",
              "              title=\"Convert this dataframe to an interactive table.\"\n",
              "              style=\"display:none;\">\n",
              "        \n",
              "  <svg xmlns=\"http://www.w3.org/2000/svg\" height=\"24px\"viewBox=\"0 0 24 24\"\n",
              "       width=\"24px\">\n",
              "    <path d=\"M0 0h24v24H0V0z\" fill=\"none\"/>\n",
              "    <path d=\"M18.56 5.44l.94 2.06.94-2.06 2.06-.94-2.06-.94-.94-2.06-.94 2.06-2.06.94zm-11 1L8.5 8.5l.94-2.06 2.06-.94-2.06-.94L8.5 2.5l-.94 2.06-2.06.94zm10 10l.94 2.06.94-2.06 2.06-.94-2.06-.94-.94-2.06-.94 2.06-2.06.94z\"/><path d=\"M17.41 7.96l-1.37-1.37c-.4-.4-.92-.59-1.43-.59-.52 0-1.04.2-1.43.59L10.3 9.45l-7.72 7.72c-.78.78-.78 2.05 0 2.83L4 21.41c.39.39.9.59 1.41.59.51 0 1.02-.2 1.41-.59l7.78-7.78 2.81-2.81c.8-.78.8-2.07 0-2.86zM5.41 20L4 18.59l7.72-7.72 1.47 1.35L5.41 20z\"/>\n",
              "  </svg>\n",
              "      </button>\n",
              "      \n",
              "  <style>\n",
              "    .colab-df-container {\n",
              "      display:flex;\n",
              "      flex-wrap:wrap;\n",
              "      gap: 12px;\n",
              "    }\n",
              "\n",
              "    .colab-df-convert {\n",
              "      background-color: #E8F0FE;\n",
              "      border: none;\n",
              "      border-radius: 50%;\n",
              "      cursor: pointer;\n",
              "      display: none;\n",
              "      fill: #1967D2;\n",
              "      height: 32px;\n",
              "      padding: 0 0 0 0;\n",
              "      width: 32px;\n",
              "    }\n",
              "\n",
              "    .colab-df-convert:hover {\n",
              "      background-color: #E2EBFA;\n",
              "      box-shadow: 0px 1px 2px rgba(60, 64, 67, 0.3), 0px 1px 3px 1px rgba(60, 64, 67, 0.15);\n",
              "      fill: #174EA6;\n",
              "    }\n",
              "\n",
              "    [theme=dark] .colab-df-convert {\n",
              "      background-color: #3B4455;\n",
              "      fill: #D2E3FC;\n",
              "    }\n",
              "\n",
              "    [theme=dark] .colab-df-convert:hover {\n",
              "      background-color: #434B5C;\n",
              "      box-shadow: 0px 1px 3px 1px rgba(0, 0, 0, 0.15);\n",
              "      filter: drop-shadow(0px 1px 2px rgba(0, 0, 0, 0.3));\n",
              "      fill: #FFFFFF;\n",
              "    }\n",
              "  </style>\n",
              "\n",
              "      <script>\n",
              "        const buttonEl =\n",
              "          document.querySelector('#df-a6d32864-dff5-4042-a50b-4133f0094475 button.colab-df-convert');\n",
              "        buttonEl.style.display =\n",
              "          google.colab.kernel.accessAllowed ? 'block' : 'none';\n",
              "\n",
              "        async function convertToInteractive(key) {\n",
              "          const element = document.querySelector('#df-a6d32864-dff5-4042-a50b-4133f0094475');\n",
              "          const dataTable =\n",
              "            await google.colab.kernel.invokeFunction('convertToInteractive',\n",
              "                                                     [key], {});\n",
              "          if (!dataTable) return;\n",
              "\n",
              "          const docLinkHtml = 'Like what you see? Visit the ' +\n",
              "            '<a target=\"_blank\" href=https://colab.research.google.com/notebooks/data_table.ipynb>data table notebook</a>'\n",
              "            + ' to learn more about interactive tables.';\n",
              "          element.innerHTML = '';\n",
              "          dataTable['output_type'] = 'display_data';\n",
              "          await google.colab.output.renderOutput(dataTable, element);\n",
              "          const docLink = document.createElement('div');\n",
              "          docLink.innerHTML = docLinkHtml;\n",
              "          element.appendChild(docLink);\n",
              "        }\n",
              "      </script>\n",
              "    </div>\n",
              "  </div>\n",
              "  "
            ],
            "text/plain": [
              "                         name  ... normalized_tokens_count\n",
              "0  10Apr2007Whitehouse123.txt  ...                     224\n",
              "1    10Apr2008Whitehouse2.txt  ...                     159\n",
              "2    10Apr2008Whitehouse3.txt  ...                     298\n",
              "3   10Aug2007Whitehouse78.txt  ...                     116\n",
              "4   10Jan2008Whitehouse35.txt  ...                     125\n",
              "5    10Mar2008Whitehouse8.txt  ...                     198\n",
              "6   10Sep2007Whitehouse72.txt  ...                     118\n",
              "7  11Apr2007Whitehouse122.txt  ...                     249\n",
              "8  11Jan2007Whitehouse161.txt  ...                     237\n",
              "9    11Mar2008Whitehouse7.txt  ...                     242\n",
              "\n",
              "[10 rows x 9 columns]"
            ]
          },
          "metadata": {},
          "execution_count": 71
        }
      ],
      "source": [
        "whReleases['normalized_tokens'] = whReleases['tokenized_text'].apply(lambda x: normalizeTokens(x))\n",
        "\n",
        "whReleases['normalized_tokens_count'] = whReleases['normalized_tokens'].apply(lambda x: len(x))\n",
        "\n",
        "whReleases"
      ]
    },
    {
      "cell_type": "markdown",
      "metadata": {
        "id": "36GXG30LTg4K"
      },
      "source": [
        "You can see that in the final step of normalizing, we add the lemmatized form of the word. spaCy's built in lemmatizer does this (https://spacy.io/api/lemmatizer). Lemmatization can be thought of as finding the root or the base of the word after removing inflections and other variations of words. Another possible way of finding the roots of words is using NLTK's porting or stemming functionalities, but we will not be getting into them.\n",
        "\n",
        "Now that it is cleaned we start analyzing the dataset. We can start by finding frequency distributions for the dataset. Lets start looking at all the press releases together. The [`ConditionalFreqDist`](http://www.nltk.org/api/nltk.html#nltk.probability.ConditionalProbDist) class reads in an iterable of tuples, the first element is the condition and the second the focal word. For starters, we will use word lengths as the conditions, but tags or clusters will provide more useful results."
      ]
    },
    {
      "cell_type": "code",
      "execution_count": null,
      "metadata": {
        "id": "rPIuoWGQTg4L",
        "colab": {
          "base_uri": "https://localhost:8080/"
        },
        "outputId": "82f552f3-4920-4a6e-92cf-20f80c2a0dd3"
      },
      "outputs": [
        {
          "output_type": "stream",
          "name": "stdout",
          "text": [
            "1966\n"
          ]
        }
      ],
      "source": [
        "#.sum() adds together the lists from each row into a single list\n",
        "whcfdist = nltk.ConditionalFreqDist(((len(w), w) for w in whReleases['normalized_tokens'].sum()))\n",
        "\n",
        "#print the number of words\n",
        "print(whcfdist.N())"
      ]
    },
    {
      "cell_type": "markdown",
      "metadata": {
        "id": "UB0YorIKTg4L"
      },
      "source": [
        "From this we can lookup the distributions of different word lengths"
      ]
    },
    {
      "cell_type": "code",
      "execution_count": null,
      "metadata": {
        "id": "AeZO0sEDTg4L",
        "colab": {
          "base_uri": "https://localhost:8080/",
          "height": 299
        },
        "outputId": "2ad5375a-209d-43df-b503-1f9db71f795d"
      },
      "outputs": [
        {
          "output_type": "display_data",
          "data": {
            "image/png": "[encoded data removed]",
            "text/plain": [
              "<Figure size 432x288 with 1 Axes>"
            ]
          },
          "metadata": {}
        }
      ],
      "source": [
        "whcfdist[3].plot()"
      ]
    },
    {
      "cell_type": "markdown",
      "metadata": {
        "id": "NptHeVMZTg4L"
      },
      "source": [
        "We can also create a Conditional Probability Distribution or [`ConditionalProbDist`](http://www.nltk.org/api/nltk.html#nltk.probability.ConditionalProbDist) from the `ConditionalFreqDist`. To do this, however, we need a model for the probability distribution. A simple model is [`ELEProbDist`](http://www.nltk.org/api/nltk.html#nltk.probability.ELEProbDist) which gives the expected likelihood estimate for the probability distribution of the experiment used to generate the observed frequency distribution. "
      ]
    },
    {
      "cell_type": "code",
      "execution_count": null,
      "metadata": {
        "id": "lxKa9rzUTg4L",
        "colab": {
          "base_uri": "https://localhost:8080/"
        },
        "outputId": "44bec484-a9b9-49e7-fc53-0d829ea8308a"
      },
      "outputs": [
        {
          "output_type": "stream",
          "name": "stdout",
          "text": [
            "ri\n",
            "0.25\n"
          ]
        }
      ],
      "source": [
        "whcpdist = nltk.ConditionalProbDist(whcfdist, nltk.ELEProbDist)\n",
        "\n",
        "#print the most common 2 letter word\n",
        "print(whcpdist[2].max())\n",
        "\n",
        "#And its probability\n",
        "print(whcpdist[2].prob(whcpdist[2].max()))"
      ]
    },
    {
      "cell_type": "markdown",
      "metadata": {
        "id": "12zE5ZKUTg4L"
      },
      "source": [
        "Length is one feature of a word, but there are many more important features we care about. Another critical feature is a word's role in the sentence, or its part of speech (POS). \n",
        "\n",
        "The method below works similarly to ```nltk.pos_text```, and can work with the conditional frequency distributions it provides."
      ]
    },
    {
      "cell_type": "code",
      "execution_count": null,
      "metadata": {
        "id": "X5orLNRTTg4L"
      },
      "outputs": [],
      "source": [
        "def spacy_pos(word_list):\n",
        "    tags = []\n",
        "    doc = nlp(word_list.lower())\n",
        "    for w in doc:\n",
        "        tags.append((w.text, w.tag_))\n",
        "    return tags"
      ]
    },
    {
      "cell_type": "code",
      "execution_count": null,
      "metadata": {
        "id": "BlU9dtJzTg4L"
      },
      "outputs": [],
      "source": [
        "whReleases['normalized_tokens_POS'] = [spacy_pos(t) for t in whReleases['text']]"
      ]
    },
    {
      "cell_type": "markdown",
      "metadata": {
        "id": "6sv_WbxnTg4M"
      },
      "source": [
        "This gives us a new column with the part of speech as a short initialism and the word in a tuple, exactly how the `nltk.ConditionalFreqDist()` function wants them. We can now construct another conditional frequency distribution."
      ]
    },
    {
      "cell_type": "code",
      "execution_count": null,
      "metadata": {
        "id": "NrwJBJ5OTg4M",
        "colab": {
          "base_uri": "https://localhost:8080/"
        },
        "outputId": "68ebf7fd-5e0e-47ae-cdf3-c37f136cd764"
      },
      "outputs": [
        {
          "output_type": "execute_result",
          "data": {
            "text/plain": [
              "[('sen', FreqDist({'NNP': 9})),\n",
              " ('.', FreqDist({'.': 132, 'NNP': 34})),\n",
              " ('whitehouse', FreqDist({'NN': 4, 'NNP': 17, 'RB': 4, 'VB': 14, 'WDT': 1})),\n",
              " ('shares', FreqDist({'VBZ': 1})),\n",
              " ('westerly', FreqDist({'RB': 2})),\n",
              " ('girl', FreqDist({'NN': 2})),\n",
              " (\"'s\", FreqDist({'POS': 47, 'VBZ': 5})),\n",
              " ('story', FreqDist({'NN': 2})),\n",
              " ('in', FreqDist({'IN': 72})),\n",
              " ('push', FreqDist({'NN': 1}))]"
            ]
          },
          "metadata": {},
          "execution_count": 77
        }
      ],
      "source": [
        "whcfdist_WordtoPOS = nltk.ConditionalFreqDist(whReleases['normalized_tokens_POS'].sum())\n",
        "list(whcfdist_WordtoPOS.items())[:10]"
      ]
    },
    {
      "cell_type": "markdown",
      "metadata": {
        "id": "7dU2tWlnTg4M"
      },
      "source": [
        "This gives the frequency of each word as each part of speech...which can be uninformative and boring. What we want is the converse; the frequency of each part of speech for each word."
      ]
    },
    {
      "cell_type": "code",
      "execution_count": null,
      "metadata": {
        "id": "oNdtUE0GTg4M"
      },
      "outputs": [],
      "source": [
        "whcfdist_POStoWord = nltk.ConditionalFreqDist((p, w) for w, p in whReleases['normalized_tokens_POS'].sum())"
      ]
    },
    {
      "cell_type": "markdown",
      "metadata": {
        "id": "9orUzEMqTg4M"
      },
      "source": [
        "We can now identify and collect all of the superlative adjectives"
      ]
    },
    {
      "cell_type": "code",
      "execution_count": null,
      "metadata": {
        "id": "vFHu1g5PTg4M",
        "colab": {
          "base_uri": "https://localhost:8080/"
        },
        "outputId": "0e3d08ec-9f46-4850-97ac-e6059bd73e7e"
      },
      "outputs": [
        {
          "output_type": "execute_result",
          "data": {
            "text/plain": [
              "FreqDist({'46th': 1,\n",
              "          'academic': 3,\n",
              "          'active': 1,\n",
              "          'affordable': 1,\n",
              "          'american': 17,\n",
              "          'arbitrary': 1,\n",
              "          'available': 1,\n",
              "          'bipartisan': 1,\n",
              "          'cancerous': 1,\n",
              "          'civil': 1,\n",
              "          'clear': 5,\n",
              "          'committed': 1,\n",
              "          'comprehensive': 3,\n",
              "          'concerned': 2,\n",
              "          'congressional': 1,\n",
              "          'consular': 3,\n",
              "          'continued': 1,\n",
              "          'critical': 1,\n",
              "          'cubic': 1,\n",
              "          'current': 1,\n",
              "          'dear': 1,\n",
              "          'dedicated': 1,\n",
              "          'dem': 1,\n",
              "          'different': 1,\n",
              "          'difficult': 1,\n",
              "          'direct': 1,\n",
              "          'easy': 2,\n",
              "          'ecological': 1,\n",
              "          'economic': 2,\n",
              "          'eligible': 2,\n",
              "          'embryonic': 1,\n",
              "          'environmental': 1,\n",
              "          'essential': 1,\n",
              "          'federal': 6,\n",
              "          'financial': 2,\n",
              "          'first': 2,\n",
              "          'fiscal': 5,\n",
              "          'foregone': 2,\n",
              "          'foreign': 1,\n",
              "          'free': 2,\n",
              "          'french': 1,\n",
              "          'full': 1,\n",
              "          'fundamental': 1,\n",
              "          'general': 3,\n",
              "          'great': 1,\n",
              "          'high': 1,\n",
              "          'human': 1,\n",
              "          'immense': 1,\n",
              "          'important': 3,\n",
              "          'incomplete': 1,\n",
              "          'innumerable': 1,\n",
              "          'insufficient': 1,\n",
              "          'intensive': 1,\n",
              "          'invaluable': 1,\n",
              "          'iraqi': 2,\n",
              "          'irresponsible': 1,\n",
              "          'italian': 1,\n",
              "          'last': 4,\n",
              "          'legal': 3,\n",
              "          'long': 1,\n",
              "          'lost': 1,\n",
              "          'loyal': 1,\n",
              "          'many': 1,\n",
              "          'marine': 1,\n",
              "          'massive': 1,\n",
              "          'maximum': 1,\n",
              "          'middle': 1,\n",
              "          'military': 1,\n",
              "          'misguided': 2,\n",
              "          'modern': 1,\n",
              "          'national': 1,\n",
              "          'necessary': 1,\n",
              "          'new': 10,\n",
              "          'next': 1,\n",
              "          'numerous': 1,\n",
              "          'official': 4,\n",
              "          'old': 1,\n",
              "          'other': 3,\n",
              "          'own': 3,\n",
              "          'personal': 1,\n",
              "          'pointless': 1,\n",
              "          'political': 8,\n",
              "          'portuguese': 9,\n",
              "          'positive': 1,\n",
              "          'potential': 5,\n",
              "          'prepared': 1,\n",
              "          'professional': 1,\n",
              "          'proud': 3,\n",
              "          'public': 2,\n",
              "          'rapid': 1,\n",
              "          'recent': 3,\n",
              "          'regular': 1,\n",
              "          'renewable': 1,\n",
              "          'responsible': 1,\n",
              "          'retired': 1,\n",
              "          'safe': 1,\n",
              "          'same': 1,\n",
              "          'scientific': 1,\n",
              "          'second': 1,\n",
              "          'sectarian': 1,\n",
              "          'serious': 1,\n",
              "          'several': 4,\n",
              "          'significant': 3,\n",
              "          'similar': 1,\n",
              "          'simple': 1,\n",
              "          'smart': 1,\n",
              "          'social': 1,\n",
              "          'spinal': 1,\n",
              "          'staggering': 1,\n",
              "          'statewide': 1,\n",
              "          'strict': 1,\n",
              "          'strong': 1,\n",
              "          'third': 1,\n",
              "          'thorough': 1,\n",
              "          'tough': 1,\n",
              "          'transplanted': 1,\n",
              "          'undergraduate': 1,\n",
              "          'uninsured': 1,\n",
              "          'useful': 1,\n",
              "          'valuable': 2,\n",
              "          'wealthy': 1,\n",
              "          'whole': 1,\n",
              "          'young': 1})"
            ]
          },
          "metadata": {},
          "execution_count": 79
        }
      ],
      "source": [
        "whcfdist_POStoWord['JJ']"
      ]
    },
    {
      "cell_type": "markdown",
      "metadata": {
        "id": "XbUgItd6Tg4M"
      },
      "source": [
        "Or look at the most common nouns"
      ]
    },
    {
      "cell_type": "code",
      "execution_count": null,
      "metadata": {
        "id": "2Wz9YLs6Tg4M",
        "colab": {
          "base_uri": "https://localhost:8080/"
        },
        "outputId": "14f924cd-88d7-4bba-80de-c3b5cf76a096"
      },
      "outputs": [
        {
          "output_type": "execute_result",
          "data": {
            "text/plain": [
              "[('today', 15),\n",
              " ('year', 12),\n",
              " ('administration', 11),\n",
              " ('stem', 10),\n",
              " ('consulate', 10)]"
            ]
          },
          "metadata": {},
          "execution_count": 80
        }
      ],
      "source": [
        "whcfdist_POStoWord['NN'].most_common(5)"
      ]
    },
    {
      "cell_type": "markdown",
      "metadata": {
        "id": "i1XneQgoTg4N"
      },
      "source": [
        "Or plot the base form verbs against their number of occurrences"
      ]
    },
    {
      "cell_type": "code",
      "execution_count": null,
      "metadata": {
        "id": "ZBt5ixGbTg4N",
        "colab": {
          "base_uri": "https://localhost:8080/",
          "height": 344
        },
        "outputId": "c7968b66-c4f8-48eb-b265-24f1a3b17c36"
      },
      "outputs": [
        {
          "output_type": "display_data",
          "data": {
            "image/png": "[encoded data removed]",
            "text/plain": [
              "<Figure size 432x288 with 1 Axes>"
            ]
          },
          "metadata": {}
        }
      ],
      "source": [
        "whcfdist_POStoWord['VB'].plot()"
      ]
    },
    {
      "cell_type": "markdown",
      "metadata": {
        "id": "r5h6_dA2Tg4N"
      },
      "source": [
        "We can then do a similar analysis of the word probabilities"
      ]
    },
    {
      "cell_type": "code",
      "execution_count": null,
      "metadata": {
        "id": "zmZKMaTzTg4N",
        "colab": {
          "base_uri": "https://localhost:8080/"
        },
        "outputId": "f813bdfe-70a8-40f6-d367-5745254997e5"
      },
      "outputs": [
        {
          "output_type": "stream",
          "name": "stdout",
          "text": [
            "today\n",
            "0.020195439739413682\n"
          ]
        }
      ],
      "source": [
        "whcpdist_POStoWord = nltk.ConditionalProbDist(whcfdist_POStoWord, nltk.ELEProbDist)\n",
        "\n",
        "#print the most common nouns\n",
        "print(whcpdist_POStoWord['NN'].max())\n",
        "\n",
        "#And its probability\n",
        "print(whcpdist_POStoWord['NN'].prob(whcpdist_POStoWord['NN'].max()))"
      ]
    },
    {
      "cell_type": "markdown",
      "metadata": {
        "id": "cmYzuc4bTg4N"
      },
      "source": [
        "We can even create a...wait for it...*WORD CLOUD* or Wordl to gaze at and draw mystical, approximate inferences about important nouns and verbs in our corpus:"
      ]
    },
    {
      "cell_type": "code",
      "execution_count": null,
      "metadata": {
        "id": "ktvjv_TCTg4N",
        "colab": {
          "base_uri": "https://localhost:8080/",
          "height": 248
        },
        "outputId": "261e9f9d-1c33-46b7-a979-136111ac13bf"
      },
      "outputs": [
        {
          "output_type": "display_data",
          "data": {
            "image/png": "[encoded data removed]",
            "text/plain": [
              "<Figure size 432x288 with 1 Axes>"
            ]
          },
          "metadata": {}
        }
      ],
      "source": [
        "wc = wordcloud.WordCloud(background_color=\"white\", max_words=500, width= 1000, height = 1000, mode ='RGBA', scale=.5).generate(' '.join(whReleases['normalized_tokens'].sum()))\n",
        "plt.imshow(wc)\n",
        "plt.axis(\"off\")\n",
        "plt.savefig(\"whitehouse_word_cloud.pdf\", format = 'pdf')"
      ]
    },
    {
      "cell_type": "markdown",
      "metadata": {
        "id": "Onay7xraTg4N"
      },
      "source": [
        "## <font color=\"red\">*Exercise 2*</font>\n",
        "\n",
        "<font color=\"red\">Construct cells immediately below this that filter, stem and lemmatize the tokens in your corpus, and then creates plots (with titles and labels) that map the word frequency distribution, word probability distribution, and at least two conditional probability distributions that help us better understand the social and cultural game underlying the production of your corpus. Create a wordl of words (or normalized words) and add a few vague comments about what mysteries are revealed through it.</font>"
      ]
    },
    {
      "cell_type": "code",
      "source": [
        "#remove stopwords\n",
        "#i'm hitting the RAM limit so i have to resort to an even shorter subset of the data\n",
        "#tokenize this new shorter subset\n",
        "speeches_general_short = speeches_general[600000:600500]\n",
        "speeches_general_short_string = speeches_general_short.to_string()\n",
        "smallTokens = word_tokenize(speeches_general_short_string)\n",
        "smallText = nltk.Text(smallTokens)\n",
        "speeches_general_short['tokenized_text'] = speeches_general_short['speechContent'].apply(lambda x:word_tokenize(x))\n",
        "\n",
        "countsDict = {}\n",
        "for word in speeches_general_short['tokenized_text'].sum():\n",
        "    if word in countsDict:\n",
        "        countsDict[word] += 1\n",
        "    else:\n",
        "        countsDict[word] = 1\n",
        "word_counts = sorted(countsDict.items(), key = lambda x : x[1], reverse = True)\n",
        "word_counts[:20]\n",
        "\n",
        "#The above code doesn't work, I'm not sure why. I'll try to move on anyway!\n",
        "#I've tried a lot of things what feels like for hours, and I couldn't figure it out. I'm sorry. In the future, can we spend more time in class devoted to discussing homework sets? I find it very difficult to complete this based on just what we learn in class and the readings."
      ],
      "metadata": {
        "id": "E_E64JhJ5t64",
        "colab": {
          "base_uri": "https://localhost:8080/",
          "height": 236
        },
        "outputId": "6816a6d5-452b-46d7-c305-d2a6dc3dfa35"
      },
      "execution_count": null,
      "outputs": [
        {
          "output_type": "error",
          "ename": "TypeError",
          "evalue": "ignored",
          "traceback": [
            "\u001b[0;31m---------------------------------------------------------------------------\u001b[0m",
            "\u001b[0;31mTypeError\u001b[0m                                 Traceback (most recent call last)",
            "\u001b[0;32m<ipython-input-85-6e624bc673bc>\u001b[0m in \u001b[0;36m<module>\u001b[0;34m()\u001b[0m\n\u001b[1;32m      9\u001b[0m \u001b[0;34m\u001b[0m\u001b[0m\n\u001b[1;32m     10\u001b[0m \u001b[0mcountsDict\u001b[0m \u001b[0;34m=\u001b[0m \u001b[0;34m{\u001b[0m\u001b[0;34m}\u001b[0m\u001b[0;34m\u001b[0m\u001b[0;34m\u001b[0m\u001b[0m\n\u001b[0;32m---> 11\u001b[0;31m \u001b[0;32mfor\u001b[0m \u001b[0mword\u001b[0m \u001b[0;32min\u001b[0m \u001b[0mspeeches_general_short\u001b[0m\u001b[0;34m[\u001b[0m\u001b[0;34m'tokenized_text'\u001b[0m\u001b[0;34m]\u001b[0m\u001b[0;34m.\u001b[0m\u001b[0msum\u001b[0m\u001b[0;34m(\u001b[0m\u001b[0;34m)\u001b[0m\u001b[0;34m:\u001b[0m\u001b[0;34m\u001b[0m\u001b[0;34m\u001b[0m\u001b[0m\n\u001b[0m\u001b[1;32m     12\u001b[0m     \u001b[0;32mif\u001b[0m \u001b[0mword\u001b[0m \u001b[0;32min\u001b[0m \u001b[0mcountsDict\u001b[0m\u001b[0;34m:\u001b[0m\u001b[0;34m\u001b[0m\u001b[0;34m\u001b[0m\u001b[0m\n\u001b[1;32m     13\u001b[0m         \u001b[0mcountsDict\u001b[0m\u001b[0;34m[\u001b[0m\u001b[0mword\u001b[0m\u001b[0;34m]\u001b[0m \u001b[0;34m+=\u001b[0m \u001b[0;36m1\u001b[0m\u001b[0;34m\u001b[0m\u001b[0;34m\u001b[0m\u001b[0m\n",
            "\u001b[0;31mTypeError\u001b[0m: 'int' object is not iterable"
          ]
        }
      ]
    },
    {
      "cell_type": "code",
      "source": [
        "#create function to normalize tokens\n",
        "\n",
        "def normalizeTokens(word_list, extra_stop=[]):\n",
        "    #We can use a generator here as we just need to iterate over it\n",
        "    normalized = []\n",
        "    if type(word_list) == list and len(word_list) == 1:\n",
        "        word_list = word_list[0]\n",
        "\n",
        "    if type(word_list) == list:\n",
        "        word_list = ' '.join([str(elem) for elem in word_list]) \n",
        "\n",
        "    doc = nlp(word_list.lower())\n",
        "    \n",
        "    # add the property of stop word to words considered as stop words\n",
        "    if len(extra_stop) > 0:\n",
        "        for stopword in extra_stop:\n",
        "            lexeme = nlp.vocab[stopword]\n",
        "            lexeme.is_stop = True\n",
        "\n",
        "    for w in doc:\n",
        "        # if it's not a stop word or punctuation mark, add it to our article\n",
        "        if w.text != '\\n' and not w.is_stop and not w.is_punct and not w.like_num and len(w.text.strip()) > 0:\n",
        "            # we add the lematized version of the word\n",
        "            normalized.append(str(w.lemma_))\n",
        "\n",
        "    return normalized"
      ],
      "metadata": {
        "id": "XMs3kSusc2iK"
      },
      "execution_count": null,
      "outputs": []
    },
    {
      "cell_type": "markdown",
      "metadata": {
        "id": "pCUSaElVTg4N"
      },
      "source": [
        "## Davies Corpora\n",
        "\n",
        "Now that we have our basic cleaning down, we can arrange our Davies Corpora. Let us try this with the movies corpora we have already loaded.\n",
        "\n",
        "We'll use a smaller corpus of a 1000 movies for this demonstration."
      ]
    },
    {
      "cell_type": "code",
      "execution_count": null,
      "metadata": {
        "id": "r-OLJngXTg4N"
      },
      "outputs": [],
      "source": [
        "zfile = zipfile.ZipFile(corpus_name + \"/sources_movies.zip\")\n",
        "source = []"
      ]
    },
    {
      "cell_type": "code",
      "execution_count": null,
      "metadata": {
        "id": "YXLy-PQJTg4N"
      },
      "outputs": [],
      "source": [
        "for file in zfile.namelist():\n",
        "    with zfile.open(file) as f:\n",
        "        for line in f:\n",
        "            source.append(line)"
      ]
    },
    {
      "cell_type": "code",
      "execution_count": null,
      "metadata": {
        "id": "9mRJDjO3Tg4O",
        "colab": {
          "base_uri": "https://localhost:8080/"
        },
        "outputId": "3c59789f-98d3-4eaf-b6bc-5a656a4cbe84"
      },
      "outputs": [
        {
          "output_type": "execute_result",
          "data": {
            "text/plain": [
              "[b'textID\\tfileID\\t#words\\tgenre\\tyear\\tlanguage(s)\\tcountry\\timdb\\ttitle\\r\\n',\n",
              " b'-----\\t-----\\t-----\\t-----\\t-----\\t-----\\t-----\\t-----\\t-----\\r\\n',\n",
              " b'\\r\\n',\n",
              " b'290635\\t3547424\\t4722\\tShort, Musical\\t1930\\tUK\\tEnglish\\t0290635\\tGoodbye to All That\\r\\n',\n",
              " b'21165\\t6332374\\t10220\\tCrime, Mystery, Thriller\\t1930\\tUK\\tEnglish\\t0021165\\tMurder!\\r\\n',\n",
              " b'21191\\t6013789\\t5281\\tDrama, Romance\\t1930\\tUSA\\tEnglish\\t0021191\\tA Notorious Affair\\r\\n',\n",
              " b'20620\\t3660608\\t6724\\tBiography, Drama, History\\t1930\\tUSA\\tEnglish\\t0020620\\tAbraham Lincoln\\r\\n',\n",
              " b'20629\\t60053\\t9552\\tDrama, War\\t1930\\tUSA\\tEnglish, French, German, Latin\\t0020629\\tAll Quiet on the Western Front\\r\\n',\n",
              " b'20640\\t6850720\\t13862\\tComedy, Musical\\t1930\\tUSA\\tEnglish\\t0020640\\tAnimal Crackers\\r\\n',\n",
              " b'20641\\t176501\\t11140\\tDrama, Romance\\t1930\\tUSA\\tEnglish\\t0020641\\tAnna Christie\\r\\n',\n",
              " b'20643\\t3603861\\t1748\\tComedy, Short\\t1930\\tUSA\\tEnglish\\t0020643\\tAnother Fine Mess\\r\\n',\n",
              " b'20670\\t4159455\\t6966\\tComedy, Musical\\t1930\\tUSA\\tEnglish\\t0020670\\tBe Yourself!\\r\\n',\n",
              " b'20702\\t3435788\\t6870\\tCrime, Drama, Film-Noir\\t1930\\tUSA\\tEnglish, Italian, French\\t0020702\\tBorn Reckless\\r\\n',\n",
              " b'20768\\t3128644\\t1782\\tDrama, Romance\\t1930\\tUSA\\tEnglish\\t0020768\\tCity Girl\\r\\n',\n",
              " b'20876\\t105788\\t8463\\tComedy\\t1930\\tUSA\\tEnglish\\t0020876\\tFeet First\\r\\n',\n",
              " b'20945\\t6935753\\t8669\\tComedy, Musical\\t1930\\tUSA\\tEnglish, French\\t0020945\\tHalf Shot at Sunrise\\r\\n',\n",
              " b\"20960\\t5583644\\t7331\\tDrama, War\\t1930\\tUSA\\tEnglish, German, French\\t0020960\\tHell's Angels\\r\\n\",\n",
              " b'21025\\t6922578\\t4495\\tAnimation, Music\\t1930\\tUSA\\tEnglish\\t0021025\\tKing of Jazz\\r\\n',\n",
              " b'21040\\t4056770\\t9201\\tDrama, Romance\\t1930\\tUSA\\tEnglish\\t0021040\\tLadies of Leisure\\r\\n',\n",
              " b'22058\\t3445333\\t919\\tShort, Comedy\\t1930\\tUSA\\tEnglish\\t0022058\\tLaughing Gravy\\r\\n']"
            ]
          },
          "metadata": {},
          "execution_count": 60
        }
      ],
      "source": [
        "source[0:20]"
      ]
    },
    {
      "cell_type": "markdown",
      "metadata": {
        "id": "YxUN-SjfTg4O"
      },
      "source": [
        "It looks dirty because the file is encoded as bytes, but we can certainly see the information there. The file id is also present in the original raw text data: as the first \"word\". Look back at the normalized/tokenized words to confirm that. We're going to use this to create a dataframe with: Fileid, movie name, genre, year, and country.\n",
        "\n",
        "It is advised that you run a similar check of the source file before you do other extraction.\n",
        "\n",
        "First, let us create a dictionary mapping file-id to all the text. Each movie will be mapped to a list of the tokenized words.\n",
        "\n",
        "In this example, I only use it to load 100 movies. You can comment this out or increase/decrease the number as you see fit.\n",
        "\n",
        "Note that in the following cells, we make use of the `lucem_illud` package's `word_tokenize` function. You can see that function on line 70 of [processing.py](https://github.com/UChicago-Computational-Content-Analysis/lucem_illud/blob/main/lucem_illud/processing.py), and we provide the code here for transparency. Since we put this folder in our helper package, you won't need to define this function every time you want to use it; you just `import lucem_illud`!"
      ]
    },
    {
      "cell_type": "code",
      "execution_count": null,
      "metadata": {
        "id": "jokZy8sBTg4O"
      },
      "outputs": [],
      "source": [
        "# processing.py calls a spacy model called \"en\" (and sometimes called \"en_core_web_sm\") so we load that first.\n",
        "try:\n",
        "    nlp = spacy.load(\"en\")\n",
        "except OSError:\n",
        "    nlp = spacy.load(\"en_core_web_sm\")\n",
        "\n",
        "    \n",
        "#Here is the function from lucem_illud/lucem_illud/processing.py\n",
        "def word_tokenize(word_list, model=nlp, MAX_LEN=1500000):\n",
        "    \n",
        "    tokenized = []\n",
        "    if type(word_list) == list and len(word_list) == 1:\n",
        "        word_list = word_list[0]\n",
        "\n",
        "    if type(word_list) == list:\n",
        "        word_list = ' '.join([str(elem) for elem in word_list]) \n",
        "    # since we're only tokenizing, I remove RAM intensive operations and increase max text size\n",
        "\n",
        "    model.max_length = MAX_LEN\n",
        "    doc = model(word_list, disable=[\"parser\", \"tagger\", \"ner\"])\n",
        "    \n",
        "    for token in doc:\n",
        "        if not token.is_punct and len(token.text.strip()) > 0:\n",
        "            tokenized.append(token.text)\n",
        "    return tokenized"
      ]
    },
    {
      "cell_type": "code",
      "execution_count": null,
      "metadata": {
        "id": "cxgrQ9odTg4O"
      },
      "outputs": [],
      "source": [
        "movie_texts = {}"
      ]
    },
    {
      "cell_type": "code",
      "execution_count": null,
      "metadata": {
        "id": "TfcX_rOlTg4O"
      },
      "outputs": [],
      "source": [
        "for files in movie_raw:\n",
        "    if len(movie_texts) > 100:\n",
        "        break\n",
        "    movies = clean_raw_text(movie_raw[files][1:])\n",
        "    for movie in movies:\n",
        "        # We can run the following line of code with or without `lucem_illud.`, using the package or our code 2 cells above.\n",
        "        txts = lucem_illud.word_tokenize(movie)\n",
        "        try:\n",
        "            movie_texts[txts[0][2:]] = txts[1:]\n",
        "        except IndexError:\n",
        "            continue"
      ]
    },
    {
      "cell_type": "code",
      "execution_count": null,
      "metadata": {
        "id": "AGzShu2wTg4O"
      },
      "outputs": [],
      "source": [
        "import pandas as pd"
      ]
    },
    {
      "cell_type": "code",
      "execution_count": null,
      "metadata": {
        "id": "et3H3JbGTg4O"
      },
      "outputs": [],
      "source": [
        "movie_df = pd.DataFrame(columns=[\"Movie Name\", \"Genre\", \"Year\", \"Country\", \"Tokenized Texts\"])"
      ]
    },
    {
      "cell_type": "code",
      "execution_count": null,
      "metadata": {
        "id": "7BV-i3g3Tg4P"
      },
      "outputs": [],
      "source": [
        "for movie in source[3:]:\n",
        "    try:\n",
        "        tid, fileid, total_words, genre, year, lang, country, imdb, title = movie.decode(\"utf-8\").split(\"\\t\")\n",
        "    except UnicodeDecodeError:\n",
        "        continue\n",
        "    try:\n",
        "        movie_df.loc[fileid.strip()] = [title.strip(), genre.strip(), year.strip(), country.strip(), movie_texts[fileid.strip()]]\n",
        "    except KeyError:\n",
        "        continue"
      ]
    },
    {
      "cell_type": "code",
      "execution_count": null,
      "metadata": {
        "id": "VqzgqTopTg4P",
        "colab": {
          "base_uri": "https://localhost:8080/"
        },
        "outputId": "087a9f9f-99e2-41a7-93e1-bd66d45442d1"
      },
      "outputs": [
        {
          "output_type": "execute_result",
          "data": {
            "text/html": [
              "\n",
              "  <div id=\"df-af1ecfbd-2b42-4a7f-bcc9-4eb719d23d65\">\n",
              "    <div class=\"colab-df-container\">\n",
              "      <div>\n",
              "<style scoped>\n",
              "    .dataframe tbody tr th:only-of-type {\n",
              "        vertical-align: middle;\n",
              "    }\n",
              "\n",
              "    .dataframe tbody tr th {\n",
              "        vertical-align: top;\n",
              "    }\n",
              "\n",
              "    .dataframe thead th {\n",
              "        text-align: right;\n",
              "    }\n",
              "</style>\n",
              "<table border=\"1\" class=\"dataframe\">\n",
              "  <thead>\n",
              "    <tr style=\"text-align: right;\">\n",
              "      <th></th>\n",
              "      <th>Movie Name</th>\n",
              "      <th>Genre</th>\n",
              "      <th>Year</th>\n",
              "      <th>Country</th>\n",
              "      <th>Tokenized Texts</th>\n",
              "    </tr>\n",
              "  </thead>\n",
              "  <tbody>\n",
              "    <tr>\n",
              "      <th>3147360</th>\n",
              "      <td>The Devil's Parade</td>\n",
              "      <td>Short</td>\n",
              "      <td>1930</td>\n",
              "      <td>English</td>\n",
              "      <td>[Good, luck, Hi, Uh, I, have, an, appointment,...</td>\n",
              "    </tr>\n",
              "    <tr>\n",
              "      <th>3276830</th>\n",
              "      <td>Smart Money</td>\n",
              "      <td>Crime, Drama</td>\n",
              "      <td>1931</td>\n",
              "      <td>English</td>\n",
              "      <td>[Aces, Fine, Come, on, ace, Ah, Thank, goodnes...</td>\n",
              "    </tr>\n",
              "    <tr>\n",
              "      <th>6750675</th>\n",
              "      <td>The Mad Genius</td>\n",
              "      <td>Drama, Horror, Romance</td>\n",
              "      <td>1931</td>\n",
              "      <td>English</td>\n",
              "      <td>[Not, so, high, on, your, left, string, Faster...</td>\n",
              "    </tr>\n",
              "    <tr>\n",
              "      <th>6837507</th>\n",
              "      <td>Hey, Pop!</td>\n",
              "      <td>Short, Comedy</td>\n",
              "      <td>1932</td>\n",
              "      <td>English</td>\n",
              "      <td>[One, glass, of, milk, One, pork, sandwich, to...</td>\n",
              "    </tr>\n",
              "    <tr>\n",
              "      <th>4194247</th>\n",
              "      <td>One Hour with You</td>\n",
              "      <td>Comedy, Musical, Romance</td>\n",
              "      <td>1932</td>\n",
              "      <td>English, French</td>\n",
              "      <td>[Now, listen, men, Spring, is, here, and, spri...</td>\n",
              "    </tr>\n",
              "  </tbody>\n",
              "</table>\n",
              "</div>\n",
              "      <button class=\"colab-df-convert\" onclick=\"convertToInteractive('df-af1ecfbd-2b42-4a7f-bcc9-4eb719d23d65')\"\n",
              "              title=\"Convert this dataframe to an interactive table.\"\n",
              "              style=\"display:none;\">\n",
              "        \n",
              "  <svg xmlns=\"http://www.w3.org/2000/svg\" height=\"24px\"viewBox=\"0 0 24 24\"\n",
              "       width=\"24px\">\n",
              "    <path d=\"M0 0h24v24H0V0z\" fill=\"none\"/>\n",
              "    <path d=\"M18.56 5.44l.94 2.06.94-2.06 2.06-.94-2.06-.94-.94-2.06-.94 2.06-2.06.94zm-11 1L8.5 8.5l.94-2.06 2.06-.94-2.06-.94L8.5 2.5l-.94 2.06-2.06.94zm10 10l.94 2.06.94-2.06 2.06-.94-2.06-.94-.94-2.06-.94 2.06-2.06.94z\"/><path d=\"M17.41 7.96l-1.37-1.37c-.4-.4-.92-.59-1.43-.59-.52 0-1.04.2-1.43.59L10.3 9.45l-7.72 7.72c-.78.78-.78 2.05 0 2.83L4 21.41c.39.39.9.59 1.41.59.51 0 1.02-.2 1.41-.59l7.78-7.78 2.81-2.81c.8-.78.8-2.07 0-2.86zM5.41 20L4 18.59l7.72-7.72 1.47 1.35L5.41 20z\"/>\n",
              "  </svg>\n",
              "      </button>\n",
              "      \n",
              "  <style>\n",
              "    .colab-df-container {\n",
              "      display:flex;\n",
              "      flex-wrap:wrap;\n",
              "      gap: 12px;\n",
              "    }\n",
              "\n",
              "    .colab-df-convert {\n",
              "      background-color: #E8F0FE;\n",
              "      border: none;\n",
              "      border-radius: 50%;\n",
              "      cursor: pointer;\n",
              "      display: none;\n",
              "      fill: #1967D2;\n",
              "      height: 32px;\n",
              "      padding: 0 0 0 0;\n",
              "      width: 32px;\n",
              "    }\n",
              "\n",
              "    .colab-df-convert:hover {\n",
              "      background-color: #E2EBFA;\n",
              "      box-shadow: 0px 1px 2px rgba(60, 64, 67, 0.3), 0px 1px 3px 1px rgba(60, 64, 67, 0.15);\n",
              "      fill: #174EA6;\n",
              "    }\n",
              "\n",
              "    [theme=dark] .colab-df-convert {\n",
              "      background-color: #3B4455;\n",
              "      fill: #D2E3FC;\n",
              "    }\n",
              "\n",
              "    [theme=dark] .colab-df-convert:hover {\n",
              "      background-color: #434B5C;\n",
              "      box-shadow: 0px 1px 3px 1px rgba(0, 0, 0, 0.15);\n",
              "      filter: drop-shadow(0px 1px 2px rgba(0, 0, 0, 0.3));\n",
              "      fill: #FFFFFF;\n",
              "    }\n",
              "  </style>\n",
              "\n",
              "      <script>\n",
              "        const buttonEl =\n",
              "          document.querySelector('#df-af1ecfbd-2b42-4a7f-bcc9-4eb719d23d65 button.colab-df-convert');\n",
              "        buttonEl.style.display =\n",
              "          google.colab.kernel.accessAllowed ? 'block' : 'none';\n",
              "\n",
              "        async function convertToInteractive(key) {\n",
              "          const element = document.querySelector('#df-af1ecfbd-2b42-4a7f-bcc9-4eb719d23d65');\n",
              "          const dataTable =\n",
              "            await google.colab.kernel.invokeFunction('convertToInteractive',\n",
              "                                                     [key], {});\n",
              "          if (!dataTable) return;\n",
              "\n",
              "          const docLinkHtml = 'Like what you see? Visit the ' +\n",
              "            '<a target=\"_blank\" href=https://colab.research.google.com/notebooks/data_table.ipynb>data table notebook</a>'\n",
              "            + ' to learn more about interactive tables.';\n",
              "          element.innerHTML = '';\n",
              "          dataTable['output_type'] = 'display_data';\n",
              "          await google.colab.output.renderOutput(dataTable, element);\n",
              "          const docLink = document.createElement('div');\n",
              "          docLink.innerHTML = docLinkHtml;\n",
              "          element.appendChild(docLink);\n",
              "        }\n",
              "      </script>\n",
              "    </div>\n",
              "  </div>\n",
              "  "
            ],
            "text/plain": [
              "                 Movie Name  ...                                    Tokenized Texts\n",
              "3147360  The Devil's Parade  ...  [Good, luck, Hi, Uh, I, have, an, appointment,...\n",
              "3276830         Smart Money  ...  [Aces, Fine, Come, on, ace, Ah, Thank, goodnes...\n",
              "6750675      The Mad Genius  ...  [Not, so, high, on, your, left, string, Faster...\n",
              "6837507           Hey, Pop!  ...  [One, glass, of, milk, One, pork, sandwich, to...\n",
              "4194247   One Hour with You  ...  [Now, listen, men, Spring, is, here, and, spri...\n",
              "\n",
              "[5 rows x 5 columns]"
            ]
          },
          "metadata": {},
          "execution_count": 67
        }
      ],
      "source": [
        "movie_df.head()"
      ]
    },
    {
      "cell_type": "markdown",
      "metadata": {
        "id": "BnvtBsH9Tg4P"
      },
      "source": [
        "# Part-of-Speech (POS) tagging"
      ]
    },
    {
      "cell_type": "markdown",
      "metadata": {
        "id": "SAq1teZ5Tg4P"
      },
      "source": [
        "In POS tagging, we classify each word by its semantic role in a sentence. We will be using the in-built spaCy pos-tagging.\n",
        "\n",
        "https://spacy.io/usage/linguistic-features\n",
        "\n",
        "|#. |Tag |Description |\n",
        "|---|----|------------|\n",
        "|1.\t|CC\t|Coordinating conjunction\n",
        "|2.\t|CD\t|Cardinal number\n",
        "|3.\t|DT\t|Determiner\n",
        "|4.\t|EX\t|Existential there\n",
        "|5.\t|FW\t|Foreign word\n",
        "|6.\t|IN\t|Preposition or subordinating conjunction\n",
        "|7.\t|JJ\t|Adjective\n",
        "|8.\t|JJR|\tAdjective, comparative\n",
        "|9.\t|JJS|\tAdjective, superlative\n",
        "|10.|\tLS\t|List item marker\n",
        "|11.|\tMD\t|Modal\n",
        "|12.|\tNN\t|Noun, singular or mass\n",
        "|13.|\tNNS\t|Noun, plural\n",
        "|14.|\tNNP\t|Proper noun, singular\n",
        "|15.|\tNNPS|\tProper noun, plural\n",
        "|16.|\tPDT\t|Predeterminer\n",
        "|17.|\tPOS\t|Possessive ending\n",
        "|18.|\tPRP\t|Personal pronoun\n",
        "|19.|\tPRP\\$|\tPossessive pronoun\n",
        "|20.|\tRB\t|Adverb\n",
        "|21.|\tRBR\t|Adverb, comparative\n",
        "|22.|\tRBS\t|Adverb, superlative\n",
        "|23.|\tRP\t|Particle\n",
        "|24.|\tSYM\t|Symbol\n",
        "|25.|\tTO\t|to\n",
        "|26.|\tUH\t|Interjection\n",
        "|27.|\tVB\t|Verb, base form\n",
        "|28.|\tVBD\t|Verb, past tense\n",
        "|29.|\tVBG\t|Verb, gerund or present participle\n",
        "|30.|\tVBN\t|Verb, past participle\n",
        "|31.|\tVBP\t|Verb, non-3rd person singular present\n",
        "|32.|\tVBZ\t|Verb, 3rd person singular present\n",
        "|33.|\tWDT\t|Wh-determiner\n",
        "|34.|\tWP\t|Wh-pronoun\n",
        "|35.|\tWP$\t|Possessive wh-pronoun\n",
        "|36.|\tWRB\t|Wh-adverb\n",
        "\n",
        "spaCy pos-tags word as we run it through the english language model. A small example:"
      ]
    },
    {
      "cell_type": "code",
      "execution_count": null,
      "metadata": {
        "id": "NAuGAQU8Tg4P"
      },
      "outputs": [],
      "source": [
        "sent = nlp(u\"Tom went to IKEA to get some of those delicious Swedish meatballs.\")\n"
      ]
    },
    {
      "cell_type": "code",
      "execution_count": null,
      "metadata": {
        "id": "wn3bPmrpTg4P"
      },
      "outputs": [],
      "source": [
        "for token in sent:\n",
        "    print(token.text, token.pos_, token.tag_)"
      ]
    },
    {
      "cell_type": "markdown",
      "metadata": {
        "id": "IVorhBvZTg4P"
      },
      "source": [
        "This looks quite good. Now we will try POS tagging with a somewhat larger corpus. We consider a few of the top posts from the reddit data we used last week."
      ]
    },
    {
      "cell_type": "code",
      "execution_count": null,
      "metadata": {
        "id": "XL2HHavUTg4P"
      },
      "outputs": [],
      "source": [
        "redditDF = pandas.read_csv('../data/reddit.csv')"
      ]
    },
    {
      "cell_type": "markdown",
      "metadata": {
        "id": "AwEGjL8iTg4P"
      },
      "source": [
        "Grabbing the 10 highest scoring posts and tokenizing the sentences. Once again, notice that we aren't going to do any kind of stemming this week (although *semantic* normalization may be performed where we translate synonyms into the same focal word). Here, we will use sentences tokenized by spaCy. Like before, these methods can also be found in `lucem_illud`.\n",
        "\n"
      ]
    },
    {
      "cell_type": "code",
      "execution_count": null,
      "metadata": {
        "id": "yodbNRSKTg4Q"
      },
      "outputs": [],
      "source": [
        "def sent_tokenize(word_list):\n",
        "    doc = nlp(word_list)\n",
        "    sentences = [sent.string.strip() for sent in doc.sents]\n",
        "    return sentences"
      ]
    },
    {
      "cell_type": "code",
      "execution_count": null,
      "metadata": {
        "id": "Ta-6bqOETg4Q"
      },
      "outputs": [],
      "source": [
        "redditTopScores = redditDF.sort_values('score')[-10:]\n",
        "redditTopScores['sentences'] = redditTopScores['text'].apply(lambda x: [word_tokenize(s) for s in sent_tokenize(x)])\n",
        "redditTopScores.index = range(len(redditTopScores) - 1, -1,-1) #Reindex to make things nice in the future\n",
        "redditTopScores"
      ]
    },
    {
      "cell_type": "code",
      "execution_count": null,
      "metadata": {
        "id": "vAb8vlExTg4Q"
      },
      "outputs": [],
      "source": [
        "def tag_sents_pos(sentences):\n",
        "    \"\"\"\n",
        "    function which replicates NLTK pos tagging on sentences.\n",
        "    \"\"\"\n",
        "    new_sents = []\n",
        "    for sentence in sentences:\n",
        "        new_sent = ' '.join(sentence)\n",
        "        new_sents.append(new_sent)\n",
        "    final_string = ' '.join(new_sents)\n",
        "    doc = nlp(final_string)\n",
        "    \n",
        "    pos_sents = []\n",
        "    for sent in doc.sents:\n",
        "        pos_sent = []\n",
        "        for token in sent:\n",
        "            pos_sent.append((token.text, token.tag_))\n",
        "        pos_sents.append(pos_sent)\n",
        "    \n",
        "    return pos_sents"
      ]
    },
    {
      "cell_type": "code",
      "execution_count": null,
      "metadata": {
        "id": "KNdSVc9iTg4Q"
      },
      "outputs": [],
      "source": [
        "redditTopScores['POS_sents'] = redditTopScores['sentences'].apply(lambda x: tag_sents_pos(x))"
      ]
    },
    {
      "cell_type": "code",
      "execution_count": null,
      "metadata": {
        "id": "XtB8u7TRTg4Q"
      },
      "outputs": [],
      "source": [
        "redditTopScores['POS_sents']"
      ]
    },
    {
      "cell_type": "markdown",
      "metadata": {
        "id": "eGRNCcG7Tg4Q"
      },
      "source": [
        "And count the number of `NN` (nouns)"
      ]
    },
    {
      "cell_type": "code",
      "execution_count": null,
      "metadata": {
        "id": "EjnH3MdWTg4Q"
      },
      "outputs": [],
      "source": [
        "countTarget = 'NN'\n",
        "targetCounts = {}\n",
        "for entry in redditTopScores['POS_sents']:\n",
        "    for sentence in entry:\n",
        "        for ent, kind in sentence:\n",
        "            if kind != countTarget:\n",
        "                continue\n",
        "            elif ent in targetCounts:\n",
        "                targetCounts[ent] += 1\n",
        "            else:\n",
        "                targetCounts[ent] = 1\n",
        "sortedTargets = sorted(targetCounts.items(), key = lambda x: x[1], reverse = True)\n",
        "sortedTargets[:20]"
      ]
    },
    {
      "cell_type": "markdown",
      "metadata": {
        "id": "eJvMlWk2Tg4Q"
      },
      "source": [
        "What about the adjectives that modify the word, \"computer\"?"
      ]
    },
    {
      "cell_type": "code",
      "execution_count": null,
      "metadata": {
        "id": "aG95cytYTg4R"
      },
      "outputs": [],
      "source": [
        "NTarget = 'JJ'\n",
        "Word = 'computer'\n",
        "NResults = set()\n",
        "for entry in redditTopScores['POS_sents']:\n",
        "    for sentence in entry:\n",
        "        for (ent1, kind1),(ent2,kind2) in zip(sentence[:-1], sentence[1:]):\n",
        "            if (kind1,ent2.lower())==(NTarget,Word):\n",
        "                NResults.add(ent1)\n",
        "            else:\n",
        "                continue\n",
        "\n",
        "print(NResults)     "
      ]
    },
    {
      "cell_type": "markdown",
      "metadata": {
        "id": "A4bdJOweTg4R"
      },
      "source": [
        "## <font color=\"red\">Exercise 3</font>\n",
        "\n",
        "<font color=\"red\">In the cells immediately following, perform POS tagging on a meaningful (but modest) subset of a corpus associated with your final project. Examine the list of words associated with at least three different parts of speech. Consider conditional associations (e.g., adjectives associated with nouns or adverbs with verbs of interest). What do these distributions suggest about your corpus?"
      ]
    },
    {
      "cell_type": "markdown",
      "metadata": {
        "id": "aaxCMtDQTg4R"
      },
      "source": [
        "# Collocations"
      ]
    },
    {
      "cell_type": "markdown",
      "metadata": {
        "id": "0T10lcJhTg4R"
      },
      "source": [
        "As illustrated above, we might want to find significant bigrams (two-word phrases), trigrams (three-word phrases), n-grams (*n*-word phrases) or skip-grams (noncontinguous 'phrases' with skip-length *n*). \n",
        "\n",
        "We will begin with the [`nltk.collocations.BigramCollocationFinder`](http://www.nltk.org/api/nltk.html?highlight=bigramcollocationfinder#nltk.collocations.BigramCollocationFinder) class, which can be given raw lists of strings with the `from_words()` method. By default it only looks at continuous bigrams but there is an option (`window_size`) to allow skip-grams."
      ]
    },
    {
      "cell_type": "code",
      "execution_count": null,
      "metadata": {
        "id": "uGfN1k7PTg4R"
      },
      "outputs": [],
      "source": [
        "whBigrams = nltk.collocations.BigramCollocationFinder.from_words(whReleases['normalized_tokens'].sum())\n",
        "print(\"There are {} bigrams in the finder\".format(whBigrams.N))"
      ]
    },
    {
      "cell_type": "markdown",
      "metadata": {
        "id": "ojBUiu21Tg4R"
      },
      "source": [
        "To compare the bigrams we need to tell nltk what our score function is. Initially, we will look at the raw counts."
      ]
    },
    {
      "cell_type": "code",
      "execution_count": null,
      "metadata": {
        "id": "myh2fgOXTg4R"
      },
      "outputs": [],
      "source": [
        "def bigramScoring(count, wordsTuple, total):\n",
        "    return count\n",
        "\n",
        "print(whBigrams.nbest(bigramScoring, 10))"
      ]
    },
    {
      "cell_type": "markdown",
      "metadata": {
        "id": "rMxFqvX7Tg4R"
      },
      "source": [
        "One note about how `BigramCollocationFinder` works. It doesn't use the strings internally."
      ]
    },
    {
      "cell_type": "code",
      "execution_count": null,
      "metadata": {
        "id": "KsXJuGdsTg4R"
      },
      "outputs": [],
      "source": [
        "birgramScores = []\n",
        "\n",
        "def bigramPrinting(count, wordsTuple, total):\n",
        "    global birgramScores\n",
        "    birgramScores.append(\"The first word is:  {}, The second word is: {}\".format(*wordsTuple))\n",
        "    #Returns None so all the tuples are considered to have the same rank\n",
        "\n",
        "whBigrams.nbest(bigramPrinting, 10)\n",
        "print('\\n'.join(birgramScores[:10]))"
      ]
    },
    {
      "cell_type": "markdown",
      "metadata": {
        "id": "K-eIcMOjTg4R"
      },
      "source": [
        "The words are each given numeric IDs and there is a dictionary that maps the IDs to the words they represent. This is a common performance optimization.\n",
        "\n",
        "Two words can appear together by chance. Recall from  Manning and Schütze's textbook that a t-value can be computed for each bigram to see how significant the association is. You may also want to try computing the $\\chi^2$, likelihood ratio, and pointwise mutual information statistics. "
      ]
    },
    {
      "cell_type": "code",
      "execution_count": null,
      "metadata": {
        "id": "ahxJPL1eTg4S"
      },
      "outputs": [],
      "source": [
        "bigram_measures = nltk.collocations.BigramAssocMeasures()\n",
        "whBigrams.score_ngrams(bigram_measures.likelihood_ratio)[:40]\n",
        "# other options include student_t, chi_sq, likelihood_ratio, pmi"
      ]
    },
    {
      "cell_type": "markdown",
      "metadata": {
        "id": "tNfcy0-STg4S"
      },
      "source": [
        "There are a few other available measures"
      ]
    },
    {
      "cell_type": "code",
      "execution_count": null,
      "metadata": {
        "id": "_8O3RaiuTg4S"
      },
      "outputs": [],
      "source": [
        "[s for s in dir(bigram_measures) if s[0] != '_']"
      ]
    },
    {
      "cell_type": "markdown",
      "metadata": {
        "id": "w7apEe0GTg4S"
      },
      "source": [
        "We can also look at trigrams"
      ]
    },
    {
      "cell_type": "code",
      "execution_count": null,
      "metadata": {
        "id": "OlhtdGGGTg4S"
      },
      "outputs": [],
      "source": [
        "trigram_measures = nltk.collocations.TrigramAssocMeasures()\n",
        "whTrigrams = nltk.collocations.TrigramCollocationFinder.from_words(whReleases['normalized_tokens'].sum())\n",
        "whTrigrams.score_ngrams(trigram_measures.student_t)[:20]"
      ]
    },
    {
      "cell_type": "markdown",
      "metadata": {
        "id": "RKqRA723Tg4S"
      },
      "source": [
        "Or n-grams (for any number n)"
      ]
    },
    {
      "cell_type": "code",
      "execution_count": null,
      "metadata": {
        "id": "Ol3Jj-DHTg4S"
      },
      "outputs": [],
      "source": [
        "Ngrams = nltk.ngrams(whReleases['normalized_tokens'].sum(), 4)\n",
        "Counts = {}\n",
        "for ngram in list(Ngrams):\n",
        "    if ngram in Counts.keys():\n",
        "        Counts[ngram] += 1\n",
        "    else:\n",
        "        Counts[ngram] = 1\n",
        "Filtered = {}\n",
        "for key in Counts.keys():\n",
        "    if Counts[key] < 2:\n",
        "        pass\n",
        "    else:\n",
        "        Filtered[key] = Counts[key]\n",
        "print(Filtered)"
      ]
    },
    {
      "cell_type": "markdown",
      "metadata": {
        "id": "DS0gqLYQTg4S"
      },
      "source": [
        "Gensim is another important python text processing package which allows us to use collocations, among other cool methods (which we will explore later weeks)."
      ]
    },
    {
      "cell_type": "code",
      "execution_count": null,
      "metadata": {
        "id": "sBDnFu3uTg4S"
      },
      "outputs": [],
      "source": [
        "import gensim"
      ]
    },
    {
      "cell_type": "code",
      "execution_count": null,
      "metadata": {
        "id": "yVXDSNAyTg4T"
      },
      "outputs": [],
      "source": [
        "bigram = gensim.models.Phrases(whReleases['normalized_tokens'])"
      ]
    },
    {
      "cell_type": "code",
      "execution_count": null,
      "metadata": {
        "id": "DA1K3U8oTg4T"
      },
      "outputs": [],
      "source": [
        "texts = [bigram[line] for line in whReleases['normalized_tokens']]"
      ]
    },
    {
      "cell_type": "code",
      "execution_count": null,
      "metadata": {
        "id": "A1a3uzLPTg4T"
      },
      "outputs": [],
      "source": [
        "texts[0]"
      ]
    },
    {
      "cell_type": "markdown",
      "metadata": {
        "id": "TXg0J8G4Tg4T"
      },
      "source": [
        "## <font color=\"red\">*Exercise 4*</font>\n",
        "\n",
        "<font color=\"red\">Construct cells immediately below this that identify statistically significant bigrams, trigrams, quadgrams, higher-order *n*grams and skipgrams. Explore whether these collocations are idiomatic and so irreducible to the semantic sum of their component words. You can do this by examination of conditional frequencies (e.g., what else is 'united' besides the 'United States'). If these phrases are idiomatic, what do they suggest about the culture of the world producing them?\n",
        "\n",
        "<font color=\"red\">**Stretch**: In Manning and Schütze's textbook, there Section 5.3.2 explores how to use the *t*-test to find words whose co-occurance patterns best distinguish two words. Implement that and use it to explore phrases in your corpus. For instance, you could tell what words come after \"America\" much more often than after \"Iraq\"?</font> "
      ]
    },
    {
      "cell_type": "markdown",
      "metadata": {
        "id": "JNOB7HWmTg4T"
      },
      "source": [
        "# Named-Entity Recognition\n",
        "\n",
        "Named Entity Recognition (NER) is also a classification task, which identifies named objects. \n",
        "Like every other part of the pipeline, spaCy also tags words with their tagged entity (https://spacy.io/api/entityrecognizer). You can see the full capacity of what spaCy does by checking out: https://spacy.io/usage/linguistic-features.\n",
        "\n",
        "For training the identification of such entities, spaCy uses a deep learning model."
      ]
    },
    {
      "cell_type": "markdown",
      "metadata": {
        "id": "HRVv2UamTg4T"
      },
      "source": [
        "Let's try it on a basic sentence:"
      ]
    },
    {
      "cell_type": "code",
      "execution_count": null,
      "metadata": {
        "id": "T9lfwulwTg4T"
      },
      "outputs": [],
      "source": [
        "sent = nlp(u\"Tom went to IKEA to get some of those delicious Swedish meatballs.\")"
      ]
    },
    {
      "cell_type": "code",
      "execution_count": null,
      "metadata": {
        "id": "L40wME1WTg4T"
      },
      "outputs": [],
      "source": [
        "for token in sent:\n",
        "    print(token.text, token.ent_type_)"
      ]
    },
    {
      "cell_type": "markdown",
      "metadata": {
        "id": "oqi7jq1XTg4U"
      },
      "source": [
        "For only finding ents-"
      ]
    },
    {
      "cell_type": "code",
      "execution_count": null,
      "metadata": {
        "id": "lOzAs8SyTg4U"
      },
      "outputs": [],
      "source": [
        "for ent in sent.ents:\n",
        "    print(ent.text, ent.label_)"
      ]
    },
    {
      "cell_type": "code",
      "execution_count": null,
      "metadata": {
        "id": "Xjqn-6_OTg4U"
      },
      "outputs": [],
      "source": [
        "def tag_sents_ner(sentences):\n",
        "    \"\"\"\n",
        "    function which replicates NLTK ner tagging on sentences.\n",
        "    \"\"\"\n",
        "    new_sents = []\n",
        "    for sentence in sentences:\n",
        "        new_sent = ' '.join(sentence)\n",
        "        new_sents.append(new_sent)\n",
        "    final_string = ' '.join(new_sents)\n",
        "    doc = nlp(final_string)\n",
        "    \n",
        "    pos_sents = []\n",
        "    for sent in doc.sents:\n",
        "        pos_sent = []\n",
        "        for ent in sent.ents:\n",
        "            pos_sent.append((ent.text, ent.label_))\n",
        "        pos_sents.append(pos_sent)\n",
        "    \n",
        "    return pos_sents"
      ]
    },
    {
      "cell_type": "markdown",
      "metadata": {
        "id": "u3Uc-GHNTg4U"
      },
      "source": [
        "We can also run NER over our entire corpus:"
      ]
    },
    {
      "cell_type": "code",
      "execution_count": null,
      "metadata": {
        "id": "aszzGfELTg4U"
      },
      "outputs": [],
      "source": [
        "redditTopScores['classified_sents'] = redditTopScores['sentences'].apply(lambda x: tag_sents_ner(x))"
      ]
    },
    {
      "cell_type": "code",
      "execution_count": null,
      "metadata": {
        "id": "_7LifGMWTg4U"
      },
      "outputs": [],
      "source": [
        "redditTopScores['classified_sents']"
      ]
    },
    {
      "cell_type": "markdown",
      "metadata": {
        "id": "4VRrMYKLTg4U"
      },
      "source": [
        "Find the most common entities (which are, of course, boring):"
      ]
    },
    {
      "cell_type": "code",
      "execution_count": null,
      "metadata": {
        "id": "AtnxB15eTg4V"
      },
      "outputs": [],
      "source": [
        "entityCounts = {}\n",
        "for entry in redditTopScores['classified_sents']:\n",
        "    for sentence in entry:\n",
        "        for ent, kind in sentence:\n",
        "            if ent in entityCounts:\n",
        "                entityCounts[ent] += 1\n",
        "            else:\n",
        "                entityCounts[ent] = 1\n",
        "sortedEntities = sorted(entityCounts.items(), key = lambda x: x[1], reverse = True)\n",
        "sortedEntities[:10]"
      ]
    },
    {
      "cell_type": "markdown",
      "metadata": {
        "id": "4RKJbeuaTg4V"
      },
      "source": [
        "Or those occurring only twice:"
      ]
    },
    {
      "cell_type": "code",
      "execution_count": null,
      "metadata": {
        "id": "K2t5VUmUTg4V"
      },
      "outputs": [],
      "source": [
        "[x[0] for x in sortedEntities if x[1] == 2]"
      ]
    },
    {
      "cell_type": "markdown",
      "metadata": {
        "id": "HKgEnMe0Tg4V"
      },
      "source": [
        "We could also list the most common \"non-objects\". (We note that we're not graphing these because there are so few here.)"
      ]
    },
    {
      "cell_type": "code",
      "execution_count": null,
      "metadata": {
        "id": "WIsa3cHwTg4V"
      },
      "outputs": [],
      "source": [
        "nonObjCounts = {}\n",
        "for entry in redditTopScores['classified_sents']:\n",
        "    for sentence in entry:\n",
        "        for ent, kind in sentence:\n",
        "            if kind == 'ORG':\n",
        "                continue\n",
        "            elif ent in nonObjCounts:\n",
        "                nonObjCounts[ent] += 1\n",
        "            else:\n",
        "                nonObjCounts[ent] = 1\n",
        "sortedNonObj = sorted(nonObjCounts.items(), key = lambda x: x[1], reverse = True)\n",
        "sortedNonObj[:10]"
      ]
    },
    {
      "cell_type": "markdown",
      "metadata": {
        "id": "TGkl88fjTg4V"
      },
      "source": [
        "What about the Organizations?"
      ]
    },
    {
      "cell_type": "code",
      "execution_count": null,
      "metadata": {
        "id": "0tPFPhARTg4V"
      },
      "outputs": [],
      "source": [
        "OrgCounts = {}\n",
        "for entry in redditTopScores['classified_sents']:\n",
        "    for sentence in entry:\n",
        "        for ent, kind in sentence:\n",
        "            if kind == 'ORG':\n",
        "                print(ent)"
      ]
    },
    {
      "cell_type": "markdown",
      "metadata": {
        "id": "Jo01D9AqTg4V"
      },
      "source": [
        "These, of course, have much smaller counts.\n",
        "\n",
        "In this particular example we didn't find the most interesting entities - you can remedy that in exercise 4!"
      ]
    },
    {
      "cell_type": "markdown",
      "metadata": {
        "id": "qOykQjzaTg4W"
      },
      "source": [
        "## <font color=\"red\">*Exercise 5*</font>\n",
        "\n",
        "<font color=\"red\">In the cells immediately following, perform NER on a (modest) subset of your corpus of interest. List all of the different kinds of entities tagged? What does their distribution suggest about the focus of your corpus? For a subset of your corpus, tally at least one type of named entity and calculate the Precision, Recall and F-score for the NER classification just performed."
      ]
    },
    {
      "cell_type": "markdown",
      "metadata": {
        "id": "94Ki_Z0FTg4W"
      },
      "source": [
        "## Dependency parsing and graph representations\n",
        "\n",
        "Dependency parsing was developed to robustly capture linguistic dependencies from text. The complex tags associated with these parses are detailed [here]('http://universaldependencies.org/u/overview/syntax.html'). When parsing with the dependency parser, we will work directly from the untokenized text. Note that no *processing* takes place before parsing sentences--we do not remove so-called stop words or anything that plays a syntactic role in the sentence, although anaphora resolution and related normalization may be performed before or after parsing to enhance the value of information extraction. "
      ]
    },
    {
      "cell_type": "markdown",
      "metadata": {
        "id": "LvELxZDrTg4W"
      },
      "source": [
        "We will be using spaCy's built in dependancy parser to go about exploring the tree.\n",
        "Note that unlike previous examples, large corpuses or collections of sentences don't give us as much information, so we will be navigating smaller sentences.\n",
        "\n",
        "Let us start by exploring noun chunks. Noun chunks are “base noun phrases” – flat phrases that have a noun as their head. You can think of noun chunks as a noun plus the words describing the noun – for example, “the lavish green grass” or “the world’s largest tech fund”. To get the noun chunks in a document, simply iterate over the sentences noun chunks."
      ]
    },
    {
      "cell_type": "code",
      "execution_count": null,
      "metadata": {
        "id": "ZpXiOeFlTg4W"
      },
      "outputs": [],
      "source": [
        "from spacy import displacy"
      ]
    },
    {
      "cell_type": "code",
      "execution_count": null,
      "metadata": {
        "id": "HL8L6MtbTg4W"
      },
      "outputs": [],
      "source": [
        "doc = nlp(\"Autonomous cars shift insurance liability toward manufacturers\")"
      ]
    },
    {
      "cell_type": "code",
      "execution_count": null,
      "metadata": {
        "id": "bb4zpE4RTg4W"
      },
      "outputs": [],
      "source": [
        "displacy.render(doc, style='dep')"
      ]
    },
    {
      "cell_type": "code",
      "execution_count": null,
      "metadata": {
        "id": "LhnGW_5FTg4W"
      },
      "outputs": [],
      "source": [
        "for chunk in doc.noun_chunks:\n",
        "    print(chunk.text, chunk.root.text, chunk.root.dep_, chunk.root.head.text)"
      ]
    },
    {
      "cell_type": "markdown",
      "metadata": {
        "id": "azWDteJzTg4W"
      },
      "source": [
        "spaCy uses the terms head and child to describe the words connected by a single arc in the dependency tree. The term dep is used for the arc label, which describes the type of syntactic relation that connects the child to the head. As with other attributes, the value of .dep is a hash value. You can get the string value with .dep_.\n",
        "\n",
        "For your reference:\n",
        "\n",
        "Text: The original token text.\n",
        "\n",
        "Dep: The syntactic relation connecting child to head.\n",
        "\n",
        "Head text: The original text of the token head.\n",
        "\n",
        "Head POS: The part-of-speech tag of the token head.\n",
        "\n",
        "Children: The immediate syntactic dependents of the token."
      ]
    },
    {
      "cell_type": "code",
      "execution_count": null,
      "metadata": {
        "id": "aHxUMSKVTg4X"
      },
      "outputs": [],
      "source": [
        "for token in doc:\n",
        "    print(token.text, token.dep_, token.head.text, token.head.pos_,\n",
        "            [child for child in token.children])"
      ]
    },
    {
      "cell_type": "markdown",
      "metadata": {
        "id": "75rUKC1aTg4X"
      },
      "source": [
        "Because the syntactic relations form a tree, every word has exactly one head. You can therefore iterate over the arcs in the tree by iterating over the words in the sentence. This is usually the best way to match an arc of interest — from below:"
      ]
    },
    {
      "cell_type": "code",
      "execution_count": null,
      "metadata": {
        "id": "4XeFL-lfTg4X"
      },
      "outputs": [],
      "source": [
        "from spacy.symbols import nsubj, VERB"
      ]
    },
    {
      "cell_type": "code",
      "execution_count": null,
      "metadata": {
        "id": "FkulyafHTg4X"
      },
      "outputs": [],
      "source": [
        "verbs = set()\n",
        "for possible_subject in doc:\n",
        "    if possible_subject.dep == nsubj and possible_subject.head.pos == VERB:\n",
        "        verbs.add(possible_subject.head)\n",
        "print(verbs)"
      ]
    },
    {
      "cell_type": "markdown",
      "metadata": {
        "id": "-innd2nkTg4X"
      },
      "source": [
        "You can *also* navigate from above. It isn't as efficient though."
      ]
    },
    {
      "cell_type": "code",
      "execution_count": null,
      "metadata": {
        "id": "NsXxGsyuTg4X"
      },
      "outputs": [],
      "source": [
        "verbs = []\n",
        "for possible_verb in doc:\n",
        "    if possible_verb.pos == VERB:\n",
        "        for possible_subject in possible_verb.children:\n",
        "            if possible_subject.dep == nsubj:\n",
        "                verbs.append(possible_verb)\n",
        "                break"
      ]
    },
    {
      "cell_type": "code",
      "execution_count": null,
      "metadata": {
        "id": "5rB45NhCTg4X"
      },
      "outputs": [],
      "source": [
        "print(verbs)"
      ]
    },
    {
      "cell_type": "markdown",
      "metadata": {
        "id": "yDulC6t7Tg4X"
      },
      "source": [
        "### Iterating around the local tree\n",
        "A few more convenience attributes are provided for iterating around the local tree from the token. Token.lefts and Token.rights attributes provide sequences of syntactic children that occur before and after the token. Both sequences are in sentence order. There are also two integer-typed attributes, Token.n_lefts and Token.n_rights that give the number of left and right children."
      ]
    },
    {
      "cell_type": "code",
      "execution_count": null,
      "metadata": {
        "id": "2tbgWal4Tg4X"
      },
      "outputs": [],
      "source": [
        "doc = nlp(\"bright red apples on the tree\")\n",
        "print([token.text for token in doc[2].lefts])  # ['bright', 'red']\n",
        "print([token.text for token in doc[2].rights])  # ['on']\n",
        "print(doc[2].n_lefts)  # 2\n",
        "print(doc[2].n_rights)  # 1"
      ]
    },
    {
      "cell_type": "markdown",
      "metadata": {
        "id": "dQjtGMRnTg4X"
      },
      "source": [
        "You can get a whole phrase by its syntactic head using the Token.subtree attribute. This returns an ordered sequence of tokens. You can walk up the tree with the Token.ancestors attribute, and check dominance with Token.is_ancestor"
      ]
    },
    {
      "cell_type": "code",
      "execution_count": null,
      "metadata": {
        "id": "sQSB0cFETg4Y"
      },
      "outputs": [],
      "source": [
        "doc = nlp(\"Credit and mortgage account holders must submit their requests\")\n",
        "\n",
        "root = [token for token in doc if token.head == token][0]\n",
        "subject = list(root.lefts)[0]\n",
        "for descendant in subject.subtree:\n",
        "    assert subject is descendant or subject.is_ancestor(descendant)\n",
        "    print(descendant.text, descendant.dep_, descendant.n_lefts,\n",
        "            descendant.n_rights,\n",
        "            [ancestor.text for ancestor in descendant.ancestors])"
      ]
    },
    {
      "cell_type": "markdown",
      "metadata": {
        "id": "3x6gGyW3Tg4Y"
      },
      "source": [
        "Finally, the .left_edge and .right_edge attributes can be especially useful, because they give you the first and last token of the subtree. This is the easiest way to create a Span object for a syntactic phrase. Note that .right_edge gives a token within the subtree — so if you use it as the end-point of a range, don’t forget to +1!"
      ]
    },
    {
      "cell_type": "code",
      "execution_count": null,
      "metadata": {
        "id": "tIN1pEo8Tg4Y"
      },
      "outputs": [],
      "source": [
        "span = doc[doc[4].left_edge.i : doc[4].right_edge.i+1]\n",
        "with doc.retokenize() as retokenizer:\n",
        "    retokenizer.merge(span)\n",
        "for token in doc:\n",
        "    print(token.text, token.pos_, token.dep_, token.head.text)"
      ]
    },
    {
      "cell_type": "code",
      "execution_count": null,
      "metadata": {
        "id": "OkS2yk_STg4Y"
      },
      "outputs": [],
      "source": [
        "displacy.render(doc, style='dep')"
      ]
    },
    {
      "cell_type": "markdown",
      "metadata": {
        "id": "PdKciGAuTg4Y"
      },
      "source": [
        "### Information Extraction\n",
        "\n",
        "How can dependancy graphs be useful? We can extract information from the sentences based on relationships between words within parsed phrases. Let us see if we can do this to glean any information, from, say, our movies dataset. \n",
        "\n",
        "How violent are the movies? Who is killing who?"
      ]
    },
    {
      "cell_type": "code",
      "execution_count": null,
      "metadata": {
        "id": "m5xtyAfxTg4Y"
      },
      "outputs": [],
      "source": [
        "movie_violences = {}"
      ]
    },
    {
      "cell_type": "code",
      "execution_count": null,
      "metadata": {
        "id": "P71BHCAyTg4Y"
      },
      "outputs": [],
      "source": [
        "for index, row in movie_df.iterrows():\n",
        "    text = ' '.join(row['Tokenized Texts'])\n",
        "    movie_violences[row['Movie Name']] = ([], [])\n",
        "    doc = nlp(text)\n",
        "    for chunk in doc.noun_chunks:\n",
        "        subject = 0\n",
        "        object_ = 0\n",
        "        # if the verb or the root of the sentence is kill\n",
        "        if chunk.root.head.text == 'kill':\n",
        "            # we find the subjects and objects around the word, and if it does exist, add it to the tuple\n",
        "            if chunk.root.dep_ == 'nsubj':\n",
        "                subject = chunk.root.text\n",
        "            if chunk.root.dep_ == 'dobj':\n",
        "                object_ = chunk.root.text\n",
        "            if subject is not 0:\n",
        "                movie_violences[row['Movie Name']][0].append(subject)\n",
        "            if object_ is not 0:\n",
        "                movie_violences[row['Movie Name']][1].append(object_)"
      ]
    },
    {
      "cell_type": "code",
      "execution_count": null,
      "metadata": {
        "id": "6TXbUWioTg4Y"
      },
      "outputs": [],
      "source": [
        "movie_violences"
      ]
    },
    {
      "cell_type": "markdown",
      "metadata": {
        "id": "dVt6PZ1lTg4Y"
      },
      "source": [
        "That's pretty neat: we can see who tried to kill who, or at least talked about it. A lot of 'I' killing 'you', as we'd imagine. What else can we see?\n",
        "\n",
        "The movie, about time, which is about time travel, funnily enough has:\n",
        "`'About Time': (['I'], ['Hitler'])`"
      ]
    },
    {
      "cell_type": "markdown",
      "metadata": {
        "id": "9DPWbeFXTg4Y"
      },
      "source": [
        "## <font color=\"red\">*Exercise 6*</font>\n",
        "\n",
        "<font color=\"red\">In the cells immediately following, parse a (modest) subset of your corpus of interest. How deep are the phrase structure and dependency parse trees nested? How does parse depth relate to perceived sentence complexity? What are five things you can extract from these parses for subsequent analysis? (e.g., nouns collocated in a noun phrase; adjectives that modify a noun; etc.) Capture these sets of things for a focal set of words (e.g., \"Bush\", \"Obama\", \"Trump\"). What do they reveal about the roles that these entities are perceive to play in the social world inscribed by your texts?"
      ]
    },
    {
      "cell_type": "markdown",
      "metadata": {
        "id": "KdLV9y2iTg4Z"
      },
      "source": [
        "# Distributional distances\n",
        "\n",
        "If we want to compare different corpora, we need a distance or divergence that compares the two distributions.\n",
        "\n",
        "We will use the: \n",
        "\n",
        "+ Kullback-Leibler (KL) divergence\n",
        "+ $\\chi^2$ divergence\n",
        "+ Kolmogorov-Smirnov (KS) distance\n",
        "+ Wasserstein distance\n",
        "\n",
        "### Kullback-Leibler and $x^2$ divergences ###\n",
        "\n",
        "KL and $\\chi^2$ divergences are members of the broader <a \"href=https://en.wikipedia.org/wiki/F-divergence\" target=\"_blank\">$f$-divergence</a> family, a function of $D_f (P || Q)$ that calculates the difference between two probability distributions P and Q. The KL $f(t)$ is $ t \\text{ log } t $, while the $\\chi^2$ is $t^2-1$. KL comes from information and $\\chi^2$ from measure theory. As such, the KL divergence computes the relative entropy between two distributions--how they differ in bits, while the $\\chi^2$ whether the same statistical inferences can be drawn from them both.  \n",
        "\n",
        "Specifically, given two discrete probability distributions $P$ and $Q$, the Kullback-Leibler divergence from $Q$ to $P$ is defined as:\n",
        "\n",
        "$D_{\\mathrm{KL}}(P\\|Q) = \\sum_i P(i) \\, \\log\\frac{P(i)}{Q(i)}$.\n",
        "\n",
        "The [scipy.stats.entropy()](https://docs.scipy.org/doc/scipy/reference/generated/scipy.stats.entropy.html) function does the calculation for you, which takes in two arrays of probabilities and computes the KL divergence. Note that the KL divergence is in general not commutative, i.e. $D_{\\mathrm{KL}}(P\\|Q) \\neq D_{\\mathrm{KL}}(Q\\|P)$ .\n",
        "\n",
        "Also note that the KL divernce is the sum of elementwise divergences. Scipy provides [scipy.special.kl_div()](https://docs.scipy.org/doc/scipy/reference/generated/scipy.special.kl_div.html#scipy-special-kl-div) which calculates elementwise divergences for you.\n",
        "\n",
        "The $\\chi^2$ Divergence is defined as:\n",
        "\n",
        "$D_{\\mathrm{\\chi^2}}(P\\|Q) = \\sum_i \\left(\\frac{P(i)}{Q(i)}-1\\right)^2$. \n",
        "\n",
        "This is also noncommutative, and the code can be drawn directly from scipy.\n",
        "\n",
        "### Kolmogorov-Smirnov ###\n",
        "\n",
        "The two-sample Kolmogovorov-Smirnov test statistic calculates the distance between the cumulative distribution function of the two distributions to be compared, and, along with the $x^2$ divergence, is among the most common approaches two calculating a distance in statistics. It can be interpreted as a test of whether two distributions are drawn from the same underlying distribution. As with the others, the code is readily available in scipy.\n",
        "\n",
        "### Wasserstein Distance ###\n",
        "\n",
        "When this is computed on a Euclidian metric structure (e.g., numbers of words), this is also known as the earth mover’s distance, because it can be seen as the minimum amount of \"work\" required to transform $P$ into $Q$, where \"work\" is measured as the amount of distribution weight that must be moved, multiplied by the distance it has to be moved.\n",
        "\n",
        "### Computing ###\n",
        "\n",
        "To do this we will need to create the arrays, lets compare the Whitehouse releases with the Kennedy releases. First we have to download them and load them into a DataFrame."
      ]
    },
    {
      "cell_type": "code",
      "execution_count": null,
      "metadata": {
        "id": "E5aOB-0GTg4Z"
      },
      "outputs": [],
      "source": [
        "kenReleases = getGithubFiles('https://api.github.com/repos/lintool/GrimmerSenatePressReleases/contents/raw/Kennedy', maxFiles = 10)\n",
        "kenReleases[:5]"
      ]
    },
    {
      "cell_type": "markdown",
      "metadata": {
        "id": "G6jqm4lITg4Z"
      },
      "source": [
        "Then we can tokenize, stem and remove stop words, like we did for the Whitehouse press releases"
      ]
    },
    {
      "cell_type": "code",
      "execution_count": null,
      "metadata": {
        "id": "4m1hiIKlTg4Z"
      },
      "outputs": [],
      "source": [
        "kenReleases['tokenized_text'] = kenReleases['text'].apply(lambda x: word_tokenize(x))\n",
        "kenReleases['normalized_tokens'] = kenReleases['tokenized_text'].apply(lambda x: normalizeTokens(x))"
      ]
    },
    {
      "cell_type": "markdown",
      "metadata": {
        "id": "dAb4j1NQTg4Z"
      },
      "source": [
        "Now we need to compare the two collection of words, remove those not found in both, and assign the remaining ones indices."
      ]
    },
    {
      "cell_type": "code",
      "execution_count": null,
      "metadata": {
        "id": "kQvtHoV2Tg4Z"
      },
      "outputs": [],
      "source": [
        "whWords = set(whReleases['normalized_tokens'].sum())\n",
        "kenWords = set(kenReleases['normalized_tokens'].sum())\n",
        "\n",
        "#Change & to | if you want to keep all words\n",
        "overlapWords = whWords & kenWords\n",
        "\n",
        "overlapWordsDict = {word: index for index, word in enumerate(overlapWords)}\n",
        "overlapWordsDict['student']"
      ]
    },
    {
      "cell_type": "markdown",
      "metadata": {
        "id": "33oVihDkTg4Z"
      },
      "source": [
        "Now we can count the occurrences of each word in the corpora and create our arrays. Note that we don't have to use numpy arrays as we do here. We could just use a list, but the arrays are faster in numpy so we encourage you to get in the habit of using them."
      ]
    },
    {
      "cell_type": "code",
      "execution_count": null,
      "metadata": {
        "id": "219nMFBtTg4Z"
      },
      "outputs": [],
      "source": [
        "def makeProbsArray(dfColumn, overlapDict):\n",
        "    words = dfColumn.sum()\n",
        "    countList = [0] * len(overlapDict)\n",
        "    for word in words:\n",
        "        try:\n",
        "            countList[overlapDict[word]] += 1\n",
        "        except KeyError:\n",
        "            #The word is not common so we skip it\n",
        "            pass\n",
        "    countArray = np.array(countList)\n",
        "    return countArray / countArray.sum()\n",
        "\n",
        "whProbArray = makeProbsArray(whReleases['normalized_tokens'], overlapWordsDict)\n",
        "kenProbArray = makeProbsArray(kenReleases['normalized_tokens'], overlapWordsDict)\n",
        "kenProbArray.sum()\n",
        "#There is a little bit of a floating point math error\n",
        "#but it's too small to see with print and too small matter here"
      ]
    },
    {
      "cell_type": "markdown",
      "metadata": {
        "id": "udHHkyg2Tg4Z"
      },
      "source": [
        "We can now compute the KL divergence. Pay attention to the asymmetry. Use [the Jensen–Shannon divergence](https://en.wikipedia.org/wiki/Jensen%E2%80%93Shannon_divergence), which is the average KL divergence between each distribution and the average of both distributions (i.e., the midpoint), if you want symmetry."
      ]
    },
    {
      "cell_type": "code",
      "execution_count": null,
      "metadata": {
        "id": "du2vFskYTg4a"
      },
      "outputs": [],
      "source": [
        "wh_kenDivergence = scipy.stats.entropy(whProbArray, kenProbArray)\n",
        "print (wh_kenDivergence)\n",
        "ken_whDivergence = scipy.stats.entropy(kenProbArray, whProbArray)\n",
        "print (ken_whDivergence)"
      ]
    },
    {
      "cell_type": "markdown",
      "metadata": {
        "id": "t2Rjs7Z1Tg4a"
      },
      "source": [
        "Then, we can do the elementwise calculation and see which words best distinguish the two corpora."
      ]
    },
    {
      "cell_type": "code",
      "execution_count": null,
      "metadata": {
        "id": "J1teB_vMTg4a"
      },
      "outputs": [],
      "source": [
        "wh_kenDivergence_ew = scipy.special.kl_div(whProbArray, kenProbArray)\n",
        "kl_df = pandas.DataFrame(list(overlapWordsDict.keys()), columns = ['word'], index = list(overlapWordsDict.values()))\n",
        "kl_df = kl_df.sort_index()\n",
        "kl_df['elementwise divergence'] = wh_kenDivergence_ew\n",
        "kl_df[:10]"
      ]
    },
    {
      "cell_type": "code",
      "execution_count": null,
      "metadata": {
        "id": "62pFVAhQTg4a"
      },
      "outputs": [],
      "source": [
        "kl_df.sort_values(by='elementwise divergence', ascending=False)[:10]"
      ]
    },
    {
      "cell_type": "markdown",
      "metadata": {
        "id": "jdjfG4HbTg4a"
      },
      "source": [
        "Now we will apply what we learned today \n",
        "First, let's transform every text into normalized tokens. Note that in this first step, no stopword is removed.\n",
        "We'll use only the first 11 movies: you are welcome to try more."
      ]
    },
    {
      "cell_type": "code",
      "execution_count": null,
      "metadata": {
        "id": "W8KFDUsYTg4a"
      },
      "outputs": [],
      "source": [
        "corpora = []\n",
        "for index, row in movie_df.iterrows():\n",
        "    if len(corpora) > 10:\n",
        "        break\n",
        "    corpora.append(row['Tokenized Texts'])"
      ]
    },
    {
      "cell_type": "markdown",
      "metadata": {
        "id": "bfU_3cWtTg4a"
      },
      "source": [
        "Then, let's separate the normalized tokens into stopwords and non-stopwords."
      ]
    },
    {
      "cell_type": "code",
      "execution_count": null,
      "metadata": {
        "id": "OkLcEPZRTg4a"
      },
      "outputs": [],
      "source": [
        "corpora_s = []\n",
        "corpora_nons = []\n",
        "for corpus in corpora:\n",
        "    s = []\n",
        "    nons = []\n",
        "    doc = nlp(' '.join(corpus))\n",
        "    for word in doc:\n",
        "        if word.is_stop:\n",
        "            s.append(word.text)\n",
        "        else:\n",
        "            nons.append(word.text)\n",
        "    corpora_s.append(s)\n",
        "    corpora_nons.append(nons)"
      ]
    },
    {
      "cell_type": "markdown",
      "metadata": {
        "id": "Srg1abkaTg4a"
      },
      "source": [
        "Define some covenient funtions for calculating divergence and distances."
      ]
    },
    {
      "cell_type": "code",
      "execution_count": null,
      "metadata": {
        "id": "rrs7l3XwTg4b"
      },
      "outputs": [],
      "source": [
        "def kl_divergence(X, Y):\n",
        "    P = X.copy()\n",
        "    Q = Y.copy()\n",
        "    P.columns = ['P']\n",
        "    Q.columns = ['Q']\n",
        "    df = Q.join(P).fillna(0)\n",
        "    p = df.iloc[:,1]\n",
        "    q = df.iloc[:,0]\n",
        "    D_kl = scipy.stats.entropy(p, q)\n",
        "    return D_kl\n",
        "\n",
        "def chi2_divergence(X,Y):\n",
        "    P = X.copy()\n",
        "    Q = Y.copy()\n",
        "    P.columns = ['P']\n",
        "    Q.columns = ['Q']\n",
        "    df = Q.join(P).fillna(0)\n",
        "    p = df.iloc[:,1]\n",
        "    q = df.iloc[:,0]\n",
        "    return scipy.stats.chisquare(p, q).statistic\n",
        "\n",
        "def Divergence(corpus1, corpus2, difference=\"KL\"):\n",
        "    \"\"\"Difference parameter can equal KL, Chi2, or Wass\"\"\"\n",
        "    freqP = nltk.FreqDist(corpus1)\n",
        "    P = pandas.DataFrame(list(freqP.values()), columns = ['frequency'], index = list(freqP.keys()))\n",
        "    freqQ = nltk.FreqDist(corpus2)\n",
        "    Q = pandas.DataFrame(list(freqQ.values()), columns = ['frequency'], index = list(freqQ.keys()))\n",
        "    if difference == \"KL\":\n",
        "        return kl_divergence(P, Q)\n",
        "    elif difference == \"Chi2\":\n",
        "        return chi2_divergence(P, Q)\n",
        "    elif difference == \"KS\":\n",
        "        try:\n",
        "            return scipy.stats.ks_2samp(P['frequency'], Q['frequency']).statistic\n",
        "        except:\n",
        "            return scipy.stats.ks_2samp(P['frequency'], Q['frequency'])\n",
        "    elif difference == \"Wasserstein\":\n",
        "        try:\n",
        "            return scipy.stats.wasserstein_distance(P['frequency'], Q['frequency'], u_weights=None, v_weights=None).statistic\n",
        "        except:\n",
        "            return scipy.stats.wasserstein_distance(P['frequency'], Q['frequency'], u_weights=None, v_weights=None)"
      ]
    },
    {
      "cell_type": "markdown",
      "metadata": {
        "id": "9C0YIQk5Tg4b"
      },
      "source": [
        "Now we will calculate the KL divergence for each pair of corpora, turn the results into a matrix, and visualize the matrix as a heatmap. Recall that $D_{\\mathrm{KL}}(P\\|Q)$ measures the amount of information loss when $Q$ is used to approximate $P$. Here, the rows are the $P$s used for calculating KL divergences, and the columns are the $Q$s. So, each cell measures the amount of information loss when the word distribution of the column text is used to approximate the word distribution of the row text. Because the KL divergence is directional, such that the divergence of $P$ from $Q$ is different from the same of $Q$ from $P$, the matrix is assymetric and contains unique information above and below the diagonal. The same is true for the $\\chi^2$ divergence."
      ]
    },
    {
      "cell_type": "code",
      "execution_count": null,
      "metadata": {
        "id": "XhoT1OOCTg4b"
      },
      "outputs": [],
      "source": [
        "len(corpora)"
      ]
    },
    {
      "cell_type": "code",
      "execution_count": null,
      "metadata": {
        "id": "QGU3d4PTTg4b"
      },
      "outputs": [],
      "source": [
        "fileids = list(movie_df['Movie Name'])[0:11]"
      ]
    },
    {
      "cell_type": "code",
      "execution_count": null,
      "metadata": {
        "id": "FuZrXjM9Tg4b"
      },
      "outputs": [],
      "source": [
        "L = []\n",
        "for p in corpora:\n",
        "    l = []\n",
        "    for q in corpora:\n",
        "        l.append(Divergence(p,q, difference = 'KL'))\n",
        "    L.append(l)\n",
        "M = np.array(L)\n",
        "fig = plt.figure()\n",
        "div = pandas.DataFrame(M, columns = fileids, index = fileids)\n",
        "ax = sns.heatmap(div)\n",
        "plt.show()"
      ]
    },
    {
      "cell_type": "markdown",
      "metadata": {
        "id": "PPcFOlUKTg4b"
      },
      "source": [
        "\n",
        "To reveal more patterns, let's do a multidimensional scaling of the matrix."
      ]
    },
    {
      "cell_type": "code",
      "execution_count": null,
      "metadata": {
        "id": "OCDC20S9Tg4b"
      },
      "outputs": [],
      "source": [
        "mds = sklearn.manifold.MDS()\n",
        "pos = mds.fit(M).embedding_\n",
        "x = pos[:,0]\n",
        "y = pos[:,1]\n",
        "fig, ax = plt.subplots(figsize = (6,6))\n",
        "plt.plot(x, y, ' ')\n",
        "for i, txt in enumerate(fileids):\n",
        "    ax.annotate(txt, (x[i],y[i]))"
      ]
    },
    {
      "cell_type": "markdown",
      "metadata": {
        "id": "cDfLB0b7Tg4c"
      },
      "source": [
        "A co-respondent's course and The Chain Gang are away from the others - any guesses why?\n",
        "\n",
        "We may just want to focus on the distrbution of stopwords or non-stopwords. Let's do the analysis again first for stopwords and then for non-stopwords."
      ]
    },
    {
      "cell_type": "code",
      "execution_count": null,
      "metadata": {
        "id": "9-wV-g8gTg4c"
      },
      "outputs": [],
      "source": [
        "L = []\n",
        "for p in corpora_s:\n",
        "    l = []\n",
        "    for q in corpora_s:\n",
        "        l.append(Divergence(p,q, difference='KL'))\n",
        "    L.append(l)\n",
        "M = np.array(L)\n",
        "fig = plt.figure()\n",
        "div = pandas.DataFrame(M, columns = fileids, index = fileids)\n",
        "ax = sns.heatmap(div)\n",
        "plt.show()"
      ]
    },
    {
      "cell_type": "code",
      "execution_count": null,
      "metadata": {
        "id": "QagLJhXQTg4c"
      },
      "outputs": [],
      "source": [
        "L = []\n",
        "for p in corpora_nons:\n",
        "    l = []\n",
        "    for q in corpora_nons:\n",
        "        l.append(Divergence(p,q, difference='KL'))\n",
        "    L.append(l)\n",
        "M = np.array(L)\n",
        "fig = plt.figure()\n",
        "div = pandas.DataFrame(M, columns = fileids, index = fileids)\n",
        "ax = sns.heatmap(div)\n",
        "plt.show()"
      ]
    },
    {
      "cell_type": "markdown",
      "metadata": {
        "id": "sObBGJA8Tg4c"
      },
      "source": [
        "Now we compute the same for the assymmetric $\\chi^2$ Divergence."
      ]
    },
    {
      "cell_type": "code",
      "execution_count": null,
      "metadata": {
        "id": "1vly5zjQTg4c"
      },
      "outputs": [],
      "source": [
        "L = []\n",
        "for p in corpora_nons:\n",
        "    l = []\n",
        "    for q in corpora_nons:\n",
        "        l.append(Divergence(p,q, difference='Chi2'))\n",
        "    L.append(l)\n",
        "M = np.array(L)\n",
        "fig = plt.figure()\n",
        "div = pandas.DataFrame(M, columns = fileids, index = fileids)\n",
        "ax = sns.heatmap(div)\n",
        "plt.show()"
      ]
    },
    {
      "cell_type": "markdown",
      "metadata": {
        "scrolled": true,
        "id": "8wVmQ-faTg4c"
      },
      "source": [
        "For the KS distance:"
      ]
    },
    {
      "cell_type": "code",
      "execution_count": null,
      "metadata": {
        "id": "0WXDJ57ZTg4c"
      },
      "outputs": [],
      "source": [
        "L = []\n",
        "for p in corpora_nons:\n",
        "    l = []\n",
        "    for q in corpora_nons:\n",
        "        l.append(Divergence(p,q, difference='KS'))\n",
        "    L.append(l)\n",
        "M = np.array(L)\n",
        "fig = plt.figure()\n",
        "div = pandas.DataFrame(M, columns = fileids, index = fileids)\n",
        "ax = sns.heatmap(div)\n",
        "plt.show()"
      ]
    },
    {
      "cell_type": "markdown",
      "metadata": {
        "id": "Mh7UF87xTg4c"
      },
      "source": [
        "And finally for the Wasserstein or \"earth mover's\" Distance."
      ]
    },
    {
      "cell_type": "code",
      "execution_count": null,
      "metadata": {
        "id": "rp6v3QlATg4d"
      },
      "outputs": [],
      "source": [
        "L = []\n",
        "for p in corpora_nons:\n",
        "    l = []\n",
        "    for q in corpora_nons:\n",
        "        l.append(Divergence(p,q, difference='Wasserstein'))\n",
        "    L.append(l)\n",
        "M = np.array(L)\n",
        "fig = plt.figure()\n",
        "div = pandas.DataFrame(M, columns = fileids, index = fileids)\n",
        "ax = sns.heatmap(div)\n",
        "plt.show()"
      ]
    },
    {
      "cell_type": "markdown",
      "metadata": {
        "id": "zJ0S2wwPTg4d"
      },
      "source": [
        "You can see that decade X is highly divergent and this makes reading the plot somewhat difficult. Let's fix this by taking the log of each cell, which will reduce the distance of decode X from other texts as an outlier."
      ]
    },
    {
      "cell_type": "code",
      "execution_count": null,
      "metadata": {
        "id": "OW2B6QIZTg4d"
      },
      "outputs": [],
      "source": [
        "ax = sns.heatmap(div.apply(np.log).replace([np.inf, -np.inf], np.nan))\n",
        "plt.show()"
      ]
    },
    {
      "cell_type": "markdown",
      "metadata": {
        "id": "75q1qZz5Tg4d"
      },
      "source": [
        "We only tried 11 movies, and from the same time period, so our signals might not be too interesting. What about different time periods?\n",
        "\n",
        "An interesting experiment to maybe get some clearer signals: documents by decade in the Davies Corpus Of Historial American English (COHA) and see if we can detect patterns between them. \n",
        "\n",
        "If we want to rerun this on a new data set of our own composition, we can be a bit more efficient with our coding. Let's use the Shakespeare texts from last week as example. Here we again make use of our convenient `lucem_illud` functions, namely `loadTextDirectory`, which is found in [loaders.py](https://github.com/UChicago-Computational-Content-Analysis/lucem_illud/blob/main/lucem_illud/loaders.py). "
      ]
    },
    {
      "cell_type": "code",
      "execution_count": null,
      "metadata": {
        "id": "f89X1WXJTg4d"
      },
      "outputs": [],
      "source": [
        "def loadTextDirectory(targetDir, encoding = 'utf-8'):\n",
        "    text = []\n",
        "    fileName = []\n",
        "\n",
        "    for file in (file for file in os.scandir(targetDir) if file.is_file() and not file.name.startswith('.')):\n",
        "        with open(file.path, encoding = encoding) as f:\n",
        "            text.append(f.read())\n",
        "        fileName.append(file.name)\n",
        "    return pandas.DataFrame({'text' : text}, index = fileName)"
      ]
    },
    {
      "cell_type": "code",
      "execution_count": null,
      "metadata": {
        "id": "Ef-UrSmJTg4d"
      },
      "outputs": [],
      "source": [
        "shakespeare_df = lucem_illud.loadTextDirectory('../data/Shakespeare')"
      ]
    },
    {
      "cell_type": "markdown",
      "metadata": {
        "id": "WfcqHPASTg4d"
      },
      "source": [
        "Now we stem and remove stopwords"
      ]
    },
    {
      "cell_type": "code",
      "execution_count": null,
      "metadata": {
        "id": "Qd2cWazETg4d"
      },
      "outputs": [],
      "source": [
        "shakespeare_df['tokenized_text'] = shakespeare_df['text'].apply(lambda x: word_tokenize(x))\n",
        "shakespeare_df['normalized_tokens'] = shakespeare_df['tokenized_text'].apply(lambda x: normalizeTokens(x))"
      ]
    },
    {
      "cell_type": "markdown",
      "metadata": {
        "id": "Z3L1YctETg4e"
      },
      "source": [
        "Create the corpus file and generate the heatmap:"
      ]
    },
    {
      "cell_type": "code",
      "execution_count": null,
      "metadata": {
        "id": "ZkivmeLQTg4e"
      },
      "outputs": [],
      "source": [
        "measure = 'KS' #\"KL\", \"Chi2\", \"KS\", \"Wasserstein\"\n",
        "num_of_texts = 10 #The bigger this number the slower it will run, you can also try selecting your own plays\n",
        "fileids_sp = list(shakespeare_df[:num_of_texts].index)\n",
        "corpora_sp = list(shakespeare_df[:num_of_texts]['normalized_tokens'])\n",
        "L = []\n",
        "for p in corpora_sp:\n",
        "    l = []\n",
        "    for q in corpora_sp:\n",
        "        l.append(Divergence(p,q, difference=measure))\n",
        "    L.append(l)\n",
        "M = np.array(L)\n",
        "fig = plt.figure()\n",
        "div = pandas.DataFrame(M, columns = fileids_sp, index = fileids_sp)\n",
        "ax = sns.heatmap(div)\n",
        "plt.show()"
      ]
    },
    {
      "cell_type": "markdown",
      "metadata": {
        "id": "Fwp1ucB1Tg4e"
      },
      "source": [
        "What are \"The Passionate Pilgrim\" and \"The Phoenix and the Turtle\"? Little known poems by Shakespeare that are unsurprisingly hard to classify, as they are so different from everything else he wrote."
      ]
    },
    {
      "cell_type": "markdown",
      "metadata": {
        "id": "xFYfMQakTg4e"
      },
      "source": [
        "## <font color=\"red\">*Exercise 7*</font>\n",
        "\n",
        "<font color=\"red\">Construct cells immediately below this that calculate the KL and $\\chi^2$ divergences, and the KS and Wasserstein distances between four separate corpora, plot these with heatmaps, and then array them in two dimensions with multidimensional scaling as above. What does this reveal about relations between the corpora? Which analysis (and divergence or distribution) distinguishes the authors or documents better?\n",
        "\n",
        "**Stretch**: Calculate the [Jensen-Shannon Divergence](https://en.wikipedia.org/wiki/Jensen–Shannon_divergence) between your four corpora. What is the relationship between the KL and JS divergences?</font> "
      ]
    }
  ],
  "metadata": {
    "anaconda-cloud": {},
    "kernelspec": {
      "display_name": "Python 3 (ipykernel)",
      "language": "python",
      "name": "python3"
    },
    "language_info": {
      "codemirror_mode": {
        "name": "ipython",
        "version": 3
      },
      "file_extension": ".py",
      "mimetype": "text/x-python",
      "name": "python",
      "nbconvert_exporter": "python",
      "pygments_lexer": "ipython3",
      "version": "3.8.8"
    },
    "colab": {
      "name": "kpekkip HW2 - Computational-Linguistics.ipynb",
      "provenance": [],
      "collapsed_sections": [
        "CiW6tZapTg4D",
        "UAzzkOKJTg4F",
        "JtaZMNqkTg4J",
        "fuRyO3fSTg4J",
        "Onay7xraTg4N",
        "pCUSaElVTg4N",
        "BnvtBsH9Tg4P",
        "A4bdJOweTg4R",
        "aaxCMtDQTg4R",
        "TXg0J8G4Tg4T",
        "JNOB7HWmTg4T",
        "qOykQjzaTg4W",
        "94Ki_Z0FTg4W",
        "yDulC6t7Tg4X",
        "PdKciGAuTg4Y",
        "9DPWbeFXTg4Y",
        "KdLV9y2iTg4Z",
        "xFYfMQakTg4e"
      ]
    }
  },
  "nbformat": 4,
  "nbformat_minor": 0
}