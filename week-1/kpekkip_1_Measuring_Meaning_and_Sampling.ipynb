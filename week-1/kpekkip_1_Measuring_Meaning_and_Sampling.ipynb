{
  "cells": [
    {
      "cell_type": "markdown",
      "metadata": {
        "id": "JU1ThAa04KMB"
      },
      "source": [
        "# Week 1 - Measuring Meaning & Sampling\n",
        "This week, we begin by \"begging, borrowing and stealing\" text from several\n",
        "contexts of human communication (e.g., PDFs, HTML, Word) and preparing it for\n",
        "machines to \"read\" and analyze. This notebook outlines scraping text from the\n",
        "web, PDF and Word documents. Then we detail \"spidering\" or walking\n",
        "through hyperlinks to build samples of online content, and using APIs,\n",
        "Application Programming Interfaces, provided by webservices to access their\n",
        "content. Along the way, we will use regular expressions, outlined in the\n",
        "reading, to remove unwanted formatting and ornamentation. Finally, we discuss\n",
        "various text encodings, filtering and data structures in which text can be\n",
        "placed for analysis. Next, we ask you to begin building a corpus for preliminary analysis and articulate what your sample represents in context of your final project.\n",
        "\n",
        "If you are new to Google Colab, please take a look at [this brief introduction to the platform](https://colab.research.google.com/drive/1fV_2ZrdF-Vve8L7ZZAjanPS6tCh_HGnN). For each assignment on Colab, you should first click _File_ -> _Save a copy in Drive_ to create your own .ipynb file to submit. You will also need to run a cell like this if you are storing your data on Google Drive:"
      ]
    },
    {
      "cell_type": "code",
      "source": [
        "from google.colab import drive\n",
        "drive._mount(\"/content/drive\")"
      ],
      "metadata": {
        "id": "cG07PPAr5s2y",
        "colab": {
          "base_uri": "https://localhost:8080/"
        },
        "outputId": "df125ca3-d9cb-4815-a272-c73ac5fffcfc"
      },
      "execution_count": null,
      "outputs": [
        {
          "output_type": "stream",
          "name": "stdout",
          "text": [
            "Mounted at /content/drive\n"
          ]
        }
      ]
    },
    {
      "cell_type": "markdown",
      "metadata": {
        "id": "wsiychv-Omaw"
      },
      "source": [
        "We made a python package just for this course: lucem_illud. If you haven't installed this package, you should run the following code first. You don't need to install the package later; all you need to do is just to import the package with: import lucem_illud. For your final projects, you may find it useful to [read the lucem_illud source code](https://github.com/UChicago-Computational-Content-Analysis/lucem_illud/tree/main/lucem_illud) and modify your code for your own interests."
      ]
    },
    {
      "cell_type": "code",
      "execution_count": null,
      "metadata": {
        "id": "E5HYvEJeOmax",
        "colab": {
          "base_uri": "https://localhost:8080/"
        },
        "outputId": "5d50240c-cd10-46d8-984c-daf35c724d09"
      },
      "outputs": [
        {
          "output_type": "stream",
          "name": "stdout",
          "text": [
            "Collecting git+git://github.com/UChicago-Computational-Content-Analysis/lucem_illud.git\n",
            "  Cloning git://github.com/UChicago-Computational-Content-Analysis/lucem_illud.git to /tmp/pip-req-build-k976ekpf\n",
            "  Running command git clone -q git://github.com/UChicago-Computational-Content-Analysis/lucem_illud.git /tmp/pip-req-build-k976ekpf\n",
            "Requirement already satisfied: numpy in /usr/local/lib/python3.7/dist-packages (from lucem-illud==8.0.1) (1.19.5)\n",
            "Requirement already satisfied: requests in /usr/local/lib/python3.7/dist-packages (from lucem-illud==8.0.1) (2.23.0)\n",
            "Requirement already satisfied: pandas in /usr/local/lib/python3.7/dist-packages (from lucem-illud==8.0.1) (1.1.5)\n",
            "Collecting python-docx\n",
            "  Downloading python-docx-0.8.11.tar.gz (5.6 MB)\n",
            "\u001b[K     |████████████████████████████████| 5.6 MB 5.2 MB/s \n",
            "\u001b[?25hRequirement already satisfied: pillow in /usr/local/lib/python3.7/dist-packages (from lucem-illud==8.0.1) (7.1.2)\n",
            "Collecting pdfminer2\n",
            "  Downloading pdfminer2-20151206-py2.py3-none-any.whl (117 kB)\n",
            "\u001b[K     |████████████████████████████████| 117 kB 53.2 MB/s \n",
            "\u001b[?25hCollecting GitPython\n",
            "  Downloading GitPython-3.1.26-py3-none-any.whl (180 kB)\n",
            "\u001b[K     |████████████████████████████████| 180 kB 59.1 MB/s \n",
            "\u001b[?25hRequirement already satisfied: wordcloud in /usr/local/lib/python3.7/dist-packages (from lucem-illud==8.0.1) (1.5.0)\n",
            "Requirement already satisfied: scipy in /usr/local/lib/python3.7/dist-packages (from lucem-illud==8.0.1) (1.4.1)\n",
            "Requirement already satisfied: seaborn in /usr/local/lib/python3.7/dist-packages (from lucem-illud==8.0.1) (0.11.2)\n",
            "Requirement already satisfied: scikit-learn in /usr/local/lib/python3.7/dist-packages (from lucem-illud==8.0.1) (1.0.2)\n",
            "Requirement already satisfied: nltk in /usr/local/lib/python3.7/dist-packages (from lucem-illud==8.0.1) (3.2.5)\n",
            "Requirement already satisfied: gensim in /usr/local/lib/python3.7/dist-packages (from lucem-illud==8.0.1) (3.6.0)\n",
            "Requirement already satisfied: matplotlib in /usr/local/lib/python3.7/dist-packages (from lucem-illud==8.0.1) (3.2.2)\n",
            "Collecting pyanno3\n",
            "  Downloading pyanno3-2.0.2.tar.gz (76 kB)\n",
            "\u001b[K     |████████████████████████████████| 76 kB 4.6 MB/s \n",
            "\u001b[?25hRequirement already satisfied: beautifulsoup4 in /usr/local/lib/python3.7/dist-packages (from lucem-illud==8.0.1) (4.6.3)\n",
            "Requirement already satisfied: graphviz in /usr/local/lib/python3.7/dist-packages (from lucem-illud==8.0.1) (0.10.1)\n",
            "Collecting boto3\n",
            "  Downloading boto3-1.20.39-py3-none-any.whl (131 kB)\n",
            "\u001b[K     |████████████████████████████████| 131 kB 57.5 MB/s \n",
            "\u001b[?25hRequirement already satisfied: networkx in /usr/local/lib/python3.7/dist-packages (from lucem-illud==8.0.1) (2.6.3)\n",
            "Collecting pydub\n",
            "  Downloading pydub-0.25.1-py2.py3-none-any.whl (32 kB)\n",
            "Collecting speechrecognition\n",
            "  Downloading SpeechRecognition-3.8.1-py2.py3-none-any.whl (32.8 MB)\n",
            "\u001b[K     |████████████████████████████████| 32.8 MB 1.6 MB/s \n",
            "\u001b[?25hCollecting pysoundfile\n",
            "  Downloading PySoundFile-0.9.0.post1-py2.py3-none-any.whl (24 kB)\n",
            "Requirement already satisfied: scikit-image in /usr/local/lib/python3.7/dist-packages (from lucem-illud==8.0.1) (0.18.3)\n",
            "Requirement already satisfied: IPython in /usr/local/lib/python3.7/dist-packages (from lucem-illud==8.0.1) (5.5.0)\n",
            "Requirement already satisfied: spacy in /usr/local/lib/python3.7/dist-packages (from lucem-illud==8.0.1) (2.2.4)\n",
            "Collecting botocore<1.24.0,>=1.23.39\n",
            "  Downloading botocore-1.23.39-py3-none-any.whl (8.5 MB)\n",
            "\u001b[K     |████████████████████████████████| 8.5 MB 58.7 MB/s \n",
            "\u001b[?25hCollecting s3transfer<0.6.0,>=0.5.0\n",
            "  Downloading s3transfer-0.5.0-py3-none-any.whl (79 kB)\n",
            "\u001b[K     |████████████████████████████████| 79 kB 7.3 MB/s \n",
            "\u001b[?25hCollecting jmespath<1.0.0,>=0.7.1\n",
            "  Downloading jmespath-0.10.0-py2.py3-none-any.whl (24 kB)\n",
            "Collecting urllib3<1.27,>=1.25.4\n",
            "  Downloading urllib3-1.26.8-py2.py3-none-any.whl (138 kB)\n",
            "\u001b[K     |████████████████████████████████| 138 kB 71.8 MB/s \n",
            "\u001b[?25hRequirement already satisfied: python-dateutil<3.0.0,>=2.1 in /usr/local/lib/python3.7/dist-packages (from botocore<1.24.0,>=1.23.39->boto3->lucem-illud==8.0.1) (2.8.2)\n",
            "Requirement already satisfied: six>=1.5 in /usr/local/lib/python3.7/dist-packages (from python-dateutil<3.0.0,>=2.1->botocore<1.24.0,>=1.23.39->boto3->lucem-illud==8.0.1) (1.15.0)\n",
            "Requirement already satisfied: smart-open>=1.2.1 in /usr/local/lib/python3.7/dist-packages (from gensim->lucem-illud==8.0.1) (5.2.1)\n",
            "Requirement already satisfied: typing-extensions>=3.7.4.3 in /usr/local/lib/python3.7/dist-packages (from GitPython->lucem-illud==8.0.1) (3.10.0.2)\n",
            "Collecting gitdb<5,>=4.0.1\n",
            "  Downloading gitdb-4.0.9-py3-none-any.whl (63 kB)\n",
            "\u001b[K     |████████████████████████████████| 63 kB 1.7 MB/s \n",
            "\u001b[?25hCollecting smmap<6,>=3.0.1\n",
            "  Downloading smmap-5.0.0-py3-none-any.whl (24 kB)\n",
            "Requirement already satisfied: pygments in /usr/local/lib/python3.7/dist-packages (from IPython->lucem-illud==8.0.1) (2.6.1)\n",
            "Requirement already satisfied: pickleshare in /usr/local/lib/python3.7/dist-packages (from IPython->lucem-illud==8.0.1) (0.7.5)\n",
            "Requirement already satisfied: setuptools>=18.5 in /usr/local/lib/python3.7/dist-packages (from IPython->lucem-illud==8.0.1) (57.4.0)\n",
            "Requirement already satisfied: simplegeneric>0.8 in /usr/local/lib/python3.7/dist-packages (from IPython->lucem-illud==8.0.1) (0.8.1)\n",
            "Requirement already satisfied: traitlets>=4.2 in /usr/local/lib/python3.7/dist-packages (from IPython->lucem-illud==8.0.1) (5.1.1)\n",
            "Requirement already satisfied: decorator in /usr/local/lib/python3.7/dist-packages (from IPython->lucem-illud==8.0.1) (4.4.2)\n",
            "Requirement already satisfied: prompt-toolkit<2.0.0,>=1.0.4 in /usr/local/lib/python3.7/dist-packages (from IPython->lucem-illud==8.0.1) (1.0.18)\n",
            "Requirement already satisfied: pexpect in /usr/local/lib/python3.7/dist-packages (from IPython->lucem-illud==8.0.1) (4.8.0)\n",
            "Requirement already satisfied: wcwidth in /usr/local/lib/python3.7/dist-packages (from prompt-toolkit<2.0.0,>=1.0.4->IPython->lucem-illud==8.0.1) (0.2.5)\n",
            "Requirement already satisfied: cycler>=0.10 in /usr/local/lib/python3.7/dist-packages (from matplotlib->lucem-illud==8.0.1) (0.11.0)\n",
            "Requirement already satisfied: pyparsing!=2.0.4,!=2.1.2,!=2.1.6,>=2.0.1 in /usr/local/lib/python3.7/dist-packages (from matplotlib->lucem-illud==8.0.1) (3.0.6)\n",
            "Requirement already satisfied: kiwisolver>=1.0.1 in /usr/local/lib/python3.7/dist-packages (from matplotlib->lucem-illud==8.0.1) (1.3.2)\n",
            "Requirement already satisfied: pytz>=2017.2 in /usr/local/lib/python3.7/dist-packages (from pandas->lucem-illud==8.0.1) (2018.9)\n",
            "Requirement already satisfied: ptyprocess>=0.5 in /usr/local/lib/python3.7/dist-packages (from pexpect->IPython->lucem-illud==8.0.1) (0.7.0)\n",
            "Collecting traits\n",
            "  Downloading traits-6.3.2-cp37-cp37m-manylinux_2_5_x86_64.manylinux1_x86_64.manylinux_2_12_x86_64.manylinux2010_x86_64.whl (5.1 MB)\n",
            "\u001b[K     |████████████████████████████████| 5.1 MB 49.2 MB/s \n",
            "\u001b[?25hRequirement already satisfied: cffi>=0.6 in /usr/local/lib/python3.7/dist-packages (from pysoundfile->lucem-illud==8.0.1) (1.15.0)\n",
            "Requirement already satisfied: pycparser in /usr/local/lib/python3.7/dist-packages (from cffi>=0.6->pysoundfile->lucem-illud==8.0.1) (2.21)\n",
            "Requirement already satisfied: lxml>=2.3.2 in /usr/local/lib/python3.7/dist-packages (from python-docx->lucem-illud==8.0.1) (4.2.6)\n",
            "Requirement already satisfied: idna<3,>=2.5 in /usr/local/lib/python3.7/dist-packages (from requests->lucem-illud==8.0.1) (2.10)\n",
            "Requirement already satisfied: chardet<4,>=3.0.2 in /usr/local/lib/python3.7/dist-packages (from requests->lucem-illud==8.0.1) (3.0.4)\n",
            "Requirement already satisfied: certifi>=2017.4.17 in /usr/local/lib/python3.7/dist-packages (from requests->lucem-illud==8.0.1) (2021.10.8)\n",
            "Collecting urllib3<1.27,>=1.25.4\n",
            "  Downloading urllib3-1.25.11-py2.py3-none-any.whl (127 kB)\n",
            "\u001b[K     |████████████████████████████████| 127 kB 62.3 MB/s \n",
            "\u001b[?25hRequirement already satisfied: imageio>=2.3.0 in /usr/local/lib/python3.7/dist-packages (from scikit-image->lucem-illud==8.0.1) (2.4.1)\n",
            "Requirement already satisfied: PyWavelets>=1.1.1 in /usr/local/lib/python3.7/dist-packages (from scikit-image->lucem-illud==8.0.1) (1.2.0)\n",
            "Requirement already satisfied: tifffile>=2019.7.26 in /usr/local/lib/python3.7/dist-packages (from scikit-image->lucem-illud==8.0.1) (2021.11.2)\n",
            "Requirement already satisfied: joblib>=0.11 in /usr/local/lib/python3.7/dist-packages (from scikit-learn->lucem-illud==8.0.1) (1.1.0)\n",
            "Requirement already satisfied: threadpoolctl>=2.0.0 in /usr/local/lib/python3.7/dist-packages (from scikit-learn->lucem-illud==8.0.1) (3.0.0)\n",
            "Requirement already satisfied: blis<0.5.0,>=0.4.0 in /usr/local/lib/python3.7/dist-packages (from spacy->lucem-illud==8.0.1) (0.4.1)\n",
            "Requirement already satisfied: cymem<2.1.0,>=2.0.2 in /usr/local/lib/python3.7/dist-packages (from spacy->lucem-illud==8.0.1) (2.0.6)\n",
            "Requirement already satisfied: srsly<1.1.0,>=1.0.2 in /usr/local/lib/python3.7/dist-packages (from spacy->lucem-illud==8.0.1) (1.0.5)\n",
            "Requirement already satisfied: plac<1.2.0,>=0.9.6 in /usr/local/lib/python3.7/dist-packages (from spacy->lucem-illud==8.0.1) (1.1.3)\n",
            "Requirement already satisfied: preshed<3.1.0,>=3.0.2 in /usr/local/lib/python3.7/dist-packages (from spacy->lucem-illud==8.0.1) (3.0.6)\n",
            "Requirement already satisfied: tqdm<5.0.0,>=4.38.0 in /usr/local/lib/python3.7/dist-packages (from spacy->lucem-illud==8.0.1) (4.62.3)\n",
            "Requirement already satisfied: murmurhash<1.1.0,>=0.28.0 in /usr/local/lib/python3.7/dist-packages (from spacy->lucem-illud==8.0.1) (1.0.6)\n",
            "Requirement already satisfied: thinc==7.4.0 in /usr/local/lib/python3.7/dist-packages (from spacy->lucem-illud==8.0.1) (7.4.0)\n",
            "Requirement already satisfied: wasabi<1.1.0,>=0.4.0 in /usr/local/lib/python3.7/dist-packages (from spacy->lucem-illud==8.0.1) (0.9.0)\n",
            "Requirement already satisfied: catalogue<1.1.0,>=0.0.7 in /usr/local/lib/python3.7/dist-packages (from spacy->lucem-illud==8.0.1) (1.0.0)\n",
            "Requirement already satisfied: importlib-metadata>=0.20 in /usr/local/lib/python3.7/dist-packages (from catalogue<1.1.0,>=0.0.7->spacy->lucem-illud==8.0.1) (4.10.0)\n",
            "Requirement already satisfied: zipp>=0.5 in /usr/local/lib/python3.7/dist-packages (from importlib-metadata>=0.20->catalogue<1.1.0,>=0.0.7->spacy->lucem-illud==8.0.1) (3.7.0)\n",
            "Building wheels for collected packages: lucem-illud, pyanno3, python-docx\n",
            "  Building wheel for lucem-illud (setup.py) ... \u001b[?25l\u001b[?25hdone\n",
            "  Created wheel for lucem-illud: filename=lucem_illud-8.0.1-py3-none-any.whl size=34964 sha256=023280cebd8fc24134a56604be2ca0ac64a0157350e831dffabb56c9d537e1e9\n",
            "  Stored in directory: /tmp/pip-ephem-wheel-cache-gzo9igoi/wheels/a5/6a/0f/ddf40c68215bc4b072c455caa6a08e0031c92187c93a1b5a81\n",
            "  Building wheel for pyanno3 (setup.py) ... \u001b[?25l\u001b[?25hdone\n",
            "  Created wheel for pyanno3: filename=pyanno3-2.0.2-py3-none-any.whl size=116978 sha256=15c6d535b44e9d686255ddf9657c7ddb761cab41ef3f62603e0fa59e83832c1b\n",
            "  Stored in directory: /root/.cache/pip/wheels/28/eb/a9/d9c212d9388cde6cf3ee6edd7aa3891624bca58b24d9c26c76\n",
            "  Building wheel for python-docx (setup.py) ... \u001b[?25l\u001b[?25hdone\n",
            "  Created wheel for python-docx: filename=python_docx-0.8.11-py3-none-any.whl size=184507 sha256=09490a5170711555538ebc254088d7913f1a0c6364734f96246cedd33592e1cd\n",
            "  Stored in directory: /root/.cache/pip/wheels/f6/6f/b9/d798122a8b55b74ad30b5f52b01482169b445fbb84a11797a6\n",
            "Successfully built lucem-illud pyanno3 python-docx\n",
            "Installing collected packages: urllib3, jmespath, smmap, botocore, traits, s3transfer, gitdb, speechrecognition, python-docx, pysoundfile, pydub, pyanno3, pdfminer2, GitPython, boto3, lucem-illud\n",
            "  Attempting uninstall: urllib3\n",
            "    Found existing installation: urllib3 1.24.3\n",
            "    Uninstalling urllib3-1.24.3:\n",
            "      Successfully uninstalled urllib3-1.24.3\n",
            "\u001b[31mERROR: pip's dependency resolver does not currently take into account all the packages that are installed. This behaviour is the source of the following dependency conflicts.\n",
            "datascience 0.10.6 requires folium==0.2.1, but you have folium 0.8.3 which is incompatible.\u001b[0m\n",
            "Successfully installed GitPython-3.1.26 boto3-1.20.39 botocore-1.23.39 gitdb-4.0.9 jmespath-0.10.0 lucem-illud-8.0.1 pdfminer2-20151206 pyanno3-2.0.2 pydub-0.25.1 pysoundfile-0.9.0.post1 python-docx-0.8.11 s3transfer-0.5.0 smmap-5.0.0 speechrecognition-3.8.1 traits-6.3.2 urllib3-1.25.11\n"
          ]
        }
      ],
      "source": [
        "!pip install git+git://github.com/UChicago-Computational-Content-Analysis/lucem_illud.git\n",
        "#installing lucem_illud package\n",
        "#lucem_illud is a Latin phrase meaning \"that light\", the insight we can discover in text data!\n",
        "#If you get an error like \"Access is denied\", try running the `pip` command on the command line as an administrator."
      ]
    },
    {
      "cell_type": "markdown",
      "metadata": {
        "id": "gml7JVVdOmaz"
      },
      "source": [
        "If you're not familiar with jupyter notebook, you may wonder what the exclamation mark(!) at the beginning of the command does (or even what pip means). The exclamation mark enables us to execute Terminal commands in the notebook cells (e.g., run `!ls` to display files in the current folder).\n",
        "\n",
        "For this notebook we will be using the following packages:"
      ]
    },
    {
      "cell_type": "code",
      "execution_count": null,
      "metadata": {
        "id": "O8EOGoXbOma0"
      },
      "outputs": [],
      "source": [
        "#Special module written for this class\n",
        "#This provides access to data and to helper functions from previous weeks\n",
        "import lucem_illud #pip install git+git://github.com/UChicago-Computational-Content-Analysis/lucem_illud.git\n",
        "\n",
        "#All these packages need to be installed from pip\n",
        "import requests #for http requests\n",
        "import bs4 #called `beautifulsoup4`, an html parser\n",
        "import pandas #gives us DataFrames\n",
        "import docx #reading MS doc files, install as `python-docx`\n",
        "\n",
        "#Stuff for pdfs\n",
        "#Install as `pdfminer2`\n",
        "import pdfminer.pdfinterp\n",
        "import pdfminer.converter\n",
        "import pdfminer.layout\n",
        "import pdfminer.pdfpage\n",
        "\n",
        "#These come with Python\n",
        "import re #for regexs\n",
        "import urllib.parse #For joining urls\n",
        "import io #for making http requests look like files\n",
        "import json #For Tumblr API responses\n",
        "import os.path #For checking if files exist\n",
        "import os #For making directories"
      ]
    },
    {
      "cell_type": "markdown",
      "metadata": {
        "id": "1FBeOb62Oma1"
      },
      "source": [
        "We will also be working on the following files/urls"
      ]
    },
    {
      "cell_type": "code",
      "execution_count": null,
      "metadata": {
        "id": "FCg_QdR7Oma2"
      },
      "outputs": [],
      "source": [
        "wikipedia_base_url = 'https://en.wikipedia.org'\n",
        "wikipedia_content_analysis = 'https://en.wikipedia.org/wiki/Content_analysis'\n",
        "content_analysis_save = 'wikipedia_content_analysis.html'\n",
        "example_text_file = 'sometextfile.txt'\n",
        "information_extraction_pdf = 'https://github.com/Computational-Content-Analysis-2018/Data-Files/raw/master/1-intro/Content%20Analysis%2018.pdf'\n",
        "example_docx = 'https://github.com/Computational-Content-Analysis-2018/Data-Files/raw/master/1-intro/macs6000_connecting_to_midway.docx'\n",
        "example_docx_save = 'example.docx'"
      ]
    },
    {
      "cell_type": "code",
      "source": [
        "from google.colab import drive\n",
        "drive._mount('/content/drive')"
      ],
      "metadata": {
        "colab": {
          "base_uri": "https://localhost:8080/"
        },
        "id": "V1u22fUKhQl_",
        "outputId": "f9806d1b-d9e8-4d3d-fb83-99542a2c85f4"
      },
      "execution_count": null,
      "outputs": [
        {
          "output_type": "stream",
          "name": "stdout",
          "text": [
            "Drive already mounted at /content/drive; to attempt to forcibly remount, call drive.mount(\"/content/drive\", force_remount=True).\n"
          ]
        }
      ]
    },
    {
      "cell_type": "code",
      "source": [
        "from google.colab import drive\n",
        "drive._mount('/content/drive')"
      ],
      "metadata": {
        "id": "IM3uQtgFiUhl",
        "colab": {
          "base_uri": "https://localhost:8080/"
        },
        "outputId": "c977f976-f899-4b09-f6b7-26040dd1a731"
      },
      "execution_count": null,
      "outputs": [
        {
          "output_type": "stream",
          "name": "stdout",
          "text": [
            "Drive already mounted at /content/drive; to attempt to forcibly remount, call drive.mount(\"/content/drive\", force_remount=True).\n"
          ]
        }
      ]
    },
    {
      "cell_type": "markdown",
      "metadata": {
        "id": "bZM9Pw3lOma3"
      },
      "source": [
        "# Scraping\n",
        "\n",
        "Before we can start analyzing content we need to obtain it. Sometimes it will be\n",
        "provided to us from a pre-curated text archive, but sometimes we will need to\n",
        "download it. As a starting example we will attempt to download the wikipedia\n",
        "page on content analysis. The page is located at [https://en.wikipedia.org/wiki/Content_analysis](https://en.wikipedia.org/wiki/Content_analysis) so lets start\n",
        "with that.\n",
        "\n",
        "We can do this by making an HTTP GET request to that url, a GET request is\n",
        "simply a request to the server to provide the contents given by some url. The\n",
        "other request we will be using in this class is called a POST request and\n",
        "requests the server to take some content we provide. While the Python standard\n",
        "library does have the ability do make GET requests we will be using the\n",
        "[_requests_](http://docs.python-requests.org/en/master/) package as it is _'the\n",
        "only Non-GMO HTTP library for Python'_...also it provides a nicer interface."
      ]
    },
    {
      "cell_type": "code",
      "execution_count": null,
      "metadata": {
        "id": "hhzQ0oNBOma4",
        "colab": {
          "base_uri": "https://localhost:8080/"
        },
        "outputId": "b786dcdb-6c8d-4b46-b00d-ce60955da71e"
      },
      "outputs": [
        {
          "output_type": "execute_result",
          "data": {
            "text/plain": [
              "<Response [200]>"
            ]
          },
          "metadata": {},
          "execution_count": 66
        }
      ],
      "source": [
        "#wikipedia_content_analysis = 'https://en.wikipedia.org/wiki/Content_analysis'\n",
        "requests.get(wikipedia_content_analysis)"
      ]
    },
    {
      "cell_type": "markdown",
      "metadata": {
        "id": "OBLNFuYqOma5"
      },
      "source": [
        "`'Response [200]'` means the server responded with what we asked for. If you get\n",
        "another number (e.g. 404) it likely means there was some kind of error, these\n",
        "codes are called HTTP response codes and a list of them can be found\n",
        "[here](https://en.wikipedia.org/wiki/List_of_HTTP_status_codes). The response\n",
        "object contains all the data the server sent including the website's contents\n",
        "and the HTTP header. We are interested in the contents which we can access with\n",
        "the `.text` attribute."
      ]
    },
    {
      "cell_type": "code",
      "execution_count": null,
      "metadata": {
        "id": "0MX6yy-GOma6",
        "colab": {
          "base_uri": "https://localhost:8080/"
        },
        "outputId": "77c21274-3ba3-435e-cc99-1d6f42c3d30a"
      },
      "outputs": [
        {
          "output_type": "stream",
          "name": "stdout",
          "text": [
            "<!DOCTYPE html>\n",
            "<html class=\"client-nojs\" lang=\"en\" dir=\"ltr\">\n",
            "<head>\n",
            "<meta charset=\"UTF-8\"/>\n",
            "<title>Content analysis - Wikipedia</title>\n",
            "<script>document.documentElement.className=\"client-js\";RLCONF={\"wgBreakFrames\":false,\"wgSeparatorTransformTable\":[\"\",\"\"],\"wgDigitTransformTable\":[\"\",\"\"],\"wgDefaultDateFormat\":\"dmy\",\"wgMonthNames\":[\"\",\"January\",\"February\",\"March\",\"April\",\"May\",\"June\",\"July\",\"August\",\"September\",\"October\",\"November\",\"December\"],\"wgRequestId\":\"1d2ec261-2a2a-40b2-8692-f344972fa85e\",\"wgCSPNonce\":false,\"wgCanonicalNamespace\":\"\",\"wgCanonicalSpecialPageName\":false,\"wgNamespaceNumber\":0,\"wgPageName\":\"Content_analysis\",\"wgTitle\":\"Content analysis\",\"wgCurRevisionId\":1065940520,\"wgRevisionId\":1065940520,\"wgArticleId\":473317,\"wgIsArticle\":true,\"wgIsRedirect\":false,\"wgAction\":\"view\",\"wgUserName\":null,\"wgUserGroups\":[\"*\"],\"wgCategories\":[\"Articles with short description\",\"Short description matches Wikidata\",\"Articles prone to spam from October 2017\",\"Articles with BNE identifiers\",\n"
          ]
        }
      ],
      "source": [
        "wikiContentRequest = requests.get(wikipedia_content_analysis)\n",
        "print(wikiContentRequest.text[:1000])"
      ]
    },
    {
      "cell_type": "markdown",
      "metadata": {
        "id": "v476yylWOma6"
      },
      "source": [
        "This is not what we were looking for, because it is the start of the HTML that\n",
        "makes up the website. This is HTML and is meant to be read by computers. Luckily\n",
        "we have a computer to parse it for us. To do the parsing we will use [_Beautiful\n",
        "Soup_](https://www.crummy.com/software/BeautifulSoup/) which is a better parser\n",
        "than the one in the standard library."
      ]
    },
    {
      "cell_type": "markdown",
      "metadata": {
        "id": "sKsCntAsOma7"
      },
      "source": [
        "But before we proceed to Beautiful Soup, a digression about Python syntax, especially about objects and functions.\n",
        "For those who are not familiar with the syntax of python (or, if you're familiar with R programming), you might wonder what requests.get or wikiContentRequest.text mean. To understand this, you need to first understand what objects are. You may have heard that Python is an object oriented programming language (unlike the procedure oriented programming language, an example of which is R). Object is a set of variables (or, data) and functions into which you pass your data. So, in object oriented programming languages, like python, variables and functions are bunleded into objects.\n",
        "\n",
        "For example, let's look at wikiContentRequest. We use dir() function, which returns the list of attributes and functions of objects."
      ]
    },
    {
      "cell_type": "code",
      "execution_count": null,
      "metadata": {
        "id": "bFWJZHqhOma7",
        "colab": {
          "base_uri": "https://localhost:8080/"
        },
        "outputId": "396bf0e2-3d83-4721-f6b6-8be822477e64"
      },
      "outputs": [
        {
          "output_type": "execute_result",
          "data": {
            "text/plain": [
              "['__attrs__',\n",
              " '__bool__',\n",
              " '__class__',\n",
              " '__delattr__',\n",
              " '__dict__',\n",
              " '__dir__',\n",
              " '__doc__',\n",
              " '__enter__',\n",
              " '__eq__',\n",
              " '__exit__',\n",
              " '__format__',\n",
              " '__ge__',\n",
              " '__getattribute__',\n",
              " '__getstate__',\n",
              " '__gt__',\n",
              " '__hash__',\n",
              " '__init__',\n",
              " '__init_subclass__',\n",
              " '__iter__',\n",
              " '__le__',\n",
              " '__lt__',\n",
              " '__module__',\n",
              " '__ne__',\n",
              " '__new__',\n",
              " '__nonzero__',\n",
              " '__reduce__',\n",
              " '__reduce_ex__',\n",
              " '__repr__',\n",
              " '__setattr__',\n",
              " '__setstate__',\n",
              " '__sizeof__',\n",
              " '__str__',\n",
              " '__subclasshook__',\n",
              " '__weakref__',\n",
              " '_content',\n",
              " '_content_consumed',\n",
              " '_next',\n",
              " 'apparent_encoding',\n",
              " 'close',\n",
              " 'connection',\n",
              " 'content',\n",
              " 'cookies',\n",
              " 'elapsed',\n",
              " 'encoding',\n",
              " 'headers',\n",
              " 'history',\n",
              " 'is_permanent_redirect',\n",
              " 'is_redirect',\n",
              " 'iter_content',\n",
              " 'iter_lines',\n",
              " 'json',\n",
              " 'links',\n",
              " 'next',\n",
              " 'ok',\n",
              " 'raise_for_status',\n",
              " 'raw',\n",
              " 'reason',\n",
              " 'request',\n",
              " 'status_code',\n",
              " 'text',\n",
              " 'url']"
            ]
          },
          "metadata": {},
          "execution_count": 68
        }
      ],
      "source": [
        " dir(wikiContentRequest)"
      ]
    },
    {
      "cell_type": "markdown",
      "metadata": {
        "id": "N2i8w-JwOma8"
      },
      "source": [
        "There's 'text' here. We used 'wikiContentRequest.text' to access 'text.' In other words, we use .(dot notation) to access functions from objects. wikiContentRequest has a set of functions, as shown above, and we used 'wikiContentRequest.text' to access one of them. By the way, dot notations do not necessarily refer to functions--it refers to anything that the entity contains. \n",
        "\n"
      ]
    },
    {
      "cell_type": "markdown",
      "metadata": {
        "id": "3heEYqz3Oma8"
      },
      "source": [
        "Moving on to the next step: BeautifulSoup, a Python library which extracts data from HTML and XML, and transforms HTML files into Python objects."
      ]
    },
    {
      "cell_type": "code",
      "execution_count": null,
      "metadata": {
        "id": "q9aPjhBQOma8",
        "colab": {
          "base_uri": "https://localhost:8080/"
        },
        "outputId": "f19e1347-0c2f-445f-893b-6efd37a9a4c1"
      },
      "outputs": [
        {
          "output_type": "stream",
          "name": "stdout",
          "text": [
            "\n",
            "\n",
            "\n",
            "\n",
            "Content analysis - Wikipedia\n",
            "document.documentElement.className=\"client-js\";RLCONF={\"wgBreakFrames\":false,\"wgSeparatorTransformTable\":[\"\",\"\"],\"wgDigitTransformTable\":[\"\",\"\"],\"wgDefaultDateFormat\":\n"
          ]
        }
      ],
      "source": [
        "wikiContentSoup = bs4.BeautifulSoup(wikiContentRequest.text, 'html.parser')\n",
        "print(wikiContentSoup.text[:200])"
      ]
    },
    {
      "cell_type": "markdown",
      "metadata": {
        "id": "x3nSYukpOma9"
      },
      "source": [
        "This is better but there's still random whitespace and we have more than just\n",
        "the text of the article. This is because what we requested is the whole webpage,\n",
        "not just the text for the article.\n",
        "\n",
        "We want to extract only the text we care about, and in order to do this we will\n",
        "need to inspect the html. One way to do this is simply to go to the website with\n",
        "a browser and use its inspection or view source tool. If javascript or other\n",
        "dynamic loading occurs on the page, however, it is likely that what Python\n",
        "receives is not what you will see, so we will need to inspect what Python\n",
        "receives. To do this we can save the html `requests` obtained."
      ]
    },
    {
      "cell_type": "code",
      "execution_count": null,
      "metadata": {
        "id": "ZcLAorw7Oma9"
      },
      "outputs": [],
      "source": [
        "#content_analysis_save = 'wikipedia_content_analysis.html'\n",
        "\n",
        "with open(content_analysis_save, mode='w', encoding='utf-8') as f:\n",
        "    f.write(wikiContentRequest.text)"
      ]
    },
    {
      "cell_type": "markdown",
      "metadata": {
        "id": "I7zi62goOma9"
      },
      "source": [
        "open() is a function which literally opens and returns the file. This function has multiple modes, and, here, we used mode as 'w', which means: open a file for writing. And then, we use 'write' function to write on the empty file (content_analysis_save) that we created using open(content_analysis_save, mode='w', encoding='utf-8').} What did we write on this file? The text we got from wikiContentRequest.text"
      ]
    },
    {
      "cell_type": "markdown",
      "metadata": {
        "id": "z9-kcKydOma-"
      },
      "source": [
        "Now let's open the file (`wikipedia_content_analysis.html`) we just created with\n",
        "a web browser. It should look sort of like the original but without the images\n",
        "and formatting.\n",
        "\n",
        "As there is very little standardization on structuring webpages, figuring out\n",
        "how best to extract what you want is an art. Looking at this page it looks like\n",
        "all the main textual content is inside `<p>`(paragraph) tags within the `<body>`\n",
        "tag. "
      ]
    },
    {
      "cell_type": "code",
      "execution_count": null,
      "metadata": {
        "scrolled": true,
        "id": "UTiDo5jGOma-",
        "colab": {
          "base_uri": "https://localhost:8080/"
        },
        "outputId": "761efb68-2731-4429-9055-a6bfb11529e6"
      },
      "outputs": [
        {
          "output_type": "stream",
          "name": "stdout",
          "text": [
            "South Asia \n",
            "\n",
            "Middle East\n",
            "\n",
            "Europe\n",
            "\n"
          ]
        }
      ],
      "source": [
        "contentPTags = wikiContentSoup.body.findAll('p')\n",
        "for pTag in contentPTags[:3]:\n",
        "    print(pTag.text)"
      ]
    },
    {
      "cell_type": "markdown",
      "metadata": {
        "id": "K-HEFlXROma-"
      },
      "source": [
        "Another excursion for those who are not familiar with programming: for loop. For loop is used to iterate over a sequence. \"ContentPTags\" contains multiple paragraphs, each of which starts and ends with `<p>`. What the \"for pTag in contentPtags[:3]\" does here is: find each paragraph in contentPTags, which, here, we limited to the first three using contentPtags[:3], and then print each paragraph. So, we have three paragraphs. By the way, you can insert `<p>` in juputer notebook!"
      ]
    },
    {
      "cell_type": "markdown",
      "metadata": {
        "id": "P3WbGS2aOma_"
      },
      "source": [
        "We now have all the text from the page, split up by paragraph. If we wanted to\n",
        "get the section headers or references as well it would require a bit more work,\n",
        "but is doable.\n",
        "\n",
        "There is one more thing we might want to do before sending this text to be\n",
        "processed, remove the references indicators (`[2]`, `[3]` , etc). To do this we\n",
        "can use a short regular expression (regex)."
      ]
    },
    {
      "cell_type": "code",
      "execution_count": null,
      "metadata": {
        "id": "W1Km-YmsOma_",
        "colab": {
          "base_uri": "https://localhost:8080/"
        },
        "outputId": "df36f374-f6c6-48b1-9707-c1e15bc68162"
      },
      "outputs": [
        {
          "output_type": "stream",
          "name": "stdout",
          "text": [
            "                                       paragraph-text\n",
            "0                                       South Asia \\n\n",
            "1                                       Middle East\\n\n",
            "2                                            Europe\\n\n",
            "3                                     North America\\n\n",
            "4   Content analysis is the study of documents and...\n",
            "5   Practices and philosophies of content analysis...\n",
            "6   Computers are increasingly used in content ana...\n",
            "7   Content analysis is best understood as a broad...\n",
            "8   The simplest and most objective form of conten...\n",
            "9   A further step in analysis is the distinction ...\n",
            "10  Quantitative content analysis highlights frequ...\n",
            "11  Siegfried Kracauer provides a critique of quan...\n",
            "12  With the rise of common computing facilities l...\n",
            "13  By having contents of communication available ...\n",
            "14  Computer-assisted analysis can help with large...\n",
            "15  Robert Weber notes: \"To make valid inferences ...\n",
            "16  There are five types of texts in content analy...\n",
            "17  Content analysis is research using the categor...\n",
            "18  Over the years, content analysis has been appl...\n",
            "19  In recent times, particularly with the advent ...\n",
            "20  Quantitative content analysis has enjoyed a re...\n",
            "21  Content analysis can also be described as stud...\n",
            "22  Manifest content is readily understandable at ...\n",
            "23  Holsti groups fifteen uses of content analysis...\n",
            "24  He also places these uses into the context of ...\n",
            "25  The following table shows fifteen uses of cont...\n",
            "26  As a counterpoint, there are limits to the sco...\n",
            "27  The process of the initial coding scheme or ap...\n",
            "28  With either approach above, immersing oneself ...\n",
            "29                                                 \\n\n"
          ]
        }
      ],
      "source": [
        "contentParagraphs = []\n",
        "for pTag in contentPTags:\n",
        "    #strings starting with r are raw so their \\'s are not modifier characters\n",
        "    #If we didn't start with r the string would be: '\\\\[\\\\d+\\\\]'\n",
        "    contentParagraphs.append(re.sub(r'\\[\\d+\\]', '', pTag.text))\n",
        "\n",
        "#convert to a DataFrame\n",
        "contentParagraphsDF = pandas.DataFrame({'paragraph-text' : contentParagraphs})\n",
        "print(contentParagraphsDF)"
      ]
    },
    {
      "cell_type": "markdown",
      "metadata": {
        "id": "32iXyFviOma_"
      },
      "source": [
        "Since we learned how to do for loop, you might get what we did here: using contentParagraphs = [], we made an empty list; and then, for each paragraph in contentPTags, we substituted every [\\d+\\] with '', i.e., removed every [\\d+\\], and then appended each paragraph (now without [\\d+\\]) to the empty list. As we can see, we have a dataframe, each row of which is each paragraph of contentPTags, without reference indicators. \n",
        "\n",
        "By the way, what does [\\d+\\] mean? If you are not familiar with regex, it is a way of specifying searches in text.\n",
        "A regex engine takes in the search pattern, in the above case `'\\[\\d+\\]'` and\n",
        "some string, the paragraph texts. Then it reads the input string one character\n",
        "at a time checking if it matches the search. Here the regex `'\\d'` matches\n",
        "number characters (while `'\\['` and `'\\]'` capture the braces on either side)."
      ]
    },
    {
      "cell_type": "markdown",
      "metadata": {
        "id": "Ta624Xp-Oma_"
      },
      "source": [
        "Now we have a `DataFrame` containing all relevant text from the page ready to be processed"
      ]
    },
    {
      "cell_type": "code",
      "execution_count": null,
      "metadata": {
        "id": "aMRe7UEvOma_",
        "colab": {
          "base_uri": "https://localhost:8080/"
        },
        "outputId": "57988990-5afe-4b2d-b5cb-a708a9db6837"
      },
      "outputs": [
        {
          "output_type": "execute_result",
          "data": {
            "text/plain": [
              "<re.Match object; span=(36, 37), match='2'>"
            ]
          },
          "metadata": {},
          "execution_count": 73
        }
      ],
      "source": [
        "findNumber = r'\\d'\n",
        "regexResults = re.search(findNumber, 'not a number, not a number, numbers 2134567890, not a number')\n",
        "regexResults"
      ]
    },
    {
      "cell_type": "markdown",
      "metadata": {
        "id": "70nwprj2OmbA"
      },
      "source": [
        "In Python the regex package (`re`) usually returns `Match` objects (you can have\n",
        "multiple pattern hits in a a single `Match`), to get the string that matched our\n",
        "pattern we can use the `.group()` method, and as we want the first one we will\n",
        "ask for the 0'th group."
      ]
    },
    {
      "cell_type": "code",
      "execution_count": null,
      "metadata": {
        "id": "YPz34LJiOmbA",
        "colab": {
          "base_uri": "https://localhost:8080/"
        },
        "outputId": "30b5f7c0-08da-4338-b634-9de48d767ce8"
      },
      "outputs": [
        {
          "output_type": "stream",
          "name": "stdout",
          "text": [
            "2\n"
          ]
        }
      ],
      "source": [
        "print(regexResults.group(0))"
      ]
    },
    {
      "cell_type": "markdown",
      "metadata": {
        "id": "xu-YZGe4OmbA"
      },
      "source": [
        "That gives us the first number, if we wanted the whole block of numbers we can\n",
        "add a wildcard `'+'` which requests 1 or more instances of the preceding\n",
        "character."
      ]
    },
    {
      "cell_type": "code",
      "execution_count": null,
      "metadata": {
        "id": "stERg5HHOmbA",
        "colab": {
          "base_uri": "https://localhost:8080/"
        },
        "outputId": "9a7f9e0f-cc23-41fd-9f2b-c0ff1cc1bc61"
      },
      "outputs": [
        {
          "output_type": "stream",
          "name": "stdout",
          "text": [
            "2134567890\n"
          ]
        }
      ],
      "source": [
        "findNumbers = r'\\d+'\n",
        "regexResults = re.search(findNumbers, 'not a number, not a number, numbers 2134567890, not a number')\n",
        "print(regexResults.group(0))"
      ]
    },
    {
      "cell_type": "markdown",
      "metadata": {
        "id": "DczZWZWeOmbB"
      },
      "source": [
        "Now we have the whole block of numbers, there are a huge number of special\n",
        "characters in regex, for the full description of Python's implementation look at\n",
        "the [re docs](https://docs.python.org/3/library/re.html) there is also a short\n",
        "[tutorial](https://docs.python.org/3/howto/regex.html#regex-howto)."
      ]
    },
    {
      "cell_type": "markdown",
      "metadata": {
        "id": "vVTLl6J-OmbB"
      },
      "source": [
        "# <font color=\"red\">Exercise 1</font>\n",
        "<font color=\"red\">Construct cells immediately below this that describe and download webcontent relating to your anticipated final project. Use beautiful soup and at least five regular expressions to extract relevant, nontrivial *chunks* of that content (e.g., cleaned sentences, paragraphs, etc.) to a pandas `Dataframe`.</font>"
      ]
    },
    {
      "cell_type": "code",
      "source": [
        "#set up objects that will be used to get/store data\n",
        "#the content i'm looking to analyze is the party platform of the German right-wing extremist party \"Alternative für Deutschland\" (AfD)\n",
        "\n",
        "afd_base_url = 'https://www.afd.de/'\n",
        "afd_platform = 'https://www.afd.de/grundsatzprogramm'\n",
        "afd_platform_save = 'afd_platform.html'\n",
        "\n",
        "#download content and reduce it to text data\n",
        "\n",
        "afd_content_request = requests.get(afd_platform)\n",
        "afdContentSoup = bs4.BeautifulSoup(afd_content_request.text, 'html.parser')\n",
        "\n",
        "#inspect the html\n",
        "\n",
        "with open(afd_platform_save, mode='w', encoding='utf-8') as f:\n",
        "    f.write(afd_content_request.text)\n",
        "\n",
        "#isolate paragraphs within the body of the website\n",
        "\n",
        "contentAfDTags = afdContentSoup.body.findAll('p')\n",
        "for pTag in contentAfDTags[:100]:\n",
        "\n",
        "#remove repeating \"nach oben\" (this translates to \"back to the top [of the page]\") as it is unnecessary for the analysis\n",
        "\n",
        "  nonachoben = []\n",
        "  for pTag in contentAfDTags:\n",
        "    nonachoben.append(re.sub(r'nach oben', '', pTag.text))\n",
        "\n",
        "print(nonachoben)\n",
        "\n",
        "#convert to a DataFrame\n",
        "\n",
        "afdplatformDF = pandas.DataFrame({'paragraph-text' : nonachoben})\n",
        "\n",
        "#delete rows in the beginning and end of the data frame that are not relevant\n",
        "\n",
        "afdplatformDF.drop(\n",
        "   labels=[0,1,2,166,167,168,169,170],\n",
        "    axis=0,\n",
        "    inplace=True)\n"
      ],
      "metadata": {
        "id": "FI5j8EWr64XG",
        "colab": {
          "base_uri": "https://localhost:8080/"
        },
        "outputId": "f90b0c46-d1f0-4961-cdb4-bda947660173"
      },
      "execution_count": null,
      "outputs": [
        {
          "output_type": "stream",
          "name": "stdout",
          "text": [
            "['Alternative für Deutschland | Bundesparteitag in Stuttgart | 30. April bis 1. Mai 2016', 'HTML-Kurzfassung [vollständiges Grundsatzprogramm (lang) siehe Seitenleiste] ', 'MUT ZU DEUTSCHLAND. FREIE BÜRGER, KEINE UNTERTANEN. Wir sind Liberale und Konservative. Wir sind freie Bürger unseres Landes. Wir sind überzeugte Demokraten.', 'Zusammengefunden haben wir uns als Bürger mit unterschiedlicher Geschichte und Erfahrung, mit unterschiedlicher Ausbildung, mit unterschiedlichem politischen Werdegang. Das geschah in dem Bewusstsein, dass es an der Zeit war, ungeachtet aller Unterschiede, gemeinsam zu handeln und verantwortungsbewusst zu tun, wozu wir uns verpflichtet fühlen. Wir kamen zusammen in der festen Überzeugung, dass die Bürger ein Recht auf eine echte politische Alternative haben, eine Alternative zu dem, was die politische Klasse glaubt, uns als „alternativlos“ zumuten zu können.', 'Dem Bruch von Recht und Gesetz, der Zerstörung des Rechtsstaats und verantwortungslosem politischen Handeln gegen die Prinzipien wirtschaftlicher Vernunft konnten und wollten wir nicht länger tatenlos zusehen. Ebenso wollten wir nicht länger hinnehmen, dass durch das Regime der EURO-Rettung längst überwundene Vorurteile und Feindseligkeiten zwischen den europäischen Völkern neu aufbrechen. Daher haben wir uns dafür entschieden, Deutschland und seinen Bürgern in allen Bereichen eine echte politische Alternative zu bieten.', 'Als freie Bürger treten wir ein für direkte Demokratie, Gewaltenteilung und Rechtsstaatlichkeit, soziale Marktwirtschaft, Subsidiarität, Föderalismus, Familie und die gelebte Tradition der deutschen Kultur. Denn Demokratie und Freiheit stehen auf dem Fundament gemeinsamer kultureller Werte und historischer Erinnerungen. In der Tradition der beiden Revolutionen von 1848 und 1989 artikulieren wir mit unserem bürgerlichen Protest den Willen, die nationale Einheit in Freiheit zu vollenden und ein Europa souveräner demokratischer Staaten zu schaffen, die einander in Frieden, Selbstbestimmung und guter Nachbarschaft verbunden sind.', 'Wir setzen uns mit ganzer Kraft dafür ein, unser Land im Geist von Freiheit und Demokratie grundlegend zu erneuern und eben diesen Prinzipien wieder Geltung zu verschaffen. Wir sind offen gegenüber der Welt, wollen aber Deutsche sein und bleiben. Wir wollen die Würde des Menschen, die Familie mit Kindern, unsere abendländische christliche Kultur, unsere Sprache und Tradition in einem friedlichen, demokratischen und souveränen Nationalstaat des deutschen Volkes dauerhaft erhalten.', 'Unsere Ziele werden Wirklichkeit, indem wir den Staat und seine Organe wieder in den Dienst der Bürger stellen, so wie es der im Grundgesetz geregelte Amtseid aller Regierungsmitglieder vorsieht:', '„Ich schwöre, dass ich meine Kraft dem Wohle des deutschen Volkes widmen, seinen Nutzen mehren, Schaden von ihm wenden, das Grundgesetz und die Gesetze des Bundes wahren und verteidigen, meine Pflichten gewissenhaft erfüllen und Gerechtigkeit gegen jedermann üben werde.“', 'In diesem Sinne geben wir uns das nachfolgende Grundsatzprogramm.', 'Als freie Bürger treten wir ein für direkte Demokratie, Gewaltenteilung und Rechtsstaatlichkeit sowie soziale Marktwirtschaft, Föderalismus, Familienförderung und die gelebten Traditionen deutscher Kultur. In der Nachfolge der beiden Revolutionen von 1848 und 1989 artikulieren wir mit unserem bürgerlichen Protest den Willen, die nationale Einheit in Freiheit zu vollenden und ein Europa zu schaffen, dessen souveräne demokratische Staaten einander in Frieden, Selbstbestimmung und guter Nachbarschaft verbunden sind.', 'Volksabstimmungen nach Schweizer Vorbild', 'Die AfD setzt sich dafür ein, Volksentscheide in Anlehnung an das Schweizer Vorbild auch in Deutschland einzuführen.', 'Parteienfinanzierung dem Verfassungsrecht anpassen', 'Die verdeckte Parteienﬁnanzierung, zum Beispiel durch Stiftungen, ist gänzlich aus dem Ruder gelaufen und macht mittlerweile jährlich etwa 600 Millionen Euro aus. Das entspricht dem Vierfachen der eigentlichen verfassungsgerichtlich aus gutem Grund beschränkten Parteienﬁnanzierung. Die AfD will daher, dass die gesamte staatliche Parteienﬁnanzierung auf eine neue gesetzliche Grundlage gestellt und begrenzt wird.', 'Freie Listenwahl und freies Mandat', 'Die AfD strebt eine Neugestaltung des Wahlsystems an, die dem Wähler die Entscheidung über die personelle Zusammensetzung der Parlamente zurückgeben und das „freie Mandat“ der Abgeordneten stärken soll. Wir treten für die „freie Listenwahl“ bei Landtags- und Bundestagswahlen ein, die unter anderem die Stimmverteilung auf mehrere Kandidaten oder das Streichen einzelner Kandidaten ermöglicht.', 'Direktwahl des Bundespräsidenten durch das Volk', 'Um die Wahl des Bundespräsidenten transparenter und unabhängiger von Parteien durchführen zu können, wollen wir den Bundespräsidenten direkt durch das Volk wählen lassen.', 'Einführung eines Straftatbestandes der Steuerverschwendung', 'Während Steuerhinterziehung auch bei vergleichsweise kleinen Beträgen in Deutschland verfolgt und bestraft wird, bleibt die ebenso das Gemeinwohl schädigende Steuerverschwendung straffrei. Die AfD will daher einen neuen Straftatbestand der Haushaltsuntreue einführen.', ' Nach oben ', 'Wir stehen für die Freiheit der europäischen Nationen von fremder Bevormundung. Rechtsstaatliche Strukturen, wirtschaftlicher Wohlstand und ein stabiles, leistungsgerechtes Sozialsystem gehören in die nationale Verantwortung. Wir wollen in Freundschaft und guter Nachbarschaft zusammenleben. Wir lehnen die „Vereinigten Staaten von Europa“ ebenso ab wie eine EU als Bundesstaat, aus der kein Austritt mehr möglich ist. Unser Ziel ist ein souveränes Deutschland, das die Freiheit und Sicherheit seiner Bürger garantiert, ihren Wohlstand fördert und seinen Beitrag zu einem friedlichen und prosperierenden Europa leistet.', 'Europa darf kein zentralistischer Bundesstaat werden', 'Die große Vielfalt nationaler und regionaler kultureller Traditionen macht das Besondere unseres Kontinents aus. Wir sind deshalb dagegen, die Europäische Union in einen zentralistischen Bundesstaat umzuwandeln. Sollten sich unsere grundlegenden Reformansätze im bestehenden System der EU nicht verwirklichen lassen, streben wir einen Austritt Deutschlands, bzw. eine demokratische Auﬂösung der Europäischen Union und die Neugründung einer Europäischen Wirtschaftsgemeinschaft an.', 'Kompetenzen an die Nationalstaaten zurückgeben', 'Die politische Führung der großen EU-Länder will die Europäische Union um jeden Preis und gegen den Mehrheitswillen der europäischen Völker zu einem Einheitsstaat umgestalten. Wir fordern stattdessen, die Nationalstaaten zu erhalten und ihnen wieder mehr Kompetenzen zu geben.', 'Volksabstimmung über den Euro', 'Der gemeinsame EURO ist eine grundlegende Fehlkonstruktion. Aus der Währungsunion entwickelte sich zwangsläuﬁg eine Schuldenunion. Wir fordern, das EURO-Experiment geordnet zu beenden. Sollte sich der Bundestag dieser Forderung nicht anschließen, muss über den Verbleib Deutschlands im Währungsverbund eine Volksabstimmung durchgeführt werden.', 'Nein zur Bankenunion', 'Die Alternative für Deutschland verlangt, dass deutsche Banken nicht für Fehlentscheidungen ausländischer Banken in Mithaftung genommen werden dürfen. Deutsche Sparguthaben dürfen nicht dazu verwendet werden, um im Ausland entstandene Risiken abzusichern. Bis zum Austritt aus dem Eurowährungsverbund sind die Target-2-Salden, also die Salden der nationalen Notenbanken gegenüber der EZB, einmal im Jahr auszugleichen. Auch die Kreditvergabe an Staaten wird wieder mit Sicherheiten unterlegt. Dies können auch Bodenschätze oder Rechte an ihnen sein.', ' Nach oben ', 'Wir wollen den Rechtsstaat stärken und dem Recht wieder zu einer konsequenten Durchsetzung verhelfen. Die AfD fordert daher einen „sicherheitspolitischen Befreiungsschlag“, um den Schutz der Bürger an erste Stelle zu setzen.', 'Polizei stärken und Strafjustiz verbessern', 'Wir wollen die Polizei und Justiz stärken, um sie in die Lage zu versetzen, Verbrechen effektiver zu bekämpfen. Vor dem Hintergrund der steigenden Brutalität jugendlicher Krimineller ist auf volljährige Täter das Erwachsenenstrafrecht anzuwenden und das Strafmündigkeitsalter auf zwölf Jahre zu senken.', 'Weisungsfreie Staatsanwälte und unabhängige Richter', 'Die AfD will die Einﬂussnahme der politischen Parteien auf das Ernennen von Richtern und Staatsanwälten beenden. Wir unterstützen den Modellvorschlag des Deutschen Richterbundes, einen Justizwahlausschuss und einen Justizverwaltungsrat einzurichten.', 'Angriffe auf Amtspersonen härter bestrafen', 'Wer Polizeibeamte, Feuerwehrangehörige und sonstige Rettungskräfte angreift, soll mit einer Freiheitsstrafe von mindestens drei Monaten bestraft werden. Hierzu sehen wir auch einen neuen Straftatbestand als erforderlich an, der Polizisten auch dann vor Angriffen besonders schützt, wenn diese Angriffe anlasslos erfolgen.', 'Opferschutz statt Täterschutz', 'Straftäter, von denen erhebliche Gefahren für die Allgemeinheit ausgehen, müssen auch und gerade dann sicher verwahrt werden, wenn sie psychisch krank, drogen- oder alkoholabhängig sind. Lockerungen und Urlaube im Strafvollzug dürfen nur mit Zustimmung der Staatsanwaltschaft möglich sein. Ausländische Straftäter müssen viel schneller als bisher abgeschoben werden.', 'Waffenrecht muss nicht verschärft werden', 'Die AfD widersetzt sich jeder Einschränkung von Bürgerrechten durch eine Verschärfung des Waffenrechts. Die Kriminalisierung von Waffenbesitz schreckt Täter nicht ab, sondern macht Opfer wehrloser.', 'Organisierte Kriminalität nachhaltig bekämpfen', 'Die organisierte Kriminalität muss nachhaltiger bekämpft werden. Dazu gehört, Gewinne aus Straftaten umfangreicher abzuschöpfen und die bereits bestehenden rechtlichen Instrumente des Verfalls und der Einziehung besser zu nutzen.', 'Deutsche Grenzen schützen', 'Die Alternative für Deutschland betrachtet den bloßen Schutz der europäischen Außengrenzen als unzureichend und fordert den Aufbau eines ﬂächendeckenden deutschen Grenzschutzes unter dem Dach der Bundespolizei. An Deutschlands Außengrenzen sollen wieder betriebsbereite Grenzübergangsstellen bereitstehen.', ' Nach oben ', 'Wir treten dafür ein, sich in innere Angelegenheiten anderer Staaten nicht einzumischen. Die AfD vertritt eine Außenpolitik, die darauf verpﬂichtet ist, die Interessen Deutschlands zu wahren. Als eine weltweit anerkannte Nation und als drittgrößter Beitragszahler der Vereinten Nationen fordern wir für Deutschland einen ständigen Sitz im UN-Sicherheitsrat.', 'Nato nur als Verteidigungsbündnis', 'Die Mitgliedschaft in der Nato entspricht den außen- und sicherheitspolitischen Interessen Deutschlands, soweit sich die Nato auf ihre Aufgabe als Verteidigungsbündnis beschränkt. Nato-Einsätze außerhalb des Bündnisbereichs, an der sich deutsche Streitkräfte beteiligen, sollten grundsätzlich unter einem UN-Mandat stattﬁnden und nur, wenn deutsche Sicherheitsinteressen berücksichtigt werden. Die AfD setzt sich für den Abzug aller noch auf deutschem Boden stationierten alliierten Truppen und insbesondere deren Atomwaffen ein.', 'Besseres Verhältnis zu Russland', 'Der „Kalte Krieg“ ist vorbei. Die USA bleiben unser Partner. Russland soll es werden. Die AfD setzt sich deshalb für ein Ende der Sanktionen und eine Verbesserung der Beziehungen zu Russland ein.', 'Keine europäische Armee', 'Gemeinsame europäische Streitkräfte lehnt die AfD ab und hält an einer umfassend befähigten Bundeswehr als Eckpfeiler deutscher Souveränität fest.', 'Wehrpflicht wieder einsetzen', 'Die AfD tritt dafür ein, für alle männlichen deutschen Staatsbürger im Alter zwischen 18 und 25 Jahren den Grundwehrdienst wieder einzusetzen.', 'Entwicklungshilfe', 'Entwicklungshilfe sollte stets „Hilfe zur Selbsthilfe“ sein. Die Auswanderung von Menschen in wirtschaftlicher Not nach Deutschland löst die Probleme vor Ort nicht. Fluchtursachen in den Herkunftsländern müssen bekämpft werden.', ' Nach oben ', 'Bundesagentur für Arbeit auflösen und kommunale „Jobcenter“ aufwerten', 'Die AfD will die Bundesagentur für Arbeit auﬂösen und ihre Aufgaben vor allem auf kommunale „Jobcenter“ übertragen. Danach gibt es nur noch einen öffentlichen Dienstleister am Arbeitsmarkt: das kommunale „Job-center“.', 'Mindestlohn beibehalten', 'Der Mindestlohn erlaubt eine Existenz jenseits der Armutsgrenze und die Finanzierung einer, wenn auch bescheidenen, Altersversorgung, die ansonsten im Wege staatlicher Unterstützung von der Gesellschaft zu tragen wäre. Die Alternative für Deutschland befürwortet daher die Beibehaltung des gesetzlichen Mindestlohns.', 'Kinder und Erziehungsleistung bei sozialer Sicherung sowie Rente berücksichtigen', 'Die AfD will die beispiellose Leistung von Eltern, die sie durch Geburt, Versorgung und Erziehung von Kindern erbringen, nicht nur ideell, sondern auch materiell anerkennen. Wir wollen daher die derzeitigen ﬁnanziellen Nachteile, die Familien mit Kindern gegenüber Kinderlosen haben, korrigieren. Wer durch die Erziehung von Kindern im Beruf zurückstecken musste, ist im Alter bei der Rente benachteiligt. Wir wollen daher die Kinderzahl und die Erziehungsleistung stärker als bisher bei der Rente berücksichtigen.', '„Aktivierende Grundsicherung” führt zu Arbeit, die sich lohnt', 'Die AfD will eine „Aktivierende Grundsicherung“ als Alternative zum Arbeitslosengeld II (sogenanntes „Hartz IV“) einführen. Dabei soll der der staatliche Unterstützungsbetrag erst ab einer bestimmten Einkommenshöhe in voller Höhe abgezogen werden, so dass derjenige, der arbeitet, auf jeden Fall mehr Geld zur Verfügung hat, als derjenige, der nicht arbeitet.', 'Pflege durch Angehörige aufwerten', 'Die Pﬂege älterer Menschen durch einen Dienst oder durch ein Heim wird höher vergütet als die Pﬂege durch einen Angehörigen. Wir glauben, dass die Pﬂege durch Familienangehörige mindestens genauso gut und wertvoll ist, wie durch einen externen Dienstleister. Deshalb sind die häuslichen Pﬂegesätze an die Leistungen für Pﬂegedienstleister anzugleichen.', ' Nach oben ', 'Bekenntnis zur traditionellen Familie als Leitbild', 'Die Alternative für Deutschland bekennt sich zur traditionellen Familie als Leitbild. Ehe und Familie stehen nach dem Grundgesetz zu Recht unter dem besonderen Schutz des Staates.', 'Mehr Kinder statt Masseneinwanderung', 'Den demograﬁschen Fehlentwicklungen in Deutschland muss entgegengewirkt werden. Die volkswirtschaftlich nicht tragfähige und konﬂiktträchtige Masseneinwanderung ist dafür kein geeignetes Mittel. Vielmehr muss mittels einer aktivierenden Familienpolitik eine höhere Geburtenrate der einheimischen Bevölkerung als mittel- und langfristig einzig tragfähige Lösung erreicht werden.', '– Eltern sollen zum Erwerb von Wohneigentum zinslose Darlehen erhalten, deren Schuldsumme sich mit jedem neugeborenen Kind vermindert. – Studenten, die während oder kurz nach Abschluss des Studiums Eltern werden, soll die Rückzahlung von Bafög-Darlehen erlassen werden. – Wer ein oder mehrere Kinder großgezogen hat, soll entsprechend früher in Rente gehen dürfen als Erwerbstätige, die sich dieser gesellschaftlichen Aufgabe nicht stellen konnten oder wollten.', 'Diskriminierung der Vollzeitmütter stoppen', 'Den Bedürfnissen unserer Kinder nach individueller Betreuung muss wieder Rechnung getragen werden. Die AfD fordert, dass bei unter Dreijährigen eine Betreuung, die Bindung ermöglicht, im Vordergrund steht. Wir wollen eine echte Wahlfreiheit zwischen Fremdbetreuung in Krippen oder familiennaher Betreuung durch Eltern, Großeltern, Kinderfrauen oder Tagesmütter. Kinder brauchen beide Eltern: Nach einer Trennung soll es für beide Elternteile im Sinne des Kindeswohles gewährleistet sein, weiterhin an der elterlichen Sorge und dem Umgang gleichberechtigt teilzuhaben.', 'Willkommenskultur für Neu- und Ungeborene', 'In Deutschland kommen auf rund 700.000 Lebendgeburten pro Jahr ca. 100.000 Schwangerschaftsabbrüche. Werdende Eltern und alleinstehenden Frauen in Not müssen ﬁnanzielle und andere Hilfen vor und nach der Entbindung angeboten werden, damit sie sich für ihr Kind entscheiden können. Die Alternative für Deutschland wendet sich gegen alle Versuche, Abtreibungen zu bagatellisieren, staatlicherseits zu fördern oder sie zu einem Menschenrecht zu erklären.', ' Nach oben ', 'Die AfD will den Einﬂuss der Parteien auf das Kulturleben zurückdrängen, gemeinnützige private Kulturstiftungen und bürgerschaftliche Kulturinitiativen stärken. Die aktuelle Verengung der deutschen Erinnerungskultur auf die Zeit des Nationalsozialismus ist zugunsten einer erweiterten Geschichtsbetrachtung aufzubrechen, die auch die positiven, identitätsstiftenden Aspekte deutscher Geschichte mit umfasst.', 'Deutsche Leitkultur statt Multikulturalismus', 'Die Alternative für Deutschland bekennt sich zur deutschen Leitkultur. Die Ideologie des Multikulturalismus betrachtet die AfD als ernste Bedrohung für den sozialen Frieden und für den Fortbestand der Nation als kulturelle Einheit. Ihr gegenüber müssen der Staat und die Zivilgesellschaft die deutsche kulturelle Identität selbstbewusst verteidigen.', 'Die deutsche Sprache als Zentrum unserer Identität', 'Als zentrales Element deutscher Identität muss die deutsche Sprache dem Vorbild vieler anderer Länder folgend als Staatssprache im Grundgesetz festgeschrieben werden. Auf EU-Ebene will die AfD dafür sorgen, dass das Deutsche dem Englischen und Französischen auch in der alltäglichen Praxis gleichgestellt wird. Die AfD sieht mit Sorge, wie die deutsche Sprache im Sinne einer falsch verstandenen „Internationalisierung“ durch das Englische ersetzt oder „gegendert” wird. Politisch „korrekte” Sprachvorgaben lehnen wir entschieden ab.', 'Der Islam gehört nicht zu Deutschland', 'Die AfD bekennt sich uneingeschränkt zur Glaubens-, Gewissens- und Bekenntnisfreiheit. Einer islamischen Glaubenspraxis, die sich gegen die freiheitlich-demokratische Grundordnung, unsere Gesetze sowie gegen die jüdisch-christlichen und humanistischen Grundlagen unserer Kultur richtet, tritt die AfD aber klar entgegen. Viele gemäßigte Muslime leben rechtstreu sowie integriert und sind akzeptierte und geschätzte Mitglieder unserer Gesellschaft. Sie gehören zu Deutschland. Der Islam gehört aber nicht zu Deutschland. Im Einzelnen fordern wir:', '– Verfassungsfeindlichen Vereinen soll der Bau und Betrieb von Moscheen untersagt werden. – Die Finanzierung des Baus und Betriebs von Moscheen durch islamische Staaten oder ausländische Geldgeber soll unterbunden werden. – Imame, die in Deutschland predigen wollen, bedürfen der staatlichen Zulassung. – Die AfD lehnt es ab, islamischen Organisationen den Status einer Körperschaft des öffentlichen Rechts zu verleihen. – Vollverschleierung in der Öffentlichkeit ist zu untersagen.', 'Für eine zeitgemäße Medienpolitik: Rundfunkbeitrag abschaffen', 'Die Zwangsﬁnanzierung des öffentlichen Rundfunks ist umgehend abzuschaffen und in ein Bezahlfernsehen umzuwandeln.', ' Nach oben ', 'Forschung und Lehre in Freiheit und als Einheit', 'Die AfD fühlt sich dem Humboldtschen Bildungsideal verpﬂichtet. Der Wissenschaftsbetrieb muss vor ausufernden bürokratischen Regelungen geschützt werden und die Wissenschaft frei von ideologischen Zwängen sein. Die Freiheit von Forschung und Lehre ist nur durch eine verlässliche staatliche Grundﬁnanzierung gewährleistet. Die AfD fordert deshalb, die oft politisch-ideologische Vergabe von staatlichen Drittmitteln durch eine Erhöhung der Grundﬁnanzierung zu ersetzen.', 'Wieder Diplom, Magister und Staatsexamen – keine “Gender-Forschung” mehr', 'Die Gender-Forschung erfüllt nicht den Anspruch, der an seriöse Forschung gestellt werden muss. Bestehende Gender-Professuren sollen nicht mehr nachbesetzt, laufende Gender-Forschungsprojekte nicht weiter verlängert werden. Die Änderung des bewährten Studiensystems durch die Einführung von Bachelor- und Masterstudiengänge (Bologna-Prozess) war insgesamt ein Missgriff. Die AfD fordert die Rückkehr zu den bewährten Studienabschlüssen Diplom, Magister und Staatsexamen mitsamt der entsprechenden Regularien.', 'Unser Schulsystem: Stark durch Differenzierung', 'Schüler haben unterschiedliche Begabungen und Bedürfnisse. Deshalb lehnt die AfD alle Arten von Gesamt- oder Einheitsschulen ab. Wir wollen das bewährte differenzierte Schulsystem erhalten. Unsere Kinder haben ein Recht darauf, in einem  und unten durchlässigen Schulsystem Erfolge, aber auch Niederlagen erfahren zu können.', 'Im Einzelnen fordern wir:', '– Statt der sogenannten „Kompetenzen“ müssen an den Oberschulen wieder Bildungsinhalte im Mittelpunkt eines vom Fachlehrer geleiteten Unterrichts stehen. – Wir wollen, dass an unseren Schulen wieder Leistung und Disziplin einziehen. – Die Wahlfreiheit zwischen Halbtags- und Ganztagsklassen muss erhalten bleiben. – Die duale Ausbildung in Unternehmen und staatlichen Berufsschulen ist ein Erfolgsmodell. Berufliche Fach- und Meisterschulen müssen als tragende Säulen der beruﬂichen Bildung und des lebenslangen Lernens erhalten und gestärkt werden. – Eine einseitige Hervorhebung der Homo- und Transsexualität lehnen wir ebenso entschieden ab wie die ideologische Beeinﬂussung durch das „Gender-Mainstreaming“. – Wir wollen keine ideologisch motivierte Inklusion „um jeden Preis“. Die AfD setzt sich für den Erhalt der Förder- und Sonderschulen ein. – Ebenso fordert die AfD, keine Frühsexualisierung in Krippen, Kindergärten und an den Schulen zuzulassen und die Verunsicherung der Kinder in Bezug auf ihre sexuelle Identität einzustellen. – Die AfD lehnt Geschlechterquoten im Studium oder in der Arbeitswelt generell ab, da Quoten leistungsfeindlich und ungerecht sind und andere Benachteiligungen schaffen.', ' Nach oben ', 'Deutschland ist aufgrund seiner geograﬁschen Lage, seiner Geschichte, Bevölkerung und dichten Besiedelung kein klassisches Einwanderungsland. Es ist notwendig, zwischen politisch Verfolgten und Kriegsﬂüchtlingen einerseits und irregulären Migranten andererseits zu unterscheiden. Die AfD setzt sich daher unter anderem für die Umsetzung folgender Maßnahmen ein:', '– Vollständige Schließung der EU-Außengrenzen. – In der Herkunftsregion von Flüchtlingsbewegungen, wie z.B. Nordafrika, werden Schutz- und Asylzentren in sicheren Staaten eingerichtet. Erst nach Anerkennung eines Schutzgrundes wird die sichere Reise nach Deutschland ermöglicht. – An allen deutschen Grenzen, an denen derzeit (noch) ungeregelte Einwanderung stattfindet, sind strenge Personenkontrollen einzuführen, um illegale Grenzübertritte zu verhindern. – Das individuelle Asylgrundrecht soll durch die grundgesetzliche Gewährleistung eines Asylgesetzes ersetzt werden. Das Asylrecht darf nicht länger als ein Vehikel der Masseneinwanderung missbraucht werden.', 'Schluss mit Fehlanreizen und falscher Nachsicht', 'Der wichtigste (Fehl-)Anreiz, über das Asylrecht in das deutsche Sozialsystem einzuwandern, ist die fehlende Durchsetzung der Ausreisepﬂicht gegenüber Ausländern, die nicht oder nicht mehr bleibeberechtigt sind. Alle rechtskräftig abgelehnten Asylbewerber sind unverzüglich außer Landes zu bringen, sofern sie nicht die entsprechenden Ausreiseaufforderungen freiwillig befolgen. Vollziehbar ausreisepﬂichtigen Ausländern dürfen nicht gleichzeitig Anreize zum Bleiben gegeben werden. Unter anderem ist ihre Sozialhilfe umgehend auf ein rechtlich zulässiges Minimum an Sachleistungen zurückzuführen. Eine freiwillige Ausreise ist besser als eine Abschiebung. Gerade wer aus rein wirtschaftlichen Motiven Asyl in Deutschland beantragt hat, kann – gegebenenfalls durch Gewährung einer einmaligen Starthilfe – zur freiwilligen Rückkehr bewogen werden.', 'Keine direkte Einwanderung in die Sozialsysteme', 'Das europäische Freizügigkeitsrecht hat zu massiven Wanderungsbewegungen innerhalb der Europäischen Union aus den ärmeren in die reicheren Staaten, insbesondere nach Deutschland geführt. Dabei muss die direkte Einwanderung in Sozialsysteme verhindert werden. Wir befürworten eine maßvolle legale Einwanderung aus Drittstaaten nach qualitativen Kriterien. Im Vordergrund stehen dabei die Interessen Deutschlands als Sozialstaat, Wirtschafts- und Kulturnation. Jeder Einwanderer hat eine unabdingbare Bringschuld, sich zu integrieren; er muss sich seiner neuen Heimat anpassen, nicht umgekehrt. Wer sich der Integration verweigert, muss sanktioniert werden und letztendlich auch sein Aufenthaltsrecht verlieren können. Die AfD lehnt den „Doppelpass“, also den Erwerb der deutschen Staatsangehörigkeit bei gleichzeitigem Fortbestand oder Erwerb einer anderen Staatsangehörigkeit grundsätzlich ab, was wohlbegründete Sonderfälle aber nicht ausschließt.', ' Nach oben ', 'Zentrale Prinzipien unserer wirtschaftspolitischen Leitlinien sind Eigentum, Eigenverantwortlichkeit und freie Preisbildung. Internationaler Handel ist die Grundlage unseres Wohlstands und des friedlichen Miteinanders. Wirtschaftliche Sanktionen halten wir grundsätzlich für falsch. Jegliche Übertragung von Souveränitäts- und Hoheitsrechten in Freihandelsabkommen auf Sonderschied-gerichte ist abzulehnen. Die AfD lehnt daher Handelsabkommen grundsätzlich ab, wenn diese intransparent und nicht öffentlich sowie ohne Beteiligung des Bundestages verhandelt werden, ohne ausgewogene Interessenwahrung der beteiligten Parteien gestaltet sind und unzulässig in nationales Recht eingreifen. Aus diesen Gründen werden von uns auch die geplanten Handelsabkommen TTIP, TISA und CETA abgelehnt.', 'Bürokratie abbauen, staatliche Subventionen reduzieren und Mittelstand stärken', 'Die AfD will ein investitions- und innovationsförderndes wirtschaftliches Umfeld. Wir wollen auf breiter Front deregulieren und Bürokratie abbauen. Den Subventionsdschungel von EU, Bund, Ländern, Kommunen und der Sonderfonds wollen wir so konsequent lichten, wie dies eine Prüfung auf Wirksamkeit und Efﬁzienz nahelegt. Sofern im Einzelfall Subventionen wirtschaftspolitisch sinnvoll erscheinen, sind sie zeitlich zu befristen. Unsere Mittelstandspolitik ist Ordnungspolitik. Die AfD lehnt Subventionen generell ab. Wir wollen gleiche Regeln für alle – ob groß, ob klein, in jeder Branche. Unser Ziel ist ein schlanker, aber starker Staat.', 'Quelloffene Software und sichere Kommunikation als Bürgerrecht', 'Die AfD fordert zumindest für die öffentliche Verwaltung in Deutschland den Einsatz von Betriebssystemen und Programmen, die über quelloffene Software erstellt worden sind und im Vorfeld überprüft werden können, ob unautorisierte Zugriffe möglich sind. Die sogenannte Ende-zu-Ende-Verschlüsselung darf nicht verboten oder anderweitig behindert werden. Die AfD sieht sichere Kommunikation als Bürgerrecht an.', 'Langlebige Produkte und Prüfung auf Schadstoffe vor Zulassung', 'Den Versuchen einzelner Hersteller, die Lebensdauer ihrer Produkte zum Nachteil des Kunden künstlich zu verkürzen, ist durch unabhängige Produkttests und der zeitnahen Veröffentlichung der Ergebnisse entgegenzuwirken. Waren, die möglicherweise risikobehaftete chemische Stoffe enthalten, sind einem strengen Prüfverfahren zu unterziehen, bevor sie in Deutschland in Verkehr gebracht werden dürfen. Dies gilt besonders für importierte Textilien und Kinderspielzeug.', 'Keine Privatisierung gegen den Willen der Bürger – Trinkwasser schützen', 'Über Privatisierungen sollen Bürgerentscheide auf der jeweiligen staatlichen Ebene entscheiden, insbesondere bei der öffentlichen Daseinsvorsorge und in Bezug auf öffentliches Wohn- und Grundeigentum. Die Einleitung von Schadstoffen in den Wasserkreislauf muss durch vorbeugenden Gewässerschutz verringert werden. Die kommunalen, dezentralen Wasserversorgungsbetriebe wollen wir unterstützen. Eine Privatisierung und damit Kommerzialisierung der Grundversorgung mit Trinkwasser lehnen wir ab.', ' Nach oben ', 'Wir treten für ein einfacheres und gerechteres Steuersystem ein, das mit niedrigen Steuern vor allem Mittel- und Geringverdiener ﬁnanziell entlastet.', 'Gerechte Steuern durch AfD-Stufentarif und Obergrenze für Steuern bzw. Abgaben', 'Wir wollen einen geänderten Einkommensteuertarif mit wenigen Stufen und einen deutlich höheren Grundfreibetrag. Die AfD strebt eine rechtsformneutrale Besteuerung an. Damit entfallen rein steuerliche Motive für komplexe gesellschaftsrechtliche Strukturen mit zusätzlichem Arbeitsaufwand bei Unternehmen und Behörden. Analog zur Schuldenbremse soll eine verbindliche Steuer- und Abgabenbremse ins Grundgesetz, um die maximale Summe der Belastung auf einen bestimmten Prozentsatz im Verhältnis zum Bruttoinlandsprodukt festzuschreiben. Steuern und Abgaben sollen in Zukunft nicht mehr beliebig erhöht werden können.', 'Familiensplitting einführen', 'Eltern, die Kinder bekommen und großziehen, haben für ihre Erwerbsbiographie erhebliche Erschwernisse. Zudem entstehen ihnen gegenüber Kinderlosen erhöhte Lebenshaltungskosten, die im derzeitigen Steuersystem nicht angemessen berücksichtigt werden. Wir wollen analog zum Ehegattensplitting die Familie als Erwerbsgemeinschaft verstehen und sie so steuerlich entlasten (Familiensplitting).', 'Wettbewerb nationaler Steuersysteme erhalten – Bankgeheimnis wiederherstellen', 'Die AfD will die nationale Steuererhebungskompetenz beibehalten und befürwortet den Wettbewerb nationaler Steuersysteme. Die AfD wendet sich entschieden gegen ein eigenes Steuererhebungsrecht der Europäischen Union. Die AfD setzt sich für die Wiederherstellung des Bank- und Steuergeheimnisses ein.', 'Staatsschulden planmäßig tilgen', 'Die AfD strebt die Rückkehr zu ausgeglichenen Staatshaushalten an. Sie befürwortet die schrittweise Rückführung der ausgeuferten öffentlichen Verschuldung. Das derzeit niedrige Zinsniveau gefährdet die Alterssicherung weiter Teile der Bevölkerung und kann deshalb auf Dauer nicht aufrecht erhalten werden.', 'Bargeldnutzung muss uneingeschränkt erhalten bleiben', 'Bargeldnutzung ist ein bürgerliches Freiheitsrecht. Wir treten dafür ein, das Bargeld uneingeschränkt als gesetzliches Zahlungsmittel zu erhalten – auch entgegen anders gerichteter Bestrebungen der Bundesregierung, des Internationalen Währungsfonds, der Europäischen Zentralbank und einiger EU-Mitgliedsstaaten.', 'Geldsystem überdenken, Gold heimholen', 'Aus Sorge um unser Geld will die AfD offen darüber diskutieren, ob grundsätzliche Reformen am Geldsystem und dem Kartell aus Zentral- und Geschäftsbanken notwendig sind. Damit Deutschland bei einer demokratischen Entscheidung hin zu stabilem Geld alle Optionen offen hat, wollen wir das Gold der Bundesbank ausschließlich in Deutschland aufbewahren.', ' Nach oben ', 'Klimaschutzpolitik: Irrweg beenden, Umwelt schützen', 'Das Klima wandelt sich, solange die Erde existiert. Die Klimaschutzpolitik der Bundesregierung beruht auf bisher unbewiesenen hypothetischen Klimamodellen. Das „Erneuerbare-Energien-Gesetz (EEG)“ ist staatliche Planwirtschaft und eine Abkehr von der Sozialen Marktwirtschaft. Begründet mit dem „Klimaschutz“ werden die sonst nicht marktfähigen Anlagen massiv subventioniert. Im Ergebnis ﬁndet eine gigantische Umverteilung von Vermögen statt, von der Bevölkerung und der Wirtschaft hin zu den wenigen Subventionsgewinnern. Die AfD tritt daher dafür ein, das EEG ersatzlos abzuschaffen. Die AfD wird sich dafür einsetzen, dass das als verfassungs- und europarechtswidrig eingestufte EEG vom Bundesverfassungsgericht geprüft wird.', 'Energieeinsparverordnung und Erneuerbare-Energien-Wärme-Gesetz abschaffen', 'Die staatliche Bevormundung der Besitzer von Gebäuden, der Wohneigentümer und Mieter für Maßnahmen zur Wärmedämmung und Erhöhung der Energie-Efﬁzienz in Gebäuden ist zu beenden. Energieeinsparverordnung (EnEV) und Erneuerbares-Energien-Wärme-Gesetz (EEWärmeG) führen zu einem rasanten Anstieg der Baukosten und dienen als Rechtfertigung für Luxus-Sanierungen. Dadurch sind die Mieten vieler Wohnungen für Bürger mit mittleren und geringen Einkommen kaum noch bezahlbar. Die AfD setzt sich dafür ein, zum Schutz von Mietern und Eigentümern die EnEV und das EEWärmeG ersatzlos zu streichen.', 'Bioenergie: Subventionen beenden, Vorrangeinspeisung einstellen', 'Wir setzen uns dafür ein, die Subventionierung und Vorrangeinspeisung des Stroms aus Biogasanlagen durch Abschaffen des EEG zu beenden. Die Subventionierung der Biokraftstoffe durch das Quotensystem ist einzustellen', 'Kernenergie: Alternativen erforschen – bis zur Umsetzung Laufzeitverlängerung', 'Die überhasteten Ausstiegsbeschlüsse aus der Kernkraft von 2002 und 2011 waren sachlich nicht begründet und wirtschaftlich schädlich. Solange die Stromversorgung nicht ausreichend gesichert ist, setzt sich die AfD dafür ein, eine Laufzeitverlängerung der noch in Betrieb beﬁndlichen Kernkraftwerke übergangsweise zu gestatten. Wir wollen die Forschung zur Kernenergie sowie Reaktor- und Kraftwerkstechnik wieder erlauben. Dabei sind selbstverständlich die nötigen Sicherheitsstandards einzuhalten. Die Nutzung der Kernenergie ist jedoch kein Selbstzweck und ihre zukünftige Ersetzung denkbar. Deshalb sind alle übrigen Energieformen weiter mit Nachdruck zu erforschen.', ' Nach oben ', 'Wir wollen eine intakte und vielfältige Natur erhalten. Eine gesunde Umwelt ist die Lebensgrundlage für alle Menschen und zukünftigen Generationen. Naturschutz darf nicht zu Lasten der Menschen gehen. Es muss aber im Meer genau wie zu Lande auch Gebiete geben, in denen die Natur völlig sich selbst überlassen bleibt. Sogenannte Nullnutzungszonen sichern das Überleben von vielen seltenen Pﬂanzen- und Tierarten.', 'Unkontrollierten Ausbau der Windenergie stoppen', 'Den weiteren Ausbau der Windenergie in Deutschland lehnen wir ab. Er bringt mehr Schaden als Nutzen. Windenergieanlagen sind nur noch ausnahmsweise an Standorten zuzulassen, an denen keine Beeinträchtigungen für Menschen, Tiere oder das Landschaftsbild zu erwarten sind.', 'Tiere sind fühlende Wesen', 'Die AfD setzt sich für eine konsequente Umsetzung der Tierschutzgesetze ein. Tiere sind Mitgeschöpfe und keine Sachgegenstände. Als fühlende Wesen haben Tiere ein Recht auf eine artgerechte Haltung im privaten wie im kommerziellen Bereich.', 'Gentechnik und Saatgutvielfalt', 'Der Einsatz von Gentechnik in Medizin und Landwirtschaft ist nur nach sorgfältigster Prüfung durch benannte Stellen in klar deﬁniertem Rahmen zu genehmigen. Gentechnisch veränderte Futter- und Lebensmittel oder aus diesen gewonnene weiterführende Produkte sind zu kennzeichnen. Die Patentierung von genetischem Material und von Saatgut geht einher mit einem zunehmenden Konzentrationsprozess im kommerziellen Saatguthandel. Daher setzt sich die AfD dafür ein, die Abhängigkeit unserer Nahrungsmittelversorgung von wenigen multinationalen Großkonzernen zu verringern, die Saatgutvielfalt zu erhalten und damit auch die Biodiversität unserer Nahrungsmittel.', 'Landwirtschaft: Mehr Wettbewerb, weniger Subventionen', 'Die AfD tritt dafür ein, dass landwirtschaftliche Flächen der Nahrungsmittelproduktion dienen und nicht zunehmend für andere Zwecke herangezogen werden. Wir sind davon überzeugt, dass moderne bäuerliche Betriebe mit Verwurzelung in den Regionen am besten geeignet sind, umwelt- und marktgerecht zu produzieren. Die EU-Subventionen nach dem Gießkannenprinzip sowie bürokratische Überreglementierungen sind Schritt für Schritt zurückzufahren. Die AfD spricht sich ausdrücklich gegen den Einsatz des von der Weltgesundheitsorganisation als wahrscheinlich krebserzeugend eingestuften Glyphosat beim Pﬂanzenschutz aus, solange dessen Unschädlichkeit für Mensch und Tier nicht fundiert nachgewiesen ist.', 'Fischerei, Forst und Jagd: Im Einklang mit der Natur', 'Unsere Fischer sind beim Beseitigen von Wettbewerbsnachteilen zu unterstützen und an der Fangmengenfestlegung zu beteiligen. Wir lehnen es ab, die Stellnetzﬁscherei in Ostseeschutzgebieten generell zu verbieten und die Naturschutz-Kernzonen auszuweiten. Die AfD setzt sich für eine naturgemäße Waldwirtschaft ein, die eine ganzheitliche Betrachtung des Waldes in seiner ökonomischen, ökologischen und sozialen Funktion zum Ziel hat. Die AfD bekennt sich zu den bewährten Grundsätzen der waidgerechten Hege und Jagd.', ' Nach oben ', 'Nach jahrelangen substanzgefährdenden Einsparungen im Bereich der Infrastruktur ist ein massiver Investitionsstau eingetreten. Bei den anstehenden Aufgaben hat der Werterhalt Priorität vor der Modernisierung und dem Neubau.', 'Öffentlich-Privat-Projekte: Transparenz statt Lobby', 'Die Rechnungshöfe sind bei öffentlichen Bauvorhaben und Öffentlich-Privat-Projekten gesetzlich zwingend mit einer dreistuﬁgen (projektvorbereitenden, planungsbegleitenden und baubegleitenden) fachtechnischen Prüfung und Kostenüberwachung zu beauftragen. Unternehmen der Öffentlichen Versorgung und der Daseinsvorsorge müssen in transparenten und demokratischen Strukturen organisiert werden. Die Leistungen sind an die Bürger grundsätzlich zu Gestehungspreisen abzugeben. Betriebsüberschüsse, Kapitalrücklagen oder Konzessionsabgaben dürfen keinesfalls als versteckte Steuern der Konsolidierung von Haushalten dienen, sondern müssen für Reparaturen, Modernisierungen und Neuinvestitionen eingesetzt werden.', 'Straßen- und Schienennetz: Substanz erhalten', 'Die Reparatur, der Werterhalt, und die Beseitigung von Engpässen in Straßen und Schienennetzen haben im Verkehrsbereich Vorrang vor spektakulären Großprojekten. Eine großräumige europaweite Verkehrsplanung für Straßen, Schienen, Wasserwege und im Luftverkehr ist in einen ständig fortzuschreibenden Bundes-Verkehrswegeplan einzubinden.', 'Freie Nutzung der Verkehrsmittel ohne Schikanen', 'Die AfD ist strikt gegen verkehrspolitische Schikanen, mit denen ein Umstieg auf den öffentlichen Nah- und Fernverkehr erzwungen werden soll. Die Autofahrer werden auf Deutschlands Straßen durch immer mehr Geschwindigkeitsbeschränkungen behindert. Die AfD lehnt alle Beschränkungen aus anderen Gründen als der Verkehrssicherheit ab.', 'Eine Perspektive für den ländlichen Raum', 'Die AfD will die ländlichen Regionen stärken. Zu einem lebenswerten ländlichen Raum zählen für uns eine intakte bäuerliche Landwirtschaft, eine funktionsfähige mittelständische Wirtschaft und eine ausreichende Infrastruktur. Das grundgesetzlich verankerte Selbstverwaltungs- und Selbstbestimmungsrecht der Kommunen wollen wir wiederbeleben. Die Benachteiligung ländlicher Gemeinden bei der Finanzverteilung wollen wir beenden, um den Kommunen ihre Handlungsfähigkeit zurückzugeben.', 'Wohnungspolitik', 'Wir wollen mehr Wohneigentum schaffen. Wohneigentum fördert die Heimatbindung und den Wunsch, das eigene Umfeld zu bewahren und zu erhalten. Dafür sind geeignete Maßnahmen zu treffen. Die Absenkung der Grunderwerbsteuer und die Stärkung der gemeinnützigen Wohnungsbaugenossenschaften und Wohnungsgesellschaften gehören zu diesen Maßnahmen.', ' Nach oben ', '', 'Unser Mitgliedermagazin mit Ereignissen und Aktivitäten aus Bund und Ländern.', '\\xa0', 'Alternative für Deutschland Bundesgeschäftsstelle Schillstraße 9 | 10785 Berlin Zentrale 030 – 220 23 000 Mitglieder 030 – 220 23 620 Mo – Fr \\xa0 9 – 12 Uhr und 13 – 17 Uhr ', '', 'Videos mit Stellungnahmen, Interviews und Aufzeichnungen von Veranstaltungen.']\n"
          ]
        }
      ]
    },
    {
      "cell_type": "markdown",
      "metadata": {
        "id": "8jW4D33OOmbB"
      },
      "source": [
        "\n",
        "# Spidering\n",
        "\n",
        "What if we want to to get a bunch of different pages from wikipedia. We would\n",
        "need to get the url for each of the pages we want. Typically, we want pages that\n",
        "are linked to by other pages and so we will need to parse pages and identify the\n",
        "links. Right now we will be retrieving all links in the body of the content\n",
        "analysis page.\n",
        "\n",
        "To do this we will need to find all the `<a>` (anchor) tags with `href`s\n",
        "(hyperlink references) inside of `<p>` tags. `href` can have many\n",
        "[different](http://stackoverflow.com/questions/4855168/what-is-href-and-why-is-\n",
        "it-used) [forms](https://en.wikipedia.org/wiki/Hyperlink#Hyperlinks_in_HTML) so\n",
        "dealing with them can be tricky, but generally, you will want to extract\n",
        "absolute or relative links. An absolute link is one you can follow without\n",
        "modification, while a relative link requires a base url that you will then\n",
        "append. Wikipedia uses relative urls for its internal links: below is an example\n",
        "for dealing with them."
      ]
    },
    {
      "cell_type": "code",
      "execution_count": null,
      "metadata": {
        "id": "qdkr4sdqOmbB",
        "colab": {
          "base_uri": "https://localhost:8080/"
        },
        "outputId": "875362cd-2914-4127-ff90-d4154e9d181e"
      },
      "outputs": [
        {
          "output_type": "stream",
          "name": "stdout",
          "text": [
            "[('https://en.wikipedia.org/wiki/Document', 4, 'documents'), ('https://en.wikipedia.org/wiki/Text_(literary_theory)', 5, 'texts'), ('https://en.wikipedia.org/wiki/Coding_(social_sciences)', 5, 'assigned labels (sometimes called codes)'), ('https://en.wikipedia.org/wiki/Semantics', 5, 'meaningful'), ('https://en.wikipedia.org/wiki/Text_(literary_theory)', 5, 'texts'), ('https://en.wikipedia.org/wiki/Quantitative_research', 5, 'quantitatively'), ('https://en.wikipedia.org/wiki/Statistics', 5, 'statistical methods'), ('https://en.wikipedia.org/wiki/Qualitative_research', 5, 'qualitative'), ('https://en.wikipedia.org/wiki/Text_(literary_theory)', 5, 'texts'), ('https://en.wikipedia.org/wiki/Machine_learning', 6, 'Machine learning')]\n"
          ]
        }
      ],
      "source": [
        "#wikipedia_base_url = 'https://en.wikipedia.org'\n",
        "\n",
        "otherPAgeURLS = []\n",
        "#We also want to know where the links come from so we also will get:\n",
        "#the paragraph number\n",
        "#the word the link is in\n",
        "for paragraphNum, pTag in enumerate(contentPTags):\n",
        "    #we only want hrefs that link to wiki pages\n",
        "    tagLinks = pTag.findAll('a', href=re.compile('/wiki/'), class_=False)\n",
        "    for aTag in tagLinks:\n",
        "        #We need to extract the url from the <a> tag\n",
        "        relurl = aTag.get('href')\n",
        "        linkText = aTag.text\n",
        "        #wikipedia_base_url is the base we can use the urllib joining function to merge them\n",
        "        #Giving a nice structured tupe like this means we can use tuple expansion later\n",
        "        otherPAgeURLS.append((\n",
        "            urllib.parse.urljoin(wikipedia_base_url, relurl),\n",
        "            paragraphNum,\n",
        "            linkText,\n",
        "        ))\n",
        "print(otherPAgeURLS[:10])"
      ]
    },
    {
      "cell_type": "code",
      "execution_count": null,
      "metadata": {
        "id": "VXTYESNnOmbC",
        "colab": {
          "base_uri": "https://localhost:8080/"
        },
        "outputId": "3fc6f14d-5625-44e9-f858-cbb91bd88fc0"
      },
      "outputs": [
        {
          "output_type": "stream",
          "name": "stdout",
          "text": [
            "[<p><b>South Asia </b>\n",
            "</p>, <p><b>Middle East</b>\n",
            "</p>, <p><b>Europe</b>\n",
            "</p>, <p><b>North America</b>\n",
            "</p>, <p><b>Content analysis</b> is the study of <a href=\"/wiki/Document\" title=\"Document\">documents</a> and communication artifacts, which might be texts of various formats, pictures, audio or video. Social scientists use content analysis to examine patterns in communication in a replicable and systematic manner.<sup class=\"reference\" id=\"cite_ref-1\"><a href=\"#cite_note-1\">[1]</a></sup> One of the key advantages of using content analysis to analyse social phenomena is its non-invasive nature, in contrast to simulating social experiences or collecting survey answers.\n",
            "</p>, <p>Practices and philosophies of content analysis vary between academic disciplines. They all involve systematic reading or observation of <a href=\"/wiki/Text_(literary_theory)\" title=\"Text (literary theory)\">texts</a> or artifacts which are <a href=\"/wiki/Coding_(social_sciences)\" title=\"Coding (social sciences)\">assigned labels (sometimes called codes)</a> to indicate the presence of interesting, <a href=\"/wiki/Semantics\" title=\"Semantics\">meaningful</a> pieces of content.<sup class=\"reference\" id=\"cite_ref-2\"><a href=\"#cite_note-2\">[2]</a></sup><sup class=\"reference\" id=\"cite_ref-Tipaldo_2014_42_3-0\"><a href=\"#cite_note-Tipaldo_2014_42-3\">[3]</a></sup> By systematically labeling the content of a set of <a href=\"/wiki/Text_(literary_theory)\" title=\"Text (literary theory)\">texts</a>, researchers can analyse patterns of content <a href=\"/wiki/Quantitative_research\" title=\"Quantitative research\">quantitatively</a> using <a href=\"/wiki/Statistics\" title=\"Statistics\">statistical methods</a>, or use <a href=\"/wiki/Qualitative_research\" title=\"Qualitative research\">qualitative</a> methods to analyse meanings of content within <a href=\"/wiki/Text_(literary_theory)\" title=\"Text (literary theory)\">texts</a>.\n",
            "</p>, <p>Computers are increasingly used in content analysis to automate the labeling (or coding) of documents. Simple computational techniques can provide descriptive data such as word frequencies and document lengths. <a href=\"/wiki/Machine_learning\" title=\"Machine learning\">Machine learning</a> classifiers can greatly increase the number of texts that can be labeled, but the scientific utility of doing so is a matter of debate. Further, numerous computer-aided text analysis (CATA) computer programs are available that analyze text for pre-determined linguistic, semantic, and psychological characteristics.<sup class=\"reference\" id=\"cite_ref-Neuendorf2016_4-0\"><a href=\"#cite_note-Neuendorf2016-4\">[4]</a></sup>\n",
            "</p>, <p>Content analysis is best understood as a broad family of techniques. Effective researchers choose techniques that best help them answer their substantive questions. That said, according to <a href=\"/wiki/Klaus_Krippendorff\" title=\"Klaus Krippendorff\">Klaus Krippendorff</a>, six questions must be addressed in every content analysis:<sup class=\"reference\" id=\"cite_ref-Krippendorff2004_5-0\"><a href=\"#cite_note-Krippendorff2004-5\">[5]</a></sup>\n",
            "</p>, <p>The simplest and most objective form of content analysis considers unambiguous characteristics of the text such as <a class=\"mw-redirect\" href=\"/wiki/Word_frequencies\" title=\"Word frequencies\">word frequencies</a>, the page area taken by a newspaper column, or the duration of a <a href=\"/wiki/Radio\" title=\"Radio\">radio</a> or <a href=\"/wiki/Television\" title=\"Television\">television</a> program. Analysis of simple word frequencies is limited because the meaning of a word depends on surrounding text.  <a href=\"/wiki/Key_Word_in_Context\" title=\"Key Word in Context\">Key Word In Context</a> (KWIC) routines address this by placing words in their textual context. This helps resolve ambiguities such as those introduced by <a href=\"/wiki/Synonym\" title=\"Synonym\">synonyms</a> and <a href=\"/wiki/Homonym\" title=\"Homonym\">homonyms</a>.\n",
            "</p>, <p>A further step in analysis is the distinction between dictionary-based (quantitative) approaches and qualitative approaches. Dictionary-based approaches set up a list of categories derived from the frequency list of words and control the distribution of words and their respective categories over the texts. While methods in quantitative content analysis in this way transform observations of found categories into quantitative statistical data, the qualitative content analysis focuses more on the intentionality and its implications. There are strong parallels between qualitative content analysis and <a href=\"/wiki/Thematic_analysis\" title=\"Thematic analysis\">thematic analysis</a>.<sup class=\"reference\" id=\"cite_ref-6\"><a href=\"#cite_note-6\">[6]</a></sup>\n",
            "</p>, <p>Quantitative content analysis highlights frequency counts and objective analysis of these coded frequencies.<sup class=\"reference\" id=\"cite_ref-:03_7-0\"><a href=\"#cite_note-:03-7\">[7]</a></sup> Additionally, quantitative content analysis begins with a framed hypothesis with coding decided on before the analysis begins. These coding categories are strictly relevant to the researcher's hypothesis. Quantitative analysis also takes a deductive approach.<sup class=\"reference\" id=\"cite_ref-:12_8-0\"><a href=\"#cite_note-:12-8\">[8]</a></sup>\n",
            "</p>, <p><a href=\"/wiki/Siegfried_Kracauer\" title=\"Siegfried Kracauer\">Siegfried Kracauer</a> provides a critique of quantitative analysis, asserting that it oversimplifies complex communications in order to be more reliable. On the other hand, qualitative analysis deals with the intricacies of latent interpretations, whereas quantitative has a focus on manifest meanings. He also acknowledges an \"overlap\" of qualitative and quantitative content analysis.<sup class=\"reference\" id=\"cite_ref-:03_7-1\"><a href=\"#cite_note-:03-7\">[7]</a></sup> Patterns are looked at more closely in qualitative analysis, and based on the latent meanings that the researcher may find, the course of the research could be changed. It is inductive and begins with open research questions, as opposed to a hypothesis.<sup class=\"reference\" id=\"cite_ref-:12_8-1\"><a href=\"#cite_note-:12-8\">[8]</a></sup>\n",
            "</p>, <p>With the rise of common computing facilities like PCs, computer-based methods of analysis are growing in popularity.<sup class=\"reference\" id=\"cite_ref-9\"><a href=\"#cite_note-9\">[9]</a></sup><sup class=\"reference\" id=\"cite_ref-10\"><a href=\"#cite_note-10\">[10]</a></sup><sup class=\"reference\" id=\"cite_ref-11\"><a href=\"#cite_note-11\">[11]</a></sup> Answers to open ended questions, newspaper articles, political party manifestos, medical records or systematic observations in experiments can all be subject to systematic analysis of textual data.\n",
            "</p>, <p>By having contents of communication available in form of machine readable texts, the input is analyzed for frequencies and coded into categories for building up inferences.\n",
            "</p>, <p>Computer-assisted analysis can help with large, electronic data sets by cutting out time and eliminating the need for multiple human coders to establish inter-coder reliability. However, human coders can still be employed for content analysis, as they are often more able to pick out nuanced and latent meanings in text. A study  found that human coders were able to evaluate a broader range and make inferences based on latent meanings.<sup class=\"reference\" id=\"cite_ref-12\"><a href=\"#cite_note-12\">[12]</a></sup>\n",
            "</p>, <p>Robert Weber notes: \"To make valid inferences from the text, it is important that the classification procedure be reliable in the sense of being consistent: Different people should code the same text in the same way\".<sup class=\"reference\" id=\"cite_ref-13\"><a href=\"#cite_note-13\">[13]</a></sup> The validity, inter-coder reliability and intra-coder reliability are subject to intense methodological research efforts over long years.<sup class=\"reference\" id=\"cite_ref-Krippendorff2004_5-1\"><a href=\"#cite_note-Krippendorff2004-5\">[5]</a></sup>\n",
            "Neuendorf suggests that when human coders are used in content analysis at least two independent coders should be used. Reliability of human coding is often measured using a statistical measure of <i>inter-coder reliability</i> or \"the amount of agreement or correspondence among two or more coders\".<sup class=\"reference\" id=\"cite_ref-Neuendorf2016_4-1\"><a href=\"#cite_note-Neuendorf2016-4\">[4]</a></sup> Lacy and Riffe identify the measurement of inter-coder reliability as a strength of quantitative content analysis, arguing that, if content analysts do not measure inter-coder reliability, their data are no more reliable than the subjective impressions of a single reader.<sup class=\"reference\" id=\"cite_ref-14\"><a href=\"#cite_note-14\">[14]</a></sup>\n",
            "</p>, <p>There are five types of texts in content analysis:\n",
            "</p>, <p>Content analysis is research using the categorization and classification of speech, written text, interviews, images, or other forms of communication.  In its beginnings, using the first newspapers at the end of the 19th century, analysis was done manually by measuring the number of columns given a subject. The approach can also be traced back to a university student studying patterns in Shakespeare's literature in 1893.<sup class=\"reference\" id=\"cite_ref-15\"><a href=\"#cite_note-15\">[15]</a></sup>\n",
            "</p>, <p>Over the years, content analysis has been applied to a variety of scopes. <a href=\"/wiki/Hermeneutics\" title=\"Hermeneutics\">Hermeneutics</a> and <a href=\"/wiki/Philology\" title=\"Philology\">philology</a> have long used content analysis to interpret sacred and profane texts and, in many cases, to attribute texts' <a class=\"mw-redirect\" href=\"/wiki/Authorship\" title=\"Authorship\">authorship</a> and <a href=\"/wiki/Authentication\" title=\"Authentication\">authenticity</a>.<sup class=\"reference\" id=\"cite_ref-Tipaldo_2014_42_3-1\"><a href=\"#cite_note-Tipaldo_2014_42-3\">[3]</a></sup><sup class=\"reference\" id=\"cite_ref-Krippendorff2004_5-2\"><a href=\"#cite_note-Krippendorff2004-5\">[5]</a></sup>\n",
            "</p>, <p>In recent times, particularly with the advent of <a href=\"/wiki/Mass_communication\" title=\"Mass communication\">mass communication</a>, content analysis has known an increasing use to deeply analyze and understand media content and <a class=\"new\" href=\"/w/index.php?title=Media_logic&amp;action=edit&amp;redlink=1\" title=\"Media logic (page does not exist)\">media logic</a>. \n",
            "The political scientist <a href=\"/wiki/Harold_Lasswell\" title=\"Harold Lasswell\">Harold Lasswell</a> formulated the core questions of content analysis in its early-mid 20th-century mainstream version: \"Who says what, to whom, why, to what extent and with what effect?\".<sup class=\"reference\" id=\"cite_ref-16\"><a href=\"#cite_note-16\">[16]</a></sup> The strong emphasis for a quantitative approach started up by Lasswell was finally carried out by another \"father\" of content analysis, <a href=\"/wiki/Bernard_Berelson\" title=\"Bernard Berelson\">Bernard Berelson</a>, who proposed a definition of content analysis which, from this point of view, is emblematic: \"a research technique for the objective, systematic and quantitative description of the manifest content of communication\".<sup class=\"reference\" id=\"cite_ref-Berelson1952_17-0\"><a href=\"#cite_note-Berelson1952-17\">[17]</a></sup>\n",
            "</p>, <p>Quantitative content analysis has enjoyed a renewed popularity in recent years thanks to technological advances and fruitful application in of mass communication and personal communication research. Content analysis of textual <a href=\"/wiki/Big_data\" title=\"Big data\">big data</a> produced by <a href=\"/wiki/New_media\" title=\"New media\">new media</a>, particularly <a href=\"/wiki/Social_media\" title=\"Social media\">social media</a> and <a class=\"mw-redirect\" href=\"/wiki/Mobile_devices\" title=\"Mobile devices\">mobile devices</a> has become popular. These approaches take a simplified view of language that ignores the complexity of semiosis, the process by which meaning is formed out of language. Quantitative content analysts have been criticized for limiting the scope of content analysis to simple counting, and for applying the measurement methodologies of the natural sciences without reflecting critically on their appropriateness to social science.<sup class=\"reference\" id=\"cite_ref-:0_18-0\"><a href=\"#cite_note-:0-18\">[18]</a></sup> Conversely, qualitative content analysts have been criticized for being insufficiently systematic and too impressionistic.<sup class=\"reference\" id=\"cite_ref-:0_18-1\"><a href=\"#cite_note-:0-18\">[18]</a></sup> Krippendorff argues that quantitative and qualitative approaches to content analysis tend to overlap, and that there can be no generalisable conclusion as to which approach is superior.<sup class=\"reference\" id=\"cite_ref-:0_18-2\"><a href=\"#cite_note-:0-18\">[18]</a></sup>\n",
            "</p>, <p>Content analysis can also be described as studying <a href=\"/wiki/Trace_evidence\" title=\"Trace evidence\">traces</a>, which are documents from past times, and artifacts, which are non-linguistic documents. Texts are understood to be produced by communication processes in a broad sense of that phrase—often gaining mean through <a href=\"/wiki/Abductive_reasoning\" title=\"Abductive reasoning\">abduction</a>.<sup class=\"reference\" id=\"cite_ref-Tipaldo_2014_42_3-2\"><a href=\"#cite_note-Tipaldo_2014_42-3\">[3]</a></sup><sup class=\"reference\" id=\"cite_ref-19\"><a href=\"#cite_note-19\">[19]</a></sup>\n",
            "</p>, <p>Manifest content is readily understandable at its face value. Its meaning is direct. Latent content is not as overt, and requires interpretation to uncover the meaning or implication.<sup class=\"reference\" id=\"cite_ref-20\"><a href=\"#cite_note-20\">[20]</a></sup>\n",
            "</p>, <p>Holsti groups fifteen uses of content analysis into three basic <a class=\"mw-redirect\" href=\"/wiki/Categorisation\" title=\"Categorisation\">categories</a>:<sup class=\"reference\" id=\"cite_ref-Holsti1969_21-0\"><a href=\"#cite_note-Holsti1969-21\">[21]</a></sup>\n",
            "</p>, <p>He also places these uses into the context of the basic communication <a href=\"/wiki/Paradigm\" title=\"Paradigm\">paradigm</a>.\n",
            "</p>, <p>The following table shows fifteen uses of content analysis in terms of their general purpose, element of the communication paradigm to which they apply, and the general question they are intended to answer.\n",
            "</p>, <p>As a counterpoint, there are limits to the scope of use for the procedures that characterize content analysis. In particular, if access to the goal of analysis can be obtained by direct means without material interference, then direct measurement techniques yield better data.<sup class=\"reference\" id=\"cite_ref-23\"><a href=\"#cite_note-23\">[23]</a></sup> Thus, while content analysis attempts to quantifiably describe <em>communications</em> whose features are primarily categorical——limited usually to a nominal or ordinal scale——via selected conceptual units (the <em>unitization</em>) which are assigned values (the <em>categorization</em>) for <em>enumeration</em> while monitoring <em>intercoder reliability</em>, if instead the target quantity manifestly is already directly measurable——typically on an interval or ratio scale——especially a continuous physical quantity, then such targets usually are not listed among those needing the \"subjective\" selections and formulations of content analysis.<sup class=\"reference\" id=\"cite_ref-24\"><a href=\"#cite_note-24\">[24]</a></sup><sup class=\"reference\" id=\"cite_ref-25\"><a href=\"#cite_note-25\">[25]</a></sup><sup class=\"reference\" id=\"cite_ref-26\"><a href=\"#cite_note-26\">[26]</a></sup><sup class=\"reference\" id=\"cite_ref-27\"><a href=\"#cite_note-27\">[27]</a></sup><sup class=\"reference\" id=\"cite_ref-28\"><a href=\"#cite_note-28\">[28]</a></sup><sup class=\"reference\" id=\"cite_ref-29\"><a href=\"#cite_note-29\">[29]</a></sup><sup class=\"reference\" id=\"cite_ref-30\"><a href=\"#cite_note-30\">[30]</a></sup><sup class=\"reference\" id=\"cite_ref-31\"><a href=\"#cite_note-31\">[31]</a></sup> For example (from mixed research and clinical application), as medical images <em>communicate</em> diagnostic features to physicians, <a href=\"/wiki/Neuroimaging\" title=\"Neuroimaging\">neuroimaging</a>'s <a href=\"/wiki/Stroke\" title=\"Stroke\">stroke</a> (infarct) volume scale called ASPECTS is <em>unitized</em> as 10 qualitatively delineated (unequal) brain regions in the <a href=\"/wiki/Middle_cerebral_artery\" title=\"Middle cerebral artery\">middle cerebral artery</a> territory, which it <em>categorizes</em> as being at least partly versus not at all infarcted in order to <em>enumerate</em> the latter, with published series often assessing <em>intercoder reliability</em> by <a href=\"/wiki/Cohen%27s_kappa\" title=\"Cohen's kappa\">Cohen's kappa</a>. The foregoing <em>italicized operations</em> impose the uncredited <em>form</em> of content analysis onto an estimation of infarct extent, which instead is easily enough and more accurately measured as a volume directly on the images.<sup class=\"reference\" id=\"cite_ref-32\"><a href=\"#cite_note-32\">[32]</a></sup><sup class=\"reference\" id=\"cite_ref-33\"><a href=\"#cite_note-33\">[33]</a></sup> (\"Accuracy ... is the highest form of reliability.\"<sup class=\"reference\" id=\"cite_ref-34\"><a href=\"#cite_note-34\">[34]</a></sup>) The concomitant clinical assessment, however, by the <a href=\"/wiki/National_Institutes_of_Health_Stroke_Scale\" title=\"National Institutes of Health Stroke Scale\">National Institutes of Health Stroke Scale</a> (NIHSS) or the <a href=\"/wiki/Modified_Rankin_Scale\" title=\"Modified Rankin Scale\">modified Rankin Scale</a> (mRS), retains the necessary form of content analysis. Recognizing potential limits of content analysis across the contents of language and images alike, <a href=\"/wiki/Klaus_Krippendorff\" title=\"Klaus Krippendorff\">Klaus Krippendorff</a> affirms that \"comprehen[sion] ... may ... not conform at all to the process of classification and/or counting by which most content analyses proceed,\"<sup class=\"reference\" id=\"cite_ref-35\"><a href=\"#cite_note-35\">[35]</a></sup> suggesting that content analysis might materially distort a message.\n",
            "</p>, <p>The process of the initial coding scheme or approach to coding is contingent on the particular content analysis approach selected. Through a directed content analysis, the scholars draft a preliminary coding scheme from pre-existing theory or assumptions. While with the conventional content analysis approach, the initial coding scheme developed from the data.\n",
            "</p>, <p>With either approach above, immersing oneself into the data to obtain an overall picture is recommendable for researchers to conduct. Furthermore, identifying a consistent and clear unit of coding is vital, and researchers' choices range from a single word to several paragraphs, from texts to iconic symbols. Last, constructing the relationships between codes by sorting out them within specific categories or themes.<sup class=\"reference\" id=\"cite_ref-36\"><a href=\"#cite_note-36\">[36]</a></sup>\n",
            "</p>, <p><br/>\n",
            "</p>]\n"
          ]
        }
      ],
      "source": [
        "print(contentPTags)"
      ]
    },
    {
      "cell_type": "markdown",
      "metadata": {
        "id": "-q30EjBVOmbC"
      },
      "source": [
        "Another excursion: Why do we use enumerate() here? enumerate() takes a collection, enumerates, and returns an enumate object with both the numbers and the collection. For example, contentPTags (the collection we used here) is comprised of paragraphs. We want the paragraph number of each paragraph. And this is what enumerate() does: it returns the paragraph number and the paragraph. "
      ]
    },
    {
      "cell_type": "markdown",
      "metadata": {
        "id": "kq15Be4lOmbC"
      },
      "source": [
        "We will be adding these new texts to our DataFrame `contentParagraphsDF` so we\n",
        "will need to add 2 more columns to keep track of paragraph numbers and sources."
      ]
    },
    {
      "cell_type": "code",
      "execution_count": null,
      "metadata": {
        "id": "bTC9HDnnOmbC",
        "colab": {
          "base_uri": "https://localhost:8080/",
          "height": 990
        },
        "outputId": "f8e00bbb-f5d3-4ca7-ecf8-1f42fed05002"
      },
      "outputs": [
        {
          "output_type": "execute_result",
          "data": {
            "text/html": [
              "\n",
              "  <div id=\"df-f43d9806-2fa0-4e8c-82b9-84fc12e76fc3\">\n",
              "    <div class=\"colab-df-container\">\n",
              "      <div>\n",
              "<style scoped>\n",
              "    .dataframe tbody tr th:only-of-type {\n",
              "        vertical-align: middle;\n",
              "    }\n",
              "\n",
              "    .dataframe tbody tr th {\n",
              "        vertical-align: top;\n",
              "    }\n",
              "\n",
              "    .dataframe thead th {\n",
              "        text-align: right;\n",
              "    }\n",
              "</style>\n",
              "<table border=\"1\" class=\"dataframe\">\n",
              "  <thead>\n",
              "    <tr style=\"text-align: right;\">\n",
              "      <th></th>\n",
              "      <th>paragraph-text</th>\n",
              "      <th>source</th>\n",
              "      <th>paragraph-number</th>\n",
              "    </tr>\n",
              "  </thead>\n",
              "  <tbody>\n",
              "    <tr>\n",
              "      <th>0</th>\n",
              "      <td>South Asia \\n</td>\n",
              "      <td>https://en.wikipedia.org/wiki/Content_analysis</td>\n",
              "      <td>0</td>\n",
              "    </tr>\n",
              "    <tr>\n",
              "      <th>1</th>\n",
              "      <td>Middle East\\n</td>\n",
              "      <td>https://en.wikipedia.org/wiki/Content_analysis</td>\n",
              "      <td>1</td>\n",
              "    </tr>\n",
              "    <tr>\n",
              "      <th>2</th>\n",
              "      <td>Europe\\n</td>\n",
              "      <td>https://en.wikipedia.org/wiki/Content_analysis</td>\n",
              "      <td>2</td>\n",
              "    </tr>\n",
              "    <tr>\n",
              "      <th>3</th>\n",
              "      <td>North America\\n</td>\n",
              "      <td>https://en.wikipedia.org/wiki/Content_analysis</td>\n",
              "      <td>3</td>\n",
              "    </tr>\n",
              "    <tr>\n",
              "      <th>4</th>\n",
              "      <td>Content analysis is the study of documents and...</td>\n",
              "      <td>https://en.wikipedia.org/wiki/Content_analysis</td>\n",
              "      <td>4</td>\n",
              "    </tr>\n",
              "    <tr>\n",
              "      <th>5</th>\n",
              "      <td>Practices and philosophies of content analysis...</td>\n",
              "      <td>https://en.wikipedia.org/wiki/Content_analysis</td>\n",
              "      <td>5</td>\n",
              "    </tr>\n",
              "    <tr>\n",
              "      <th>6</th>\n",
              "      <td>Computers are increasingly used in content ana...</td>\n",
              "      <td>https://en.wikipedia.org/wiki/Content_analysis</td>\n",
              "      <td>6</td>\n",
              "    </tr>\n",
              "    <tr>\n",
              "      <th>7</th>\n",
              "      <td>Content analysis is best understood as a broad...</td>\n",
              "      <td>https://en.wikipedia.org/wiki/Content_analysis</td>\n",
              "      <td>7</td>\n",
              "    </tr>\n",
              "    <tr>\n",
              "      <th>8</th>\n",
              "      <td>The simplest and most objective form of conten...</td>\n",
              "      <td>https://en.wikipedia.org/wiki/Content_analysis</td>\n",
              "      <td>8</td>\n",
              "    </tr>\n",
              "    <tr>\n",
              "      <th>9</th>\n",
              "      <td>A further step in analysis is the distinction ...</td>\n",
              "      <td>https://en.wikipedia.org/wiki/Content_analysis</td>\n",
              "      <td>9</td>\n",
              "    </tr>\n",
              "    <tr>\n",
              "      <th>10</th>\n",
              "      <td>Quantitative content analysis highlights frequ...</td>\n",
              "      <td>https://en.wikipedia.org/wiki/Content_analysis</td>\n",
              "      <td>10</td>\n",
              "    </tr>\n",
              "    <tr>\n",
              "      <th>11</th>\n",
              "      <td>Siegfried Kracauer provides a critique of quan...</td>\n",
              "      <td>https://en.wikipedia.org/wiki/Content_analysis</td>\n",
              "      <td>11</td>\n",
              "    </tr>\n",
              "    <tr>\n",
              "      <th>12</th>\n",
              "      <td>With the rise of common computing facilities l...</td>\n",
              "      <td>https://en.wikipedia.org/wiki/Content_analysis</td>\n",
              "      <td>12</td>\n",
              "    </tr>\n",
              "    <tr>\n",
              "      <th>13</th>\n",
              "      <td>By having contents of communication available ...</td>\n",
              "      <td>https://en.wikipedia.org/wiki/Content_analysis</td>\n",
              "      <td>13</td>\n",
              "    </tr>\n",
              "    <tr>\n",
              "      <th>14</th>\n",
              "      <td>Computer-assisted analysis can help with large...</td>\n",
              "      <td>https://en.wikipedia.org/wiki/Content_analysis</td>\n",
              "      <td>14</td>\n",
              "    </tr>\n",
              "    <tr>\n",
              "      <th>15</th>\n",
              "      <td>Robert Weber notes: \"To make valid inferences ...</td>\n",
              "      <td>https://en.wikipedia.org/wiki/Content_analysis</td>\n",
              "      <td>15</td>\n",
              "    </tr>\n",
              "    <tr>\n",
              "      <th>16</th>\n",
              "      <td>There are five types of texts in content analy...</td>\n",
              "      <td>https://en.wikipedia.org/wiki/Content_analysis</td>\n",
              "      <td>16</td>\n",
              "    </tr>\n",
              "    <tr>\n",
              "      <th>17</th>\n",
              "      <td>Content analysis is research using the categor...</td>\n",
              "      <td>https://en.wikipedia.org/wiki/Content_analysis</td>\n",
              "      <td>17</td>\n",
              "    </tr>\n",
              "    <tr>\n",
              "      <th>18</th>\n",
              "      <td>Over the years, content analysis has been appl...</td>\n",
              "      <td>https://en.wikipedia.org/wiki/Content_analysis</td>\n",
              "      <td>18</td>\n",
              "    </tr>\n",
              "    <tr>\n",
              "      <th>19</th>\n",
              "      <td>In recent times, particularly with the advent ...</td>\n",
              "      <td>https://en.wikipedia.org/wiki/Content_analysis</td>\n",
              "      <td>19</td>\n",
              "    </tr>\n",
              "    <tr>\n",
              "      <th>20</th>\n",
              "      <td>Quantitative content analysis has enjoyed a re...</td>\n",
              "      <td>https://en.wikipedia.org/wiki/Content_analysis</td>\n",
              "      <td>20</td>\n",
              "    </tr>\n",
              "    <tr>\n",
              "      <th>21</th>\n",
              "      <td>Content analysis can also be described as stud...</td>\n",
              "      <td>https://en.wikipedia.org/wiki/Content_analysis</td>\n",
              "      <td>21</td>\n",
              "    </tr>\n",
              "    <tr>\n",
              "      <th>22</th>\n",
              "      <td>Manifest content is readily understandable at ...</td>\n",
              "      <td>https://en.wikipedia.org/wiki/Content_analysis</td>\n",
              "      <td>22</td>\n",
              "    </tr>\n",
              "    <tr>\n",
              "      <th>23</th>\n",
              "      <td>Holsti groups fifteen uses of content analysis...</td>\n",
              "      <td>https://en.wikipedia.org/wiki/Content_analysis</td>\n",
              "      <td>23</td>\n",
              "    </tr>\n",
              "    <tr>\n",
              "      <th>24</th>\n",
              "      <td>He also places these uses into the context of ...</td>\n",
              "      <td>https://en.wikipedia.org/wiki/Content_analysis</td>\n",
              "      <td>24</td>\n",
              "    </tr>\n",
              "    <tr>\n",
              "      <th>25</th>\n",
              "      <td>The following table shows fifteen uses of cont...</td>\n",
              "      <td>https://en.wikipedia.org/wiki/Content_analysis</td>\n",
              "      <td>25</td>\n",
              "    </tr>\n",
              "    <tr>\n",
              "      <th>26</th>\n",
              "      <td>As a counterpoint, there are limits to the sco...</td>\n",
              "      <td>https://en.wikipedia.org/wiki/Content_analysis</td>\n",
              "      <td>26</td>\n",
              "    </tr>\n",
              "    <tr>\n",
              "      <th>27</th>\n",
              "      <td>The process of the initial coding scheme or ap...</td>\n",
              "      <td>https://en.wikipedia.org/wiki/Content_analysis</td>\n",
              "      <td>27</td>\n",
              "    </tr>\n",
              "    <tr>\n",
              "      <th>28</th>\n",
              "      <td>With either approach above, immersing oneself ...</td>\n",
              "      <td>https://en.wikipedia.org/wiki/Content_analysis</td>\n",
              "      <td>28</td>\n",
              "    </tr>\n",
              "    <tr>\n",
              "      <th>29</th>\n",
              "      <td>\\n</td>\n",
              "      <td>https://en.wikipedia.org/wiki/Content_analysis</td>\n",
              "      <td>29</td>\n",
              "    </tr>\n",
              "  </tbody>\n",
              "</table>\n",
              "</div>\n",
              "      <button class=\"colab-df-convert\" onclick=\"convertToInteractive('df-f43d9806-2fa0-4e8c-82b9-84fc12e76fc3')\"\n",
              "              title=\"Convert this dataframe to an interactive table.\"\n",
              "              style=\"display:none;\">\n",
              "        \n",
              "  <svg xmlns=\"http://www.w3.org/2000/svg\" height=\"24px\"viewBox=\"0 0 24 24\"\n",
              "       width=\"24px\">\n",
              "    <path d=\"M0 0h24v24H0V0z\" fill=\"none\"/>\n",
              "    <path d=\"M18.56 5.44l.94 2.06.94-2.06 2.06-.94-2.06-.94-.94-2.06-.94 2.06-2.06.94zm-11 1L8.5 8.5l.94-2.06 2.06-.94-2.06-.94L8.5 2.5l-.94 2.06-2.06.94zm10 10l.94 2.06.94-2.06 2.06-.94-2.06-.94-.94-2.06-.94 2.06-2.06.94z\"/><path d=\"M17.41 7.96l-1.37-1.37c-.4-.4-.92-.59-1.43-.59-.52 0-1.04.2-1.43.59L10.3 9.45l-7.72 7.72c-.78.78-.78 2.05 0 2.83L4 21.41c.39.39.9.59 1.41.59.51 0 1.02-.2 1.41-.59l7.78-7.78 2.81-2.81c.8-.78.8-2.07 0-2.86zM5.41 20L4 18.59l7.72-7.72 1.47 1.35L5.41 20z\"/>\n",
              "  </svg>\n",
              "      </button>\n",
              "      \n",
              "  <style>\n",
              "    .colab-df-container {\n",
              "      display:flex;\n",
              "      flex-wrap:wrap;\n",
              "      gap: 12px;\n",
              "    }\n",
              "\n",
              "    .colab-df-convert {\n",
              "      background-color: #E8F0FE;\n",
              "      border: none;\n",
              "      border-radius: 50%;\n",
              "      cursor: pointer;\n",
              "      display: none;\n",
              "      fill: #1967D2;\n",
              "      height: 32px;\n",
              "      padding: 0 0 0 0;\n",
              "      width: 32px;\n",
              "    }\n",
              "\n",
              "    .colab-df-convert:hover {\n",
              "      background-color: #E2EBFA;\n",
              "      box-shadow: 0px 1px 2px rgba(60, 64, 67, 0.3), 0px 1px 3px 1px rgba(60, 64, 67, 0.15);\n",
              "      fill: #174EA6;\n",
              "    }\n",
              "\n",
              "    [theme=dark] .colab-df-convert {\n",
              "      background-color: #3B4455;\n",
              "      fill: #D2E3FC;\n",
              "    }\n",
              "\n",
              "    [theme=dark] .colab-df-convert:hover {\n",
              "      background-color: #434B5C;\n",
              "      box-shadow: 0px 1px 3px 1px rgba(0, 0, 0, 0.15);\n",
              "      filter: drop-shadow(0px 1px 2px rgba(0, 0, 0, 0.3));\n",
              "      fill: #FFFFFF;\n",
              "    }\n",
              "  </style>\n",
              "\n",
              "      <script>\n",
              "        const buttonEl =\n",
              "          document.querySelector('#df-f43d9806-2fa0-4e8c-82b9-84fc12e76fc3 button.colab-df-convert');\n",
              "        buttonEl.style.display =\n",
              "          google.colab.kernel.accessAllowed ? 'block' : 'none';\n",
              "\n",
              "        async function convertToInteractive(key) {\n",
              "          const element = document.querySelector('#df-f43d9806-2fa0-4e8c-82b9-84fc12e76fc3');\n",
              "          const dataTable =\n",
              "            await google.colab.kernel.invokeFunction('convertToInteractive',\n",
              "                                                     [key], {});\n",
              "          if (!dataTable) return;\n",
              "\n",
              "          const docLinkHtml = 'Like what you see? Visit the ' +\n",
              "            '<a target=\"_blank\" href=https://colab.research.google.com/notebooks/data_table.ipynb>data table notebook</a>'\n",
              "            + ' to learn more about interactive tables.';\n",
              "          element.innerHTML = '';\n",
              "          dataTable['output_type'] = 'display_data';\n",
              "          await google.colab.output.renderOutput(dataTable, element);\n",
              "          const docLink = document.createElement('div');\n",
              "          docLink.innerHTML = docLinkHtml;\n",
              "          element.appendChild(docLink);\n",
              "        }\n",
              "      </script>\n",
              "    </div>\n",
              "  </div>\n",
              "  "
            ],
            "text/plain": [
              "                                       paragraph-text  ... paragraph-number\n",
              "0                                       South Asia \\n  ...                0\n",
              "1                                       Middle East\\n  ...                1\n",
              "2                                            Europe\\n  ...                2\n",
              "3                                     North America\\n  ...                3\n",
              "4   Content analysis is the study of documents and...  ...                4\n",
              "5   Practices and philosophies of content analysis...  ...                5\n",
              "6   Computers are increasingly used in content ana...  ...                6\n",
              "7   Content analysis is best understood as a broad...  ...                7\n",
              "8   The simplest and most objective form of conten...  ...                8\n",
              "9   A further step in analysis is the distinction ...  ...                9\n",
              "10  Quantitative content analysis highlights frequ...  ...               10\n",
              "11  Siegfried Kracauer provides a critique of quan...  ...               11\n",
              "12  With the rise of common computing facilities l...  ...               12\n",
              "13  By having contents of communication available ...  ...               13\n",
              "14  Computer-assisted analysis can help with large...  ...               14\n",
              "15  Robert Weber notes: \"To make valid inferences ...  ...               15\n",
              "16  There are five types of texts in content analy...  ...               16\n",
              "17  Content analysis is research using the categor...  ...               17\n",
              "18  Over the years, content analysis has been appl...  ...               18\n",
              "19  In recent times, particularly with the advent ...  ...               19\n",
              "20  Quantitative content analysis has enjoyed a re...  ...               20\n",
              "21  Content analysis can also be described as stud...  ...               21\n",
              "22  Manifest content is readily understandable at ...  ...               22\n",
              "23  Holsti groups fifteen uses of content analysis...  ...               23\n",
              "24  He also places these uses into the context of ...  ...               24\n",
              "25  The following table shows fifteen uses of cont...  ...               25\n",
              "26  As a counterpoint, there are limits to the sco...  ...               26\n",
              "27  The process of the initial coding scheme or ap...  ...               27\n",
              "28  With either approach above, immersing oneself ...  ...               28\n",
              "29                                                 \\n  ...               29\n",
              "\n",
              "[30 rows x 3 columns]"
            ]
          },
          "metadata": {},
          "execution_count": 105
        }
      ],
      "source": [
        "contentParagraphsDF['source'] = [wikipedia_content_analysis] * len(contentParagraphsDF['paragraph-text'])\n",
        "contentParagraphsDF['paragraph-number'] = range(len(contentParagraphsDF['paragraph-text']))\n",
        "\n",
        "contentParagraphsDF"
      ]
    },
    {
      "cell_type": "markdown",
      "metadata": {
        "id": "W4gwpoSiOmbC"
      },
      "source": [
        "Then we can add two more columns to our `Dataframe` and define a function to\n",
        "parse\n",
        "each linked page and add its text to our DataFrame."
      ]
    },
    {
      "cell_type": "code",
      "execution_count": null,
      "metadata": {
        "id": "x4bPl7pHOmbD"
      },
      "outputs": [],
      "source": [
        "contentParagraphsDF['source-paragraph-number'] = [None] * len(contentParagraphsDF['paragraph-text'])\n",
        "contentParagraphsDF['source-paragraph-text'] = [None] * len(contentParagraphsDF['paragraph-text'])\n",
        "\n",
        "def getTextFromWikiPage(targetURL, sourceParNum, sourceText):\n",
        "    #Make a dict to store data before adding it to the DataFrame\n",
        "    parsDict = {'source' : [], 'paragraph-number' : [], 'paragraph-text' : [], 'source-paragraph-number' : [],  'source-paragraph-text' : []}\n",
        "    #Now we get the page\n",
        "    r = requests.get(targetURL)\n",
        "    soup = bs4.BeautifulSoup(r.text, 'html.parser')\n",
        "    #enumerating gives use the paragraph number\n",
        "    for parNum, pTag in enumerate(soup.body.findAll('p')):\n",
        "        #same regex as before\n",
        "        parsDict['paragraph-text'].append(re.sub(r'\\[\\d+\\]', '', pTag.text))\n",
        "        parsDict['paragraph-number'].append(parNum)\n",
        "        parsDict['source'].append(targetURL)\n",
        "        parsDict['source-paragraph-number'].append(sourceParNum)\n",
        "        parsDict['source-paragraph-text'].append(sourceText)\n",
        "    return pandas.DataFrame(parsDict)"
      ]
    },
    {
      "cell_type": "markdown",
      "metadata": {
        "id": "06YOrHrSOmbD"
      },
      "source": [
        "And run it on our list of link tags"
      ]
    },
    {
      "cell_type": "code",
      "execution_count": null,
      "metadata": {
        "id": "R_H3t8gtOmbD"
      },
      "outputs": [],
      "source": [
        "for urlTuple in otherPAgeURLS[:3]:\n",
        "    #ignore_index means the indices will not be reset after each append\n",
        "    contentParagraphsDF = contentParagraphsDF.append(getTextFromWikiPage(*urlTuple),ignore_index=True)\n",
        "contentParagraphsDF"
      ]
    },
    {
      "cell_type": "markdown",
      "metadata": {
        "id": "JFgBxV4LOmbD"
      },
      "source": [
        "\n",
        "# <font color=\"red\">Exercise 2</font>\n",
        "<font color=\"red\">Construct cells immediately below this that spider webcontent from another site with content relating to your anticipated final project. Specifically, identify urls on a core page, then follow and extract content from them into a pandas `Dataframe`. In addition, demonstrate a *recursive* spider, which follows more than one level of links (i.e., follows links from a site, then follows links on followed sites to new sites, etc.), making sure to define a reasonable endpoint so that you do not wander the web forever :-).</font>\n",
        "\n"
      ]
    },
    {
      "cell_type": "code",
      "source": [
        "#i ran into an issue where the webpage i analyzed in exercise 1 does not link to any other webpages within its paragraphs\n",
        "#therefore i'm now spidering content from a wikipedia page related to the original website i was studying\n",
        "\n",
        "afdwiki_base_url = 'https://en.wikipedia.org/'\n",
        "afdwiki_article = 'https://en.wikipedia.org/wiki/Alternative_for_Germany'\n",
        "afdwiki_save = 'zeit_article.html'\n",
        "\n",
        "#download content and reduce it to text data\n",
        "\n",
        "afdn_content_request = requests.get(afdwiki_article)\n",
        "afdnContentSoup = bs4.BeautifulSoup(afdn_content_request.text, 'html.parser')\n",
        "\n",
        "#isolate paragraphs within the body of the website\n",
        "\n",
        "contentAfDnTags = afdnContentSoup.body.findAll('p')\n",
        "for pTag in contentAfDnTags[:100]:\n",
        "\n",
        "#remove repeating \"nach oben\" (this translates to \"back to the top [of the page]\") as it is unnecessary for the analysis\n",
        "\n",
        "  nonachobenx = []\n",
        "  for pTag in contentAfDnTags:\n",
        "    nonachobenx.append(re.sub(r'nach oben', '', pTag.text))\n",
        "\n",
        "#convert to a DataFrame\n",
        "\n",
        "afdwikiDF = pandas.DataFrame({'paragraph-text' : nonachobenx})\n",
        "\n",
        "#now perform spidering exercise\n",
        "#other wikipedia links linked to on article on afd:\n",
        "afdotherPAgeURLS = []\n",
        "for paragraphNum, pTag in enumerate(contentAfDnTags):\n",
        "    tagLinks = pTag.findAll('a', href=re.compile('/wiki/'), class_=False)\n",
        "    for aTag in tagLinks:\n",
        "        relurl = aTag.get('href')\n",
        "        linkText = aTag.text\n",
        "        afdotherPAgeURLS.append((\n",
        "            urllib.parse.urljoin(zeit_base_url, relurl),\n",
        "            paragraphNum,\n",
        "            linkText,\n",
        "        ))\n",
        "#amend existing dataframe\n",
        "\n",
        "\n",
        "afdwikiDF['source'] = [afdwiki_article] * len(afdwikiDF['paragraph-text'])\n",
        "afdwikiDF['paragraph-number'] = range(len(afdwikiDF['paragraph-text']))\n",
        "\n",
        "#parse linked wiki pages and add text to our dataframe\n",
        "\n",
        "afdwikiDF['source-paragraph-number'] = [None] * len(afdwikiDF['paragraph-text'])\n",
        "afdwikiDF['source-paragraph-text'] = [None] * len(afdwikiDF['paragraph-text'])\n",
        "\n",
        "def getTextFromWikiPage(targetURL, sourceParNum, sourceText):\n",
        "    #Make a dict to store data before adding it to the DataFrame\n",
        "    afdparsDict = {'source' : [], 'paragraph-number' : [], 'paragraph-text' : [], 'source-paragraph-number' : [],  'source-paragraph-text' : []}\n",
        "    #Now we get the page\n",
        "    r = requests.get(targetURL)\n",
        "    afdsoup = bs4.BeautifulSoup(r.text, 'html.parser')\n",
        "    #enumerating gives use the paragraph number\n",
        "    for parNum, pTag in enumerate(afdsoup.body.findAll('p')):\n",
        "        #same regex as before\n",
        "        afdparsDict['paragraph-text'].append(re.sub(r'\\[\\d+\\]', '', pTag.text))\n",
        "        afdparsDict['paragraph-number'].append(parNum)\n",
        "        afdparsDict['source'].append(targetURL)\n",
        "        afdparsDict['source-paragraph-number'].append(sourceParNum)\n",
        "        afdparsDict['source-paragraph-text'].append(sourceText)\n",
        "    return pandas.DataFrame(afdparsDict)\n",
        "\n",
        "#run this on link tags\n",
        "\n",
        "for urlTuple in afdotherPAgeURLS[:3]:\n",
        "    afdwikiDF = afdwikiDF.append(getTextFromWikiPage(*urlTuple),ignore_index=True)\n",
        "afdwikiDF"
      ],
      "metadata": {
        "colab": {
          "base_uri": "https://localhost:8080/",
          "height": 3776
        },
        "id": "Vy1X5v-R2-i4",
        "outputId": "94b29e84-1a22-4a83-e7f4-2633ab1ac3e0"
      },
      "execution_count": null,
      "outputs": [
        {
          "output_type": "execute_result",
          "data": {
            "text/html": [
              "\n",
              "  <div id=\"df-b2578b55-93f6-42d1-9162-cb8d06c98183\">\n",
              "    <div class=\"colab-df-container\">\n",
              "      <div>\n",
              "<style scoped>\n",
              "    .dataframe tbody tr th:only-of-type {\n",
              "        vertical-align: middle;\n",
              "    }\n",
              "\n",
              "    .dataframe tbody tr th {\n",
              "        vertical-align: top;\n",
              "    }\n",
              "\n",
              "    .dataframe thead th {\n",
              "        text-align: right;\n",
              "    }\n",
              "</style>\n",
              "<table border=\"1\" class=\"dataframe\">\n",
              "  <thead>\n",
              "    <tr style=\"text-align: right;\">\n",
              "      <th></th>\n",
              "      <th>paragraph-text</th>\n",
              "      <th>source</th>\n",
              "      <th>paragraph-number</th>\n",
              "      <th>source-paragraph-number</th>\n",
              "      <th>source-paragraph-text</th>\n",
              "    </tr>\n",
              "  </thead>\n",
              "  <tbody>\n",
              "    <tr>\n",
              "      <th>0</th>\n",
              "      <td>\\n</td>\n",
              "      <td>https://en.wikipedia.org/wiki/Alternative_for_...</td>\n",
              "      <td>0</td>\n",
              "      <td>None</td>\n",
              "      <td>None</td>\n",
              "    </tr>\n",
              "    <tr>\n",
              "      <th>1</th>\n",
              "      <td>\\n</td>\n",
              "      <td>https://en.wikipedia.org/wiki/Alternative_for_...</td>\n",
              "      <td>1</td>\n",
              "      <td>None</td>\n",
              "      <td>None</td>\n",
              "    </tr>\n",
              "    <tr>\n",
              "      <th>2</th>\n",
              "      <td>Alternative for Germany (German: Alternative f...</td>\n",
              "      <td>https://en.wikipedia.org/wiki/Alternative_for_...</td>\n",
              "      <td>2</td>\n",
              "      <td>None</td>\n",
              "      <td>None</td>\n",
              "    </tr>\n",
              "    <tr>\n",
              "      <th>3</th>\n",
              "      <td>Established in April 2013, AfD narrowly missed...</td>\n",
              "      <td>https://en.wikipedia.org/wiki/Alternative_for_...</td>\n",
              "      <td>3</td>\n",
              "      <td>None</td>\n",
              "      <td>None</td>\n",
              "    </tr>\n",
              "    <tr>\n",
              "      <th>4</th>\n",
              "      <td>AfD was founded by Gauland, Bernd Lucke, and f...</td>\n",
              "      <td>https://en.wikipedia.org/wiki/Alternative_for_...</td>\n",
              "      <td>4</td>\n",
              "      <td>None</td>\n",
              "      <td>None</td>\n",
              "    </tr>\n",
              "    <tr>\n",
              "      <th>...</th>\n",
              "      <td>...</td>\n",
              "      <td>...</td>\n",
              "      <td>...</td>\n",
              "      <td>...</td>\n",
              "      <td>...</td>\n",
              "    </tr>\n",
              "    <tr>\n",
              "      <th>257</th>\n",
              "      <td>Media freedom is a fundamental right that appl...</td>\n",
              "      <td>https://en.wikipedia.org/wiki/European_Union</td>\n",
              "      <td>182</td>\n",
              "      <td>2</td>\n",
              "      <td>European Union</td>\n",
              "    </tr>\n",
              "    <tr>\n",
              "      <th>258</th>\n",
              "      <td>The majority of media in the European Union ar...</td>\n",
              "      <td>https://en.wikipedia.org/wiki/European_Union</td>\n",
              "      <td>183</td>\n",
              "      <td>2</td>\n",
              "      <td>European Union</td>\n",
              "    </tr>\n",
              "    <tr>\n",
              "      <th>259</th>\n",
              "      <td>The MEDIA Programme of the European Union has ...</td>\n",
              "      <td>https://en.wikipedia.org/wiki/European_Union</td>\n",
              "      <td>184</td>\n",
              "      <td>2</td>\n",
              "      <td>European Union</td>\n",
              "    </tr>\n",
              "    <tr>\n",
              "      <th>260</th>\n",
              "      <td>The European Union has had a significant posit...</td>\n",
              "      <td>https://en.wikipedia.org/wiki/European_Union</td>\n",
              "      <td>185</td>\n",
              "      <td>2</td>\n",
              "      <td>European Union</td>\n",
              "    </tr>\n",
              "    <tr>\n",
              "      <th>261</th>\n",
              "      <td>The European Union has contributed to peace in...</td>\n",
              "      <td>https://en.wikipedia.org/wiki/European_Union</td>\n",
              "      <td>186</td>\n",
              "      <td>2</td>\n",
              "      <td>European Union</td>\n",
              "    </tr>\n",
              "  </tbody>\n",
              "</table>\n",
              "<p>262 rows × 5 columns</p>\n",
              "</div>\n",
              "      <button class=\"colab-df-convert\" onclick=\"convertToInteractive('df-b2578b55-93f6-42d1-9162-cb8d06c98183')\"\n",
              "              title=\"Convert this dataframe to an interactive table.\"\n",
              "              style=\"display:none;\">\n",
              "        \n",
              "  <svg xmlns=\"http://www.w3.org/2000/svg\" height=\"24px\"viewBox=\"0 0 24 24\"\n",
              "       width=\"24px\">\n",
              "    <path d=\"M0 0h24v24H0V0z\" fill=\"none\"/>\n",
              "    <path d=\"M18.56 5.44l.94 2.06.94-2.06 2.06-.94-2.06-.94-.94-2.06-.94 2.06-2.06.94zm-11 1L8.5 8.5l.94-2.06 2.06-.94-2.06-.94L8.5 2.5l-.94 2.06-2.06.94zm10 10l.94 2.06.94-2.06 2.06-.94-2.06-.94-.94-2.06-.94 2.06-2.06.94z\"/><path d=\"M17.41 7.96l-1.37-1.37c-.4-.4-.92-.59-1.43-.59-.52 0-1.04.2-1.43.59L10.3 9.45l-7.72 7.72c-.78.78-.78 2.05 0 2.83L4 21.41c.39.39.9.59 1.41.59.51 0 1.02-.2 1.41-.59l7.78-7.78 2.81-2.81c.8-.78.8-2.07 0-2.86zM5.41 20L4 18.59l7.72-7.72 1.47 1.35L5.41 20z\"/>\n",
              "  </svg>\n",
              "      </button>\n",
              "      \n",
              "  <style>\n",
              "    .colab-df-container {\n",
              "      display:flex;\n",
              "      flex-wrap:wrap;\n",
              "      gap: 12px;\n",
              "    }\n",
              "\n",
              "    .colab-df-convert {\n",
              "      background-color: #E8F0FE;\n",
              "      border: none;\n",
              "      border-radius: 50%;\n",
              "      cursor: pointer;\n",
              "      display: none;\n",
              "      fill: #1967D2;\n",
              "      height: 32px;\n",
              "      padding: 0 0 0 0;\n",
              "      width: 32px;\n",
              "    }\n",
              "\n",
              "    .colab-df-convert:hover {\n",
              "      background-color: #E2EBFA;\n",
              "      box-shadow: 0px 1px 2px rgba(60, 64, 67, 0.3), 0px 1px 3px 1px rgba(60, 64, 67, 0.15);\n",
              "      fill: #174EA6;\n",
              "    }\n",
              "\n",
              "    [theme=dark] .colab-df-convert {\n",
              "      background-color: #3B4455;\n",
              "      fill: #D2E3FC;\n",
              "    }\n",
              "\n",
              "    [theme=dark] .colab-df-convert:hover {\n",
              "      background-color: #434B5C;\n",
              "      box-shadow: 0px 1px 3px 1px rgba(0, 0, 0, 0.15);\n",
              "      filter: drop-shadow(0px 1px 2px rgba(0, 0, 0, 0.3));\n",
              "      fill: #FFFFFF;\n",
              "    }\n",
              "  </style>\n",
              "\n",
              "      <script>\n",
              "        const buttonEl =\n",
              "          document.querySelector('#df-b2578b55-93f6-42d1-9162-cb8d06c98183 button.colab-df-convert');\n",
              "        buttonEl.style.display =\n",
              "          google.colab.kernel.accessAllowed ? 'block' : 'none';\n",
              "\n",
              "        async function convertToInteractive(key) {\n",
              "          const element = document.querySelector('#df-b2578b55-93f6-42d1-9162-cb8d06c98183');\n",
              "          const dataTable =\n",
              "            await google.colab.kernel.invokeFunction('convertToInteractive',\n",
              "                                                     [key], {});\n",
              "          if (!dataTable) return;\n",
              "\n",
              "          const docLinkHtml = 'Like what you see? Visit the ' +\n",
              "            '<a target=\"_blank\" href=https://colab.research.google.com/notebooks/data_table.ipynb>data table notebook</a>'\n",
              "            + ' to learn more about interactive tables.';\n",
              "          element.innerHTML = '';\n",
              "          dataTable['output_type'] = 'display_data';\n",
              "          await google.colab.output.renderOutput(dataTable, element);\n",
              "          const docLink = document.createElement('div');\n",
              "          docLink.innerHTML = docLinkHtml;\n",
              "          element.appendChild(docLink);\n",
              "        }\n",
              "      </script>\n",
              "    </div>\n",
              "  </div>\n",
              "  "
            ],
            "text/plain": [
              "                                        paragraph-text  ... source-paragraph-text\n",
              "0                                                   \\n  ...                  None\n",
              "1                                                   \\n  ...                  None\n",
              "2    Alternative for Germany (German: Alternative f...  ...                  None\n",
              "3    Established in April 2013, AfD narrowly missed...  ...                  None\n",
              "4    AfD was founded by Gauland, Bernd Lucke, and f...  ...                  None\n",
              "..                                                 ...  ...                   ...\n",
              "257  Media freedom is a fundamental right that appl...  ...        European Union\n",
              "258  The majority of media in the European Union ar...  ...        European Union\n",
              "259  The MEDIA Programme of the European Union has ...  ...        European Union\n",
              "260  The European Union has had a significant posit...  ...        European Union\n",
              "261  The European Union has contributed to peace in...  ...        European Union\n",
              "\n",
              "[262 rows x 5 columns]"
            ]
          },
          "metadata": {},
          "execution_count": 115
        }
      ]
    },
    {
      "cell_type": "markdown",
      "metadata": {
        "id": "dXtaSZCkOmbE"
      },
      "source": [
        "## API (Tumblr)\n",
        "\n",
        "Generally website owners do not like you scraping their sites. If done badly,\n",
        "scarping can act like a DOS attack so you should be careful how often you make\n",
        "calls to a site. Some sites want automated tools to access their data, so they\n",
        "create [application programming interface\n",
        "(APIs)](https://en.wikipedia.org/wiki/Application_programming_interface). An API\n",
        "specifies a procedure for an application (or script) to access their data. Often\n",
        "this is though a [representational state transfer\n",
        "(REST)](https://en.wikipedia.org/wiki/Representational_state_transfer) web\n",
        "service, which just means if you make correctly formatted HTTP requests they\n",
        "will return nicely formatted data.\n",
        "\n",
        "A nice example for us to study is [Tumblr](https://www.tumblr.com), they have a\n",
        "[simple RESTful API](https://www.tumblr.com/docs/en/api/v1) that allows you to\n",
        "read posts without any complicated html parsing.\n",
        "\n",
        "We can get the first 20 posts from a blog by making an http GET request to\n",
        "`'http://{blog}.tumblr.com/api/read/json'`, were `{blog}` is the name of the\n",
        "target blog. Lets try and get the posts from [http://lolcats-lol-\n",
        "cat.tumblr.com/](http://lolcats-lol-cat.tumblr.com/) (Note the blog says at the\n",
        "top 'One hour one pic lolcats', but the canonical name that Tumblr uses is in\n",
        "the URL 'lolcats-lol-cat')."
      ]
    },
    {
      "cell_type": "code",
      "execution_count": null,
      "metadata": {
        "id": "MG5_q9A6OmbE",
        "colab": {
          "base_uri": "https://localhost:8080/"
        },
        "outputId": "0aa7835c-ce75-4d62-80cb-16d0c13d6273"
      },
      "outputs": [
        {
          "output_type": "stream",
          "name": "stdout",
          "text": [
            "var tumblr_api_read = {\"tumblelog\":{\"title\":\"One hour one pic lolcats\",\"description\":\"\",\"name\":\"lolcats-lol-cat\",\"timezone\":\"Europe\\/Paris\",\"cname\":false,\"feeds\":[]},\"posts-start\":0,\"posts-total\":3925,\"posts-type\":false,\"posts\":[{\"id\":\"662815854023655425\",\"url\":\"https:\\/\\/lolcats-lol-cat.tumblr.com\\/post\\/662815854023655425\",\"url-with-slug\":\"https:\\/\\/lolcats-lol-cat.tumblr.com\\/post\\/662815854023655425\",\"type\":\"photo\",\"date-gmt\":\"2021-09-20 04:00:56 GMT\",\"date\":\"Mon, 20 Sep 2021 06:00:56\",\"bookmarklet\":0,\"mobile\":0,\"feed-item\":\"\",\"from-feed-id\":0,\"unix-timestamp\":1632110456,\"format\":\"html\",\"reblog-key\":\"kjH8cg34\",\"slug\":\"\",\"is-submission\":false,\"like-button\":\"<div class=\\\"like_button\\\" data-post-id=\\\"662815854023655425\\\" data-blog-name=\\\"lolcats-lol-cat\\\" id=\\\"like_button_662815854023655425\\\"><iframe id=\\\"like_iframe_662815854023655425\\\" src=\\\"https:\\/\\/assets.tumblr.com\\/assets\\/html\\/like_iframe.html?_v=66c22ab5319d742bca5762b8d18f9d06#name=lolcats-lol-cat&amp;post_id=66281585402365\n"
          ]
        }
      ],
      "source": [
        "tumblrAPItarget = 'http://{}.tumblr.com/api/read/json'\n",
        "\n",
        "r = requests.get(tumblrAPItarget.format('lolcats-lol-cat'))\n",
        "\n",
        "print(r.text[:1000])"
      ]
    },
    {
      "cell_type": "markdown",
      "metadata": {
        "id": "fUyJcV_BOmbF"
      },
      "source": [
        "This might not look very good on first inspection, but it has far fewer angle\n",
        "braces than html, which makes it easier to parse. What we have is\n",
        "[JSON](https://en.wikipedia.org/wiki/JSON) a 'human readable' text based data\n",
        "transmission format based on javascript. Luckily, we can readily convert it to a\n",
        "python `dict`."
      ]
    },
    {
      "cell_type": "code",
      "execution_count": null,
      "metadata": {
        "id": "NAanoykvOmbF"
      },
      "outputs": [],
      "source": [
        "#We need to load only the stuff between the curly braces\n",
        "d = json.loads(r.text[len('var tumblr_api_read = '):-2])\n",
        "print(d.keys())\n",
        "print(len(d['posts']))"
      ]
    },
    {
      "cell_type": "markdown",
      "metadata": {
        "id": "qiJMc6rMOmbF"
      },
      "source": [
        "If we read the [API specification](https://www.tumblr.com/docs/en/api/v1), we\n",
        "will see there are a lot of things we can get if we add things to our GET\n",
        "request. First we can retrieve posts by their id number. Let's first get post\n",
        "`146020177084`."
      ]
    },
    {
      "cell_type": "code",
      "execution_count": null,
      "metadata": {
        "id": "BwWjv6WHOmbG"
      },
      "outputs": [],
      "source": [
        "r = requests.get(tumblrAPItarget.format('lolcats-lol-cat'), params = {'id' : 146020177084})\n",
        "d = json.loads(r.text[len('var tumblr_api_read = '):-2])\n",
        "d['posts'][0].keys()\n",
        "d['posts'][0]['photo-url-1280']\n",
        "\n",
        "with open('lolcat.gif', 'wb') as f:\n",
        "    gifRequest = requests.get(d['posts'][0]['photo-url-1280'], stream = True)\n",
        "    f.write(gifRequest.content)"
      ]
    },
    {
      "cell_type": "markdown",
      "metadata": {
        "id": "J3RRqYt-OmbG"
      },
      "source": [
        "<img src='lolcat.gif'>\n",
        "\n",
        "Such beauty; such vigor (If you can't see it you have to refresh the page). Now\n",
        "we could retrieve the text from all posts as well\n",
        "as related metadata, like the post date, caption or tags. We could also get\n",
        "links to all the images."
      ]
    },
    {
      "cell_type": "code",
      "execution_count": 119,
      "metadata": {
        "id": "KM33Tbc4OmbG",
        "colab": {
          "base_uri": "https://localhost:8080/",
          "height": 1000
        },
        "outputId": "a0b20d72-339b-4aa1-8480-0589fc253e59"
      },
      "outputs": [
        {
          "output_type": "execute_result",
          "data": {
            "text/html": [
              "\n",
              "  <div id=\"df-4bd0145a-3bb1-40f2-8cf7-ee32a0a236ca\">\n",
              "    <div class=\"colab-df-container\">\n",
              "      <div>\n",
              "<style scoped>\n",
              "    .dataframe tbody tr th:only-of-type {\n",
              "        vertical-align: middle;\n",
              "    }\n",
              "\n",
              "    .dataframe tbody tr th {\n",
              "        vertical-align: top;\n",
              "    }\n",
              "\n",
              "    .dataframe thead th {\n",
              "        text-align: right;\n",
              "    }\n",
              "</style>\n",
              "<table border=\"1\" class=\"dataframe\">\n",
              "  <thead>\n",
              "    <tr style=\"text-align: right;\">\n",
              "      <th></th>\n",
              "      <th>id</th>\n",
              "      <th>photo-url</th>\n",
              "      <th>date</th>\n",
              "      <th>tags</th>\n",
              "      <th>photo-type</th>\n",
              "    </tr>\n",
              "  </thead>\n",
              "  <tbody>\n",
              "    <tr>\n",
              "      <th>0</th>\n",
              "      <td>662815854023655425</td>\n",
              "      <td>https://64.media.tumblr.com/021eac8fbcafbb00a5...</td>\n",
              "      <td>Mon, 20 Sep 2021 06:00:56</td>\n",
              "      <td>[gif, lolcat, lolcats, cat, funny]</td>\n",
              "      <td>gif</td>\n",
              "    </tr>\n",
              "    <tr>\n",
              "      <th>1</th>\n",
              "      <td>662778109891952640</td>\n",
              "      <td>https://64.media.tumblr.com/8c0517adb8c71e4a3d...</td>\n",
              "      <td>Sun, 19 Sep 2021 20:01:00</td>\n",
              "      <td>[cat, cats, lol, lolcat, lolcats]</td>\n",
              "      <td>png</td>\n",
              "    </tr>\n",
              "    <tr>\n",
              "      <th>2</th>\n",
              "      <td>662657302700146688</td>\n",
              "      <td>https://64.media.tumblr.com/061d27cda309d5c809...</td>\n",
              "      <td>Sat, 18 Sep 2021 12:00:50</td>\n",
              "      <td>[cat, cats, lol, lolcat, lolcats]</td>\n",
              "      <td>jpg</td>\n",
              "    </tr>\n",
              "    <tr>\n",
              "      <th>3</th>\n",
              "      <td>662513901538246656</td>\n",
              "      <td>https://64.media.tumblr.com/80584a9d1ff4ddc4fc...</td>\n",
              "      <td>Thu, 16 Sep 2021 22:01:32</td>\n",
              "      <td>[cat, cats, lol, lolcat, lolcats]</td>\n",
              "      <td>png</td>\n",
              "    </tr>\n",
              "    <tr>\n",
              "      <th>4</th>\n",
              "      <td>662257177983090688</td>\n",
              "      <td>https://64.media.tumblr.com/893b320cd2e8970a20...</td>\n",
              "      <td>Tue, 14 Sep 2021 02:01:01</td>\n",
              "      <td>[cat, cats, lol, lolcat, lolcats]</td>\n",
              "      <td>jpg</td>\n",
              "    </tr>\n",
              "    <tr>\n",
              "      <th>5</th>\n",
              "      <td>662166591527698432</td>\n",
              "      <td>https://64.media.tumblr.com/c7f0a0a9184e480e15...</td>\n",
              "      <td>Mon, 13 Sep 2021 02:01:11</td>\n",
              "      <td>[cat, cats, lol, lolcat, lolcats]</td>\n",
              "      <td>jpg</td>\n",
              "    </tr>\n",
              "    <tr>\n",
              "      <th>6</th>\n",
              "      <td>662113740899090432</td>\n",
              "      <td>https://64.media.tumblr.com/07f7be7f71917a6049...</td>\n",
              "      <td>Sun, 12 Sep 2021 12:01:09</td>\n",
              "      <td>[cat, cats, lol, lolcat, lolcats]</td>\n",
              "      <td>jpg</td>\n",
              "    </tr>\n",
              "    <tr>\n",
              "      <th>7</th>\n",
              "      <td>661955166248026112</td>\n",
              "      <td>https://64.media.tumblr.com/205f030c48d31f8960...</td>\n",
              "      <td>Fri, 10 Sep 2021 18:00:40</td>\n",
              "      <td>[cat, cats, lol, lolcat, lolcats]</td>\n",
              "      <td>jpg</td>\n",
              "    </tr>\n",
              "    <tr>\n",
              "      <th>8</th>\n",
              "      <td>661894830378614784</td>\n",
              "      <td>https://64.media.tumblr.com/c463bff883fec2045b...</td>\n",
              "      <td>Fri, 10 Sep 2021 02:01:39</td>\n",
              "      <td>[cat, cats, lol, lolcat, lolcats]</td>\n",
              "      <td>png</td>\n",
              "    </tr>\n",
              "    <tr>\n",
              "      <th>9</th>\n",
              "      <td>661864596682964992</td>\n",
              "      <td>https://64.media.tumblr.com/b840ddb3aa2303206b...</td>\n",
              "      <td>Thu, 09 Sep 2021 18:01:06</td>\n",
              "      <td>[cat, cats, lol, lolcat, lolcats]</td>\n",
              "      <td>jpg</td>\n",
              "    </tr>\n",
              "    <tr>\n",
              "      <th>10</th>\n",
              "      <td>661826822696321024</td>\n",
              "      <td>https://64.media.tumblr.com/adc18e35b1844be41a...</td>\n",
              "      <td>Thu, 09 Sep 2021 08:00:42</td>\n",
              "      <td>[cat, cats, lol, lolcat, lolcats]</td>\n",
              "      <td>png</td>\n",
              "    </tr>\n",
              "    <tr>\n",
              "      <th>11</th>\n",
              "      <td>661804260632215552</td>\n",
              "      <td>https://64.media.tumblr.com/caae5b433ada6d6cb3...</td>\n",
              "      <td>Thu, 09 Sep 2021 02:02:05</td>\n",
              "      <td>[cat, cats, lol, lolcat, lolcats]</td>\n",
              "      <td>png</td>\n",
              "    </tr>\n",
              "    <tr>\n",
              "      <th>12</th>\n",
              "      <td>661766453508407296</td>\n",
              "      <td>https://64.media.tumblr.com/9d8cf92208aec32b93...</td>\n",
              "      <td>Wed, 08 Sep 2021 16:01:10</td>\n",
              "      <td>[cat, cats, lol, lolcat, lolcats]</td>\n",
              "      <td>jpg</td>\n",
              "    </tr>\n",
              "    <tr>\n",
              "      <th>13</th>\n",
              "      <td>661623017704685568</td>\n",
              "      <td>https://64.media.tumblr.com/4a5ae6732ab54227a4...</td>\n",
              "      <td>Tue, 07 Sep 2021 02:01:19</td>\n",
              "      <td>[cat, cats, lol, lolcat, lolcats]</td>\n",
              "      <td>jpg</td>\n",
              "    </tr>\n",
              "    <tr>\n",
              "      <th>14</th>\n",
              "      <td>661555057316298752</td>\n",
              "      <td>https://64.media.tumblr.com/c92a31829a6d88381e...</td>\n",
              "      <td>Mon, 06 Sep 2021 08:01:07</td>\n",
              "      <td>[cat, cats, lol, lolcat, lolcats]</td>\n",
              "      <td>jpg</td>\n",
              "    </tr>\n",
              "    <tr>\n",
              "      <th>15</th>\n",
              "      <td>661509804401065984</td>\n",
              "      <td>https://64.media.tumblr.com/2653be7b6e3a8efb9e...</td>\n",
              "      <td>Sun, 05 Sep 2021 20:01:50</td>\n",
              "      <td>[cat, cats, lol, lolcat, lolcats]</td>\n",
              "      <td>png</td>\n",
              "    </tr>\n",
              "    <tr>\n",
              "      <th>16</th>\n",
              "      <td>661411625970106368</td>\n",
              "      <td>https://64.media.tumblr.com/e508b4d0fcc083750b...</td>\n",
              "      <td>Sat, 04 Sep 2021 18:01:20</td>\n",
              "      <td>[cat, cats, lol, lolcat, lolcats]</td>\n",
              "      <td>jpg</td>\n",
              "    </tr>\n",
              "    <tr>\n",
              "      <th>17</th>\n",
              "      <td>661260621178945536</td>\n",
              "      <td>https://64.media.tumblr.com/28e64b8d19014a4c98...</td>\n",
              "      <td>Fri, 03 Sep 2021 02:01:10</td>\n",
              "      <td>[cat, cats, lol, lolcat, lolcats]</td>\n",
              "      <td>png</td>\n",
              "    </tr>\n",
              "    <tr>\n",
              "      <th>18</th>\n",
              "      <td>661177569862991872</td>\n",
              "      <td>https://64.media.tumblr.com/9ffadbe3e1d5fb20f8...</td>\n",
              "      <td>Thu, 02 Sep 2021 04:01:06</td>\n",
              "      <td>[cat, cats, lol, lolcat, lolcats]</td>\n",
              "      <td>png</td>\n",
              "    </tr>\n",
              "    <tr>\n",
              "      <th>19</th>\n",
              "      <td>661154964805140480</td>\n",
              "      <td>https://64.media.tumblr.com/27dce173c9e6cf3f05...</td>\n",
              "      <td>Wed, 01 Sep 2021 22:01:49</td>\n",
              "      <td>[cat, cats, lol, lolcat, lolcats]</td>\n",
              "      <td>jpg</td>\n",
              "    </tr>\n",
              "    <tr>\n",
              "      <th>20</th>\n",
              "      <td>660988818837651457</td>\n",
              "      <td>https://64.media.tumblr.com/02db958e8649c04d19...</td>\n",
              "      <td>Tue, 31 Aug 2021 02:00:59</td>\n",
              "      <td>[cat, cats, lol, lolcat, lolcats]</td>\n",
              "      <td>jpg</td>\n",
              "    </tr>\n",
              "    <tr>\n",
              "      <th>21</th>\n",
              "      <td>660935942249578496</td>\n",
              "      <td>https://64.media.tumblr.com/80b5d0f3c5636990b9...</td>\n",
              "      <td>Mon, 30 Aug 2021 12:00:32</td>\n",
              "      <td>[cat, cats, lol, lolcat, lolcats]</td>\n",
              "      <td>jpg</td>\n",
              "    </tr>\n",
              "    <tr>\n",
              "      <th>22</th>\n",
              "      <td>660905765646843905</td>\n",
              "      <td>https://64.media.tumblr.com/a2eb4c91986a0c1e23...</td>\n",
              "      <td>Mon, 30 Aug 2021 04:00:54</td>\n",
              "      <td>[cat, cats, lol, lolcat, lolcats]</td>\n",
              "      <td>jpg</td>\n",
              "    </tr>\n",
              "    <tr>\n",
              "      <th>23</th>\n",
              "      <td>660898202755661824</td>\n",
              "      <td>https://64.media.tumblr.com/061d27cda309d5c809...</td>\n",
              "      <td>Mon, 30 Aug 2021 02:00:41</td>\n",
              "      <td>[cat, cats, lol, lolcat, lolcats]</td>\n",
              "      <td>jpg</td>\n",
              "    </tr>\n",
              "    <tr>\n",
              "      <th>24</th>\n",
              "      <td>660883122996576256</td>\n",
              "      <td>https://64.media.tumblr.com/2d1137cbf0dbe21d8b...</td>\n",
              "      <td>Sun, 29 Aug 2021 22:01:00</td>\n",
              "      <td>[cat, cats, lol, lolcat, lolcats]</td>\n",
              "      <td>png</td>\n",
              "    </tr>\n",
              "    <tr>\n",
              "      <th>25</th>\n",
              "      <td>660732105459924992</td>\n",
              "      <td>https://64.media.tumblr.com/cccbbc09b009b581a9...</td>\n",
              "      <td>Sat, 28 Aug 2021 06:00:38</td>\n",
              "      <td>[cat, cats, lol, lolcat, lolcats]</td>\n",
              "      <td>jpg</td>\n",
              "    </tr>\n",
              "    <tr>\n",
              "      <th>26</th>\n",
              "      <td>660475424163364864</td>\n",
              "      <td>https://64.media.tumblr.com/9d700e79b1615fac2f...</td>\n",
              "      <td>Wed, 25 Aug 2021 10:00:48</td>\n",
              "      <td>[cat, cats, lol, lolcat, lolcats]</td>\n",
              "      <td>jpg</td>\n",
              "    </tr>\n",
              "    <tr>\n",
              "      <th>27</th>\n",
              "      <td>660324431590277120</td>\n",
              "      <td>https://64.media.tumblr.com/7cc2c0f675bc099be4...</td>\n",
              "      <td>Mon, 23 Aug 2021 18:00:50</td>\n",
              "      <td>[cat, cats, lol, lolcat, lolcats]</td>\n",
              "      <td>png</td>\n",
              "    </tr>\n",
              "    <tr>\n",
              "      <th>28</th>\n",
              "      <td>660196106964221952</td>\n",
              "      <td>https://64.media.tumblr.com/c024195387a46a6f77...</td>\n",
              "      <td>Sun, 22 Aug 2021 08:01:10</td>\n",
              "      <td>[cat, cats, lol, lolcat, lolcats]</td>\n",
              "      <td>png</td>\n",
              "    </tr>\n",
              "    <tr>\n",
              "      <th>29</th>\n",
              "      <td>660143257603506176</td>\n",
              "      <td>https://64.media.tumblr.com/fdf46563a9b09ec147...</td>\n",
              "      <td>Sat, 21 Aug 2021 18:01:09</td>\n",
              "      <td>[cat, cats, lol, lolcat, lolcats]</td>\n",
              "      <td>jpg</td>\n",
              "    </tr>\n",
              "    <tr>\n",
              "      <th>30</th>\n",
              "      <td>660060193333346304</td>\n",
              "      <td>https://64.media.tumblr.com/4183c34ae67f92f290...</td>\n",
              "      <td>Fri, 20 Aug 2021 20:00:53</td>\n",
              "      <td>[cat, cats, lol, lolcat, lolcats]</td>\n",
              "      <td>jpg</td>\n",
              "    </tr>\n",
              "    <tr>\n",
              "      <th>31</th>\n",
              "      <td>659743087466332160</td>\n",
              "      <td>https://64.media.tumblr.com/01c63fcc1d5fc2e0e0...</td>\n",
              "      <td>Tue, 17 Aug 2021 08:00:37</td>\n",
              "      <td>[cat, cats, lol, lolcat, lolcats]</td>\n",
              "      <td>png</td>\n",
              "    </tr>\n",
              "    <tr>\n",
              "      <th>32</th>\n",
              "      <td>659705393411391488</td>\n",
              "      <td>https://64.media.tumblr.com/42a1477d18728fb088...</td>\n",
              "      <td>Mon, 16 Aug 2021 22:01:30</td>\n",
              "      <td>[cat, cats, lol, lolcat, lolcats]</td>\n",
              "      <td>png</td>\n",
              "    </tr>\n",
              "    <tr>\n",
              "      <th>33</th>\n",
              "      <td>659660051218317312</td>\n",
              "      <td>https://64.media.tumblr.com/a4392b133ed186fad8...</td>\n",
              "      <td>Mon, 16 Aug 2021 10:00:48</td>\n",
              "      <td>[cat, cats, lol, lolcat, lolcats]</td>\n",
              "      <td>jpg</td>\n",
              "    </tr>\n",
              "    <tr>\n",
              "      <th>34</th>\n",
              "      <td>659539266591981568</td>\n",
              "      <td>https://64.media.tumblr.com/9024bc51ad17d40b80...</td>\n",
              "      <td>Sun, 15 Aug 2021 02:00:59</td>\n",
              "      <td>[cat, cats, lol, lolcat, lolcats]</td>\n",
              "      <td>jpg</td>\n",
              "    </tr>\n",
              "    <tr>\n",
              "      <th>35</th>\n",
              "      <td>659509078641557504</td>\n",
              "      <td>https://64.media.tumblr.com/12afb1b79928488a1a...</td>\n",
              "      <td>Sat, 14 Aug 2021 18:01:09</td>\n",
              "      <td>[cat, cats, lol, lolcat, lolcats]</td>\n",
              "      <td>png</td>\n",
              "    </tr>\n",
              "    <tr>\n",
              "      <th>36</th>\n",
              "      <td>659342999892967424</td>\n",
              "      <td>https://64.media.tumblr.com/29a90b59498d9ae55f...</td>\n",
              "      <td>Thu, 12 Aug 2021 22:01:24</td>\n",
              "      <td>[cat, cats, lol, lolcat, lolcats]</td>\n",
              "      <td>jpg</td>\n",
              "    </tr>\n",
              "    <tr>\n",
              "      <th>37</th>\n",
              "      <td>659108907014356992</td>\n",
              "      <td>https://64.media.tumblr.com/7a11be8b9524535da2...</td>\n",
              "      <td>Tue, 10 Aug 2021 08:00:36</td>\n",
              "      <td>[cat, cats, lol, lolcat, lolcats]</td>\n",
              "      <td>jpg</td>\n",
              "    </tr>\n",
              "    <tr>\n",
              "      <th>38</th>\n",
              "      <td>658867320238850049</td>\n",
              "      <td>https://64.media.tumblr.com/bf7efc7edad65675ad...</td>\n",
              "      <td>Sat, 07 Aug 2021 16:00:41</td>\n",
              "      <td>[cat, cats, lol, lolcat, lolcats]</td>\n",
              "      <td>jpg</td>\n",
              "    </tr>\n",
              "    <tr>\n",
              "      <th>39</th>\n",
              "      <td>658844675622453248</td>\n",
              "      <td>https://64.media.tumblr.com/c2b58415fe3fed86a2...</td>\n",
              "      <td>Sat, 07 Aug 2021 10:00:45</td>\n",
              "      <td>[cat, cats, lol, lolcat, lolcats]</td>\n",
              "      <td>jpg</td>\n",
              "    </tr>\n",
              "    <tr>\n",
              "      <th>40</th>\n",
              "      <td>658814510935769088</td>\n",
              "      <td>https://64.media.tumblr.com/d70155b2bdd5763cca...</td>\n",
              "      <td>Sat, 07 Aug 2021 02:01:18</td>\n",
              "      <td>[cat, cats, lol, lolcat, lolcats]</td>\n",
              "      <td>jpg</td>\n",
              "    </tr>\n",
              "    <tr>\n",
              "      <th>41</th>\n",
              "      <td>658338845753999360</td>\n",
              "      <td>https://64.media.tumblr.com/1fca341b03f832d679...</td>\n",
              "      <td>Sun, 01 Aug 2021 20:00:48</td>\n",
              "      <td>[cat, cats, lol, lolcat, lolcats]</td>\n",
              "      <td>png</td>\n",
              "    </tr>\n",
              "    <tr>\n",
              "      <th>42</th>\n",
              "      <td>658225598089609217</td>\n",
              "      <td>https://64.media.tumblr.com/07aad399cc881a2399...</td>\n",
              "      <td>Sat, 31 Jul 2021 14:00:47</td>\n",
              "      <td>[cat, cats, lol, lolcat, lolcats]</td>\n",
              "      <td>jpg</td>\n",
              "    </tr>\n",
              "    <tr>\n",
              "      <th>43</th>\n",
              "      <td>658210575863742464</td>\n",
              "      <td>https://64.media.tumblr.com/d5b0639155ee97c854...</td>\n",
              "      <td>Sat, 31 Jul 2021 10:02:00</td>\n",
              "      <td>[cat, cats, lol, lolcat, lolcats]</td>\n",
              "      <td>jpg</td>\n",
              "    </tr>\n",
              "    <tr>\n",
              "      <th>44</th>\n",
              "      <td>658165190497583104</td>\n",
              "      <td>https://64.media.tumblr.com/ea6ad0eae613c5f60f...</td>\n",
              "      <td>Fri, 30 Jul 2021 22:00:38</td>\n",
              "      <td>[gif, lolcat, lolcats, cat, funny]</td>\n",
              "      <td>gif</td>\n",
              "    </tr>\n",
              "    <tr>\n",
              "      <th>45</th>\n",
              "      <td>657946256220536832</td>\n",
              "      <td>https://64.media.tumblr.com/16cf3a5e394112f7d0...</td>\n",
              "      <td>Wed, 28 Jul 2021 12:00:46</td>\n",
              "      <td>[cat, cats, lol, lolcat, lolcats]</td>\n",
              "      <td>jpg</td>\n",
              "    </tr>\n",
              "    <tr>\n",
              "      <th>46</th>\n",
              "      <td>657931173576704000</td>\n",
              "      <td>https://64.media.tumblr.com/2b7dfb6b1677079a45...</td>\n",
              "      <td>Wed, 28 Jul 2021 08:01:02</td>\n",
              "      <td>[cat, cats, lol, lolcat, lolcats]</td>\n",
              "      <td>jpg</td>\n",
              "    </tr>\n",
              "    <tr>\n",
              "      <th>47</th>\n",
              "      <td>657312093673078784</td>\n",
              "      <td>https://64.media.tumblr.com/17fe9380eed8516e45...</td>\n",
              "      <td>Wed, 21 Jul 2021 12:01:01</td>\n",
              "      <td>[cat, cats, lol, lolcat, lolcats]</td>\n",
              "      <td>png</td>\n",
              "    </tr>\n",
              "    <tr>\n",
              "      <th>48</th>\n",
              "      <td>656677912834195456</td>\n",
              "      <td>https://64.media.tumblr.com/7c4e668dc5eb0e89ed...</td>\n",
              "      <td>Wed, 14 Jul 2021 12:00:59</td>\n",
              "      <td>[cat, cats, lol, lolcat, lolcats]</td>\n",
              "      <td>jpg</td>\n",
              "    </tr>\n",
              "    <tr>\n",
              "      <th>49</th>\n",
              "      <td>656647679801212928</td>\n",
              "      <td>https://64.media.tumblr.com/f411261fd1e6911697...</td>\n",
              "      <td>Wed, 14 Jul 2021 04:00:27</td>\n",
              "      <td>[cat, cats, lol, lolcat, lolcats]</td>\n",
              "      <td>jpg</td>\n",
              "    </tr>\n",
              "  </tbody>\n",
              "</table>\n",
              "</div>\n",
              "      <button class=\"colab-df-convert\" onclick=\"convertToInteractive('df-4bd0145a-3bb1-40f2-8cf7-ee32a0a236ca')\"\n",
              "              title=\"Convert this dataframe to an interactive table.\"\n",
              "              style=\"display:none;\">\n",
              "        \n",
              "  <svg xmlns=\"http://www.w3.org/2000/svg\" height=\"24px\"viewBox=\"0 0 24 24\"\n",
              "       width=\"24px\">\n",
              "    <path d=\"M0 0h24v24H0V0z\" fill=\"none\"/>\n",
              "    <path d=\"M18.56 5.44l.94 2.06.94-2.06 2.06-.94-2.06-.94-.94-2.06-.94 2.06-2.06.94zm-11 1L8.5 8.5l.94-2.06 2.06-.94-2.06-.94L8.5 2.5l-.94 2.06-2.06.94zm10 10l.94 2.06.94-2.06 2.06-.94-2.06-.94-.94-2.06-.94 2.06-2.06.94z\"/><path d=\"M17.41 7.96l-1.37-1.37c-.4-.4-.92-.59-1.43-.59-.52 0-1.04.2-1.43.59L10.3 9.45l-7.72 7.72c-.78.78-.78 2.05 0 2.83L4 21.41c.39.39.9.59 1.41.59.51 0 1.02-.2 1.41-.59l7.78-7.78 2.81-2.81c.8-.78.8-2.07 0-2.86zM5.41 20L4 18.59l7.72-7.72 1.47 1.35L5.41 20z\"/>\n",
              "  </svg>\n",
              "      </button>\n",
              "      \n",
              "  <style>\n",
              "    .colab-df-container {\n",
              "      display:flex;\n",
              "      flex-wrap:wrap;\n",
              "      gap: 12px;\n",
              "    }\n",
              "\n",
              "    .colab-df-convert {\n",
              "      background-color: #E8F0FE;\n",
              "      border: none;\n",
              "      border-radius: 50%;\n",
              "      cursor: pointer;\n",
              "      display: none;\n",
              "      fill: #1967D2;\n",
              "      height: 32px;\n",
              "      padding: 0 0 0 0;\n",
              "      width: 32px;\n",
              "    }\n",
              "\n",
              "    .colab-df-convert:hover {\n",
              "      background-color: #E2EBFA;\n",
              "      box-shadow: 0px 1px 2px rgba(60, 64, 67, 0.3), 0px 1px 3px 1px rgba(60, 64, 67, 0.15);\n",
              "      fill: #174EA6;\n",
              "    }\n",
              "\n",
              "    [theme=dark] .colab-df-convert {\n",
              "      background-color: #3B4455;\n",
              "      fill: #D2E3FC;\n",
              "    }\n",
              "\n",
              "    [theme=dark] .colab-df-convert:hover {\n",
              "      background-color: #434B5C;\n",
              "      box-shadow: 0px 1px 3px 1px rgba(0, 0, 0, 0.15);\n",
              "      filter: drop-shadow(0px 1px 2px rgba(0, 0, 0, 0.3));\n",
              "      fill: #FFFFFF;\n",
              "    }\n",
              "  </style>\n",
              "\n",
              "      <script>\n",
              "        const buttonEl =\n",
              "          document.querySelector('#df-4bd0145a-3bb1-40f2-8cf7-ee32a0a236ca button.colab-df-convert');\n",
              "        buttonEl.style.display =\n",
              "          google.colab.kernel.accessAllowed ? 'block' : 'none';\n",
              "\n",
              "        async function convertToInteractive(key) {\n",
              "          const element = document.querySelector('#df-4bd0145a-3bb1-40f2-8cf7-ee32a0a236ca');\n",
              "          const dataTable =\n",
              "            await google.colab.kernel.invokeFunction('convertToInteractive',\n",
              "                                                     [key], {});\n",
              "          if (!dataTable) return;\n",
              "\n",
              "          const docLinkHtml = 'Like what you see? Visit the ' +\n",
              "            '<a target=\"_blank\" href=https://colab.research.google.com/notebooks/data_table.ipynb>data table notebook</a>'\n",
              "            + ' to learn more about interactive tables.';\n",
              "          element.innerHTML = '';\n",
              "          dataTable['output_type'] = 'display_data';\n",
              "          await google.colab.output.renderOutput(dataTable, element);\n",
              "          const docLink = document.createElement('div');\n",
              "          docLink.innerHTML = docLinkHtml;\n",
              "          element.appendChild(docLink);\n",
              "        }\n",
              "      </script>\n",
              "    </div>\n",
              "  </div>\n",
              "  "
            ],
            "text/plain": [
              "                    id  ... photo-type\n",
              "0   662815854023655425  ...        gif\n",
              "1   662778109891952640  ...        png\n",
              "2   662657302700146688  ...        jpg\n",
              "3   662513901538246656  ...        png\n",
              "4   662257177983090688  ...        jpg\n",
              "5   662166591527698432  ...        jpg\n",
              "6   662113740899090432  ...        jpg\n",
              "7   661955166248026112  ...        jpg\n",
              "8   661894830378614784  ...        png\n",
              "9   661864596682964992  ...        jpg\n",
              "10  661826822696321024  ...        png\n",
              "11  661804260632215552  ...        png\n",
              "12  661766453508407296  ...        jpg\n",
              "13  661623017704685568  ...        jpg\n",
              "14  661555057316298752  ...        jpg\n",
              "15  661509804401065984  ...        png\n",
              "16  661411625970106368  ...        jpg\n",
              "17  661260621178945536  ...        png\n",
              "18  661177569862991872  ...        png\n",
              "19  661154964805140480  ...        jpg\n",
              "20  660988818837651457  ...        jpg\n",
              "21  660935942249578496  ...        jpg\n",
              "22  660905765646843905  ...        jpg\n",
              "23  660898202755661824  ...        jpg\n",
              "24  660883122996576256  ...        png\n",
              "25  660732105459924992  ...        jpg\n",
              "26  660475424163364864  ...        jpg\n",
              "27  660324431590277120  ...        png\n",
              "28  660196106964221952  ...        png\n",
              "29  660143257603506176  ...        jpg\n",
              "30  660060193333346304  ...        jpg\n",
              "31  659743087466332160  ...        png\n",
              "32  659705393411391488  ...        png\n",
              "33  659660051218317312  ...        jpg\n",
              "34  659539266591981568  ...        jpg\n",
              "35  659509078641557504  ...        png\n",
              "36  659342999892967424  ...        jpg\n",
              "37  659108907014356992  ...        jpg\n",
              "38  658867320238850049  ...        jpg\n",
              "39  658844675622453248  ...        jpg\n",
              "40  658814510935769088  ...        jpg\n",
              "41  658338845753999360  ...        png\n",
              "42  658225598089609217  ...        jpg\n",
              "43  658210575863742464  ...        jpg\n",
              "44  658165190497583104  ...        gif\n",
              "45  657946256220536832  ...        jpg\n",
              "46  657931173576704000  ...        jpg\n",
              "47  657312093673078784  ...        png\n",
              "48  656677912834195456  ...        jpg\n",
              "49  656647679801212928  ...        jpg\n",
              "\n",
              "[50 rows x 5 columns]"
            ]
          },
          "metadata": {},
          "execution_count": 119
        }
      ],
      "source": [
        "#Putting a max in case the blog has millions of images\n",
        "#The given max will be rounded up to the nearest multiple of 50\n",
        "def tumblrImageScrape(blogName, maxImages = 200):\n",
        "    #Restating this here so the function isn't dependent on any external variables\n",
        "    tumblrAPItarget = 'http://{}.tumblr.com/api/read/json'\n",
        "\n",
        "    #There are a bunch of possible locations for the photo url\n",
        "    possiblePhotoSuffixes = [1280, 500, 400, 250, 100]\n",
        "\n",
        "    #These are the pieces of information we will be gathering,\n",
        "    #at the end we will convert this to a DataFrame.\n",
        "    #There are a few other datums we could gather like the captions\n",
        "    #you can read the Tumblr documentation to learn how to get them\n",
        "    #https://www.tumblr.com/docs/en/api/v1\n",
        "    postsData = {\n",
        "        'id' : [],\n",
        "        'photo-url' : [],\n",
        "        'date' : [],\n",
        "        'tags' : [],\n",
        "        'photo-type' : []\n",
        "    }\n",
        "\n",
        "    #Tumblr limits us to a max of 50 posts per request\n",
        "    for requestNum in range(maxImages // 50):\n",
        "        requestParams = {\n",
        "            'start' : requestNum * 50,\n",
        "            'num' : 50,\n",
        "            'type' : 'photo'\n",
        "        }\n",
        "        r = requests.get(tumblrAPItarget.format(blogName), params = requestParams)\n",
        "        requestDict = json.loads(r.text[len('var tumblr_api_read = '):-2])\n",
        "        for postDict in requestDict['posts']:\n",
        "            #We are dealing with uncleaned data, we can't trust it.\n",
        "            #Specifically, not all posts are guaranteed to have the fields we want\n",
        "            try:\n",
        "                postsData['id'].append(postDict['id'])\n",
        "                postsData['date'].append(postDict['date'])\n",
        "                postsData['tags'].append(postDict['tags'])\n",
        "            except KeyError as e:\n",
        "                raise KeyError(\"Post {} from {} is missing: {}\".format(postDict['id'], blogName, e))\n",
        "\n",
        "            foundSuffix = False\n",
        "            for suffix in possiblePhotoSuffixes:\n",
        "                try:\n",
        "                    photoURL = postDict['photo-url-{}'.format(suffix)]\n",
        "                    postsData['photo-url'].append(photoURL)\n",
        "                    postsData['photo-type'].append(photoURL.split('.')[-1])\n",
        "                    foundSuffix = True\n",
        "                    break\n",
        "                except KeyError:\n",
        "                    pass\n",
        "            if not foundSuffix:\n",
        "                #Make sure your error messages are useful\n",
        "                #You will be one of the users\n",
        "                raise KeyError(\"Post {} from {} is missing a photo url\".format(postDict['id'], blogName))\n",
        "\n",
        "    return pandas.DataFrame(postsData)\n",
        "tumblrImageScrape('lolcats-lol-cat', 50)"
      ]
    },
    {
      "cell_type": "markdown",
      "metadata": {
        "id": "CswLIJBZOmbH"
      },
      "source": [
        "Now we have the urls of a bunch of images and can run OCR on them to gather\n",
        "compelling meme narratives, accompanied by cats.\n",
        "\n",
        "# Files\n",
        "\n",
        "What if the text we want isn't on a webpage? There are a many other sources of\n",
        "text available, typically organized into *files*.\n",
        "\n",
        "## Raw text (and encoding)\n",
        "\n",
        "The most basic form of storing text is as a _raw text_ document. Source code\n",
        "(`.py`, `.r`, etc) is usually raw text as are text files (`.txt`) and those with\n",
        "many other extension (e.g., .csv, .dat, etc.). Opening an unknown file with a\n",
        "text editor is often a great way of learning what the file is.\n",
        "\n",
        "We can create a text file in python with the `open()` function"
      ]
    },
    {
      "cell_type": "code",
      "execution_count": 121,
      "metadata": {
        "id": "iqMbyp3oOmbH"
      },
      "outputs": [],
      "source": [
        "#example_text_file = 'sometextfile.txt'\n",
        "#stringToWrite = 'A line\\nAnother line\\nA line with a few unusual symbols \\u2421 \\u241B \\u20A0 \\u20A1 \\u20A2 \\u20A3 \\u0D60\\n'\n",
        "stringToWrite = 'A line\\nAnother line\\nA line with a few unusual symbols ␡ ␛ ₠ ₡ ₢ ₣ ൠ\\n'\n",
        "\n",
        "with open(example_text_file, mode = 'w', encoding='utf-8') as f:\n",
        "    f.write(stringToWrite)"
      ]
    },
    {
      "cell_type": "markdown",
      "metadata": {
        "id": "9ezVCruFOmbH"
      },
      "source": [
        "Notice the `encoding='utf-8'` argument, which specifies how we map the bits from\n",
        "the file to the glyphs (and whitespace characters like tab (`'\\t'`) or newline\n",
        "(`'\\n'`)) on the screen. When dealing only with latin letters, arabic numerals\n",
        "and the other symbols on America keyboards you usually do not have to worry\n",
        "about encodings as the ones used today are backwards compatible with\n",
        "[ASCII](https://en.wikipedia.org/wiki/ASCII), which gives the binary\n",
        "representation of 128 characters.\n",
        "\n",
        "Some of you, however, will want to use other characters (e.g., Chinese\n",
        "characters). To solve this there is\n",
        "[Unicode](https://en.wikipedia.org/wiki/Unicode) which assigns numbers to\n",
        "symbols, e.g., 041 is `'A'` and 03A3 is `'Σ'` (numbers starting with 0 are\n",
        "hexadecimal). Often non/beyond-ASCII characters are called Unicode characters.\n",
        "Unicode contains 1,114,112 characters, about 10\\% of which have been assigned.\n",
        "Unfortunately there are many ways used to map combinations of bits to Unicode\n",
        "symbols. The ones you are likely to encounter are called by Python _utf-8_,\n",
        "_utf-16_ and _latin-1_. _utf-8_ is the standard for Linux and Mac OS while both\n",
        "_utf-16_ and _latin-1_ are used by windows. If you use the wrong encoding,\n",
        "characters can appear wrong, sometimes change in number or Python could raise an\n",
        "exception. Lets see what happens when we open the file we just created with\n",
        "different encodings."
      ]
    },
    {
      "cell_type": "code",
      "execution_count": 122,
      "metadata": {
        "id": "FNSzFZkUOmbI",
        "colab": {
          "base_uri": "https://localhost:8080/"
        },
        "outputId": "f2bea16b-a44f-420c-bd0b-11267a87f160"
      },
      "outputs": [
        {
          "output_type": "stream",
          "name": "stdout",
          "text": [
            "This is with the correct encoding:\n",
            "A line\n",
            "Another line\n",
            "A line with a few unusual symbols ␡ ␛ ₠ ₡ ₢ ₣ ൠ\n",
            "\n",
            "This is with the wrong encoding:\n",
            "A line\n",
            "Another line\n",
            "A line with a few unusual symbols â¡ â â  â¡ â¢ â£ àµ \n",
            "\n"
          ]
        }
      ],
      "source": [
        "with open(example_text_file, encoding='utf-8') as f:\n",
        "    print(\"This is with the correct encoding:\")\n",
        "    print(f.read())\n",
        "\n",
        "with open(example_text_file, encoding='latin-1') as f:\n",
        "    print(\"This is with the wrong encoding:\")\n",
        "    print(f.read())"
      ]
    },
    {
      "cell_type": "markdown",
      "metadata": {
        "id": "bw8ytOqgOmbI"
      },
      "source": [
        "Notice that with _latin-1_ the unicode characters are mixed up and there are too\n",
        "many of them. You need to keep in mind encoding when obtaining text files.\n",
        "Determining the encoding can sometime involve substantial work."
      ]
    },
    {
      "cell_type": "markdown",
      "metadata": {
        "id": "bbfdy4vGOmbI"
      },
      "source": [
        "We can also load many text files at once. Lets start by looking at the Shakespeare files in the `data` directory "
      ]
    },
    {
      "cell_type": "code",
      "execution_count": 123,
      "metadata": {
        "id": "sjLJ-XecOmbI",
        "colab": {
          "base_uri": "https://localhost:8080/",
          "height": 201
        },
        "outputId": "2cedc1cb-2e29-4c4f-d07b-e1669ac6d64a"
      },
      "outputs": [
        {
          "output_type": "error",
          "ename": "FileNotFoundError",
          "evalue": "ignored",
          "traceback": [
            "\u001b[0;31m---------------------------------------------------------------------------\u001b[0m",
            "\u001b[0;31mFileNotFoundError\u001b[0m                         Traceback (most recent call last)",
            "\u001b[0;32m<ipython-input-123-4b47ba5edc9e>\u001b[0m in \u001b[0;36m<module>\u001b[0;34m()\u001b[0m\n\u001b[0;32m----> 1\u001b[0;31m \u001b[0;32mwith\u001b[0m \u001b[0mopen\u001b[0m\u001b[0;34m(\u001b[0m\u001b[0;34m'./data/Shakespeare/midsummer_nights_dream.txt'\u001b[0m\u001b[0;34m)\u001b[0m \u001b[0;32mas\u001b[0m \u001b[0mf\u001b[0m\u001b[0;34m:\u001b[0m\u001b[0;34m\u001b[0m\u001b[0;34m\u001b[0m\u001b[0m\n\u001b[0m\u001b[1;32m      2\u001b[0m     \u001b[0mmidsummer\u001b[0m \u001b[0;34m=\u001b[0m \u001b[0mf\u001b[0m\u001b[0;34m.\u001b[0m\u001b[0mread\u001b[0m\u001b[0;34m(\u001b[0m\u001b[0;34m)\u001b[0m\u001b[0;34m\u001b[0m\u001b[0;34m\u001b[0m\u001b[0m\n\u001b[1;32m      3\u001b[0m \u001b[0mprint\u001b[0m\u001b[0;34m(\u001b[0m\u001b[0mmidsummer\u001b[0m\u001b[0;34m[\u001b[0m\u001b[0;34m-\u001b[0m\u001b[0;36m700\u001b[0m\u001b[0;34m:\u001b[0m\u001b[0;34m]\u001b[0m\u001b[0;34m)\u001b[0m\u001b[0;34m\u001b[0m\u001b[0;34m\u001b[0m\u001b[0m\n",
            "\u001b[0;31mFileNotFoundError\u001b[0m: [Errno 2] No such file or directory: './data/Shakespeare/midsummer_nights_dream.txt'"
          ]
        }
      ],
      "source": [
        "with open('./data/Shakespeare/midsummer_nights_dream.txt') as f:\n",
        "    midsummer = f.read()\n",
        "print(midsummer[-700:])"
      ]
    },
    {
      "cell_type": "markdown",
      "metadata": {
        "id": "mRXmq-UaOmbI"
      },
      "source": [
        "By the way, depending on your working directory, you might get errors such as: [Errno 2] No such file or directory: '../data/Shakespeare/midsummer_nights_dream.txt.' Don't panic, it's nothing, just check your working directory. \n",
        "\n",
        "Then to load all the files in `./data/Shakespeare` we can use a for loop with `scandir`:"
      ]
    },
    {
      "cell_type": "code",
      "execution_count": null,
      "metadata": {
        "id": "21UaeDenOmbJ"
      },
      "outputs": [],
      "source": [
        "targetDir = './data/Shakespeare' #Change this to your own directory of texts\n",
        "shakespearText = []\n",
        "shakespearFileName = []\n",
        "\n",
        "for file in (file for file in os.scandir(targetDir) if file.is_file() and not file.name.startswith('.')):\n",
        "    with open(file.path, encoding=\"utf-8\") as f:\n",
        "        shakespearText.append(f.read())\n",
        "    shakespearFileName.append(file.name)"
      ]
    },
    {
      "cell_type": "markdown",
      "metadata": {
        "id": "BWWr9-tcOmbJ"
      },
      "source": [
        "Then we can put them all in pandas DataFrame"
      ]
    },
    {
      "cell_type": "code",
      "execution_count": null,
      "metadata": {
        "id": "Knvif7JmOmbJ"
      },
      "outputs": [],
      "source": [
        "shakespear_df = pandas.DataFrame({'text' : shakespearText}, index = shakespearFileName)\n",
        "shakespear_df"
      ]
    },
    {
      "cell_type": "markdown",
      "metadata": {
        "id": "CWKhyCfCOmbJ"
      },
      "source": [
        "Getting your text in a format like this is the first step of most analysis"
      ]
    },
    {
      "cell_type": "markdown",
      "metadata": {
        "id": "V9T2gL7UOmbJ"
      },
      "source": [
        "## PDF\n",
        "\n",
        "Another common way text will be stored is in a PDF file. First we will download\n",
        "a pdf in Python. To do that lets grab a chapter from\n",
        "_Speech and Language Processing_, chapter 21 is on Information Extraction which\n",
        "seems apt. It is stored as a pdf at [https://web.stanford.edu/~jurafsky/slp3/21.\n",
        "pdf](https://web.stanford.edu/~jurafsky/slp3/21.pdf) although we are downloading\n",
        "from a copy just in case Jurafsky changes their website."
      ]
    },
    {
      "cell_type": "code",
      "execution_count": 124,
      "metadata": {
        "id": "zv1NpgUkOmbJ",
        "colab": {
          "base_uri": "https://localhost:8080/"
        },
        "outputId": "0001ccad-cc0e-4e9a-8285-a0ed008aec5f"
      },
      "outputs": [
        {
          "output_type": "stream",
          "name": "stdout",
          "text": [
            "%PDF-1.3\n",
            "%���������\n",
            "4 0 obj\n",
            "<< /Length 5 0 R /Filter /FlateDecode >>\n",
            "stream\n",
            "x\u0001�]۶�F�}�W�c����T���\u0017C\u000f�i�\u0019<t\u001f�b\u0001\u000fM�f\n",
            "Tn�\u0006<3_�\u000b�CDf�\u001d�J�N�i�\u000f�#�%.;.\u0019���\t?\u000f߄��7�]8������ux��}\u001b޾\u000fm����y��bǾ���\u0010�!\u001c\u000e���$�Ǯ���C�\u0007�F\u0006�����p�\u000f��5��1��1�P<�{�\u0010$�\u001a�/$�P�\fs�v��P\u001egH?�����Q�~�*�:l��ˇ�m�ǰ��C�l����܊\u0017��E��\u001e���\u000f!�^�y��\u001am�$�Ý���wۡل׼�6w���ī�K�~؞���r��\u0010~\u001b\u001e?�ˡkO�;6IH�9{ԡ���\u0000]?�E�E�\u0012�~���.l������+��\u001cW�\u000e\u0002_�\u000e��\u0002\u0002��C��S�|�~\u0005C��N�3ӛB`8�ޚ\b\u0001j9���AZ�\u0004�\u00110�d�l^�\u000e�����SY\u0012\t�Ƨ��>\u000bq�ۇ&\n",
            "����.�����0���\u0015�;\u0000��>a8�$\fw�p��p����ST���\u000b.\u0000�7��@�\u0012���)�\u0013�&1�|���\u0002\u0004WՃ jOv�G2b�L8I��N�@\u0001\u001egǍ�\u0004����\u0019�O�C��������IN@@���\u0002��\u0013}�8��+L����a�\u0005&ү\b�o\u0005\u0013�V(\u0019���0\f���+5\u001b�\n",
            "S\u001dfS&��<�2���\u001e��>l�V��&��=4⇤\u0019=\u001a�W��<�J\u0013Mo�\u001c���\"����d�C����[vY�|K\u001c{_ܔ\\��\u0017��%\u0001H�/@'�QA�+D�l��c��L�G�.��\t�̎�V�:f>���Aw\u0010K���o$`D\u0007��\u000bbE45�\u000b0\b�\u0015%th6h��\u0005���>*�2vQd\u0010\u0015�+M��Y}�Q���u�[���N�o'b\u0010��/u�.r'Z�\u0017��J�\u0019e8�v\u0013\u000b��;�\u001d�{T�\t\f�����^8�\u0014 \u001a\u0018 l<�E�<���b�����C8\fj��f��xB>\u0001K\u0010���\u0019��|\u001f\u0004w��f�|?�\u0001s̭\u0018��Y�'�Ip&�\"�\u000bA���f�?�\b!IYi���U�\"��y;�\u0007��#�\u000b\u000f�e3)�+B�&���\u001d�<\bE9I�g�/]\"D��yfC;e����Y^�z ��s'�)/�X�-HY��<ˬ�ݰ\n"
          ]
        }
      ],
      "source": [
        "#information_extraction_pdf = 'https://github.com/KnowledgeLab/content_analysis/raw/data/21.pdf'\n",
        "\n",
        "infoExtractionRequest = requests.get(information_extraction_pdf, stream=True)\n",
        "print(infoExtractionRequest.text[:1000])"
      ]
    },
    {
      "cell_type": "markdown",
      "metadata": {
        "id": "pZcS8uBlOmbJ"
      },
      "source": [
        "It says `'pdf'`, so thats a good sign. The rest though looks like we are having\n",
        "issues with an encoding. The random characters are not caused by our encoding\n",
        "being wrong, however. They are cause by there not being an encoding for those\n",
        "parts at all. PDFs are nominally binary files, meaning there are sections of\n",
        "binary that are specific to pdf and nothing else so you need something that\n",
        "knows about pdf to read them. To do that we will be using\n",
        "[`PyPDF2`](https://github.com/mstamy2/PyPDF2), a PDF processing library for\n",
        "Python 3.\n",
        "\n",
        "\n",
        "Because PDFs are a very complicated file format pdfminer requires a large amount\n",
        "of boilerplate code to extract text, we have written a function that takes in an\n",
        "open PDF file and returns the text so you don't have to."
      ]
    },
    {
      "cell_type": "code",
      "execution_count": null,
      "metadata": {
        "id": "G-NK0_u0OmbK"
      },
      "outputs": [],
      "source": [
        "def readPDF(pdfFile):\n",
        "    #Based on code from http://stackoverflow.com/a/20905381/4955164\n",
        "    #Using utf-8, if there are a bunch of random symbols try changing this\n",
        "    codec = 'utf-8'\n",
        "    rsrcmgr = pdfminer.pdfinterp.PDFResourceManager()\n",
        "    retstr = io.StringIO()\n",
        "    layoutParams = pdfminer.layout.LAParams()\n",
        "    device = pdfminer.converter.TextConverter(rsrcmgr, retstr, laparams = layoutParams, codec = codec)\n",
        "    #We need a device and an interpreter\n",
        "    interpreter = pdfminer.pdfinterp.PDFPageInterpreter(rsrcmgr, device)\n",
        "    password = ''\n",
        "    maxpages = 0\n",
        "    caching = True\n",
        "    pagenos=set()\n",
        "    for page in pdfminer.pdfpage.PDFPage.get_pages(pdfFile, pagenos, maxpages=maxpages, password=password,caching=caching, check_extractable=True):\n",
        "        interpreter.process_page(page)\n",
        "    device.close()\n",
        "    returnedString = retstr.getvalue()\n",
        "    retstr.close()\n",
        "    return returnedString"
      ]
    },
    {
      "cell_type": "markdown",
      "metadata": {
        "id": "4z-HjO90OmbK"
      },
      "source": [
        "First we need to take the response object and convert it into a 'file like'\n",
        "object so that pdfminer can read it. To do this we will use `io`'s `BytesIO`."
      ]
    },
    {
      "cell_type": "code",
      "execution_count": null,
      "metadata": {
        "id": "sM0uY2utOmbK"
      },
      "outputs": [],
      "source": [
        "infoExtractionBytes = io.BytesIO(infoExtractionRequest.content)"
      ]
    },
    {
      "cell_type": "markdown",
      "metadata": {
        "id": "stf5WQdeOmbK"
      },
      "source": [
        "Now we can give it to pdfminer."
      ]
    },
    {
      "cell_type": "code",
      "execution_count": null,
      "metadata": {
        "id": "iuUIzn_UOmbK"
      },
      "outputs": [],
      "source": [
        "print(readPDF(infoExtractionBytes)[:550])"
      ]
    },
    {
      "cell_type": "markdown",
      "metadata": {
        "id": "-AldBWnAOmbK"
      },
      "source": [
        "From here we can either look at the full text or fiddle with our PDF reader and\n",
        "get more information about individual blocks of text.\n",
        "\n",
        "## Word Docs\n",
        "\n",
        "The other type of document you are likely to encounter is the `.docx`, these are\n",
        "actually a version of [XML](https://en.wikipedia.org/wiki/Office_Open_XML), just\n",
        "like HTML, and like HTML we will use a specialized parser.\n",
        "\n",
        "For this class we will use [`python-docx`](https://python-\n",
        "docx.readthedocs.io/en/latest/) which provides a nice simple interface for\n",
        "reading `.docx` files"
      ]
    },
    {
      "cell_type": "code",
      "execution_count": null,
      "metadata": {
        "id": "HZwVUc8POmbK"
      },
      "outputs": [],
      "source": [
        "#example_docx = 'https://github.com/KnowledgeLab/content_analysis/raw/data/example_doc.docx'\n",
        "\n",
        "r = requests.get(example_docx, stream=True)\n",
        "d = docx.Document(io.BytesIO(r.content))\n",
        "for paragraph in d.paragraphs[:7]:\n",
        "    print(paragraph.text)"
      ]
    },
    {
      "cell_type": "markdown",
      "metadata": {
        "id": "Zo8XdsmpOmbL"
      },
      "source": [
        "This procedure uses the `io.BytesIO` class again, since `docx.Document` expects\n",
        "a file. Another way to do it is to save the document to a file and then read it\n",
        "like any other file. If we do this we can either delete the file afterwords, or\n",
        "save it and avoid downloading the following time.\n",
        "\n",
        "This function is useful as a part of many different tasks so it and others like it will be added to the helper package `lucem_illud` so we can use it later without having to retype it."
      ]
    },
    {
      "cell_type": "code",
      "execution_count": null,
      "metadata": {
        "id": "H0LzxTw-OmbL"
      },
      "outputs": [],
      "source": [
        "def downloadIfNeeded(targetURL, outputFile, **openkwargs):\n",
        "    if not os.path.isfile(outputFile):\n",
        "        outputDir = os.path.dirname(outputFile)\n",
        "        #This function is a more general os.mkdir()\n",
        "        if len(outputDir) > 0:\n",
        "            os.makedirs(outputDir, exist_ok = True)\n",
        "        r = requests.get(targetURL, stream=True)\n",
        "        #Using a closure like this is generally better than having to\n",
        "        #remember to close the file. There are ways to make this function\n",
        "        #work as a closure too\n",
        "        with open(outputFile, 'wb') as f:\n",
        "            f.write(r.content)\n",
        "    return open(outputFile, **openkwargs)"
      ]
    },
    {
      "cell_type": "markdown",
      "metadata": {
        "id": "BTtnnzAyOmbL"
      },
      "source": [
        "This function will download, save and open `outputFile` as `outputFile` or just\n",
        "open it if `outputFile` exists. By default `open()` will open the file as read\n",
        "only text with the local encoding, which may cause issues if its not a text\n",
        "file."
      ]
    },
    {
      "cell_type": "code",
      "execution_count": null,
      "metadata": {
        "id": "l4F3q0wpOmbL"
      },
      "outputs": [],
      "source": [
        "try:\n",
        "    d = docx.Document(downloadIfNeeded(example_docx, example_docx_save))\n",
        "except Exception as e:\n",
        "    print(e)"
      ]
    },
    {
      "cell_type": "markdown",
      "metadata": {
        "id": "8jy-hEavOmbL"
      },
      "source": [
        "We need to tell `open()` to read in binary mode (`'rb'`), this is why we added\n",
        "`**openkwargs`, this allows us to pass any keyword arguments (kwargs) from\n",
        "`downloadIfNeeded` to `open()`."
      ]
    },
    {
      "cell_type": "code",
      "execution_count": null,
      "metadata": {
        "id": "V9An1Z_QOmbL"
      },
      "outputs": [],
      "source": [
        "d = docx.Document(downloadIfNeeded(example_docx, example_docx_save, mode = 'rb'))\n",
        "for paragraph in d.paragraphs[:7]:\n",
        "    print(paragraph.text)"
      ]
    },
    {
      "cell_type": "markdown",
      "metadata": {
        "id": "AECbTJunOmbL"
      },
      "source": [
        "Now we can read the file with `docx.Document` and not have to wait for it to be\n",
        "downloaded every time."
      ]
    },
    {
      "cell_type": "markdown",
      "metadata": {
        "id": "V_d35FzzOmbM"
      },
      "source": [
        "\n",
        "# <font color=\"red\">Exercise 3</font>\n",
        "<font color=\"red\">Construct cells immediately below this that extract and organize textual content from text, PDF or Word into a pandas dataframe.</font>\n"
      ]
    },
    {
      "cell_type": "code",
      "source": [
        "#here, i want to analyze a friend's honor thesis that i really like\n",
        "\n",
        "thesis_pdf = 'https://deepblue.lib.umich.edu/bitstream/handle/2027.42/162644/lfurta.pdf?sequence=1&isAllowed=y'\n",
        "\n",
        "thesis_request = requests.get(thesis_pdf, stream=True)\n",
        "\n",
        "#apply function to read pdf file\n",
        "\n",
        "def readPDF(thesis_request):\n",
        "    codec = 'utf-8'\n",
        "    rsrcmgr = pdfminer.pdfinterp.PDFResourceManager()\n",
        "    retstr = io.StringIO()\n",
        "    layoutParams = pdfminer.layout.LAParams()\n",
        "    device = pdfminer.converter.TextConverter(rsrcmgr, retstr, laparams = layoutParams, codec = codec)\n",
        "    #We need a device and an interpreter\n",
        "    interpreter = pdfminer.pdfinterp.PDFPageInterpreter(rsrcmgr, device)\n",
        "    password = ''\n",
        "    maxpages = 0\n",
        "    caching = True\n",
        "    pagenos=set()\n",
        "    for page in pdfminer.pdfpage.PDFPage.get_pages(thesis_request, pagenos, maxpages=maxpages, password=password,caching=caching, check_extractable=True):\n",
        "        interpreter.process_page(page)\n",
        "    device.close()\n",
        "    returnedString = retstr.getvalue()\n",
        "    retstr.close()\n",
        "    return returnedString\n",
        "\n",
        "#convert response into file-like object\n",
        "\n",
        "thesisBytes = io.BytesIO(thesis_request.content)\n",
        "\n",
        "#convert file-like object into a dataframe\n",
        "\n",
        "thesisDF = pandas.DataFrame({'text' : thesisBytes})\n",
        "\n",
        "#i can't figure out how to convert a pdf into a dataframe that is somewhat readable, sorry"
      ],
      "metadata": {
        "id": "ZB8hE0SCK8lb"
      },
      "execution_count": 145,
      "outputs": []
    },
    {
      "cell_type": "markdown",
      "source": [
        "# <font color=\"red\">Exercise 4</font>\n",
        "<font color=\"red\">In the two cells immediately following, describe a possible project (e.g., it might end up being your final project, but need not be if you are still searching): __WHAT__ you will analyze--the texts you will select and the social game, world and actors you intend to learn about through your analysis (<100 words); __WHY__ you will analyze these texts to learn about that context--justify the rationale behind your proposed sample design for this project, based on the readings. What is the social game, social work, or social actors about whom you are seeking to make inferences? What are the virtues of your proposed sample with respect to your research questions? What are its limitations? What are alternatives? What would be a reasonable path to \"scale up\" your sample for further analysis (i.e., high-profile publication)? (<150 words)? [__Note__: your individual or collective project will change over the course of the quarter as new data and/or analysis opportunities arise or if old ones fade away.]</font>"
      ],
      "metadata": {
        "id": "d1TZsRUixXxh"
      }
    },
    {
      "cell_type": "markdown",
      "source": [
        "# What?\n",
        "\n",
        "I want to analyze a dataset that contains all speeches given in the German Bundestag between 1990 and 2021. Specifically, I am interested in the rhetoric politicians employ when talking about the East German communist regime, the GDR. Politicians of which party speak particularly favorably or unfavorably of this past? How has the rhetoric changed over time? How does the right-wing extremist AfD differ in this regard from other parties?"
      ],
      "metadata": {
        "id": "zfLNtcyrxoz2"
      }
    },
    {
      "cell_type": "markdown",
      "source": [
        "# Why?\n",
        "\n",
        "I'm interested in studying the emergence of right-wing extremism in the formerly communist Eastern parts of Germany. I believe East Germans who were (economically and/or socially) better off under the communist regime are not represented in the current parliament, hence my research question stated above. I believe analyzing Bundestag speeches is a reasonable first step in such an undertaking, as the Bundestag is the most prominent formal institution representing (East) German citizens. An alternative approach could be to analyze speeches given in several Landtage (state parliaments) in East Germany. One major limitation is that voter turnout among East Germans is rather low, and I hypothesize that those most alienated in the current system are the least likely to vote."
      ],
      "metadata": {
        "id": "viaSJK7jxuKd"
      }
    },
    {
      "cell_type": "markdown",
      "metadata": {
        "id": "Bwyfg2yrOmbM"
      },
      "source": [
        "### Sources:\n",
        "\n",
        "Other popular sources for internet data:\n",
        "\n",
        "[reddit](https://www.reddit.com/) - https://praw.readthedocs.io/en/v2.1.21/\n",
        "\n",
        "[twitter](https://twitter.com/) - https://pypi.org/project/python-twitter/\n",
        "\n",
        "[project gutenburg](https://www.gutenberg.org/) - https://github.com/ageitgey/Gutenberg \n",
        "\n"
      ]
    }
  ],
  "metadata": {
    "kernelspec": {
      "display_name": "Python 3 (ipykernel)",
      "language": "python",
      "name": "python3"
    },
    "language_info": {
      "codemirror_mode": {
        "name": "ipython",
        "version": 3
      },
      "file_extension": ".py",
      "mimetype": "text/x-python",
      "name": "python",
      "nbconvert_exporter": "python",
      "pygments_lexer": "ipython3",
      "version": "3.9.7"
    },
    "colab": {
      "name": "kpekkip - 1-Measuring-Meaning-and-Sampling.ipynb",
      "provenance": [],
      "collapsed_sections": [
        "vVTLl6J-OmbB",
        "8jW4D33OOmbB",
        "JFgBxV4LOmbD",
        "dXtaSZCkOmbE",
        "CswLIJBZOmbH",
        "V9T2gL7UOmbJ",
        "-AldBWnAOmbK",
        "V_d35FzzOmbM",
        "Bwyfg2yrOmbM"
      ]
    }
  },
  "nbformat": 4,
  "nbformat_minor": 0
}